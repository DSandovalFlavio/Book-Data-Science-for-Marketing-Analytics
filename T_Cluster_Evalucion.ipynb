{
 "cells": [
  {
   "cell_type": "markdown",
   "source": "# Metodos de Clusterizacion\n\n- Carga de Datos\n- Estandarizacion de Datos\n- Divicion en Set de Entrenamiento y de Prueba\n- Seleccion de Metodos de Segmentacion\n- Evalucion de hiperparametros\n- Entrenamiento del modelo\n- Evalucion del modelo",
   "metadata": {
    "tags": [],
    "cell_id": "00000-a8a7e45b-4d2c-4ee4-9570-0e363867aa07",
    "deepnote_cell_type": "markdown"
   }
  },
  {
   "cell_type": "markdown",
   "source": "## Carga de Datos",
   "metadata": {
    "tags": [],
    "is_collapsed": false,
    "cell_id": "00001-9fe56869-260a-4088-9ad0-5248400f70f4",
    "deepnote_cell_type": "text-cell-h2"
   }
  },
  {
   "cell_type": "code",
   "source": "import pandas as pd\nimport numpy \n\ndf = pd.read_csv()",
   "metadata": {
    "tags": [],
    "cell_id": "00002-6f8aa0fc-40bb-4cad-a40d-d02e0da68c26",
    "deepnote_cell_type": "code"
   },
   "outputs": [],
   "execution_count": null
  },
  {
   "cell_type": "markdown",
   "source": "## Estandarizacion de Datos",
   "metadata": {
    "tags": [],
    "is_collapsed": false,
    "cell_id": "00003-2870e786-1fb3-4b07-a2f2-e4d67d675210",
    "deepnote_cell_type": "text-cell-h2"
   }
  },
  {
   "cell_type": "code",
   "source": "# Validacion de Datos\ndf.head()\ndf.info",
   "metadata": {
    "tags": [],
    "cell_id": "00004-04623936-5b9c-408f-a404-7f6af558227e",
    "deepnote_cell_type": "code"
   },
   "outputs": [],
   "execution_count": null
  },
  {
   "cell_type": "markdown",
   "source": "### Numericos",
   "metadata": {
    "tags": [],
    "is_collapsed": true,
    "cell_id": "00004-2fc82fb1-050c-4028-a5c4-cd5ad9ae81aa",
    "deepnote_cell_type": "text-cell-h3"
   }
  },
  {
   "cell_type": "code",
   "source": "from sklearn.preprocessing import StandardScaler\n\ncolums = df.columns # Seleccionar las columnas numericas a estandarizar\n\ncolumns_z = [] # Lista de columnas trandormadas\nfor colum in colums:\n    scaler = StandardScaler().fit(df[[colum]]) \n    name_colum_z = colum + '_Z'\n    df[name_colum_z] = scaler.transform(df[[colum]]) # creacion de una nueva columna con las variables estandarizadas\n    columns_z.append(name_colum_z)\n\nfour_cols.head()",
   "metadata": {
    "tags": [],
    "cell_id": "00005-fe0bf93c-b838-48e5-aef4-3cb79220e0ca",
    "deepnote_cell_type": "code"
   },
   "outputs": [],
   "execution_count": null
  },
  {
   "cell_type": "markdown",
   "source": "### Categoricos",
   "metadata": {
    "tags": [],
    "is_collapsed": false,
    "cell_id": "00007-2a90c3e7-938d-4da6-ad86-034e9d40fb8b",
    "deepnote_cell_type": "text-cell-h3"
   }
  },
  {
   "cell_type": "code",
   "source": "columns_dumm = [] # Columna de Datos a estandarizar\ndf = pd.get_dummies(df, columns = columns_dumm)",
   "metadata": {
    "tags": [],
    "cell_id": "00008-93b117eb-9ea0-4a8e-b69d-8b00e1b15463",
    "deepnote_cell_type": "code"
   },
   "outputs": [],
   "execution_count": null
  },
  {
   "cell_type": "markdown",
   "source": "## Divicion en Set de Entrenamiento y Prueba ",
   "metadata": {
    "tags": [],
    "is_collapsed": false,
    "cell_id": "00009-1a7a3fb6-9adc-41ff-b372-7ed7df4647f2",
    "deepnote_cell_type": "text-cell-h2"
   }
  },
  {
   "cell_type": "code",
   "source": "from sklearn import model_selection\n\nzcols # Columnas estandarizadas\n\nX_train, X_test = model_selection.train_test_split(df[zcols], random_state = 100)\nprint('Length of training set: ' + str(len(X_train)))\nprint('Length of test set: ' + str(len(X_test)))\nprint('Length of all set: ' + str(len(df)))",
   "metadata": {
    "tags": [],
    "cell_id": "00010-8c9c2562-61cb-4946-a5b6-6d00eea7eadd",
    "deepnote_cell_type": "code"
   },
   "outputs": [],
   "execution_count": null
  },
  {
   "cell_type": "markdown",
   "source": "## Seleccion de Metodos de Segmentacion",
   "metadata": {
    "tags": [],
    "is_collapsed": false,
    "cell_id": "00011-b29095cd-be1b-42f1-a4b1-c0b8c1d147e4",
    "deepnote_cell_type": "text-cell-h2"
   }
  },
  {
   "cell_type": "markdown",
   "source": "### Metodo de codo para K en KMeans",
   "metadata": {
    "tags": [],
    "is_collapsed": false,
    "cell_id": "00012-c5d2320c-3458-4ab9-b035-72cffc55b1a9",
    "deepnote_cell_type": "text-cell-h3"
   }
  },
  {
   "cell_type": "code",
   "source": "from sklearn.cluster import KMeans\n\nwcss = []\nfor i in range(1, 11):\n    kmeans = KMeans(n_clusters=i, random_state=10)\n    kmeans.fit(X_train)\n    wcss.append(kmeans.inertia_)\nplt.plot(range(1, 11), wcss)\nplt.title('Elbow Method')\nplt.xlabel('Number of clusters')\nplt.ylabel('WCSS')\nplt.show()",
   "metadata": {
    "tags": [],
    "cell_id": "00012-20d33a55-f88a-4c8d-bcbf-4a951383d8ad",
    "deepnote_cell_type": "code"
   },
   "outputs": [],
   "execution_count": null
  },
  {
   "cell_type": "code",
   "source": "from sklearn import metrics\nfrom sklearn.cluster import KMeans\n\nn_cluster = '' #numero de cluster asignados por el metodo del codo\nmodel = cluster.KMeans(n_clusters=5, random_state=10)\nmodel.fit(X_train)\nkm_labels = model.predict(X_test)\nkm_silhouette = metrics.silhouette_score(X_test, km_labels)\nprint('k-means silhouette score: ' + str(km_silhouette))",
   "metadata": {
    "tags": [],
    "cell_id": "00014-025e82cb-b50c-41b5-b692-b9bcf47b66d0",
    "deepnote_cell_type": "code"
   },
   "outputs": [],
   "execution_count": null
  },
  {
   "cell_type": "markdown",
   "source": "### KPrototypes para variables Categoricas",
   "metadata": {
    "tags": [],
    "is_collapsed": false,
    "cell_id": "00014-9f975a14-c56f-4516-bd74-d399141679c1",
    "deepnote_cell_type": "text-cell-h3"
   }
  },
  {
   "cell_type": "code",
   "source": "from kmodes.kprototypes import KPrototypes\nfrom sklearn import metrics\n\nx = df\nkp = KPrototypes(n_clusters=3)\ndf['Cluster'] = kp.fit_predict(x, categorical = [1])\n",
   "metadata": {
    "tags": [],
    "cell_id": "00014-6f3b9f73-2bed-4105-a392-4e075aaa63d2",
    "deepnote_cell_type": "code"
   },
   "outputs": [],
   "execution_count": null
  },
  {
   "cell_type": "markdown",
   "source": "### MeanShift",
   "metadata": {
    "tags": [],
    "is_collapsed": false,
    "cell_id": "00017-7d9af023-8553-47d0-93f6-426aeace3adc",
    "deepnote_cell_type": "text-cell-h3"
   }
  },
  {
   "cell_type": "code",
   "source": "from sklearn import cluster\nfrom sklearn import metrics\n\nbandwidth = cluster.estimate_bandwidth(X_train, quantile=0.01)\nms = cluster.MeanShift(bandwidth=bandwidth, bin_seeding=True)\nms.fit(X_train)\nms_labels = ms.predict(X_test)\nms_silhouette = metrics.silhouette_score(X_test, ms_label)\nprint('mean-shift (low quantile) silhouette score: ' + str(ms_silhouette))",
   "metadata": {
    "tags": [],
    "cell_id": "00018-dc0b57b9-6dc6-4c3a-b2f9-974c460cf298",
    "deepnote_cell_type": "code"
   },
   "outputs": [],
   "execution_count": null
  },
  {
   "cell_type": "markdown",
   "source": "## Evalucion",
   "metadata": {
    "tags": [],
    "is_collapsed": false,
    "cell_id": "00019-a481778e-640b-44cf-a45f-89c79f5a7510",
    "deepnote_cell_type": "text-cell-h2"
   }
  },
  {
   "cell_type": "code",
   "source": "from sklearn.decomposition import PCA\nimport matplotlib.pyplot as plt\nimport seaborn as sns\n\npca = PCA(n_components = 2)\ndf['PC1'], df['PC2'] = zip(* pca.fit_transform(df[names_columns]))\ncustomer_offers.head()\n\nplt.figure(figsize = (20,20))\nsns.lmplot( x = 'PC1',\n            y = 'PC2',\n            data = df,\n            hue = 'Cluster',\n            markers = ['x','d','s'],\n            fit_reg = False,\n            palette=\"Set2\")\n",
   "metadata": {
    "tags": [],
    "cell_id": "00001-d0c28e28-c6fe-4b9c-93f8-763a04605486",
    "deepnote_cell_type": "code"
   },
   "outputs": [],
   "execution_count": null
  },
  {
   "cell_type": "markdown",
   "source": "<a style='text-decoration:none;line-height:16px;display:flex;color:#5B5B62;padding:10px;justify-content:end;' href='https://deepnote.com?utm_source=created-in-deepnote-cell&projectId=ff5e2091-543c-4b2c-9a56-1e41bbaff775' target=\"_blank\">\n<img alt='Created in deepnote.com' style='display:inline;max-height:16px;margin:0px;margin-right:7.5px;' src='data:image/svg+xml;base64,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' > </img>\nCreated in <span style='font-weight:600;margin-left:4px;'>Deepnote</span></a>",
   "metadata": {
    "tags": [],
    "created_in_deepnote_cell": true,
    "deepnote_cell_type": "markdown"
   }
  }
 ],
 "nbformat": 4,
 "nbformat_minor": 2,
 "metadata": {
  "orig_nbformat": 2,
  "deepnote": {
   "is_reactive": false
  },
  "deepnote_notebook_id": "31965639-d583-4bbb-aa96-9604203060a7",
  "deepnote_execution_queue": []
 }
}