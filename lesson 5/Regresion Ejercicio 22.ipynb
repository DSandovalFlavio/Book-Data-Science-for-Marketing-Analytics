{
 "cells": [
  {
   "cell_type": "code",
   "metadata": {
    "tags": [],
    "cell_id": "00000-9947d164-12d8-4c81-bd7e-ace857607c08",
    "deepnote_to_be_reexecuted": false,
    "source_hash": "da655b9a",
    "execution_start": 1630468530335,
    "execution_millis": 41,
    "deepnote_cell_type": "code"
   },
   "source": "import pandas as pd\n\ndf = pd.read_csv('wrangled_transactions.csv', index_col='CustomerID')\ndf.corr()",
   "execution_count": 2,
   "outputs": [
    {
     "output_type": "execute_result",
     "execution_count": 2,
     "data": {
      "application/vnd.deepnote.dataframe.v2+json": {
       "row_count": 6,
       "column_count": 6,
       "columns": [
        {
         "name": "2010 revenue",
         "dtype": "float64",
         "stats": {
          "unique_count": 6,
          "nan_count": 0,
          "min": "-0.22984502008767468",
          "max": "1.0",
          "histogram": [
           {
            "bin_start": -0.22984502008767468,
            "bin_end": -0.10686051807890722,
            "count": 1
           },
           {
            "bin_start": -0.10686051807890722,
            "bin_end": 0.016123983929860253,
            "count": 0
           },
           {
            "bin_start": 0.016123983929860253,
            "bin_end": 0.1391084859386277,
            "count": 1
           },
           {
            "bin_start": 0.1391084859386277,
            "bin_end": 0.2620929879473952,
            "count": 0
           },
           {
            "bin_start": 0.2620929879473952,
            "bin_end": 0.38507748995616264,
            "count": 0
           },
           {
            "bin_start": 0.38507748995616264,
            "bin_end": 0.5080619919649301,
            "count": 2
           },
           {
            "bin_start": 0.5080619919649301,
            "bin_end": 0.6310464939736976,
            "count": 0
           },
           {
            "bin_start": 0.6310464939736976,
            "bin_end": 0.754030995982465,
            "count": 0
           },
           {
            "bin_start": 0.754030995982465,
            "bin_end": 0.8770154979912326,
            "count": 1
           },
           {
            "bin_start": 0.8770154979912326,
            "bin_end": 1,
            "count": 1
           }
          ]
         }
        },
        {
         "name": "days_since_first_purchase",
         "dtype": "float64",
         "stats": {
          "unique_count": 6,
          "nan_count": 0,
          "min": "-0.10986712579514633",
          "max": "1.0",
          "histogram": [
           {
            "bin_start": -0.10986712579514633,
            "bin_end": 0.0011195867843682844,
            "count": 1
           },
           {
            "bin_start": 0.0011195867843682844,
            "bin_end": 0.1121062993638829,
            "count": 2
           },
           {
            "bin_start": 0.1121062993638829,
            "bin_end": 0.22309301194339748,
            "count": 0
           },
           {
            "bin_start": 0.22309301194339748,
            "bin_end": 0.3340797245229121,
            "count": 1
           },
           {
            "bin_start": 0.3340797245229121,
            "bin_end": 0.44506643710242677,
            "count": 0
           },
           {
            "bin_start": 0.44506643710242677,
            "bin_end": 0.5560531496819413,
            "count": 0
           },
           {
            "bin_start": 0.5560531496819413,
            "bin_end": 0.667039862261456,
            "count": 1
           },
           {
            "bin_start": 0.667039862261456,
            "bin_end": 0.7780265748409706,
            "count": 0
           },
           {
            "bin_start": 0.7780265748409706,
            "bin_end": 0.8890132874204852,
            "count": 0
           },
           {
            "bin_start": 0.8890132874204852,
            "bin_end": 1,
            "count": 1
           }
          ]
         }
        },
        {
         "name": "days_since_last_purchase",
         "dtype": "float64",
         "stats": {
          "unique_count": 6,
          "nan_count": 0,
          "min": "-0.38498149363994394",
          "max": "1.0",
          "histogram": [
           {
            "bin_start": -0.38498149363994394,
            "bin_end": -0.24648334427594956,
            "count": 1
           },
           {
            "bin_start": -0.24648334427594956,
            "bin_end": -0.10798519491195518,
            "count": 2
           },
           {
            "bin_start": -0.10798519491195518,
            "bin_end": 0.030512954452039165,
            "count": 1
           },
           {
            "bin_start": 0.030512954452039165,
            "bin_end": 0.16901110381603357,
            "count": 0
           },
           {
            "bin_start": 0.16901110381603357,
            "bin_end": 0.307509253180028,
            "count": 0
           },
           {
            "bin_start": 0.307509253180028,
            "bin_end": 0.44600740254402227,
            "count": 0
           },
           {
            "bin_start": 0.44600740254402227,
            "bin_end": 0.5845055519080167,
            "count": 0
           },
           {
            "bin_start": 0.5845055519080167,
            "bin_end": 0.7230037012720111,
            "count": 1
           },
           {
            "bin_start": 0.7230037012720111,
            "bin_end": 0.8615018506360054,
            "count": 0
           },
           {
            "bin_start": 0.8615018506360054,
            "bin_end": 1,
            "count": 1
           }
          ]
         }
        },
        {
         "name": "number_of_purchases",
         "dtype": "float64",
         "stats": {
          "unique_count": 6,
          "nan_count": 0,
          "min": "-0.38498149363994394",
          "max": "1.0",
          "histogram": [
           {
            "bin_start": -0.38498149363994394,
            "bin_end": -0.24648334427594956,
            "count": 1
           },
           {
            "bin_start": -0.24648334427594956,
            "bin_end": -0.10798519491195518,
            "count": 0
           },
           {
            "bin_start": -0.10798519491195518,
            "bin_end": 0.030512954452039165,
            "count": 1
           },
           {
            "bin_start": 0.030512954452039165,
            "bin_end": 0.16901110381603357,
            "count": 0
           },
           {
            "bin_start": 0.16901110381603357,
            "bin_end": 0.307509253180028,
            "count": 1
           },
           {
            "bin_start": 0.307509253180028,
            "bin_end": 0.44600740254402227,
            "count": 2
           },
           {
            "bin_start": 0.44600740254402227,
            "bin_end": 0.5845055519080167,
            "count": 0
           },
           {
            "bin_start": 0.5845055519080167,
            "bin_end": 0.7230037012720111,
            "count": 0
           },
           {
            "bin_start": 0.7230037012720111,
            "bin_end": 0.8615018506360054,
            "count": 0
           },
           {
            "bin_start": 0.8615018506360054,
            "bin_end": 1,
            "count": 1
           }
          ]
         }
        },
        {
         "name": "avg_order_cost",
         "dtype": "float64",
         "stats": {
          "unique_count": 6,
          "nan_count": 0,
          "min": "-0.10986712579514633",
          "max": "1.0",
          "histogram": [
           {
            "bin_start": -0.10986712579514633,
            "bin_end": 0.0011195867843682844,
            "count": 3
           },
           {
            "bin_start": 0.0011195867843682844,
            "bin_end": 0.1121062993638829,
            "count": 0
           },
           {
            "bin_start": 0.1121062993638829,
            "bin_end": 0.22309301194339748,
            "count": 0
           },
           {
            "bin_start": 0.22309301194339748,
            "bin_end": 0.3340797245229121,
            "count": 0
           },
           {
            "bin_start": 0.3340797245229121,
            "bin_end": 0.44506643710242677,
            "count": 1
           },
           {
            "bin_start": 0.44506643710242677,
            "bin_end": 0.5560531496819413,
            "count": 0
           },
           {
            "bin_start": 0.5560531496819413,
            "bin_end": 0.667039862261456,
            "count": 0
           },
           {
            "bin_start": 0.667039862261456,
            "bin_end": 0.7780265748409706,
            "count": 0
           },
           {
            "bin_start": 0.7780265748409706,
            "bin_end": 0.8890132874204852,
            "count": 1
           },
           {
            "bin_start": 0.8890132874204852,
            "bin_end": 1,
            "count": 1
           }
          ]
         }
        },
        {
         "name": "2011 revenue",
         "dtype": "float64",
         "stats": {
          "unique_count": 6,
          "nan_count": 0,
          "min": "-0.1592740760636017",
          "max": "1.0",
          "histogram": [
           {
            "bin_start": -0.1592740760636017,
            "bin_end": -0.04334666845724151,
            "count": 1
           },
           {
            "bin_start": -0.04334666845724151,
            "bin_end": 0.07258073914911867,
            "count": 1
           },
           {
            "bin_start": 0.07258073914911867,
            "bin_end": 0.18850814675547886,
            "count": 0
           },
           {
            "bin_start": 0.18850814675547886,
            "bin_end": 0.304435554361839,
            "count": 1
           },
           {
            "bin_start": 0.304435554361839,
            "bin_end": 0.4203629619681992,
            "count": 1
           },
           {
            "bin_start": 0.4203629619681992,
            "bin_end": 0.5362903695745594,
            "count": 1
           },
           {
            "bin_start": 0.5362903695745594,
            "bin_end": 0.6522177771809196,
            "count": 0
           },
           {
            "bin_start": 0.6522177771809196,
            "bin_end": 0.7681451847872798,
            "count": 0
           },
           {
            "bin_start": 0.7681451847872798,
            "bin_end": 0.88407259239364,
            "count": 0
           },
           {
            "bin_start": 0.88407259239364,
            "bin_end": 1,
            "count": 1
           }
          ]
         }
        },
        {
         "name": "_deepnote_index_column",
         "dtype": "object"
        }
       ],
       "rows_top": [
        {
         "2010 revenue": 1,
         "days_since_first_purchase": 0.06965386934045686,
         "days_since_last_purchase": -0.22984502008767468,
         "number_of_purchases": 0.43423349333934425,
         "avg_order_cost": 0.809459903600226,
         "2011 revenue": 0.48837482105692076,
         "_deepnote_index_column": "2010 revenue"
        },
        {
         "2010 revenue": 0.06965386934045686,
         "days_since_first_purchase": 1,
         "days_since_last_purchase": 0.6654983391954794,
         "number_of_purchases": 0.3177236211541435,
         "avg_order_cost": -0.10986712579514633,
         "2011 revenue": 0.016251907671142204,
         "_deepnote_index_column": "days_since_first_purchase"
        },
        {
         "2010 revenue": -0.22984502008767468,
         "days_since_first_purchase": 0.6654983391954794,
         "days_since_last_purchase": 1,
         "number_of_purchases": -0.38498149363994394,
         "avg_order_cost": -0.04676759850895119,
         "2011 revenue": -0.1592740760636017,
         "_deepnote_index_column": "days_since_last_purchase"
        },
        {
         "2010 revenue": 0.43423349333934425,
         "days_since_first_purchase": 0.3177236211541435,
         "days_since_last_purchase": -0.38498149363994394,
         "number_of_purchases": 1,
         "avg_order_cost": -0.06662429966827492,
         "2011 revenue": 0.2777115386449123,
         "_deepnote_index_column": "number_of_purchases"
        },
        {
         "2010 revenue": 0.809459903600226,
         "days_since_first_purchase": -0.10986712579514633,
         "days_since_last_purchase": -0.04676759850895119,
         "number_of_purchases": -0.06662429966827492,
         "avg_order_cost": 1,
         "2011 revenue": 0.36040170985473186,
         "_deepnote_index_column": "avg_order_cost"
        },
        {
         "2010 revenue": 0.48837482105692076,
         "days_since_first_purchase": 0.016251907671142204,
         "days_since_last_purchase": -0.1592740760636017,
         "number_of_purchases": 0.2777115386449123,
         "avg_order_cost": 0.36040170985473186,
         "2011 revenue": 1,
         "_deepnote_index_column": "2011 revenue"
        }
       ],
       "rows_bottom": null
      },
      "text/plain": "                           2010 revenue  days_since_first_purchase  \\\n2010 revenue                   1.000000                   0.069654   \ndays_since_first_purchase      0.069654                   1.000000   \ndays_since_last_purchase      -0.229845                   0.665498   \nnumber_of_purchases            0.434233                   0.317724   \navg_order_cost                 0.809460                  -0.109867   \n2011 revenue                   0.488375                   0.016252   \n\n                           days_since_last_purchase  number_of_purchases  \\\n2010 revenue                              -0.229845             0.434233   \ndays_since_first_purchase                  0.665498             0.317724   \ndays_since_last_purchase                   1.000000            -0.384981   \nnumber_of_purchases                       -0.384981             1.000000   \navg_order_cost                            -0.046768            -0.066624   \n2011 revenue                              -0.159274             0.277712   \n\n                           avg_order_cost  2011 revenue  \n2010 revenue                     0.809460      0.488375  \ndays_since_first_purchase       -0.109867      0.016252  \ndays_since_last_purchase        -0.046768     -0.159274  \nnumber_of_purchases             -0.066624      0.277712  \navg_order_cost                   1.000000      0.360402  \n2011 revenue                     0.360402      1.000000  ",
      "text/html": "<div>\n<style scoped>\n    .dataframe tbody tr th:only-of-type {\n        vertical-align: middle;\n    }\n\n    .dataframe tbody tr th {\n        vertical-align: top;\n    }\n\n    .dataframe thead th {\n        text-align: right;\n    }\n</style>\n<table border=\"1\" class=\"dataframe\">\n  <thead>\n    <tr style=\"text-align: right;\">\n      <th></th>\n      <th>2010 revenue</th>\n      <th>days_since_first_purchase</th>\n      <th>days_since_last_purchase</th>\n      <th>number_of_purchases</th>\n      <th>avg_order_cost</th>\n      <th>2011 revenue</th>\n    </tr>\n  </thead>\n  <tbody>\n    <tr>\n      <th>2010 revenue</th>\n      <td>1.000000</td>\n      <td>0.069654</td>\n      <td>-0.229845</td>\n      <td>0.434233</td>\n      <td>0.809460</td>\n      <td>0.488375</td>\n    </tr>\n    <tr>\n      <th>days_since_first_purchase</th>\n      <td>0.069654</td>\n      <td>1.000000</td>\n      <td>0.665498</td>\n      <td>0.317724</td>\n      <td>-0.109867</td>\n      <td>0.016252</td>\n    </tr>\n    <tr>\n      <th>days_since_last_purchase</th>\n      <td>-0.229845</td>\n      <td>0.665498</td>\n      <td>1.000000</td>\n      <td>-0.384981</td>\n      <td>-0.046768</td>\n      <td>-0.159274</td>\n    </tr>\n    <tr>\n      <th>number_of_purchases</th>\n      <td>0.434233</td>\n      <td>0.317724</td>\n      <td>-0.384981</td>\n      <td>1.000000</td>\n      <td>-0.066624</td>\n      <td>0.277712</td>\n    </tr>\n    <tr>\n      <th>avg_order_cost</th>\n      <td>0.809460</td>\n      <td>-0.109867</td>\n      <td>-0.046768</td>\n      <td>-0.066624</td>\n      <td>1.000000</td>\n      <td>0.360402</td>\n    </tr>\n    <tr>\n      <th>2011 revenue</th>\n      <td>0.488375</td>\n      <td>0.016252</td>\n      <td>-0.159274</td>\n      <td>0.277712</td>\n      <td>0.360402</td>\n      <td>1.000000</td>\n    </tr>\n  </tbody>\n</table>\n</div>"
     },
     "metadata": {}
    }
   ]
  },
  {
   "cell_type": "code",
   "source": "df.columns",
   "metadata": {
    "tags": [],
    "cell_id": "00001-318f672c-0a28-4d41-85fb-9167d0fcb044",
    "deepnote_to_be_reexecuted": false,
    "source_hash": "25d43fa0",
    "execution_start": 1630468643837,
    "execution_millis": 4,
    "deepnote_cell_type": "code"
   },
   "outputs": [
    {
     "output_type": "execute_result",
     "execution_count": 3,
     "data": {
      "text/plain": "Index(['2010 revenue', 'days_since_first_purchase', 'days_since_last_purchase',\n       'number_of_purchases', 'avg_order_cost', '2011 revenue'],\n      dtype='object')"
     },
     "metadata": {}
    }
   ],
   "execution_count": 3
  },
  {
   "cell_type": "code",
   "source": "X = df[['2010 revenue', 'days_since_last_purchase',\n       'number_of_purchases', 'avg_order_cost']]\ny = df[['2011 revenue']]",
   "metadata": {
    "tags": [],
    "cell_id": "00004-90710a61-34e7-47d0-b431-489d72b0bd3d",
    "deepnote_to_be_reexecuted": false,
    "source_hash": "5c5fced6",
    "execution_start": 1630468734619,
    "execution_millis": 1,
    "deepnote_cell_type": "code"
   },
   "outputs": [],
   "execution_count": 4
  },
  {
   "cell_type": "code",
   "source": "from sklearn.model_selection import train_test_split\n\nX_train, X_test, y_train, y_test = train_test_split(X,y, random_state=100)",
   "metadata": {
    "tags": [],
    "cell_id": "00005-85a5e2e9-714f-4c73-92a9-2b0944081037",
    "deepnote_to_be_reexecuted": false,
    "source_hash": "93f487f3",
    "execution_start": 1630468896636,
    "execution_millis": 1,
    "deepnote_cell_type": "code"
   },
   "outputs": [],
   "execution_count": 5
  },
  {
   "cell_type": "code",
   "source": "from sklearn.linear_model import LinearRegression\n\nmodel = LinearRegression()\nmodel.fit(X_train,y_train)",
   "metadata": {
    "tags": [],
    "cell_id": "00003-dddd5542-8345-4580-945b-04249305d4cb",
    "deepnote_to_be_reexecuted": false,
    "source_hash": "954c47ca",
    "execution_start": 1630468953556,
    "execution_millis": 20,
    "deepnote_cell_type": "code"
   },
   "outputs": [
    {
     "output_type": "execute_result",
     "execution_count": 6,
     "data": {
      "text/plain": "LinearRegression()"
     },
     "metadata": {}
    }
   ],
   "execution_count": 6
  },
  {
   "cell_type": "code",
   "source": "X_train.columns",
   "metadata": {
    "tags": [],
    "cell_id": "00005-36473d04-3797-4dc3-a440-5c5baa6ac29e",
    "deepnote_to_be_reexecuted": false,
    "source_hash": "2175c87",
    "execution_start": 1630469030541,
    "execution_millis": 19,
    "deepnote_cell_type": "code"
   },
   "outputs": [
    {
     "output_type": "execute_result",
     "execution_count": 8,
     "data": {
      "text/plain": "Index(['2010 revenue', 'days_since_last_purchase', 'number_of_purchases',\n       'avg_order_cost'],\n      dtype='object')"
     },
     "metadata": {}
    }
   ],
   "execution_count": 8
  },
  {
   "cell_type": "code",
   "source": "model.coef_",
   "metadata": {
    "tags": [],
    "cell_id": "00005-3a9609ed-d96f-45bf-847b-1f59d7165f5a",
    "deepnote_to_be_reexecuted": false,
    "source_hash": "1058a9f2",
    "execution_start": 1630468962721,
    "execution_millis": 6,
    "deepnote_cell_type": "code"
   },
   "outputs": [
    {
     "output_type": "execute_result",
     "execution_count": 7,
     "data": {
      "text/plain": "array([[  2.06840529, -36.2114965 , 874.79277327,   1.99784821]])"
     },
     "metadata": {}
    }
   ],
   "execution_count": 7
  },
  {
   "cell_type": "code",
   "source": "model.intercept_",
   "metadata": {
    "tags": [],
    "cell_id": "00006-ba84fbb1-d193-4cbc-8647-54852b075d39",
    "deepnote_to_be_reexecuted": false,
    "source_hash": "b18564c8",
    "execution_start": 1630469236597,
    "execution_millis": 8,
    "deepnote_cell_type": "code"
   },
   "outputs": [
    {
     "output_type": "execute_result",
     "execution_count": 9,
     "data": {
      "text/plain": "array([549.47894119])"
     },
     "metadata": {}
    }
   ],
   "execution_count": 9
  },
  {
   "cell_type": "code",
   "source": "single_customer = pd.DataFrame({\n    '2010 revenue' : [1000], \n    'days_since_last_purchase' : [20], \n    'number_of_purchases' : [2],\n    'avg_order_cost' : [500]\n})",
   "metadata": {
    "tags": [],
    "cell_id": "00007-23f4820c-4e48-4ccc-84a7-cf497bccd2ac",
    "deepnote_to_be_reexecuted": false,
    "source_hash": "4839ba05",
    "execution_start": 1630469386720,
    "execution_millis": 1,
    "deepnote_cell_type": "code"
   },
   "outputs": [],
   "execution_count": 11
  },
  {
   "cell_type": "code",
   "source": "model.predict(single_customer)",
   "metadata": {
    "tags": [],
    "cell_id": "00007-fac97e0b-e705-41d5-924a-f1fa778dedd7",
    "deepnote_to_be_reexecuted": false,
    "source_hash": "acd0709d",
    "execution_start": 1630469408941,
    "execution_millis": 6,
    "deepnote_cell_type": "code"
   },
   "outputs": [
    {
     "output_type": "execute_result",
     "execution_count": 12,
     "data": {
      "text/plain": "array([[4642.16394904]])"
     },
     "metadata": {}
    }
   ],
   "execution_count": 12
  },
  {
   "cell_type": "code",
   "source": "import matplotlib.pyplot as plt\n\nplt.scatter(model.predict(X_test),y_test)\nplt.xlim(0,10000)\nplt.ylim(0,10000)\nplt.plot([0,10000],[0,10000],'k-', color = 'r')\nplt.xlabel('Predicciones del modelo')\nplt.ylabel('Valor verdadero')\nplt.show()",
   "metadata": {
    "tags": [],
    "cell_id": "00009-f8f478f9-38c5-4950-ab92-cb2844e4c016",
    "deepnote_to_be_reexecuted": false,
    "source_hash": "dda223d8",
    "execution_start": 1630469652971,
    "execution_millis": 103,
    "deepnote_cell_type": "code"
   },
   "outputs": [
    {
     "name": "stderr",
     "text": "/shared-libs/python3.7/py-core/lib/python3.7/site-packages/ipykernel_launcher.py:6: UserWarning: color is redundantly defined by the 'color' keyword argument and the fmt string \"k-\" (-> color='k'). The keyword argument will take precedence.\n  \n",
     "output_type": "stream"
    },
    {
     "data": {
      "text/plain": "<Figure size 432x288 with 1 Axes>",
      "image/png": "[encoded data removed]"
     },
     "metadata": {
      "needs_background": "light",
      "image/png": {
       "width": 417,
       "height": 266
      }
     },
     "output_type": "display_data"
    }
   ],
   "execution_count": 14
  },
  {
   "cell_type": "markdown",
   "source": "<a style='text-decoration:none;line-height:16px;display:flex;color:#5B5B62;padding:10px;justify-content:end;' href='https://deepnote.com?utm_source=created-in-deepnote-cell&projectId=ff5e2091-543c-4b2c-9a56-1e41bbaff775' target=\"_blank\">\n<img alt='Created in deepnote.com' style='display:inline;max-height:16px;margin:0px;margin-right:7.5px;' src='data:image/svg+xml;base64,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' > </img>\nCreated in <span style='font-weight:600;margin-left:4px;'>Deepnote</span></a>",
   "metadata": {
    "tags": [],
    "created_in_deepnote_cell": true,
    "deepnote_cell_type": "markdown"
   }
  }
 ],
 "nbformat": 4,
 "nbformat_minor": 2,
 "metadata": {
  "orig_nbformat": 2,
  "deepnote": {
   "is_reactive": false
  },
  "deepnote_notebook_id": "bd595e2e-d737-4768-882e-ccd219627e0c",
  "deepnote_execution_queue": []
 }
}