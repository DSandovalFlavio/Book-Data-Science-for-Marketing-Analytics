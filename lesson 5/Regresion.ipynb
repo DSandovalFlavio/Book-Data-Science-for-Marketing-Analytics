{
 "cells": [
  {
   "cell_type": "code",
   "metadata": {
    "tags": [],
    "cell_id": "00000-6d189525-340e-4f65-bf99-33a1e0879974",
    "deepnote_to_be_reexecuted": false,
    "source_hash": "9b82ee11",
    "execution_start": 1630426554622,
    "execution_millis": 10,
    "deepnote_cell_type": "code"
   },
   "source": "import pandas as pd",
   "execution_count": 1,
   "outputs": []
  },
  {
   "cell_type": "code",
   "source": "df = pd.read_csv('retail_transactions.csv')\ndf.head()",
   "metadata": {
    "tags": [],
    "cell_id": "00001-3e4e9060-2381-4bae-a569-4639817bb3c0",
    "deepnote_to_be_reexecuted": false,
    "source_hash": "68480227",
    "execution_start": 1630427374602,
    "execution_millis": 792,
    "deepnote_cell_type": "code"
   },
   "outputs": [
    {
     "output_type": "execute_result",
     "execution_count": 3,
     "data": {
      "application/vnd.deepnote.dataframe.v2+json": {
       "row_count": 5,
       "column_count": 8,
       "columns": [
        {
         "name": "InvoiceNo",
         "dtype": "int64",
         "stats": {
          "unique_count": 5,
          "nan_count": 0,
          "min": "540543",
          "max": "561390",
          "histogram": [
           {
            "bin_start": 540543,
            "bin_end": 542627.7,
            "count": 1
           },
           {
            "bin_start": 542627.7,
            "bin_end": 544712.4,
            "count": 0
           },
           {
            "bin_start": 544712.4,
            "bin_end": 546797.1,
            "count": 1
           },
           {
            "bin_start": 546797.1,
            "bin_end": 548881.8,
            "count": 1
           },
           {
            "bin_start": 548881.8,
            "bin_end": 550966.5,
            "count": 0
           },
           {
            "bin_start": 550966.5,
            "bin_end": 553051.2,
            "count": 0
           },
           {
            "bin_start": 553051.2,
            "bin_end": 555135.9,
            "count": 0
           },
           {
            "bin_start": 555135.9,
            "bin_end": 557220.6,
            "count": 0
           },
           {
            "bin_start": 557220.6,
            "bin_end": 559305.3,
            "count": 0
           },
           {
            "bin_start": 559305.3,
            "bin_end": 561390,
            "count": 2
           }
          ]
         }
        },
        {
         "name": "StockCode",
         "dtype": "object",
         "stats": {
          "unique_count": 5,
          "nan_count": 0,
          "categories": [
           {
            "name": "22775",
            "count": 1
           },
           {
            "name": "21868",
            "count": 1
           },
           {
            "name": "3 others",
            "count": 3
           }
          ]
         }
        },
        {
         "name": "Description",
         "dtype": "object",
         "stats": {
          "unique_count": 5,
          "nan_count": 0,
          "categories": [
           {
            "name": "PURPLE DRAWERKNOB ACRYLIC EDWARDIAN",
            "count": 1
           },
           {
            "name": "POTTING SHED TEA MUG",
            "count": 1
           },
           {
            "name": "3 others",
            "count": 3
           }
          ]
         }
        },
        {
         "name": "Quantity",
         "dtype": "int64",
         "stats": {
          "unique_count": 5,
          "nan_count": 0,
          "min": "4",
          "max": "24",
          "histogram": [
           {
            "bin_start": 4,
            "bin_end": 6,
            "count": 1
           },
           {
            "bin_start": 6,
            "bin_end": 8,
            "count": 1
           },
           {
            "bin_start": 8,
            "bin_end": 10,
            "count": 0
           },
           {
            "bin_start": 10,
            "bin_end": 12,
            "count": 1
           },
           {
            "bin_start": 12,
            "bin_end": 14,
            "count": 1
           },
           {
            "bin_start": 14,
            "bin_end": 16,
            "count": 0
           },
           {
            "bin_start": 16,
            "bin_end": 18,
            "count": 0
           },
           {
            "bin_start": 18,
            "bin_end": 20,
            "count": 0
           },
           {
            "bin_start": 20,
            "bin_end": 22,
            "count": 0
           },
           {
            "bin_start": 22,
            "bin_end": 24,
            "count": 1
           }
          ]
         }
        },
        {
         "name": "InvoiceDate",
         "dtype": "object",
         "stats": {
          "unique_count": 5,
          "nan_count": 0,
          "categories": [
           {
            "name": "2011-03-16 11:36:00",
            "count": 1
           },
           {
            "name": "2011-07-13 12:18:00",
            "count": 1
           },
           {
            "name": "3 others",
            "count": 3
           }
          ]
         }
        },
        {
         "name": "UnitPrice",
         "dtype": "float64",
         "stats": {
          "unique_count": 4,
          "nan_count": 0,
          "min": "0.85",
          "max": "2.95",
          "histogram": [
           {
            "bin_start": 0.85,
            "bin_end": 1.06,
            "count": 1
           },
           {
            "bin_start": 1.06,
            "bin_end": 1.27,
            "count": 2
           },
           {
            "bin_start": 1.27,
            "bin_end": 1.48,
            "count": 0
           },
           {
            "bin_start": 1.48,
            "bin_end": 1.69,
            "count": 1
           },
           {
            "bin_start": 1.69,
            "bin_end": 1.9,
            "count": 0
           },
           {
            "bin_start": 1.9,
            "bin_end": 2.1100000000000003,
            "count": 0
           },
           {
            "bin_start": 2.1100000000000003,
            "bin_end": 2.3200000000000003,
            "count": 0
           },
           {
            "bin_start": 2.3200000000000003,
            "bin_end": 2.5300000000000002,
            "count": 0
           },
           {
            "bin_start": 2.5300000000000002,
            "bin_end": 2.74,
            "count": 0
           },
           {
            "bin_start": 2.74,
            "bin_end": 2.95,
            "count": 1
           }
          ]
         }
        },
        {
         "name": "CustomerID",
         "dtype": "float64",
         "stats": {
          "unique_count": 5,
          "nan_count": 0,
          "min": "12949.0",
          "max": "18231.0",
          "histogram": [
           {
            "bin_start": 12949,
            "bin_end": 13477.2,
            "count": 1
           },
           {
            "bin_start": 13477.2,
            "bin_end": 14005.4,
            "count": 0
           },
           {
            "bin_start": 14005.4,
            "bin_end": 14533.6,
            "count": 1
           },
           {
            "bin_start": 14533.6,
            "bin_end": 15061.8,
            "count": 0
           },
           {
            "bin_start": 15061.8,
            "bin_end": 15590,
            "count": 0
           },
           {
            "bin_start": 15590,
            "bin_end": 16118.2,
            "count": 0
           },
           {
            "bin_start": 16118.2,
            "bin_end": 16646.4,
            "count": 1
           },
           {
            "bin_start": 16646.4,
            "bin_end": 17174.6,
            "count": 1
           },
           {
            "bin_start": 17174.6,
            "bin_end": 17702.8,
            "count": 0
           },
           {
            "bin_start": 17702.8,
            "bin_end": 18231,
            "count": 1
           }
          ]
         }
        },
        {
         "name": "Country",
         "dtype": "object",
         "stats": {
          "unique_count": 1,
          "nan_count": 0,
          "categories": [
           {
            "name": "United Kingdom",
            "count": 5
           }
          ]
         }
        },
        {
         "name": "_deepnote_index_column",
         "dtype": "int64"
        }
       ],
       "rows_top": [
        {
         "InvoiceNo": 546729,
         "StockCode": "22775",
         "Description": "PURPLE DRAWERKNOB ACRYLIC EDWARDIAN",
         "Quantity": 12,
         "InvoiceDate": "2011-03-16 11:36:00",
         "UnitPrice": 1.25,
         "CustomerID": 18231,
         "Country": "United Kingdom",
         "_deepnote_index_column": 0
        },
        {
         "InvoiceNo": 559898,
         "StockCode": "21868",
         "Description": "POTTING SHED TEA MUG",
         "Quantity": 6,
         "InvoiceDate": "2011-07-13 12:18:00",
         "UnitPrice": 1.25,
         "CustomerID": 16225,
         "Country": "United Kingdom",
         "_deepnote_index_column": 1
        },
        {
         "InvoiceNo": 548648,
         "StockCode": "71459",
         "Description": "HANGING JAM JAR T-LIGHT HOLDER",
         "Quantity": 24,
         "InvoiceDate": "2011-04-01 13:20:00",
         "UnitPrice": 0.85,
         "CustomerID": 12949,
         "Country": "United Kingdom",
         "_deepnote_index_column": 2
        },
        {
         "InvoiceNo": 540543,
         "StockCode": "22173",
         "Description": "METAL 4 HOOK HANGER FRENCH CHATEAU",
         "Quantity": 4,
         "InvoiceDate": "2011-01-09 15:23:00",
         "UnitPrice": 2.95,
         "CustomerID": 14395,
         "Country": "United Kingdom",
         "_deepnote_index_column": 3
        },
        {
         "InvoiceNo": 561390,
         "StockCode": "20726",
         "Description": "LUNCH BAG WOODLAND",
         "Quantity": 10,
         "InvoiceDate": "2011-07-27 09:52:00",
         "UnitPrice": 1.65,
         "CustomerID": 17068,
         "Country": "United Kingdom",
         "_deepnote_index_column": 4
        }
       ],
       "rows_bottom": null
      },
      "text/plain": "   InvoiceNo StockCode                          Description  Quantity  \\\n0     546729     22775  PURPLE DRAWERKNOB ACRYLIC EDWARDIAN        12   \n1     559898     21868                 POTTING SHED TEA MUG         6   \n2     548648     71459       HANGING JAM JAR T-LIGHT HOLDER        24   \n3     540543     22173   METAL 4 HOOK HANGER FRENCH CHATEAU         4   \n4     561390     20726                   LUNCH BAG WOODLAND        10   \n\n           InvoiceDate  UnitPrice  CustomerID         Country  \n0  2011-03-16 11:36:00       1.25     18231.0  United Kingdom  \n1  2011-07-13 12:18:00       1.25     16225.0  United Kingdom  \n2  2011-04-01 13:20:00       0.85     12949.0  United Kingdom  \n3  2011-01-09 15:23:00       2.95     14395.0  United Kingdom  \n4  2011-07-27 09:52:00       1.65     17068.0  United Kingdom  ",
      "text/html": "<div>\n<style scoped>\n    .dataframe tbody tr th:only-of-type {\n        vertical-align: middle;\n    }\n\n    .dataframe tbody tr th {\n        vertical-align: top;\n    }\n\n    .dataframe thead th {\n        text-align: right;\n    }\n</style>\n<table border=\"1\" class=\"dataframe\">\n  <thead>\n    <tr style=\"text-align: right;\">\n      <th></th>\n      <th>InvoiceNo</th>\n      <th>StockCode</th>\n      <th>Description</th>\n      <th>Quantity</th>\n      <th>InvoiceDate</th>\n      <th>UnitPrice</th>\n      <th>CustomerID</th>\n      <th>Country</th>\n    </tr>\n  </thead>\n  <tbody>\n    <tr>\n      <th>0</th>\n      <td>546729</td>\n      <td>22775</td>\n      <td>PURPLE DRAWERKNOB ACRYLIC EDWARDIAN</td>\n      <td>12</td>\n      <td>2011-03-16 11:36:00</td>\n      <td>1.25</td>\n      <td>18231.0</td>\n      <td>United Kingdom</td>\n    </tr>\n    <tr>\n      <th>1</th>\n      <td>559898</td>\n      <td>21868</td>\n      <td>POTTING SHED TEA MUG</td>\n      <td>6</td>\n      <td>2011-07-13 12:18:00</td>\n      <td>1.25</td>\n      <td>16225.0</td>\n      <td>United Kingdom</td>\n    </tr>\n    <tr>\n      <th>2</th>\n      <td>548648</td>\n      <td>71459</td>\n      <td>HANGING JAM JAR T-LIGHT HOLDER</td>\n      <td>24</td>\n      <td>2011-04-01 13:20:00</td>\n      <td>0.85</td>\n      <td>12949.0</td>\n      <td>United Kingdom</td>\n    </tr>\n    <tr>\n      <th>3</th>\n      <td>540543</td>\n      <td>22173</td>\n      <td>METAL 4 HOOK HANGER FRENCH CHATEAU</td>\n      <td>4</td>\n      <td>2011-01-09 15:23:00</td>\n      <td>2.95</td>\n      <td>14395.0</td>\n      <td>United Kingdom</td>\n    </tr>\n    <tr>\n      <th>4</th>\n      <td>561390</td>\n      <td>20726</td>\n      <td>LUNCH BAG WOODLAND</td>\n      <td>10</td>\n      <td>2011-07-27 09:52:00</td>\n      <td>1.65</td>\n      <td>17068.0</td>\n      <td>United Kingdom</td>\n    </tr>\n  </tbody>\n</table>\n</div>"
     },
     "metadata": {}
    }
   ],
   "execution_count": 3
  },
  {
   "cell_type": "code",
   "source": "df['InvoiceDate'] = pd.to_datetime(df.InvoiceDate)\ndf['revenue'] = df.UnitPrice * df.Quantity\ndf.head(3)",
   "metadata": {
    "tags": [],
    "cell_id": "00002-85a54701-98ed-450e-b00e-f5141188cd5b",
    "deepnote_to_be_reexecuted": false,
    "source_hash": "16664970",
    "execution_start": 1630427377860,
    "execution_millis": 55,
    "deepnote_cell_type": "code"
   },
   "outputs": [
    {
     "output_type": "execute_result",
     "execution_count": 4,
     "data": {
      "application/vnd.deepnote.dataframe.v2+json": {
       "row_count": 3,
       "column_count": 9,
       "columns": [
        {
         "name": "InvoiceNo",
         "dtype": "int64",
         "stats": {
          "unique_count": 3,
          "nan_count": 0,
          "min": "546729",
          "max": "559898",
          "histogram": [
           {
            "bin_start": 546729,
            "bin_end": 548045.9,
            "count": 1
           },
           {
            "bin_start": 548045.9,
            "bin_end": 549362.8,
            "count": 1
           },
           {
            "bin_start": 549362.8,
            "bin_end": 550679.7,
            "count": 0
           },
           {
            "bin_start": 550679.7,
            "bin_end": 551996.6,
            "count": 0
           },
           {
            "bin_start": 551996.6,
            "bin_end": 553313.5,
            "count": 0
           },
           {
            "bin_start": 553313.5,
            "bin_end": 554630.4,
            "count": 0
           },
           {
            "bin_start": 554630.4,
            "bin_end": 555947.3,
            "count": 0
           },
           {
            "bin_start": 555947.3,
            "bin_end": 557264.2,
            "count": 0
           },
           {
            "bin_start": 557264.2,
            "bin_end": 558581.1,
            "count": 0
           },
           {
            "bin_start": 558581.1,
            "bin_end": 559898,
            "count": 1
           }
          ]
         }
        },
        {
         "name": "StockCode",
         "dtype": "object",
         "stats": {
          "unique_count": 3,
          "nan_count": 0,
          "categories": [
           {
            "name": "22775",
            "count": 1
           },
           {
            "name": "21868",
            "count": 1
           },
           {
            "name": "71459",
            "count": 1
           }
          ]
         }
        },
        {
         "name": "Description",
         "dtype": "object",
         "stats": {
          "unique_count": 3,
          "nan_count": 0,
          "categories": [
           {
            "name": "PURPLE DRAWERKNOB ACRYLIC EDWARDIAN",
            "count": 1
           },
           {
            "name": "POTTING SHED TEA MUG",
            "count": 1
           },
           {
            "name": "HANGING JAM JAR T-LIGHT HOLDER",
            "count": 1
           }
          ]
         }
        },
        {
         "name": "Quantity",
         "dtype": "int64",
         "stats": {
          "unique_count": 3,
          "nan_count": 0,
          "min": "6",
          "max": "24",
          "histogram": [
           {
            "bin_start": 6,
            "bin_end": 7.8,
            "count": 1
           },
           {
            "bin_start": 7.8,
            "bin_end": 9.6,
            "count": 0
           },
           {
            "bin_start": 9.6,
            "bin_end": 11.4,
            "count": 0
           },
           {
            "bin_start": 11.4,
            "bin_end": 13.2,
            "count": 1
           },
           {
            "bin_start": 13.2,
            "bin_end": 15,
            "count": 0
           },
           {
            "bin_start": 15,
            "bin_end": 16.8,
            "count": 0
           },
           {
            "bin_start": 16.8,
            "bin_end": 18.6,
            "count": 0
           },
           {
            "bin_start": 18.6,
            "bin_end": 20.4,
            "count": 0
           },
           {
            "bin_start": 20.4,
            "bin_end": 22.2,
            "count": 0
           },
           {
            "bin_start": 22.2,
            "bin_end": 24,
            "count": 1
           }
          ]
         }
        },
        {
         "name": "InvoiceDate",
         "dtype": "datetime64[ns]",
         "stats": {
          "unique_count": 3,
          "nan_count": 0,
          "min": "2011-03-16 11:36:00",
          "max": "2011-07-13 12:18:00",
          "histogram": [
           {
            "bin_start": 1300275360000000000,
            "bin_end": 1301303772000000000,
            "count": 1
           },
           {
            "bin_start": 1301303772000000000,
            "bin_end": 1302332184000000000,
            "count": 1
           },
           {
            "bin_start": 1302332184000000000,
            "bin_end": 1303360596000000000,
            "count": 0
           },
           {
            "bin_start": 1303360596000000000,
            "bin_end": 1304389008000000000,
            "count": 0
           },
           {
            "bin_start": 1304389008000000000,
            "bin_end": 1305417420000000000,
            "count": 0
           },
           {
            "bin_start": 1305417420000000000,
            "bin_end": 1306445832000000000,
            "count": 0
           },
           {
            "bin_start": 1306445832000000000,
            "bin_end": 1307474244000000000,
            "count": 0
           },
           {
            "bin_start": 1307474244000000000,
            "bin_end": 1308502656000000000,
            "count": 0
           },
           {
            "bin_start": 1308502656000000000,
            "bin_end": 1309531068000000000,
            "count": 0
           },
           {
            "bin_start": 1309531068000000000,
            "bin_end": 1310559480000000000,
            "count": 1
           }
          ]
         }
        },
        {
         "name": "UnitPrice",
         "dtype": "float64",
         "stats": {
          "unique_count": 2,
          "nan_count": 0,
          "min": "0.85",
          "max": "1.25",
          "histogram": [
           {
            "bin_start": 0.85,
            "bin_end": 0.89,
            "count": 1
           },
           {
            "bin_start": 0.89,
            "bin_end": 0.9299999999999999,
            "count": 0
           },
           {
            "bin_start": 0.9299999999999999,
            "bin_end": 0.97,
            "count": 0
           },
           {
            "bin_start": 0.97,
            "bin_end": 1.01,
            "count": 0
           },
           {
            "bin_start": 1.01,
            "bin_end": 1.05,
            "count": 0
           },
           {
            "bin_start": 1.05,
            "bin_end": 1.0899999999999999,
            "count": 0
           },
           {
            "bin_start": 1.0899999999999999,
            "bin_end": 1.13,
            "count": 0
           },
           {
            "bin_start": 1.13,
            "bin_end": 1.17,
            "count": 0
           },
           {
            "bin_start": 1.17,
            "bin_end": 1.21,
            "count": 0
           },
           {
            "bin_start": 1.21,
            "bin_end": 1.25,
            "count": 2
           }
          ]
         }
        },
        {
         "name": "CustomerID",
         "dtype": "float64",
         "stats": {
          "unique_count": 3,
          "nan_count": 0,
          "min": "12949.0",
          "max": "18231.0",
          "histogram": [
           {
            "bin_start": 12949,
            "bin_end": 13477.2,
            "count": 1
           },
           {
            "bin_start": 13477.2,
            "bin_end": 14005.4,
            "count": 0
           },
           {
            "bin_start": 14005.4,
            "bin_end": 14533.6,
            "count": 0
           },
           {
            "bin_start": 14533.6,
            "bin_end": 15061.8,
            "count": 0
           },
           {
            "bin_start": 15061.8,
            "bin_end": 15590,
            "count": 0
           },
           {
            "bin_start": 15590,
            "bin_end": 16118.2,
            "count": 0
           },
           {
            "bin_start": 16118.2,
            "bin_end": 16646.4,
            "count": 1
           },
           {
            "bin_start": 16646.4,
            "bin_end": 17174.6,
            "count": 0
           },
           {
            "bin_start": 17174.6,
            "bin_end": 17702.8,
            "count": 0
           },
           {
            "bin_start": 17702.8,
            "bin_end": 18231,
            "count": 1
           }
          ]
         }
        },
        {
         "name": "Country",
         "dtype": "object",
         "stats": {
          "unique_count": 1,
          "nan_count": 0,
          "categories": [
           {
            "name": "United Kingdom",
            "count": 3
           }
          ]
         }
        },
        {
         "name": "revenue",
         "dtype": "float64",
         "stats": {
          "unique_count": 3,
          "nan_count": 0,
          "min": "7.5",
          "max": "20.4",
          "histogram": [
           {
            "bin_start": 7.5,
            "bin_end": 8.79,
            "count": 1
           },
           {
            "bin_start": 8.79,
            "bin_end": 10.08,
            "count": 0
           },
           {
            "bin_start": 10.08,
            "bin_end": 11.37,
            "count": 0
           },
           {
            "bin_start": 11.37,
            "bin_end": 12.66,
            "count": 0
           },
           {
            "bin_start": 12.66,
            "bin_end": 13.95,
            "count": 0
           },
           {
            "bin_start": 13.95,
            "bin_end": 15.239999999999998,
            "count": 1
           },
           {
            "bin_start": 15.239999999999998,
            "bin_end": 16.53,
            "count": 0
           },
           {
            "bin_start": 16.53,
            "bin_end": 17.82,
            "count": 0
           },
           {
            "bin_start": 17.82,
            "bin_end": 19.11,
            "count": 0
           },
           {
            "bin_start": 19.11,
            "bin_end": 20.4,
            "count": 1
           }
          ]
         }
        },
        {
         "name": "_deepnote_index_column",
         "dtype": "int64"
        }
       ],
       "rows_top": [
        {
         "InvoiceNo": 546729,
         "StockCode": "22775",
         "Description": "PURPLE DRAWERKNOB ACRYLIC EDWARDIAN",
         "Quantity": 12,
         "InvoiceDate": "2011-03-16T11:36:00.000000",
         "UnitPrice": 1.25,
         "CustomerID": 18231,
         "Country": "United Kingdom",
         "revenue": 15,
         "_deepnote_index_column": 0
        },
        {
         "InvoiceNo": 559898,
         "StockCode": "21868",
         "Description": "POTTING SHED TEA MUG",
         "Quantity": 6,
         "InvoiceDate": "2011-07-13T12:18:00.000000",
         "UnitPrice": 1.25,
         "CustomerID": 16225,
         "Country": "United Kingdom",
         "revenue": 7.5,
         "_deepnote_index_column": 1
        },
        {
         "InvoiceNo": 548648,
         "StockCode": "71459",
         "Description": "HANGING JAM JAR T-LIGHT HOLDER",
         "Quantity": 24,
         "InvoiceDate": "2011-04-01T13:20:00.000000",
         "UnitPrice": 0.85,
         "CustomerID": 12949,
         "Country": "United Kingdom",
         "revenue": 20.4,
         "_deepnote_index_column": 2
        }
       ],
       "rows_bottom": null
      },
      "text/plain": "   InvoiceNo StockCode                          Description  Quantity  \\\n0     546729     22775  PURPLE DRAWERKNOB ACRYLIC EDWARDIAN        12   \n1     559898     21868                 POTTING SHED TEA MUG         6   \n2     548648     71459       HANGING JAM JAR T-LIGHT HOLDER        24   \n\n          InvoiceDate  UnitPrice  CustomerID         Country  revenue  \n0 2011-03-16 11:36:00       1.25     18231.0  United Kingdom     15.0  \n1 2011-07-13 12:18:00       1.25     16225.0  United Kingdom      7.5  \n2 2011-04-01 13:20:00       0.85     12949.0  United Kingdom     20.4  ",
      "text/html": "<div>\n<style scoped>\n    .dataframe tbody tr th:only-of-type {\n        vertical-align: middle;\n    }\n\n    .dataframe tbody tr th {\n        vertical-align: top;\n    }\n\n    .dataframe thead th {\n        text-align: right;\n    }\n</style>\n<table border=\"1\" class=\"dataframe\">\n  <thead>\n    <tr style=\"text-align: right;\">\n      <th></th>\n      <th>InvoiceNo</th>\n      <th>StockCode</th>\n      <th>Description</th>\n      <th>Quantity</th>\n      <th>InvoiceDate</th>\n      <th>UnitPrice</th>\n      <th>CustomerID</th>\n      <th>Country</th>\n      <th>revenue</th>\n    </tr>\n  </thead>\n  <tbody>\n    <tr>\n      <th>0</th>\n      <td>546729</td>\n      <td>22775</td>\n      <td>PURPLE DRAWERKNOB ACRYLIC EDWARDIAN</td>\n      <td>12</td>\n      <td>2011-03-16 11:36:00</td>\n      <td>1.25</td>\n      <td>18231.0</td>\n      <td>United Kingdom</td>\n      <td>15.0</td>\n    </tr>\n    <tr>\n      <th>1</th>\n      <td>559898</td>\n      <td>21868</td>\n      <td>POTTING SHED TEA MUG</td>\n      <td>6</td>\n      <td>2011-07-13 12:18:00</td>\n      <td>1.25</td>\n      <td>16225.0</td>\n      <td>United Kingdom</td>\n      <td>7.5</td>\n    </tr>\n    <tr>\n      <th>2</th>\n      <td>548648</td>\n      <td>71459</td>\n      <td>HANGING JAM JAR T-LIGHT HOLDER</td>\n      <td>24</td>\n      <td>2011-04-01 13:20:00</td>\n      <td>0.85</td>\n      <td>12949.0</td>\n      <td>United Kingdom</td>\n      <td>20.4</td>\n    </tr>\n  </tbody>\n</table>\n</div>"
     },
     "metadata": {}
    }
   ],
   "execution_count": 4
  },
  {
   "cell_type": "code",
   "source": "operations = {'revenue' : 'sum',\n            'InvoiceDate' : 'first',\n            'CustomerID': 'first'}\ndf = df.groupby(['InvoiceNo']).agg(operations)\ndf.head(3)",
   "metadata": {
    "tags": [],
    "cell_id": "00003-d31e1531-c7b6-442c-af99-03dfa64157c7",
    "deepnote_to_be_reexecuted": false,
    "source_hash": "5dc67543",
    "execution_start": 1630427532402,
    "execution_millis": 47,
    "deepnote_cell_type": "code"
   },
   "outputs": [
    {
     "output_type": "execute_result",
     "execution_count": 5,
     "data": {
      "application/vnd.deepnote.dataframe.v2+json": {
       "row_count": 3,
       "column_count": 3,
       "columns": [
        {
         "name": "revenue",
         "dtype": "float64",
         "stats": {
          "unique_count": 3,
          "nan_count": 0,
          "min": "22.200000000000003",
          "max": "278.72999999999996",
          "histogram": [
           {
            "bin_start": 22.200000000000003,
            "bin_end": 47.853,
            "count": 1
           },
           {
            "bin_start": 47.853,
            "bin_end": 73.506,
            "count": 0
           },
           {
            "bin_start": 73.506,
            "bin_end": 99.159,
            "count": 0
           },
           {
            "bin_start": 99.159,
            "bin_end": 124.812,
            "count": 0
           },
           {
            "bin_start": 124.812,
            "bin_end": 150.46499999999997,
            "count": 1
           },
           {
            "bin_start": 150.46499999999997,
            "bin_end": 176.118,
            "count": 0
           },
           {
            "bin_start": 176.118,
            "bin_end": 201.77100000000002,
            "count": 0
           },
           {
            "bin_start": 201.77100000000002,
            "bin_end": 227.42399999999998,
            "count": 0
           },
           {
            "bin_start": 227.42399999999998,
            "bin_end": 253.077,
            "count": 0
           },
           {
            "bin_start": 253.077,
            "bin_end": 278.72999999999996,
            "count": 1
           }
          ]
         }
        },
        {
         "name": "InvoiceDate",
         "dtype": "datetime64[ns]",
         "stats": {
          "unique_count": 3,
          "nan_count": 0,
          "min": "2010-12-01 08:26:00",
          "max": "2010-12-01 08:34:00",
          "histogram": [
           {
            "bin_start": 1291191960000000000,
            "bin_end": 1291192008000000000,
            "count": 1
           },
           {
            "bin_start": 1291192008000000000,
            "bin_end": 1291192056000000000,
            "count": 0
           },
           {
            "bin_start": 1291192056000000000,
            "bin_end": 1291192104000000000,
            "count": 1
           },
           {
            "bin_start": 1291192104000000000,
            "bin_end": 1291192152000000000,
            "count": 0
           },
           {
            "bin_start": 1291192152000000000,
            "bin_end": 1291192200000000000,
            "count": 0
           },
           {
            "bin_start": 1291192200000000000,
            "bin_end": 1291192248000000000,
            "count": 0
           },
           {
            "bin_start": 1291192248000000000,
            "bin_end": 1291192296000000000,
            "count": 0
           },
           {
            "bin_start": 1291192296000000000,
            "bin_end": 1291192344000000000,
            "count": 0
           },
           {
            "bin_start": 1291192344000000000,
            "bin_end": 1291192392000000000,
            "count": 0
           },
           {
            "bin_start": 1291192392000000000,
            "bin_end": 1291192440000000000,
            "count": 1
           }
          ]
         }
        },
        {
         "name": "CustomerID",
         "dtype": "float64",
         "stats": {
          "unique_count": 2,
          "nan_count": 0,
          "min": "13047.0",
          "max": "17850.0",
          "histogram": [
           {
            "bin_start": 13047,
            "bin_end": 13527.3,
            "count": 1
           },
           {
            "bin_start": 13527.3,
            "bin_end": 14007.6,
            "count": 0
           },
           {
            "bin_start": 14007.6,
            "bin_end": 14487.9,
            "count": 0
           },
           {
            "bin_start": 14487.9,
            "bin_end": 14968.2,
            "count": 0
           },
           {
            "bin_start": 14968.2,
            "bin_end": 15448.5,
            "count": 0
           },
           {
            "bin_start": 15448.5,
            "bin_end": 15928.8,
            "count": 0
           },
           {
            "bin_start": 15928.8,
            "bin_end": 16409.1,
            "count": 0
           },
           {
            "bin_start": 16409.1,
            "bin_end": 16889.4,
            "count": 0
           },
           {
            "bin_start": 16889.4,
            "bin_end": 17369.7,
            "count": 0
           },
           {
            "bin_start": 17369.7,
            "bin_end": 17850,
            "count": 2
           }
          ]
         }
        },
        {
         "name": "_deepnote_index_column",
         "dtype": "int64"
        }
       ],
       "rows_top": [
        {
         "revenue": 139.12,
         "InvoiceDate": "2010-12-01T08:26:00.000000",
         "CustomerID": 17850,
         "_deepnote_index_column": 536365
        },
        {
         "revenue": 22.200000000000003,
         "InvoiceDate": "2010-12-01T08:28:00.000000",
         "CustomerID": 17850,
         "_deepnote_index_column": 536366
        },
        {
         "revenue": 278.72999999999996,
         "InvoiceDate": "2010-12-01T08:34:00.000000",
         "CustomerID": 13047,
         "_deepnote_index_column": 536367
        }
       ],
       "rows_bottom": null
      },
      "text/plain": "           revenue         InvoiceDate  CustomerID\nInvoiceNo                                         \n536365      139.12 2010-12-01 08:26:00     17850.0\n536366       22.20 2010-12-01 08:28:00     17850.0\n536367      278.73 2010-12-01 08:34:00     13047.0",
      "text/html": "<div>\n<style scoped>\n    .dataframe tbody tr th:only-of-type {\n        vertical-align: middle;\n    }\n\n    .dataframe tbody tr th {\n        vertical-align: top;\n    }\n\n    .dataframe thead th {\n        text-align: right;\n    }\n</style>\n<table border=\"1\" class=\"dataframe\">\n  <thead>\n    <tr style=\"text-align: right;\">\n      <th></th>\n      <th>revenue</th>\n      <th>InvoiceDate</th>\n      <th>CustomerID</th>\n    </tr>\n    <tr>\n      <th>InvoiceNo</th>\n      <th></th>\n      <th></th>\n      <th></th>\n    </tr>\n  </thead>\n  <tbody>\n    <tr>\n      <th>536365</th>\n      <td>139.12</td>\n      <td>2010-12-01 08:26:00</td>\n      <td>17850.0</td>\n    </tr>\n    <tr>\n      <th>536366</th>\n      <td>22.20</td>\n      <td>2010-12-01 08:28:00</td>\n      <td>17850.0</td>\n    </tr>\n    <tr>\n      <th>536367</th>\n      <td>278.73</td>\n      <td>2010-12-01 08:34:00</td>\n      <td>13047.0</td>\n    </tr>\n  </tbody>\n</table>\n</div>"
     },
     "metadata": {}
    }
   ],
   "execution_count": 5
  },
  {
   "cell_type": "code",
   "source": "df['year'] = df.InvoiceDate.apply(lambda x: x.year)\ndf['days_since'] = (pd.datetime(year = 2010, month = 12, day = 31) - df.InvoiceDate).apply(lambda x: x.days)",
   "metadata": {
    "tags": [],
    "cell_id": "00004-a4bba338-0372-42c4-9c0c-90a5d6e7d95f",
    "deepnote_to_be_reexecuted": false,
    "source_hash": "f3328d3c",
    "execution_start": 1630427973832,
    "execution_millis": 693,
    "deepnote_cell_type": "code"
   },
   "outputs": [
    {
     "name": "stderr",
     "text": "/shared-libs/python3.7/py-core/lib/python3.7/site-packages/ipykernel_launcher.py:2: FutureWarning: The pandas.datetime class is deprecated and will be removed from pandas in a future version. Import from datetime module instead.\n  \n",
     "output_type": "stream"
    }
   ],
   "execution_count": 8
  },
  {
   "cell_type": "code",
   "source": "operations = {'revenue' : 'sum',\n            'days_since': ['max','min','nunique']}\nX = df[df.year == 2010].groupby(['CustomerID']).agg(operations)\nX.columns = [' '.join(col).strip() for col in X.columns.values]\nX.head(3)",
   "metadata": {
    "tags": [],
    "cell_id": "00005-13f29058-a6ad-448a-a191-267a6751fa88",
    "deepnote_to_be_reexecuted": false,
    "source_hash": "605f1949",
    "execution_start": 1630428972926,
    "execution_millis": 30,
    "deepnote_cell_type": "code"
   },
   "outputs": [
    {
     "output_type": "execute_result",
     "execution_count": 33,
     "data": {
      "application/vnd.deepnote.dataframe.v2+json": {
       "row_count": 3,
       "column_count": 4,
       "columns": [
        {
         "name": "revenue sum",
         "dtype": "float64",
         "stats": {
          "unique_count": 3,
          "nan_count": 0,
          "min": "711.79",
          "max": "1868.02",
          "histogram": [
           {
            "bin_start": 711.79,
            "bin_end": 827.413,
            "count": 1
           },
           {
            "bin_start": 827.413,
            "bin_end": 943.036,
            "count": 1
           },
           {
            "bin_start": 943.036,
            "bin_end": 1058.659,
            "count": 0
           },
           {
            "bin_start": 1058.659,
            "bin_end": 1174.282,
            "count": 0
           },
           {
            "bin_start": 1174.282,
            "bin_end": 1289.905,
            "count": 0
           },
           {
            "bin_start": 1289.905,
            "bin_end": 1405.528,
            "count": 0
           },
           {
            "bin_start": 1405.528,
            "bin_end": 1521.1509999999998,
            "count": 0
           },
           {
            "bin_start": 1521.1509999999998,
            "bin_end": 1636.774,
            "count": 0
           },
           {
            "bin_start": 1636.774,
            "bin_end": 1752.397,
            "count": 0
           },
           {
            "bin_start": 1752.397,
            "bin_end": 1868.02,
            "count": 1
           }
          ]
         }
        },
        {
         "name": "days_since max",
         "dtype": "int64",
         "stats": {
          "unique_count": 3,
          "nan_count": 0,
          "min": "14",
          "max": "23",
          "histogram": [
           {
            "bin_start": 14,
            "bin_end": 14.9,
            "count": 1
           },
           {
            "bin_start": 14.9,
            "bin_end": 15.8,
            "count": 0
           },
           {
            "bin_start": 15.8,
            "bin_end": 16.7,
            "count": 1
           },
           {
            "bin_start": 16.7,
            "bin_end": 17.6,
            "count": 0
           },
           {
            "bin_start": 17.6,
            "bin_end": 18.5,
            "count": 0
           },
           {
            "bin_start": 18.5,
            "bin_end": 19.4,
            "count": 0
           },
           {
            "bin_start": 19.4,
            "bin_end": 20.3,
            "count": 0
           },
           {
            "bin_start": 20.3,
            "bin_end": 21.2,
            "count": 0
           },
           {
            "bin_start": 21.2,
            "bin_end": 22.1,
            "count": 0
           },
           {
            "bin_start": 22.1,
            "bin_end": 23,
            "count": 1
           }
          ]
         }
        },
        {
         "name": "days_since min",
         "dtype": "int64",
         "stats": {
          "unique_count": 3,
          "nan_count": 0,
          "min": "13",
          "max": "23",
          "histogram": [
           {
            "bin_start": 13,
            "bin_end": 14,
            "count": 1
           },
           {
            "bin_start": 14,
            "bin_end": 15,
            "count": 1
           },
           {
            "bin_start": 15,
            "bin_end": 16,
            "count": 0
           },
           {
            "bin_start": 16,
            "bin_end": 17,
            "count": 0
           },
           {
            "bin_start": 17,
            "bin_end": 18,
            "count": 0
           },
           {
            "bin_start": 18,
            "bin_end": 19,
            "count": 0
           },
           {
            "bin_start": 19,
            "bin_end": 20,
            "count": 0
           },
           {
            "bin_start": 20,
            "bin_end": 21,
            "count": 0
           },
           {
            "bin_start": 21,
            "bin_end": 22,
            "count": 0
           },
           {
            "bin_start": 22,
            "bin_end": 23,
            "count": 1
           }
          ]
         }
        },
        {
         "name": "days_since nunique",
         "dtype": "int64",
         "stats": {
          "unique_count": 2,
          "nan_count": 0,
          "min": "1",
          "max": "2",
          "histogram": [
           {
            "bin_start": 1,
            "bin_end": 1.1,
            "count": 2
           },
           {
            "bin_start": 1.1,
            "bin_end": 1.2,
            "count": 0
           },
           {
            "bin_start": 1.2,
            "bin_end": 1.3,
            "count": 0
           },
           {
            "bin_start": 1.3,
            "bin_end": 1.4,
            "count": 0
           },
           {
            "bin_start": 1.4,
            "bin_end": 1.5,
            "count": 0
           },
           {
            "bin_start": 1.5,
            "bin_end": 1.6,
            "count": 0
           },
           {
            "bin_start": 1.6,
            "bin_end": 1.7000000000000002,
            "count": 0
           },
           {
            "bin_start": 1.7000000000000002,
            "bin_end": 1.8,
            "count": 0
           },
           {
            "bin_start": 1.8,
            "bin_end": 1.9,
            "count": 0
           },
           {
            "bin_start": 1.9,
            "bin_end": 2,
            "count": 1
           }
          ]
         }
        },
        {
         "name": "_deepnote_index_column",
         "dtype": "float64"
        }
       ],
       "rows_top": [
        {
         "revenue sum": 711.79,
         "days_since max": 23,
         "days_since min": 23,
         "days_since nunique": 1,
         "_deepnote_index_column": 12347
        },
        {
         "revenue sum": 892.8,
         "days_since max": 14,
         "days_since min": 14,
         "days_since nunique": 1,
         "_deepnote_index_column": 12348
        },
        {
         "revenue sum": 1868.02,
         "days_since max": 16,
         "days_since min": 13,
         "days_since nunique": 2,
         "_deepnote_index_column": 12370
        }
       ],
       "rows_bottom": null
      },
      "text/plain": "            revenue sum  days_since max  days_since min  days_since nunique\nCustomerID                                                                 \n12347.0          711.79              23              23                   1\n12348.0          892.80              14              14                   1\n12370.0         1868.02              16              13                   2",
      "text/html": "<div>\n<style scoped>\n    .dataframe tbody tr th:only-of-type {\n        vertical-align: middle;\n    }\n\n    .dataframe tbody tr th {\n        vertical-align: top;\n    }\n\n    .dataframe thead th {\n        text-align: right;\n    }\n</style>\n<table border=\"1\" class=\"dataframe\">\n  <thead>\n    <tr style=\"text-align: right;\">\n      <th></th>\n      <th>revenue sum</th>\n      <th>days_since max</th>\n      <th>days_since min</th>\n      <th>days_since nunique</th>\n    </tr>\n    <tr>\n      <th>CustomerID</th>\n      <th></th>\n      <th></th>\n      <th></th>\n      <th></th>\n    </tr>\n  </thead>\n  <tbody>\n    <tr>\n      <th>12347.0</th>\n      <td>711.79</td>\n      <td>23</td>\n      <td>23</td>\n      <td>1</td>\n    </tr>\n    <tr>\n      <th>12348.0</th>\n      <td>892.80</td>\n      <td>14</td>\n      <td>14</td>\n      <td>1</td>\n    </tr>\n    <tr>\n      <th>12370.0</th>\n      <td>1868.02</td>\n      <td>16</td>\n      <td>13</td>\n      <td>2</td>\n    </tr>\n  </tbody>\n</table>\n</div>"
     },
     "metadata": {}
    }
   ],
   "execution_count": 33
  },
  {
   "cell_type": "code",
   "source": "X['avg_order_cost'] = X['revenue sum'] / X['days_since nunique']\ny = df[df.year == 2011].groupby(['CustomerID'])['revenue'].sum()\nwrangled_df = pd.concat([X,y], axis = 1)",
   "metadata": {
    "tags": [],
    "cell_id": "00006-060e1f81-f463-442b-a491-ca98a284c061",
    "deepnote_to_be_reexecuted": false,
    "source_hash": "6a5201d2",
    "execution_start": 1630430481092,
    "execution_millis": 11,
    "deepnote_cell_type": "code"
   },
   "outputs": [],
   "execution_count": 35
  },
  {
   "cell_type": "markdown",
   "source": "<a style='text-decoration:none;line-height:16px;display:flex;color:#5B5B62;padding:10px;justify-content:end;' href='https://deepnote.com?utm_source=created-in-deepnote-cell&projectId=ff5e2091-543c-4b2c-9a56-1e41bbaff775' target=\"_blank\">\n<img alt='Created in deepnote.com' style='display:inline;max-height:16px;margin:0px;margin-right:7.5px;' src='data:image/svg+xml;base64,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' > </img>\nCreated in <span style='font-weight:600;margin-left:4px;'>Deepnote</span></a>",
   "metadata": {
    "tags": [],
    "created_in_deepnote_cell": true,
    "deepnote_cell_type": "markdown"
   }
  }
 ],
 "nbformat": 4,
 "nbformat_minor": 2,
 "metadata": {
  "orig_nbformat": 2,
  "deepnote": {
   "is_reactive": false
  },
  "deepnote_notebook_id": "ba9c1fcd-a521-488e-a01c-f4e730da289f",
  "deepnote_execution_queue": []
 }
}