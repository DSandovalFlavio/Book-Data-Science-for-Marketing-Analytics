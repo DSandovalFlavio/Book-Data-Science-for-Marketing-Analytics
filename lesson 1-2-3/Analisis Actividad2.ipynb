{
 "cells": [
  {
   "cell_type": "markdown",
   "source": "# Análisis de Anuncios",
   "metadata": {
    "tags": [],
    "is_collapsed": false,
    "cell_id": "00000-48154bd1-71f4-4f74-9923-79b060d000cf",
    "deepnote_cell_type": "text-cell-h1"
   }
  },
  {
   "cell_type": "code",
   "metadata": {
    "tags": [],
    "cell_id": "00000-643ad0af-fb7a-4643-b6e9-78d72c9d7292",
    "deepnote_to_be_reexecuted": false,
    "source_hash": "24b26b86",
    "execution_start": 1628017667835,
    "execution_millis": 1606,
    "deepnote_cell_type": "code"
   },
   "source": "import pandas as pd\nimport numpy as np\nimport matplotlib.pyplot as plt\nimport seaborn as sns",
   "execution_count": null,
   "outputs": []
  },
  {
   "cell_type": "code",
   "metadata": {
    "tags": [],
    "cell_id": "00002-29ca5676-4c8a-442b-8825-a2e8bca9b07e",
    "deepnote_to_be_reexecuted": false,
    "source_hash": "cc2532b0",
    "execution_start": 1628017669775,
    "execution_millis": 7,
    "deepnote_cell_type": "code"
   },
   "source": "df_anuncios = pd.read_csv('Advertising.csv')",
   "execution_count": null,
   "outputs": []
  },
  {
   "cell_type": "code",
   "metadata": {
    "tags": [],
    "cell_id": "00003-f687114c-5432-42bf-8712-94cb82e7df1c",
    "deepnote_to_be_reexecuted": false,
    "source_hash": "f31f5cf1",
    "execution_start": 1628017670728,
    "execution_millis": 37,
    "deepnote_cell_type": "code"
   },
   "source": "df_anuncios",
   "execution_count": null,
   "outputs": [
    {
     "output_type": "execute_result",
     "execution_count": 4,
     "data": {
      "application/vnd.deepnote.dataframe.v2+json": {
       "row_count": 200,
       "column_count": 5,
       "columns": [
        {
         "name": "Date",
         "dtype": "object",
         "stats": {
          "unique_count": 200,
          "nan_count": 0,
          "categories": [
           {
            "name": "2018-01-01",
            "count": 1
           },
           {
            "name": "2018-01-02",
            "count": 1
           },
           {
            "name": "198 others",
            "count": 198
           }
          ]
         }
        },
        {
         "name": "TV",
         "dtype": "float64",
         "stats": {
          "unique_count": 190,
          "nan_count": 0,
          "min": "700000.0",
          "max": "296400000.0",
          "histogram": [
           {
            "bin_start": 700000,
            "bin_end": 30270000,
            "count": 26
           },
           {
            "bin_start": 30270000,
            "bin_end": 59840000,
            "count": 15
           },
           {
            "bin_start": 59840000,
            "bin_end": 89410000,
            "count": 21
           },
           {
            "bin_start": 89410000,
            "bin_end": 118980000,
            "count": 18
           },
           {
            "bin_start": 118980000,
            "bin_end": 148550000,
            "count": 19
           },
           {
            "bin_start": 148550000,
            "bin_end": 178120000,
            "count": 17
           },
           {
            "bin_start": 178120000,
            "bin_end": 207690000,
            "count": 22
           },
           {
            "bin_start": 207690000,
            "bin_end": 237260000,
            "count": 26
           },
           {
            "bin_start": 237260000,
            "bin_end": 266830000,
            "count": 20
           },
           {
            "bin_start": 266830000,
            "bin_end": 296400000,
            "count": 16
           }
          ]
         }
        },
        {
         "name": "newspaper",
         "dtype": "float64",
         "stats": {
          "unique_count": 172,
          "nan_count": 0,
          "min": "300000.0",
          "max": "114000000.0",
          "histogram": [
           {
            "bin_start": 300000,
            "bin_end": 11670000,
            "count": 47
           },
           {
            "bin_start": 11670000,
            "bin_end": 23040000,
            "count": 41
           },
           {
            "bin_start": 23040000,
            "bin_end": 34410000,
            "count": 35
           },
           {
            "bin_start": 34410000,
            "bin_end": 45780000,
            "count": 30
           },
           {
            "bin_start": 45780000,
            "bin_end": 57150000,
            "count": 21
           },
           {
            "bin_start": 57150000,
            "bin_end": 68520000,
            "count": 13
           },
           {
            "bin_start": 68520000,
            "bin_end": 79890000,
            "count": 9
           },
           {
            "bin_start": 79890000,
            "bin_end": 91260000,
            "count": 2
           },
           {
            "bin_start": 91260000,
            "bin_end": 102630000,
            "count": 1
           },
           {
            "bin_start": 102630000,
            "bin_end": 114000000,
            "count": 1
           }
          ]
         }
        },
        {
         "name": "radio",
         "dtype": "float64",
         "stats": {
          "unique_count": 167,
          "nan_count": 0,
          "min": "0.0",
          "max": "49600000.0",
          "histogram": [
           {
            "bin_start": 0,
            "bin_end": 4960000,
            "count": 30
           },
           {
            "bin_start": 4960000,
            "bin_end": 9920000,
            "count": 20
           },
           {
            "bin_start": 9920000,
            "bin_end": 14880000,
            "count": 21
           },
           {
            "bin_start": 14880000,
            "bin_end": 19840000,
            "count": 17
           },
           {
            "bin_start": 19840000,
            "bin_end": 24800000,
            "count": 18
           },
           {
            "bin_start": 24800000,
            "bin_end": 29760000,
            "count": 23
           },
           {
            "bin_start": 29760000,
            "bin_end": 34720000,
            "count": 14
           },
           {
            "bin_start": 34720000,
            "bin_end": 39680000,
            "count": 21
           },
           {
            "bin_start": 39680000,
            "bin_end": 44640000,
            "count": 21
           },
           {
            "bin_start": 44640000,
            "bin_end": 49600000,
            "count": 15
           }
          ]
         }
        },
        {
         "name": "sales",
         "dtype": "float64",
         "stats": {
          "unique_count": 121,
          "nan_count": 0,
          "min": "1600000.0",
          "max": "27000000.0",
          "histogram": [
           {
            "bin_start": 1600000,
            "bin_end": 4140000,
            "count": 2
           },
           {
            "bin_start": 4140000,
            "bin_end": 6680000,
            "count": 9
           },
           {
            "bin_start": 6680000,
            "bin_end": 9220000,
            "count": 20
           },
           {
            "bin_start": 9220000,
            "bin_end": 11760000,
            "count": 47
           },
           {
            "bin_start": 11760000,
            "bin_end": 14300000,
            "count": 35
           },
           {
            "bin_start": 14300000,
            "bin_end": 16840000,
            "count": 29
           },
           {
            "bin_start": 16840000,
            "bin_end": 19380000,
            "count": 22
           },
           {
            "bin_start": 19380000,
            "bin_end": 21920000,
            "count": 17
           },
           {
            "bin_start": 21920000,
            "bin_end": 24460000,
            "count": 12
           },
           {
            "bin_start": 24460000,
            "bin_end": 27000000,
            "count": 7
           }
          ]
         }
        },
        {
         "name": "_deepnote_index_column",
         "dtype": "int64"
        }
       ],
       "rows_top": [
        {
         "Date": "2018-01-01",
         "TV": 230100000,
         "newspaper": 69200000,
         "radio": 37800000,
         "sales": 22100000,
         "_deepnote_index_column": 0
        },
        {
         "Date": "2018-01-02",
         "TV": 44500000,
         "newspaper": 45100000,
         "radio": 39300000,
         "sales": 10400000,
         "_deepnote_index_column": 1
        },
        {
         "Date": "2018-01-03",
         "TV": 17200000,
         "newspaper": 69300000,
         "radio": 45900000,
         "sales": 9300000,
         "_deepnote_index_column": 2
        },
        {
         "Date": "2018-01-04",
         "TV": 151500000,
         "newspaper": 58500000,
         "radio": 41300000,
         "sales": 18500000,
         "_deepnote_index_column": 3
        },
        {
         "Date": "2018-01-05",
         "TV": 180800000,
         "newspaper": 58400000,
         "radio": 10800000,
         "sales": 12900000,
         "_deepnote_index_column": 4
        },
        {
         "Date": "2018-01-06",
         "TV": 8700000,
         "newspaper": 75000000,
         "radio": 48900000,
         "sales": 7200000,
         "_deepnote_index_column": 5
        },
        {
         "Date": "2018-01-07",
         "TV": 57500000,
         "newspaper": 23500000,
         "radio": 32800000,
         "sales": 11800000,
         "_deepnote_index_column": 6
        },
        {
         "Date": "2018-01-08",
         "TV": 120200000,
         "newspaper": 11600000,
         "radio": 19600000,
         "sales": 13200000,
         "_deepnote_index_column": 7
        },
        {
         "Date": "2018-01-09",
         "TV": 8600000,
         "newspaper": 1000000,
         "radio": 2100000,
         "sales": 4800000,
         "_deepnote_index_column": 8
        },
        {
         "Date": "2018-01-10",
         "TV": 199800000,
         "newspaper": 21200000,
         "radio": 2600000,
         "sales": 10600000,
         "_deepnote_index_column": 9
        },
        {
         "Date": "2018-01-11",
         "TV": 66100000,
         "newspaper": 24200000,
         "radio": 5800000,
         "sales": 8600000,
         "_deepnote_index_column": 10
        },
        {
         "Date": "2018-01-12",
         "TV": 214700000,
         "newspaper": 4000000,
         "radio": 24000000,
         "sales": 17400000,
         "_deepnote_index_column": 11
        },
        {
         "Date": "2018-01-13",
         "TV": 23800000,
         "newspaper": 65900000,
         "radio": 35100000,
         "sales": 9200000,
         "_deepnote_index_column": 12
        },
        {
         "Date": "2018-01-14",
         "TV": 97500000,
         "newspaper": 7200000,
         "radio": 7600000,
         "sales": 9700000,
         "_deepnote_index_column": 13
        },
        {
         "Date": "2018-01-15",
         "TV": 204100000,
         "newspaper": 46000000,
         "radio": 32900000,
         "sales": 19000000,
         "_deepnote_index_column": 14
        },
        {
         "Date": "2018-01-16",
         "TV": 195400000,
         "newspaper": 52900000,
         "radio": 47700000,
         "sales": 22400000,
         "_deepnote_index_column": 15
        },
        {
         "Date": "2018-01-17",
         "TV": 67800000,
         "newspaper": 114000000,
         "radio": 36600000,
         "sales": 12500000,
         "_deepnote_index_column": 16
        },
        {
         "Date": "2018-01-18",
         "TV": 281400000,
         "newspaper": 55800000,
         "radio": 39600000,
         "sales": 24400000,
         "_deepnote_index_column": 17
        },
        {
         "Date": "2018-01-19",
         "TV": 69200000,
         "newspaper": 18300000,
         "radio": 20500000,
         "sales": 11300000,
         "_deepnote_index_column": 18
        },
        {
         "Date": "2018-01-20",
         "TV": 147300000,
         "newspaper": 19100000,
         "radio": 23900000,
         "sales": 14600000,
         "_deepnote_index_column": 19
        },
        {
         "Date": "2018-01-21",
         "TV": 218400000,
         "newspaper": 53400000,
         "radio": 27700000,
         "sales": 18000000,
         "_deepnote_index_column": 20
        },
        {
         "Date": "2018-01-22",
         "TV": 237400000,
         "newspaper": 23500000,
         "radio": 5100000,
         "sales": 12500000,
         "_deepnote_index_column": 21
        },
        {
         "Date": "2018-01-23",
         "TV": 13200000,
         "newspaper": 49600000,
         "radio": 15900000,
         "sales": 5600000,
         "_deepnote_index_column": 22
        },
        {
         "Date": "2018-01-24",
         "TV": 228300000,
         "newspaper": 26200000,
         "radio": 16900000,
         "sales": 15500000,
         "_deepnote_index_column": 23
        },
        {
         "Date": "2018-01-25",
         "TV": 62300000,
         "newspaper": 18300000,
         "radio": 12600000,
         "sales": 9700000,
         "_deepnote_index_column": 24
        },
        {
         "Date": "2018-01-26",
         "TV": 262900000,
         "newspaper": 19500000,
         "radio": 3500000,
         "sales": 12000000,
         "_deepnote_index_column": 25
        },
        {
         "Date": "2018-01-27",
         "TV": 142900000,
         "newspaper": 12600000,
         "radio": 29300000,
         "sales": 15000000,
         "_deepnote_index_column": 26
        },
        {
         "Date": "2018-01-28",
         "TV": 240100000,
         "newspaper": 22900000,
         "radio": 16700000,
         "sales": 15900000,
         "_deepnote_index_column": 27
        },
        {
         "Date": "2018-01-29",
         "TV": 248800000,
         "newspaper": 22900000,
         "radio": 27100000,
         "sales": 18900000,
         "_deepnote_index_column": 28
        },
        {
         "Date": "2018-01-30",
         "TV": 70600000,
         "newspaper": 40800000,
         "radio": 16000000,
         "sales": 10500000,
         "_deepnote_index_column": 29
        },
        {
         "Date": "2018-01-31",
         "TV": 292900000,
         "newspaper": 43200000,
         "radio": 28300000,
         "sales": 21400000,
         "_deepnote_index_column": 30
        },
        {
         "Date": "2018-02-01",
         "TV": 112900000,
         "newspaper": 38600000,
         "radio": 17400000,
         "sales": 11900000,
         "_deepnote_index_column": 31
        },
        {
         "Date": "2018-02-02",
         "TV": 97200000,
         "newspaper": 30000000,
         "radio": 1500000,
         "sales": 9600000,
         "_deepnote_index_column": 32
        },
        {
         "Date": "2018-02-03",
         "TV": 265600000,
         "newspaper": 300000,
         "radio": 20000000,
         "sales": 17400000,
         "_deepnote_index_column": 33
        },
        {
         "Date": "2018-02-04",
         "TV": 95700000,
         "newspaper": 7400000,
         "radio": 1400000,
         "sales": 9500000,
         "_deepnote_index_column": 34
        },
        {
         "Date": "2018-02-05",
         "TV": 290700000,
         "newspaper": 8500000,
         "radio": 4100000,
         "sales": 12800000,
         "_deepnote_index_column": 35
        },
        {
         "Date": "2018-02-06",
         "TV": 266900000,
         "newspaper": 5000000,
         "radio": 43800000,
         "sales": 25400000,
         "_deepnote_index_column": 36
        },
        {
         "Date": "2018-02-07",
         "TV": 74700000,
         "newspaper": 45700000,
         "radio": 49400000,
         "sales": 14700000,
         "_deepnote_index_column": 37
        },
        {
         "Date": "2018-02-08",
         "TV": 43100000,
         "newspaper": 35100000,
         "radio": 26700000,
         "sales": 10100000,
         "_deepnote_index_column": 38
        },
        {
         "Date": "2018-02-09",
         "TV": 228000000,
         "newspaper": 32000000,
         "radio": 37700000,
         "sales": 21500000,
         "_deepnote_index_column": 39
        },
        {
         "Date": "2018-02-10",
         "TV": 202500000,
         "newspaper": 31600000,
         "radio": 22300000,
         "sales": 16600000,
         "_deepnote_index_column": 40
        },
        {
         "Date": "2018-02-11",
         "TV": 177000000,
         "newspaper": 38700000,
         "radio": 33400000,
         "sales": 17100000,
         "_deepnote_index_column": 41
        },
        {
         "Date": "2018-02-12",
         "TV": 293600000,
         "newspaper": 1800000,
         "radio": 27700000,
         "sales": 20700000,
         "_deepnote_index_column": 42
        },
        {
         "Date": "2018-02-13",
         "TV": 206900000,
         "newspaper": 26400000,
         "radio": 8400000,
         "sales": 12900000,
         "_deepnote_index_column": 43
        },
        {
         "Date": "2018-02-14",
         "TV": 25100000,
         "newspaper": 43300000,
         "radio": 25700000,
         "sales": 8500000,
         "_deepnote_index_column": 44
        },
        {
         "Date": "2018-02-15",
         "TV": 175100000,
         "newspaper": 31500000,
         "radio": 22500000,
         "sales": 14900000,
         "_deepnote_index_column": 45
        },
        {
         "Date": "2018-02-16",
         "TV": 89700000,
         "newspaper": 35700000,
         "radio": 9900000,
         "sales": 10600000,
         "_deepnote_index_column": 46
        },
        {
         "Date": "2018-02-17",
         "TV": 239900000,
         "newspaper": 18500000,
         "radio": 41500000,
         "sales": 23200000,
         "_deepnote_index_column": 47
        },
        {
         "Date": "2018-02-18",
         "TV": 227200000,
         "newspaper": 49900000,
         "radio": 15800000,
         "sales": 14800000,
         "_deepnote_index_column": 48
        },
        {
         "Date": "2018-02-19",
         "TV": 66900000,
         "newspaper": 36800000,
         "radio": 11700000,
         "sales": 9700000,
         "_deepnote_index_column": 49
        },
        {
         "Date": "2018-02-20",
         "TV": 199800000,
         "newspaper": 34600000,
         "radio": 3100000,
         "sales": 11400000,
         "_deepnote_index_column": 50
        },
        {
         "Date": "2018-02-21",
         "TV": 100400000,
         "newspaper": 3600000,
         "radio": 9600000,
         "sales": 10700000,
         "_deepnote_index_column": 51
        },
        {
         "Date": "2018-02-22",
         "TV": 216400000,
         "newspaper": 39600000,
         "radio": 41700000,
         "sales": 22600000,
         "_deepnote_index_column": 52
        },
        {
         "Date": "2018-02-23",
         "TV": 182600000,
         "newspaper": 58700000,
         "radio": 46200000,
         "sales": 21200000,
         "_deepnote_index_column": 53
        },
        {
         "Date": "2018-02-24",
         "TV": 262700000,
         "newspaper": 15900000,
         "radio": 28800000,
         "sales": 20200000,
         "_deepnote_index_column": 54
        },
        {
         "Date": "2018-02-25",
         "TV": 198900000,
         "newspaper": 60000000,
         "radio": 49400000,
         "sales": 23700000,
         "_deepnote_index_column": 55
        },
        {
         "Date": "2018-02-26",
         "TV": 7300000,
         "newspaper": 41400000,
         "radio": 28100000,
         "sales": 5500000,
         "_deepnote_index_column": 56
        },
        {
         "Date": "2018-02-27",
         "TV": 136200000,
         "newspaper": 16600000,
         "radio": 19200000,
         "sales": 13200000,
         "_deepnote_index_column": 57
        },
        {
         "Date": "2018-02-28",
         "TV": 210800000,
         "newspaper": 37700000,
         "radio": 49600000,
         "sales": 23800000,
         "_deepnote_index_column": 58
        },
        {
         "Date": "2018-03-01",
         "TV": 210700000,
         "newspaper": 9300000,
         "radio": 29500000,
         "sales": 18400000,
         "_deepnote_index_column": 59
        },
        {
         "Date": "2018-03-02",
         "TV": 53500000,
         "newspaper": 21400000,
         "radio": 2000000,
         "sales": 8100000,
         "_deepnote_index_column": 60
        },
        {
         "Date": "2018-03-03",
         "TV": 261300000,
         "newspaper": 54700000,
         "radio": 42700000,
         "sales": 24200000,
         "_deepnote_index_column": 61
        },
        {
         "Date": "2018-03-04",
         "TV": 239300000,
         "newspaper": 27300000,
         "radio": 15500000,
         "sales": 15700000,
         "_deepnote_index_column": 62
        },
        {
         "Date": "2018-03-05",
         "TV": 102700000,
         "newspaper": 8400000,
         "radio": 29600000,
         "sales": 14000000,
         "_deepnote_index_column": 63
        },
        {
         "Date": "2018-03-06",
         "TV": 131100000,
         "newspaper": 28900000,
         "radio": 42800000,
         "sales": 18000000,
         "_deepnote_index_column": 64
        },
        {
         "Date": "2018-03-07",
         "TV": 69000000,
         "newspaper": 900000,
         "radio": 9300000,
         "sales": 9300000,
         "_deepnote_index_column": 65
        },
        {
         "Date": "2018-03-08",
         "TV": 31500000,
         "newspaper": 2200000,
         "radio": 24600000,
         "sales": 9500000,
         "_deepnote_index_column": 66
        },
        {
         "Date": "2018-03-09",
         "TV": 139300000,
         "newspaper": 10200000,
         "radio": 14500000,
         "sales": 13400000,
         "_deepnote_index_column": 67
        },
        {
         "Date": "2018-03-10",
         "TV": 237400000,
         "newspaper": 11000000,
         "radio": 27500000,
         "sales": 18900000,
         "_deepnote_index_column": 68
        },
        {
         "Date": "2018-03-11",
         "TV": 216800000,
         "newspaper": 27200000,
         "radio": 43900000,
         "sales": 22300000,
         "_deepnote_index_column": 69
        },
        {
         "Date": "2018-03-12",
         "TV": 199100000,
         "newspaper": 38700000,
         "radio": 30600000,
         "sales": 18300000,
         "_deepnote_index_column": 70
        },
        {
         "Date": "2018-03-13",
         "TV": 109800000,
         "newspaper": 31700000,
         "radio": 14300000,
         "sales": 12400000,
         "_deepnote_index_column": 71
        },
        {
         "Date": "2018-03-14",
         "TV": 26800000,
         "newspaper": 19300000,
         "radio": 33000000,
         "sales": 8800000,
         "_deepnote_index_column": 72
        },
        {
         "Date": "2018-03-15",
         "TV": 129400000,
         "newspaper": 31300000,
         "radio": 5700000,
         "sales": 11000000,
         "_deepnote_index_column": 73
        },
        {
         "Date": "2018-03-16",
         "TV": 213400000,
         "newspaper": 13100000,
         "radio": 24600000,
         "sales": 17000000,
         "_deepnote_index_column": 74
        },
        {
         "Date": "2018-03-17",
         "TV": 16900000,
         "newspaper": 89400000,
         "radio": 43700000,
         "sales": 8700000,
         "_deepnote_index_column": 75
        },
        {
         "Date": "2018-03-18",
         "TV": 27500000,
         "newspaper": 20700000,
         "radio": 1600000,
         "sales": 6900000,
         "_deepnote_index_column": 76
        },
        {
         "Date": "2018-03-19",
         "TV": 120500000,
         "newspaper": 14200000,
         "radio": 28500000,
         "sales": 14200000,
         "_deepnote_index_column": 77
        },
        {
         "Date": "2018-03-20",
         "TV": 5400000,
         "newspaper": 9400000,
         "radio": 29900000,
         "sales": 5300000,
         "_deepnote_index_column": 78
        },
        {
         "Date": "2018-03-21",
         "TV": 116000000,
         "newspaper": 23100000,
         "radio": 7700000,
         "sales": 11000000,
         "_deepnote_index_column": 79
        },
        {
         "Date": "2018-03-22",
         "TV": 76400000,
         "newspaper": 22300000,
         "radio": 26700000,
         "sales": 11800000,
         "_deepnote_index_column": 80
        },
        {
         "Date": "2018-03-23",
         "TV": 239800000,
         "newspaper": 36900000,
         "radio": 4100000,
         "sales": 12300000,
         "_deepnote_index_column": 81
        },
        {
         "Date": "2018-03-24",
         "TV": 75300000,
         "newspaper": 32500000,
         "radio": 20300000,
         "sales": 11300000,
         "_deepnote_index_column": 82
        },
        {
         "Date": "2018-03-25",
         "TV": 68400000,
         "newspaper": 35600000,
         "radio": 44500000,
         "sales": 13600000,
         "_deepnote_index_column": 83
        },
        {
         "Date": "2018-03-26",
         "TV": 213500000,
         "newspaper": 33800000,
         "radio": 43000000,
         "sales": 21700000,
         "_deepnote_index_column": 84
        },
        {
         "Date": "2018-03-27",
         "TV": 193200000,
         "newspaper": 65700000,
         "radio": 18400000,
         "sales": 15200000,
         "_deepnote_index_column": 85
        },
        {
         "Date": "2018-03-28",
         "TV": 76300000,
         "newspaper": 16000000,
         "radio": 27500000,
         "sales": 12000000,
         "_deepnote_index_column": 86
        },
        {
         "Date": "2018-03-29",
         "TV": 110700000,
         "newspaper": 63200000,
         "radio": 40600000,
         "sales": 16000000,
         "_deepnote_index_column": 87
        },
        {
         "Date": "2018-03-30",
         "TV": 88300000,
         "newspaper": 73400000,
         "radio": 25500000,
         "sales": 12900000,
         "_deepnote_index_column": 88
        },
        {
         "Date": "2018-03-31",
         "TV": 109800000,
         "newspaper": 51400000,
         "radio": 47800000,
         "sales": 16700000,
         "_deepnote_index_column": 89
        },
        {
         "Date": "2018-04-01",
         "TV": 134300000,
         "newspaper": 9300000,
         "radio": 4900000,
         "sales": 11200000,
         "_deepnote_index_column": 90
        },
        {
         "Date": "2018-04-02",
         "TV": 28600000,
         "newspaper": 33000000,
         "radio": 1500000,
         "sales": 7300000,
         "_deepnote_index_column": 91
        },
        {
         "Date": "2018-04-03",
         "TV": 217700000,
         "newspaper": 59000000,
         "radio": 33500000,
         "sales": 19400000,
         "_deepnote_index_column": 92
        },
        {
         "Date": "2018-04-04",
         "TV": 250900000,
         "newspaper": 72300000,
         "radio": 36500000,
         "sales": 22200000,
         "_deepnote_index_column": 93
        },
        {
         "Date": "2018-04-05",
         "TV": 107400000,
         "newspaper": 10900000,
         "radio": 14000000,
         "sales": 11500000,
         "_deepnote_index_column": 94
        },
        {
         "Date": "2018-04-06",
         "TV": 163300000,
         "newspaper": 52900000,
         "radio": 31600000,
         "sales": 16900000,
         "_deepnote_index_column": 95
        },
        {
         "Date": "2018-04-07",
         "TV": 197600000,
         "newspaper": 5900000,
         "radio": 3500000,
         "sales": 11700000,
         "_deepnote_index_column": 96
        },
        {
         "Date": "2018-04-08",
         "TV": 184900000,
         "newspaper": 22000000,
         "radio": 21000000,
         "sales": 15500000,
         "_deepnote_index_column": 97
        },
        {
         "Date": "2018-04-09",
         "TV": 289700000,
         "newspaper": 51200000,
         "radio": 42300000,
         "sales": 25400000,
         "_deepnote_index_column": 98
        },
        {
         "Date": "2018-04-10",
         "TV": 135200000,
         "newspaper": 45900000,
         "radio": 41700000,
         "sales": 17200000,
         "_deepnote_index_column": 99
        },
        {
         "Date": "2018-04-11",
         "TV": 222400000,
         "newspaper": 49800000,
         "radio": 4300000,
         "sales": 11700000,
         "_deepnote_index_column": 100
        },
        {
         "Date": "2018-04-12",
         "TV": 296400000,
         "newspaper": 100900000,
         "radio": 36300000,
         "sales": 23800000,
         "_deepnote_index_column": 101
        },
        {
         "Date": "2018-04-13",
         "TV": 280200000,
         "newspaper": 21400000,
         "radio": 10100000,
         "sales": 14800000,
         "_deepnote_index_column": 102
        },
        {
         "Date": "2018-04-14",
         "TV": 187900000,
         "newspaper": 17900000,
         "radio": 17200000,
         "sales": 14700000,
         "_deepnote_index_column": 103
        },
        {
         "Date": "2018-04-15",
         "TV": 238200000,
         "newspaper": 5300000,
         "radio": 34300000,
         "sales": 20700000,
         "_deepnote_index_column": 104
        },
        {
         "Date": "2018-04-16",
         "TV": 137900000,
         "newspaper": 59000000,
         "radio": 46400000,
         "sales": 19200000,
         "_deepnote_index_column": 105
        },
        {
         "Date": "2018-04-17",
         "TV": 25000000,
         "newspaper": 29700000,
         "radio": 11000000,
         "sales": 7200000,
         "_deepnote_index_column": 106
        },
        {
         "Date": "2018-04-18",
         "TV": 90400000,
         "newspaper": 23200000,
         "radio": 300000,
         "sales": 8700000,
         "_deepnote_index_column": 107
        },
        {
         "Date": "2018-04-19",
         "TV": 13100000,
         "newspaper": 25600000,
         "radio": 400000,
         "sales": 5300000,
         "_deepnote_index_column": 108
        },
        {
         "Date": "2018-04-20",
         "TV": 255400000,
         "newspaper": 5500000,
         "radio": 26900000,
         "sales": 19800000,
         "_deepnote_index_column": 109
        },
        {
         "Date": "2018-04-21",
         "TV": 225800000,
         "newspaper": 56500000,
         "radio": 8200000,
         "sales": 13400000,
         "_deepnote_index_column": 110
        },
        {
         "Date": "2018-04-22",
         "TV": 241700000,
         "newspaper": 23200000,
         "radio": 38000000,
         "sales": 21800000,
         "_deepnote_index_column": 111
        },
        {
         "Date": "2018-04-23",
         "TV": 175700000,
         "newspaper": 2400000,
         "radio": 15400000,
         "sales": 14100000,
         "_deepnote_index_column": 112
        },
        {
         "Date": "2018-04-24",
         "TV": 209600000,
         "newspaper": 10700000,
         "radio": 20600000,
         "sales": 15900000,
         "_deepnote_index_column": 113
        },
        {
         "Date": "2018-04-25",
         "TV": 78200000,
         "newspaper": 34500000,
         "radio": 46800000,
         "sales": 14600000,
         "_deepnote_index_column": 114
        },
        {
         "Date": "2018-04-26",
         "TV": 75100000,
         "newspaper": 52700000,
         "radio": 35000000,
         "sales": 12600000,
         "_deepnote_index_column": 115
        },
        {
         "Date": "2018-04-27",
         "TV": 139200000,
         "newspaper": 25600000,
         "radio": 14300000,
         "sales": 12200000,
         "_deepnote_index_column": 116
        },
        {
         "Date": "2018-04-28",
         "TV": 76400000,
         "newspaper": 14800000,
         "radio": 800000,
         "sales": 9400000,
         "_deepnote_index_column": 117
        },
        {
         "Date": "2018-04-29",
         "TV": 125700000,
         "newspaper": 79200000,
         "radio": 36900000,
         "sales": 15900000,
         "_deepnote_index_column": 118
        },
        {
         "Date": "2018-04-30",
         "TV": 19400000,
         "newspaper": 22300000,
         "radio": 16000000,
         "sales": 6600000,
         "_deepnote_index_column": 119
        },
        {
         "Date": "2018-05-01",
         "TV": 141300000,
         "newspaper": 46200000,
         "radio": 26800000,
         "sales": 15500000,
         "_deepnote_index_column": 120
        },
        {
         "Date": "2018-05-02",
         "TV": 18800000,
         "newspaper": 50400000,
         "radio": 21700000,
         "sales": 7000000,
         "_deepnote_index_column": 121
        },
        {
         "Date": "2018-05-03",
         "TV": 224000000,
         "newspaper": 15600000,
         "radio": 2400000,
         "sales": 11600000,
         "_deepnote_index_column": 122
        },
        {
         "Date": "2018-05-04",
         "TV": 123100000,
         "newspaper": 12400000,
         "radio": 34600000,
         "sales": 15200000,
         "_deepnote_index_column": 123
        },
        {
         "Date": "2018-05-05",
         "TV": 229500000,
         "newspaper": 74200000,
         "radio": 32300000,
         "sales": 19700000,
         "_deepnote_index_column": 124
        },
        {
         "Date": "2018-05-06",
         "TV": 87200000,
         "newspaper": 25900000,
         "radio": 11800000,
         "sales": 10600000,
         "_deepnote_index_column": 125
        },
        {
         "Date": "2018-05-07",
         "TV": 7800000,
         "newspaper": 50600000,
         "radio": 38900000,
         "sales": 6600000,
         "_deepnote_index_column": 126
        },
        {
         "Date": "2018-05-08",
         "TV": 80200000,
         "newspaper": 9200000,
         "radio": 0,
         "sales": 8800000,
         "_deepnote_index_column": 127
        },
        {
         "Date": "2018-05-09",
         "TV": 220300000,
         "newspaper": 3200000,
         "radio": 49000000,
         "sales": 24700000,
         "_deepnote_index_column": 128
        },
        {
         "Date": "2018-05-10",
         "TV": 59600000,
         "newspaper": 43100000,
         "radio": 12000000,
         "sales": 9700000,
         "_deepnote_index_column": 129
        },
        {
         "Date": "2018-05-11",
         "TV": 700000,
         "newspaper": 8700000,
         "radio": 39600000,
         "sales": 1600000,
         "_deepnote_index_column": 130
        },
        {
         "Date": "2018-05-12",
         "TV": 265200000,
         "newspaper": 43000000,
         "radio": 2900000,
         "sales": 12700000,
         "_deepnote_index_column": 131
        },
        {
         "Date": "2018-05-13",
         "TV": 8400000,
         "newspaper": 2100000,
         "radio": 27200000,
         "sales": 5700000,
         "_deepnote_index_column": 132
        },
        {
         "Date": "2018-05-14",
         "TV": 219800000,
         "newspaper": 45100000,
         "radio": 33500000,
         "sales": 19600000,
         "_deepnote_index_column": 133
        },
        {
         "Date": "2018-05-15",
         "TV": 36900000,
         "newspaper": 65600000,
         "radio": 38600000,
         "sales": 10800000,
         "_deepnote_index_column": 134
        },
        {
         "Date": "2018-05-16",
         "TV": 48300000,
         "newspaper": 8500000,
         "radio": 47000000,
         "sales": 11600000,
         "_deepnote_index_column": 135
        },
        {
         "Date": "2018-05-17",
         "TV": 25600000,
         "newspaper": 9300000,
         "radio": 39000000,
         "sales": 9500000,
         "_deepnote_index_column": 136
        },
        {
         "Date": "2018-05-18",
         "TV": 273700000,
         "newspaper": 59700000,
         "radio": 28900000,
         "sales": 20800000,
         "_deepnote_index_column": 137
        },
        {
         "Date": "2018-05-19",
         "TV": 43000000,
         "newspaper": 20500000,
         "radio": 25900000,
         "sales": 9600000,
         "_deepnote_index_column": 138
        },
        {
         "Date": "2018-05-20",
         "TV": 184900000,
         "newspaper": 1700000,
         "radio": 43900000,
         "sales": 20700000,
         "_deepnote_index_column": 139
        },
        {
         "Date": "2018-05-21",
         "TV": 73400000,
         "newspaper": 12900000,
         "radio": 17000000,
         "sales": 10900000,
         "_deepnote_index_column": 140
        },
        {
         "Date": "2018-05-22",
         "TV": 193700000,
         "newspaper": 75600000,
         "radio": 35400000,
         "sales": 19200000,
         "_deepnote_index_column": 141
        },
        {
         "Date": "2018-05-23",
         "TV": 220500000,
         "newspaper": 37900000,
         "radio": 33200000,
         "sales": 20100000,
         "_deepnote_index_column": 142
        },
        {
         "Date": "2018-05-24",
         "TV": 104600000,
         "newspaper": 34400000,
         "radio": 5700000,
         "sales": 10400000,
         "_deepnote_index_column": 143
        },
        {
         "Date": "2018-05-25",
         "TV": 96200000,
         "newspaper": 38900000,
         "radio": 14800000,
         "sales": 11400000,
         "_deepnote_index_column": 144
        },
        {
         "Date": "2018-05-26",
         "TV": 140300000,
         "newspaper": 9000000,
         "radio": 1900000,
         "sales": 10300000,
         "_deepnote_index_column": 145
        },
        {
         "Date": "2018-05-27",
         "TV": 240100000,
         "newspaper": 8700000,
         "radio": 7300000,
         "sales": 13200000,
         "_deepnote_index_column": 146
        },
        {
         "Date": "2018-05-28",
         "TV": 243200000,
         "newspaper": 44300000,
         "radio": 49000000,
         "sales": 25400000,
         "_deepnote_index_column": 147
        },
        {
         "Date": "2018-05-29",
         "TV": 38000000,
         "newspaper": 11900000,
         "radio": 40300000,
         "sales": 10900000,
         "_deepnote_index_column": 148
        },
        {
         "Date": "2018-05-30",
         "TV": 44700000,
         "newspaper": 20600000,
         "radio": 25800000,
         "sales": 10100000,
         "_deepnote_index_column": 149
        },
        {
         "Date": "2018-05-31",
         "TV": 280700000,
         "newspaper": 37000000,
         "radio": 13900000,
         "sales": 16100000.000000002,
         "_deepnote_index_column": 150
        },
        {
         "Date": "2018-06-01",
         "TV": 121000000,
         "newspaper": 48700000,
         "radio": 8400000,
         "sales": 11600000,
         "_deepnote_index_column": 151
        },
        {
         "Date": "2018-06-02",
         "TV": 197600000,
         "newspaper": 14200000,
         "radio": 23300000,
         "sales": 16600000,
         "_deepnote_index_column": 152
        },
        {
         "Date": "2018-06-03",
         "TV": 171300000,
         "newspaper": 37700000,
         "radio": 39700000,
         "sales": 19000000,
         "_deepnote_index_column": 153
        },
        {
         "Date": "2018-06-04",
         "TV": 187800000,
         "newspaper": 9500000,
         "radio": 21100000,
         "sales": 15600000,
         "_deepnote_index_column": 154
        },
        {
         "Date": "2018-06-05",
         "TV": 4100000,
         "newspaper": 5700000,
         "radio": 11600000,
         "sales": 3200000,
         "_deepnote_index_column": 155
        },
        {
         "Date": "2018-06-06",
         "TV": 93900000,
         "newspaper": 50500000,
         "radio": 43500000,
         "sales": 15300000,
         "_deepnote_index_column": 156
        },
        {
         "Date": "2018-06-07",
         "TV": 149800000,
         "newspaper": 24300000,
         "radio": 1300000,
         "sales": 10100000,
         "_deepnote_index_column": 157
        },
        {
         "Date": "2018-06-08",
         "TV": 11700000,
         "newspaper": 45200000,
         "radio": 36900000,
         "sales": 7300000,
         "_deepnote_index_column": 158
        },
        {
         "Date": "2018-06-09",
         "TV": 131700000,
         "newspaper": 34600000,
         "radio": 18400000,
         "sales": 12900000,
         "_deepnote_index_column": 159
        },
        {
         "Date": "2018-06-10",
         "TV": 172500000,
         "newspaper": 30700000,
         "radio": 18100000,
         "sales": 14400000,
         "_deepnote_index_column": 160
        },
        {
         "Date": "2018-06-11",
         "TV": 85700000,
         "newspaper": 49300000,
         "radio": 35800000,
         "sales": 13300000,
         "_deepnote_index_column": 161
        },
        {
         "Date": "2018-06-12",
         "TV": 188400000,
         "newspaper": 25600000,
         "radio": 18100000,
         "sales": 14900000,
         "_deepnote_index_column": 162
        },
        {
         "Date": "2018-06-13",
         "TV": 163500000,
         "newspaper": 7400000,
         "radio": 36800000,
         "sales": 18000000,
         "_deepnote_index_column": 163
        },
        {
         "Date": "2018-06-14",
         "TV": 117200000,
         "newspaper": 5400000,
         "radio": 14700000,
         "sales": 11900000,
         "_deepnote_index_column": 164
        },
        {
         "Date": "2018-06-15",
         "TV": 234500000,
         "newspaper": 84800000,
         "radio": 3400000,
         "sales": 11900000,
         "_deepnote_index_column": 165
        },
        {
         "Date": "2018-06-16",
         "TV": 17900000,
         "newspaper": 21600000,
         "radio": 37600000,
         "sales": 8000000,
         "_deepnote_index_column": 166
        },
        {
         "Date": "2018-06-17",
         "TV": 206800000,
         "newspaper": 19400000,
         "radio": 5200000,
         "sales": 12200000,
         "_deepnote_index_column": 167
        },
        {
         "Date": "2018-06-18",
         "TV": 215400000,
         "newspaper": 57600000,
         "radio": 23600000,
         "sales": 17100000,
         "_deepnote_index_column": 168
        },
        {
         "Date": "2018-06-19",
         "TV": 284300000,
         "newspaper": 6400000,
         "radio": 10600000,
         "sales": 15000000,
         "_deepnote_index_column": 169
        },
        {
         "Date": "2018-06-20",
         "TV": 50000000,
         "newspaper": 18400000,
         "radio": 11600000,
         "sales": 8400000,
         "_deepnote_index_column": 170
        },
        {
         "Date": "2018-06-21",
         "TV": 164500000,
         "newspaper": 47400000,
         "radio": 20900000,
         "sales": 14500000,
         "_deepnote_index_column": 171
        },
        {
         "Date": "2018-06-22",
         "TV": 19600000,
         "newspaper": 17000000,
         "radio": 20100000,
         "sales": 7600000,
         "_deepnote_index_column": 172
        },
        {
         "Date": "2018-06-23",
         "TV": 168400000,
         "newspaper": 12800000,
         "radio": 7100000,
         "sales": 11700000,
         "_deepnote_index_column": 173
        },
        {
         "Date": "2018-06-24",
         "TV": 222400000,
         "newspaper": 13100000,
         "radio": 3400000,
         "sales": 11500000,
         "_deepnote_index_column": 174
        },
        {
         "Date": "2018-06-25",
         "TV": 276900000,
         "newspaper": 41800000,
         "radio": 48900000,
         "sales": 27000000,
         "_deepnote_index_column": 175
        },
        {
         "Date": "2018-06-26",
         "TV": 248400000,
         "newspaper": 20300000,
         "radio": 30200000,
         "sales": 20200000,
         "_deepnote_index_column": 176
        },
        {
         "Date": "2018-06-27",
         "TV": 170200000,
         "newspaper": 35200000,
         "radio": 7800000,
         "sales": 11700000,
         "_deepnote_index_column": 177
        },
        {
         "Date": "2018-06-28",
         "TV": 276700000,
         "newspaper": 23700000,
         "radio": 2300000,
         "sales": 11800000,
         "_deepnote_index_column": 178
        },
        {
         "Date": "2018-06-29",
         "TV": 165600000,
         "newspaper": 17600000,
         "radio": 10000000,
         "sales": 12600000,
         "_deepnote_index_column": 179
        },
        {
         "Date": "2018-06-30",
         "TV": 156600000,
         "newspaper": 8300000,
         "radio": 2600000,
         "sales": 10500000,
         "_deepnote_index_column": 180
        },
        {
         "Date": "2018-07-01",
         "TV": 218500000,
         "newspaper": 27400000,
         "radio": 5400000,
         "sales": 12200000,
         "_deepnote_index_column": 181
        },
        {
         "Date": "2018-07-02",
         "TV": 56200000,
         "newspaper": 29700000,
         "radio": 5700000,
         "sales": 8700000,
         "_deepnote_index_column": 182
        },
        {
         "Date": "2018-07-03",
         "TV": 287600000,
         "newspaper": 71800000,
         "radio": 43000000,
         "sales": 26200000,
         "_deepnote_index_column": 183
        },
        {
         "Date": "2018-07-04",
         "TV": 253800000,
         "newspaper": 30000000,
         "radio": 21300000,
         "sales": 17600000,
         "_deepnote_index_column": 184
        },
        {
         "Date": "2018-07-05",
         "TV": 205000000,
         "newspaper": 19600000,
         "radio": 45100000,
         "sales": 22600000,
         "_deepnote_index_column": 185
        },
        {
         "Date": "2018-07-06",
         "TV": 139500000,
         "newspaper": 26600000,
         "radio": 2100000,
         "sales": 10300000,
         "_deepnote_index_column": 186
        },
        {
         "Date": "2018-07-07",
         "TV": 191100000,
         "newspaper": 18200000,
         "radio": 28700000,
         "sales": 17300000,
         "_deepnote_index_column": 187
        },
        {
         "Date": "2018-07-08",
         "TV": 286000000,
         "newspaper": 3700000,
         "radio": 13900000,
         "sales": 15900000,
         "_deepnote_index_column": 188
        },
        {
         "Date": "2018-07-09",
         "TV": 18700000,
         "newspaper": 23400000,
         "radio": 12100000,
         "sales": 6700000,
         "_deepnote_index_column": 189
        },
        {
         "Date": "2018-07-10",
         "TV": 39500000,
         "newspaper": 5800000,
         "radio": 41100000,
         "sales": 10800000,
         "_deepnote_index_column": 190
        },
        {
         "Date": "2018-07-11",
         "TV": 75500000,
         "newspaper": 6000000,
         "radio": 10800000,
         "sales": 9900000,
         "_deepnote_index_column": 191
        },
        {
         "Date": "2018-07-12",
         "TV": 17200000,
         "newspaper": 31600000,
         "radio": 4100000,
         "sales": 5900000,
         "_deepnote_index_column": 192
        },
        {
         "Date": "2018-07-13",
         "TV": 166800000,
         "newspaper": 3600000,
         "radio": 42000000,
         "sales": 19600000,
         "_deepnote_index_column": 193
        },
        {
         "Date": "2018-07-14",
         "TV": 149700000,
         "newspaper": 6000000,
         "radio": 35600000,
         "sales": 17300000,
         "_deepnote_index_column": 194
        },
        {
         "Date": "2018-07-15",
         "TV": 38200000,
         "newspaper": 13800000,
         "radio": 3700000,
         "sales": 7600000,
         "_deepnote_index_column": 195
        },
        {
         "Date": "2018-07-16",
         "TV": 94200000,
         "newspaper": 8100000,
         "radio": 4900000,
         "sales": 9700000,
         "_deepnote_index_column": 196
        },
        {
         "Date": "2018-07-17",
         "TV": 177000000,
         "newspaper": 6400000,
         "radio": 9300000,
         "sales": 12800000,
         "_deepnote_index_column": 197
        },
        {
         "Date": "2018-07-18",
         "TV": 283600000,
         "newspaper": 66200000,
         "radio": 42000000,
         "sales": 25500000,
         "_deepnote_index_column": 198
        },
        {
         "Date": "2018-07-19",
         "TV": 232100000,
         "newspaper": 8700000,
         "radio": 8600000,
         "sales": 13400000,
         "_deepnote_index_column": 199
        }
       ],
       "rows_bottom": null
      },
      "text/plain": "           Date           TV   newspaper       radio       sales\n0    2018-01-01  230100000.0  69200000.0  37800000.0  22100000.0\n1    2018-01-02   44500000.0  45100000.0  39300000.0  10400000.0\n2    2018-01-03   17200000.0  69300000.0  45900000.0   9300000.0\n3    2018-01-04  151500000.0  58500000.0  41300000.0  18500000.0\n4    2018-01-05  180800000.0  58400000.0  10800000.0  12900000.0\n..          ...          ...         ...         ...         ...\n195  2018-07-15   38200000.0  13800000.0   3700000.0   7600000.0\n196  2018-07-16   94200000.0   8100000.0   4900000.0   9700000.0\n197  2018-07-17  177000000.0   6400000.0   9300000.0  12800000.0\n198  2018-07-18  283600000.0  66200000.0  42000000.0  25500000.0\n199  2018-07-19  232100000.0   8700000.0   8600000.0  13400000.0\n\n[200 rows x 5 columns]",
      "text/html": "<div>\n<style scoped>\n    .dataframe tbody tr th:only-of-type {\n        vertical-align: middle;\n    }\n\n    .dataframe tbody tr th {\n        vertical-align: top;\n    }\n\n    .dataframe thead th {\n        text-align: right;\n    }\n</style>\n<table border=\"1\" class=\"dataframe\">\n  <thead>\n    <tr style=\"text-align: right;\">\n      <th></th>\n      <th>Date</th>\n      <th>TV</th>\n      <th>newspaper</th>\n      <th>radio</th>\n      <th>sales</th>\n    </tr>\n  </thead>\n  <tbody>\n    <tr>\n      <th>0</th>\n      <td>2018-01-01</td>\n      <td>230100000.0</td>\n      <td>69200000.0</td>\n      <td>37800000.0</td>\n      <td>22100000.0</td>\n    </tr>\n    <tr>\n      <th>1</th>\n      <td>2018-01-02</td>\n      <td>44500000.0</td>\n      <td>45100000.0</td>\n      <td>39300000.0</td>\n      <td>10400000.0</td>\n    </tr>\n    <tr>\n      <th>2</th>\n      <td>2018-01-03</td>\n      <td>17200000.0</td>\n      <td>69300000.0</td>\n      <td>45900000.0</td>\n      <td>9300000.0</td>\n    </tr>\n    <tr>\n      <th>3</th>\n      <td>2018-01-04</td>\n      <td>151500000.0</td>\n      <td>58500000.0</td>\n      <td>41300000.0</td>\n      <td>18500000.0</td>\n    </tr>\n    <tr>\n      <th>4</th>\n      <td>2018-01-05</td>\n      <td>180800000.0</td>\n      <td>58400000.0</td>\n      <td>10800000.0</td>\n      <td>12900000.0</td>\n    </tr>\n    <tr>\n      <th>...</th>\n      <td>...</td>\n      <td>...</td>\n      <td>...</td>\n      <td>...</td>\n      <td>...</td>\n    </tr>\n    <tr>\n      <th>195</th>\n      <td>2018-07-15</td>\n      <td>38200000.0</td>\n      <td>13800000.0</td>\n      <td>3700000.0</td>\n      <td>7600000.0</td>\n    </tr>\n    <tr>\n      <th>196</th>\n      <td>2018-07-16</td>\n      <td>94200000.0</td>\n      <td>8100000.0</td>\n      <td>4900000.0</td>\n      <td>9700000.0</td>\n    </tr>\n    <tr>\n      <th>197</th>\n      <td>2018-07-17</td>\n      <td>177000000.0</td>\n      <td>6400000.0</td>\n      <td>9300000.0</td>\n      <td>12800000.0</td>\n    </tr>\n    <tr>\n      <th>198</th>\n      <td>2018-07-18</td>\n      <td>283600000.0</td>\n      <td>66200000.0</td>\n      <td>42000000.0</td>\n      <td>25500000.0</td>\n    </tr>\n    <tr>\n      <th>199</th>\n      <td>2018-07-19</td>\n      <td>232100000.0</td>\n      <td>8700000.0</td>\n      <td>8600000.0</td>\n      <td>13400000.0</td>\n    </tr>\n  </tbody>\n</table>\n<p>200 rows × 5 columns</p>\n</div>"
     },
     "metadata": {}
    }
   ]
  },
  {
   "cell_type": "code",
   "metadata": {
    "tags": [],
    "cell_id": "00003-818fb86c-4f88-424d-9b6c-306671b04ae0",
    "deepnote_to_be_reexecuted": false,
    "source_hash": "9c331feb",
    "execution_start": 1628017672280,
    "execution_millis": 39,
    "deepnote_cell_type": "code"
   },
   "source": "df_anuncios.describe()",
   "execution_count": null,
   "outputs": [
    {
     "output_type": "execute_result",
     "execution_count": 5,
     "data": {
      "application/vnd.deepnote.dataframe.v2+json": {
       "row_count": 8,
       "column_count": 4,
       "columns": [
        {
         "name": "TV",
         "dtype": "float64",
         "stats": {
          "unique_count": 8,
          "nan_count": 0,
          "min": "200.0",
          "max": "296400000.0",
          "histogram": [
           {
            "bin_start": 200,
            "bin_end": 29640180,
            "count": 2
           },
           {
            "bin_start": 29640180,
            "bin_end": 59280160,
            "count": 0
           },
           {
            "bin_start": 59280160,
            "bin_end": 88920140,
            "count": 2
           },
           {
            "bin_start": 88920140,
            "bin_end": 118560120,
            "count": 0
           },
           {
            "bin_start": 118560120,
            "bin_end": 148200100,
            "count": 1
           },
           {
            "bin_start": 148200100,
            "bin_end": 177840080,
            "count": 1
           },
           {
            "bin_start": 177840080,
            "bin_end": 207480060,
            "count": 0
           },
           {
            "bin_start": 207480060,
            "bin_end": 237120040,
            "count": 1
           },
           {
            "bin_start": 237120040,
            "bin_end": 266760020,
            "count": 0
           },
           {
            "bin_start": 266760020,
            "bin_end": 296400000,
            "count": 1
           }
          ]
         }
        },
        {
         "name": "newspaper",
         "dtype": "float64",
         "stats": {
          "unique_count": 8,
          "nan_count": 0,
          "min": "200.0",
          "max": "114000000.0",
          "histogram": [
           {
            "bin_start": 200,
            "bin_end": 11400180,
            "count": 2
           },
           {
            "bin_start": 11400180,
            "bin_end": 22800160,
            "count": 2
           },
           {
            "bin_start": 22800160,
            "bin_end": 34200140,
            "count": 2
           },
           {
            "bin_start": 34200140,
            "bin_end": 45600120,
            "count": 1
           },
           {
            "bin_start": 45600120,
            "bin_end": 57000100,
            "count": 0
           },
           {
            "bin_start": 57000100,
            "bin_end": 68400080,
            "count": 0
           },
           {
            "bin_start": 68400080,
            "bin_end": 79800060,
            "count": 0
           },
           {
            "bin_start": 79800060,
            "bin_end": 91200040,
            "count": 0
           },
           {
            "bin_start": 91200040,
            "bin_end": 102600020,
            "count": 0
           },
           {
            "bin_start": 102600020,
            "bin_end": 114000000,
            "count": 1
           }
          ]
         }
        },
        {
         "name": "radio",
         "dtype": "float64",
         "stats": {
          "unique_count": 8,
          "nan_count": 0,
          "min": "0.0",
          "max": "49600000.0",
          "histogram": [
           {
            "bin_start": 0,
            "bin_end": 4960000,
            "count": 2
           },
           {
            "bin_start": 4960000,
            "bin_end": 9920000,
            "count": 0
           },
           {
            "bin_start": 9920000,
            "bin_end": 14880000,
            "count": 2
           },
           {
            "bin_start": 14880000,
            "bin_end": 19840000,
            "count": 0
           },
           {
            "bin_start": 19840000,
            "bin_end": 24800000,
            "count": 2
           },
           {
            "bin_start": 24800000,
            "bin_end": 29760000,
            "count": 0
           },
           {
            "bin_start": 29760000,
            "bin_end": 34720000,
            "count": 0
           },
           {
            "bin_start": 34720000,
            "bin_end": 39680000,
            "count": 1
           },
           {
            "bin_start": 39680000,
            "bin_end": 44640000,
            "count": 0
           },
           {
            "bin_start": 44640000,
            "bin_end": 49600000,
            "count": 1
           }
          ]
         }
        },
        {
         "name": "sales",
         "dtype": "float64",
         "stats": {
          "unique_count": 8,
          "nan_count": 0,
          "min": "200.0",
          "max": "27000000.0",
          "histogram": [
           {
            "bin_start": 200,
            "bin_end": 2700180,
            "count": 2
           },
           {
            "bin_start": 2700180,
            "bin_end": 5400160,
            "count": 1
           },
           {
            "bin_start": 5400160,
            "bin_end": 8100140,
            "count": 0
           },
           {
            "bin_start": 8100140,
            "bin_end": 10800120,
            "count": 1
           },
           {
            "bin_start": 10800120,
            "bin_end": 13500100,
            "count": 1
           },
           {
            "bin_start": 13500100,
            "bin_end": 16200080,
            "count": 1
           },
           {
            "bin_start": 16200080,
            "bin_end": 18900060,
            "count": 1
           },
           {
            "bin_start": 18900060,
            "bin_end": 21600040,
            "count": 0
           },
           {
            "bin_start": 21600040,
            "bin_end": 24300020,
            "count": 0
           },
           {
            "bin_start": 24300020,
            "bin_end": 27000000,
            "count": 1
           }
          ]
         }
        },
        {
         "name": "_deepnote_index_column",
         "dtype": "object"
        }
       ],
       "rows_top": [
        {
         "TV": 200,
         "newspaper": 200,
         "radio": 200,
         "sales": 200,
         "_deepnote_index_column": "count"
        },
        {
         "TV": 147042500,
         "newspaper": 30554000,
         "radio": 23264000,
         "sales": 14022500,
         "_deepnote_index_column": "mean"
        },
        {
         "TV": 85854236.31490807,
         "newspaper": 21778620.838522825,
         "radio": 14846809.176168725,
         "sales": 5217456.5657104775,
         "_deepnote_index_column": "std"
        },
        {
         "TV": 700000,
         "newspaper": 300000,
         "radio": 0,
         "sales": 1600000,
         "_deepnote_index_column": "min"
        },
        {
         "TV": 74375000,
         "newspaper": 12750000,
         "radio": 9975000,
         "sales": 10375000,
         "_deepnote_index_column": "25%"
        },
        {
         "TV": 149750000,
         "newspaper": 25750000,
         "radio": 22900000,
         "sales": 12900000,
         "_deepnote_index_column": "50%"
        },
        {
         "TV": 218825000,
         "newspaper": 45100000,
         "radio": 36525000,
         "sales": 17400000,
         "_deepnote_index_column": "75%"
        },
        {
         "TV": 296400000,
         "newspaper": 114000000,
         "radio": 49600000,
         "sales": 27000000,
         "_deepnote_index_column": "max"
        }
       ],
       "rows_bottom": null
      },
      "text/plain": "                 TV     newspaper         radio         sales\ncount  2.000000e+02  2.000000e+02  2.000000e+02  2.000000e+02\nmean   1.470425e+08  3.055400e+07  2.326400e+07  1.402250e+07\nstd    8.585424e+07  2.177862e+07  1.484681e+07  5.217457e+06\nmin    7.000000e+05  3.000000e+05  0.000000e+00  1.600000e+06\n25%    7.437500e+07  1.275000e+07  9.975000e+06  1.037500e+07\n50%    1.497500e+08  2.575000e+07  2.290000e+07  1.290000e+07\n75%    2.188250e+08  4.510000e+07  3.652500e+07  1.740000e+07\nmax    2.964000e+08  1.140000e+08  4.960000e+07  2.700000e+07",
      "text/html": "<div>\n<style scoped>\n    .dataframe tbody tr th:only-of-type {\n        vertical-align: middle;\n    }\n\n    .dataframe tbody tr th {\n        vertical-align: top;\n    }\n\n    .dataframe thead th {\n        text-align: right;\n    }\n</style>\n<table border=\"1\" class=\"dataframe\">\n  <thead>\n    <tr style=\"text-align: right;\">\n      <th></th>\n      <th>TV</th>\n      <th>newspaper</th>\n      <th>radio</th>\n      <th>sales</th>\n    </tr>\n  </thead>\n  <tbody>\n    <tr>\n      <th>count</th>\n      <td>2.000000e+02</td>\n      <td>2.000000e+02</td>\n      <td>2.000000e+02</td>\n      <td>2.000000e+02</td>\n    </tr>\n    <tr>\n      <th>mean</th>\n      <td>1.470425e+08</td>\n      <td>3.055400e+07</td>\n      <td>2.326400e+07</td>\n      <td>1.402250e+07</td>\n    </tr>\n    <tr>\n      <th>std</th>\n      <td>8.585424e+07</td>\n      <td>2.177862e+07</td>\n      <td>1.484681e+07</td>\n      <td>5.217457e+06</td>\n    </tr>\n    <tr>\n      <th>min</th>\n      <td>7.000000e+05</td>\n      <td>3.000000e+05</td>\n      <td>0.000000e+00</td>\n      <td>1.600000e+06</td>\n    </tr>\n    <tr>\n      <th>25%</th>\n      <td>7.437500e+07</td>\n      <td>1.275000e+07</td>\n      <td>9.975000e+06</td>\n      <td>1.037500e+07</td>\n    </tr>\n    <tr>\n      <th>50%</th>\n      <td>1.497500e+08</td>\n      <td>2.575000e+07</td>\n      <td>2.290000e+07</td>\n      <td>1.290000e+07</td>\n    </tr>\n    <tr>\n      <th>75%</th>\n      <td>2.188250e+08</td>\n      <td>4.510000e+07</td>\n      <td>3.652500e+07</td>\n      <td>1.740000e+07</td>\n    </tr>\n    <tr>\n      <th>max</th>\n      <td>2.964000e+08</td>\n      <td>1.140000e+08</td>\n      <td>4.960000e+07</td>\n      <td>2.700000e+07</td>\n    </tr>\n  </tbody>\n</table>\n</div>"
     },
     "metadata": {}
    }
   ]
  },
  {
   "cell_type": "code",
   "metadata": {
    "tags": [],
    "cell_id": "00004-b8221842-9e0a-42bb-bc04-dd5401a70631",
    "deepnote_to_be_reexecuted": false,
    "source_hash": "4df57e42",
    "execution_start": 1628017674067,
    "execution_millis": 7,
    "deepnote_cell_type": "code"
   },
   "source": "df_anuncios.info()",
   "execution_count": null,
   "outputs": [
    {
     "name": "stdout",
     "text": "<class 'pandas.core.frame.DataFrame'>\nRangeIndex: 200 entries, 0 to 199\nData columns (total 5 columns):\n #   Column     Non-Null Count  Dtype  \n---  ------     --------------  -----  \n 0   Date       200 non-null    object \n 1   TV         200 non-null    float64\n 2   newspaper  200 non-null    float64\n 3   radio      200 non-null    float64\n 4   sales      200 non-null    float64\ndtypes: float64(4), object(1)\nmemory usage: 7.9+ KB\n",
     "output_type": "stream"
    }
   ]
  },
  {
   "cell_type": "code",
   "metadata": {
    "tags": [],
    "cell_id": "00006-f0600499-103f-45ca-ad2c-1633e7706327",
    "deepnote_to_be_reexecuted": false,
    "source_hash": "46f2d64b",
    "execution_start": 1628017675522,
    "execution_millis": 183,
    "deepnote_cell_type": "code"
   },
   "source": "df_anuncios_melt = df_anuncios.melt(id_vars = 'Date',\n                                    value_vars = ['TV','newspaper','radio'],\n                                    var_name = 'Medio',\n                                    value_name = 'Inversion').groupby('Medio')['Inversion'].sum()\ndf_anuncios_melt.plot.pie(y = 'Inversion', figsize = (10,10))",
   "execution_count": null,
   "outputs": [
    {
     "output_type": "execute_result",
     "execution_count": 7,
     "data": {
      "text/plain": "<AxesSubplot:ylabel='Inversion'>"
     },
     "metadata": {}
    },
    {
     "data": {
      "text/plain": "<Figure size 720x720 with 1 Axes>",
      "image/png": "[encoded data removed]"
     },
     "metadata": {
      "image/png": {
       "width": 571,
       "height": 558
      }
     },
     "output_type": "display_data"
    }
   ]
  },
  {
   "cell_type": "code",
   "metadata": {
    "tags": [],
    "cell_id": "00005-e14fb211-46a0-4ec3-b836-fb5a2f4079f0",
    "deepnote_to_be_reexecuted": false,
    "source_hash": "33f24e11",
    "execution_start": 1628017686791,
    "execution_millis": 26,
    "deepnote_cell_type": "code"
   },
   "source": "df_anuncios.quantile([0.25,0.5,0.7])",
   "execution_count": null,
   "outputs": [
    {
     "output_type": "execute_result",
     "execution_count": 8,
     "data": {
      "application/vnd.deepnote.dataframe.v2+json": {
       "row_count": 3,
       "column_count": 4,
       "columns": [
        {
         "name": "TV",
         "dtype": "float64",
         "stats": {
          "unique_count": 3,
          "nan_count": 0,
          "min": "74375000.0",
          "max": "210730000.0",
          "histogram": [
           {
            "bin_start": 74375000,
            "bin_end": 88010500,
            "count": 1
           },
           {
            "bin_start": 88010500,
            "bin_end": 101646000,
            "count": 0
           },
           {
            "bin_start": 101646000,
            "bin_end": 115281500,
            "count": 0
           },
           {
            "bin_start": 115281500,
            "bin_end": 128917000,
            "count": 0
           },
           {
            "bin_start": 128917000,
            "bin_end": 142552500,
            "count": 0
           },
           {
            "bin_start": 142552500,
            "bin_end": 156188000,
            "count": 1
           },
           {
            "bin_start": 156188000,
            "bin_end": 169823500,
            "count": 0
           },
           {
            "bin_start": 169823500,
            "bin_end": 183459000,
            "count": 0
           },
           {
            "bin_start": 183459000,
            "bin_end": 197094500,
            "count": 0
           },
           {
            "bin_start": 197094500,
            "bin_end": 210730000,
            "count": 1
           }
          ]
         }
        },
        {
         "name": "newspaper",
         "dtype": "float64",
         "stats": {
          "unique_count": 3,
          "nan_count": 0,
          "min": "12750000.0",
          "max": "39109999.999999985",
          "histogram": [
           {
            "bin_start": 12750000,
            "bin_end": 15385999.999999998,
            "count": 1
           },
           {
            "bin_start": 15385999.999999998,
            "bin_end": 18021999.999999996,
            "count": 0
           },
           {
            "bin_start": 18021999.999999996,
            "bin_end": 20657999.999999996,
            "count": 0
           },
           {
            "bin_start": 20657999.999999996,
            "bin_end": 23293999.999999993,
            "count": 0
           },
           {
            "bin_start": 23293999.999999993,
            "bin_end": 25929999.999999993,
            "count": 1
           },
           {
            "bin_start": 25929999.999999993,
            "bin_end": 28565999.999999993,
            "count": 0
           },
           {
            "bin_start": 28565999.999999993,
            "bin_end": 31201999.99999999,
            "count": 0
           },
           {
            "bin_start": 31201999.99999999,
            "bin_end": 33837999.999999985,
            "count": 0
           },
           {
            "bin_start": 33837999.999999985,
            "bin_end": 36473999.999999985,
            "count": 0
           },
           {
            "bin_start": 36473999.999999985,
            "bin_end": 39109999.999999985,
            "count": 1
           }
          ]
         }
        },
        {
         "name": "radio",
         "dtype": "float64",
         "stats": {
          "unique_count": 3,
          "nan_count": 0,
          "min": "9975000.0",
          "max": "33500000.0",
          "histogram": [
           {
            "bin_start": 9975000,
            "bin_end": 12327500,
            "count": 1
           },
           {
            "bin_start": 12327500,
            "bin_end": 14680000,
            "count": 0
           },
           {
            "bin_start": 14680000,
            "bin_end": 17032500,
            "count": 0
           },
           {
            "bin_start": 17032500,
            "bin_end": 19385000,
            "count": 0
           },
           {
            "bin_start": 19385000,
            "bin_end": 21737500,
            "count": 0
           },
           {
            "bin_start": 21737500,
            "bin_end": 24090000,
            "count": 1
           },
           {
            "bin_start": 24090000,
            "bin_end": 26442500,
            "count": 0
           },
           {
            "bin_start": 26442500,
            "bin_end": 28795000,
            "count": 0
           },
           {
            "bin_start": 28795000,
            "bin_end": 31147500,
            "count": 0
           },
           {
            "bin_start": 31147500,
            "bin_end": 33500000,
            "count": 1
           }
          ]
         }
        },
        {
         "name": "sales",
         "dtype": "float64",
         "stats": {
          "unique_count": 3,
          "nan_count": 0,
          "min": "10375000.0",
          "max": "16600000.0",
          "histogram": [
           {
            "bin_start": 10375000,
            "bin_end": 10997500,
            "count": 1
           },
           {
            "bin_start": 10997500,
            "bin_end": 11620000,
            "count": 0
           },
           {
            "bin_start": 11620000,
            "bin_end": 12242500,
            "count": 0
           },
           {
            "bin_start": 12242500,
            "bin_end": 12865000,
            "count": 0
           },
           {
            "bin_start": 12865000,
            "bin_end": 13487500,
            "count": 1
           },
           {
            "bin_start": 13487500,
            "bin_end": 14110000,
            "count": 0
           },
           {
            "bin_start": 14110000,
            "bin_end": 14732500,
            "count": 0
           },
           {
            "bin_start": 14732500,
            "bin_end": 15355000,
            "count": 0
           },
           {
            "bin_start": 15355000,
            "bin_end": 15977500,
            "count": 0
           },
           {
            "bin_start": 15977500,
            "bin_end": 16600000,
            "count": 1
           }
          ]
         }
        },
        {
         "name": "_deepnote_index_column",
         "dtype": "float64"
        }
       ],
       "rows_top": [
        {
         "TV": 74375000,
         "newspaper": 12750000,
         "radio": 9975000,
         "sales": 10375000,
         "_deepnote_index_column": 0.25
        },
        {
         "TV": 149750000,
         "newspaper": 25750000,
         "radio": 22900000,
         "sales": 12900000,
         "_deepnote_index_column": 0.5
        },
        {
         "TV": 210730000,
         "newspaper": 39109999.999999985,
         "radio": 33500000,
         "sales": 16600000,
         "_deepnote_index_column": 0.7
        }
       ],
       "rows_bottom": null
      },
      "text/plain": "               TV   newspaper       radio       sales\n0.25   74375000.0  12750000.0   9975000.0  10375000.0\n0.50  149750000.0  25750000.0  22900000.0  12900000.0\n0.70  210730000.0  39110000.0  33500000.0  16600000.0",
      "text/html": "<div>\n<style scoped>\n    .dataframe tbody tr th:only-of-type {\n        vertical-align: middle;\n    }\n\n    .dataframe tbody tr th {\n        vertical-align: top;\n    }\n\n    .dataframe thead th {\n        text-align: right;\n    }\n</style>\n<table border=\"1\" class=\"dataframe\">\n  <thead>\n    <tr style=\"text-align: right;\">\n      <th></th>\n      <th>TV</th>\n      <th>newspaper</th>\n      <th>radio</th>\n      <th>sales</th>\n    </tr>\n  </thead>\n  <tbody>\n    <tr>\n      <th>0.25</th>\n      <td>74375000.0</td>\n      <td>12750000.0</td>\n      <td>9975000.0</td>\n      <td>10375000.0</td>\n    </tr>\n    <tr>\n      <th>0.50</th>\n      <td>149750000.0</td>\n      <td>25750000.0</td>\n      <td>22900000.0</td>\n      <td>12900000.0</td>\n    </tr>\n    <tr>\n      <th>0.70</th>\n      <td>210730000.0</td>\n      <td>39110000.0</td>\n      <td>33500000.0</td>\n      <td>16600000.0</td>\n    </tr>\n  </tbody>\n</table>\n</div>"
     },
     "metadata": {}
    }
   ]
  },
  {
   "cell_type": "code",
   "metadata": {
    "tags": [],
    "cell_id": "00008-80aac046-6084-4520-a1c4-55c5519746d9",
    "deepnote_to_be_reexecuted": false,
    "source_hash": "b9f7e1bf",
    "execution_start": 1628018723462,
    "execution_millis": 152,
    "deepnote_cell_type": "code"
   },
   "source": "plt.figure(figsize=(10,10))\nsns.boxplot(data = df_anuncios[['TV','newspaper','radio']])",
   "execution_count": null,
   "outputs": [
    {
     "output_type": "execute_result",
     "execution_count": 25,
     "data": {
      "text/plain": "<AxesSubplot:>"
     },
     "metadata": {}
    },
    {
     "data": {
      "text/plain": "<Figure size 720x720 with 1 Axes>",
      "image/png": "[encoded data removed]"
     },
     "metadata": {
      "needs_background": "light",
      "image/png": {
       "width": 595,
       "height": 585
      }
     },
     "output_type": "display_data"
    }
   ]
  },
  {
   "cell_type": "code",
   "metadata": {
    "tags": [],
    "cell_id": "00006-69f5e64f-dfbb-4f33-9777-0e97d2d08620",
    "deepnote_to_be_reexecuted": false,
    "source_hash": "e01c1d48",
    "execution_start": 1628018019883,
    "execution_millis": 5,
    "deepnote_cell_type": "code"
   },
   "source": "df_anuncios.Date = pd.to_datetime(df_anuncios.Date)",
   "execution_count": null,
   "outputs": []
  },
  {
   "cell_type": "code",
   "metadata": {
    "tags": [],
    "cell_id": "00007-8a16f5e4-47b4-40e0-8716-76b36a80daba",
    "deepnote_to_be_reexecuted": false,
    "source_hash": "1c3e1c3b",
    "execution_start": 1628018028139,
    "execution_millis": 259,
    "deepnote_cell_type": "code"
   },
   "source": "df_anuncios_mes = df_anuncios.melt(id_vars = 'Date',\n                                    value_vars = ['TV','newspaper','radio'],\n                                    var_name = 'Medio',\n                                    value_name = 'Inversion')\ndf_anuncios_mes = df_anuncios_mes.groupby([df_anuncios_mes['Date'].dt.strftime('%B'),'Medio'])[['Inversion']].sum().reset_index()\n\nplt.figure(figsize=(10,10))\n\nsns.barplot(x = 'Date',\n            y = 'Inversion',\n            hue = 'Medio',\n            data = df_anuncios_mes,\n            ci = None)",
   "execution_count": null,
   "outputs": [
    {
     "output_type": "execute_result",
     "execution_count": 17,
     "data": {
      "text/plain": "<AxesSubplot:xlabel='Date', ylabel='Inversion'>"
     },
     "metadata": {}
    },
    {
     "data": {
      "text/plain": "<Figure size 720x720 with 1 Axes>",
      "image/png": "[encoded data removed]"
     },
     "metadata": {
      "needs_background": "light",
      "image/png": {
       "width": 599,
       "height": 599
      }
     },
     "output_type": "display_data"
    }
   ]
  },
  {
   "cell_type": "code",
   "metadata": {
    "tags": [],
    "cell_id": "00008-6322095d-6535-4700-a435-80d76ca4ba4d",
    "deepnote_to_be_reexecuted": false,
    "source_hash": "33beb60d",
    "execution_start": 1628018165319,
    "execution_millis": 263,
    "deepnote_cell_type": "code"
   },
   "source": "plt.figure(figsize=(10,10))\nsns.heatmap(data = df_anuncios.corr(),\n            annot = True)",
   "execution_count": null,
   "outputs": [
    {
     "output_type": "execute_result",
     "execution_count": 18,
     "data": {
      "text/plain": "<AxesSubplot:>"
     },
     "metadata": {}
    },
    {
     "data": {
      "text/plain": "<Figure size 720x720 with 2 Axes>",
      "image/png": "[encoded data removed]"
     },
     "metadata": {
      "needs_background": "light",
      "image/png": {
       "width": 555,
       "height": 579
      }
     },
     "output_type": "display_data"
    }
   ]
  },
  {
   "cell_type": "code",
   "metadata": {
    "tags": [],
    "cell_id": "00009-712f37ca-53d2-4732-8c97-70a5ad661eaa",
    "deepnote_to_be_reexecuted": false,
    "source_hash": "5602a3f0",
    "execution_start": 1628018185548,
    "execution_millis": 763,
    "deepnote_cell_type": "code"
   },
   "source": "plt.figure(figsize=(15,15))\nsns.jointplot(data = df_anuncios,\n            x = 'TV',\n            y = 'sales',\n            kind = 'reg')",
   "execution_count": null,
   "outputs": [
    {
     "output_type": "execute_result",
     "execution_count": 20,
     "data": {
      "text/plain": "<seaborn.axisgrid.JointGrid at 0x7f58ae2a7410>"
     },
     "metadata": {}
    },
    {
     "data": {
      "text/plain": "<Figure size 1080x1080 with 0 Axes>"
     },
     "metadata": {},
     "output_type": "display_data"
    },
    {
     "data": {
      "text/plain": "<Figure size 432x432 with 3 Axes>",
      "image/png": "[encoded data removed]"
     },
     "metadata": {
      "needs_background": "light",
      "image/png": {
       "width": 424,
       "height": 424
      }
     },
     "output_type": "display_data"
    }
   ]
  },
  {
   "cell_type": "code",
   "metadata": {
    "tags": [],
    "cell_id": "00013-d975445b-cd8b-415c-91b2-2bda681ab9d8",
    "deepnote_to_be_reexecuted": false,
    "source_hash": "4c4ff9c",
    "execution_start": 1628018758560,
    "execution_millis": 663,
    "deepnote_cell_type": "code"
   },
   "source": "plt.figure(figsize=(15,15))\nsns.jointplot(data = df_anuncios,\n            x = 'radio',\n            y = 'sales',\n            kind = 'reg')",
   "execution_count": null,
   "outputs": [
    {
     "output_type": "execute_result",
     "execution_count": 26,
     "data": {
      "text/plain": "<seaborn.axisgrid.JointGrid at 0x7f58a3e4f850>"
     },
     "metadata": {}
    },
    {
     "data": {
      "text/plain": "<Figure size 1080x1080 with 0 Axes>"
     },
     "metadata": {},
     "output_type": "display_data"
    },
    {
     "data": {
      "text/plain": "<Figure size 432x432 with 3 Axes>",
      "image/png": "[encoded data removed]"
     },
     "metadata": {
      "needs_background": "light",
      "image/png": {
       "width": 424,
       "height": 424
      }
     },
     "output_type": "display_data"
    }
   ]
  },
  {
   "cell_type": "code",
   "metadata": {
    "tags": [],
    "cell_id": "00010-21f4cf60-ede3-40fd-a29e-877791fedd96",
    "deepnote_to_be_reexecuted": false,
    "source_hash": "a58b3ad0",
    "execution_start": 1628018206632,
    "execution_millis": 599,
    "deepnote_cell_type": "code"
   },
   "source": "plt.figure(figsize=(15,15))\nsns.jointplot(data = df_anuncios,\n            x = 'newspaper',\n            y = 'sales',\n            kind = 'reg')",
   "execution_count": null,
   "outputs": [
    {
     "output_type": "execute_result",
     "execution_count": 21,
     "data": {
      "text/plain": "<seaborn.axisgrid.JointGrid at 0x7f58ae7649d0>"
     },
     "metadata": {}
    },
    {
     "data": {
      "text/plain": "<Figure size 1080x1080 with 0 Axes>"
     },
     "metadata": {},
     "output_type": "display_data"
    },
    {
     "data": {
      "text/plain": "<Figure size 432x432 with 3 Axes>",
      "image/png": "[encoded data removed]"
     },
     "metadata": {
      "needs_background": "light",
      "image/png": {
       "width": 424,
       "height": 424
      }
     },
     "output_type": "display_data"
    }
   ]
  },
  {
   "cell_type": "markdown",
   "source": "<a style='text-decoration:none;line-height:16px;display:flex;color:#5B5B62;padding:10px;justify-content:end;' href='https://deepnote.com?utm_source=created-in-deepnote-cell&projectId=11bf7be5-3b62-4605-8e79-42e562c1fd79' target=\"_blank\">\n<img alt='Created in deepnote.com' style='display:inline;max-height:16px;margin:0px;margin-right:7.5px;' src='data:image/svg+xml;base64,PD94bWwgdmVyc2lvbj0iMS4wIiBlbmNvZGluZz0iVVRGLTgiPz4KPHN2ZyB3aWR0aD0iODBweCIgaGVpZ2h0PSI4MHB4IiB2aWV3Qm94PSIwIDAgODAgODAiIHZlcnNpb249IjEuMSIgeG1sbnM9Imh0dHA6Ly93d3cudzMub3JnLzIwMDAvc3ZnIiB4bWxuczp4bGluaz0iaHR0cDovL3d3dy53My5vcmcvMTk5OS94bGluayI+CiAgICA8IS0tIEdlbmVyYXRvcjogU2tldGNoIDU0LjEgKDc2NDkwKSAtIGh0dHBzOi8vc2tldGNoYXBwLmNvbSAtLT4KICAgIDx0aXRsZT5Hcm91cCAzPC90aXRsZT4KICAgIDxkZXNjPkNyZWF0ZWQgd2l0aCBTa2V0Y2guPC9kZXNjPgogICAgPGcgaWQ9IkxhbmRpbmciIHN0cm9rZT0ibm9uZSIgc3Ryb2tlLXdpZHRoPSIxIiBmaWxsPSJub25lIiBmaWxsLXJ1bGU9ImV2ZW5vZGQiPgogICAgICAgIDxnIGlkPSJBcnRib2FyZCIgdHJhbnNmb3JtPSJ0cmFuc2xhdGUoLTEyMzUuMDAwMDAwLCAtNzkuMDAwMDAwKSI+CiAgICAgICAgICAgIDxnIGlkPSJHcm91cC0zIiB0cmFuc2Zvcm09InRyYW5zbGF0ZSgxMjM1LjAwMDAwMCwgNzkuMDAwMDAwKSI+CiAgICAgICAgICAgICAgICA8cG9seWdvbiBpZD0iUGF0aC0yMCIgZmlsbD0iIzAyNjVCNCIgcG9pbnRzPSIyLjM3NjIzNzYyIDgwIDM4LjA0NzY2NjcgODAgNTcuODIxNzgyMiA3My44MDU3NTkyIDU3LjgyMTc4MjIgMzIuNzU5MjczOSAzOS4xNDAyMjc4IDMxLjY4MzE2ODMiPjwvcG9seWdvbj4KICAgICAgICAgICAgICAgIDxwYXRoIGQ9Ik0zNS4wMDc3MTgsODAgQzQyLjkwNjIwMDcsNzYuNDU0OTM1OCA0Ny41NjQ5MTY3LDcxLjU0MjI2NzEgNDguOTgzODY2LDY1LjI2MTk5MzkgQzUxLjExMjI4OTksNTUuODQxNTg0MiA0MS42NzcxNzk1LDQ5LjIxMjIyODQgMjUuNjIzOTg0Niw0OS4yMTIyMjg0IEMyNS40ODQ5Mjg5LDQ5LjEyNjg0NDggMjkuODI2MTI5Niw0My4yODM4MjQ4IDM4LjY0NzU4NjksMzEuNjgzMTY4MyBMNzIuODcxMjg3MSwzMi41NTQ0MjUgTDY1LjI4MDk3Myw2Ny42NzYzNDIxIEw1MS4xMTIyODk5LDc3LjM3NjE0NCBMMzUuMDA3NzE4LDgwIFoiIGlkPSJQYXRoLTIyIiBmaWxsPSIjMDAyODY4Ij48L3BhdGg+CiAgICAgICAgICAgICAgICA8cGF0aCBkPSJNMCwzNy43MzA0NDA1IEwyNy4xMTQ1MzcsMC4yNTcxMTE0MzYgQzYyLjM3MTUxMjMsLTEuOTkwNzE3MDEgODAsMTAuNTAwMzkyNyA4MCwzNy43MzA0NDA1IEM4MCw2NC45NjA0ODgyIDY0Ljc3NjUwMzgsNzkuMDUwMzQxNCAzNC4zMjk1MTEzLDgwIEM0Ny4wNTUzNDg5LDc3LjU2NzA4MDggNTMuNDE4MjY3Nyw3MC4zMTM2MTAzIDUzLjQxODI2NzcsNTguMjM5NTg4NSBDNTMuNDE4MjY3Nyw0MC4xMjg1NTU3IDM2LjMwMzk1NDQsMzcuNzMwNDQwNSAyNS4yMjc0MTcsMzcuNzMwNDQwNSBDMTcuODQzMDU4NiwzNy43MzA0NDA1IDkuNDMzOTE5NjYsMzcuNzMwNDQwNSAwLDM3LjczMDQ0MDUgWiIgaWQ9IlBhdGgtMTkiIGZpbGw9IiMzNzkzRUYiPjwvcGF0aD4KICAgICAgICAgICAgPC9nPgogICAgICAgIDwvZz4KICAgIDwvZz4KPC9zdmc+' > </img>\nCreated in <span style='font-weight:600;margin-left:4px;'>Deepnote</span></a>",
   "metadata": {
    "tags": [],
    "created_in_deepnote_cell": true,
    "deepnote_cell_type": "markdown"
   }
  }
 ],
 "nbformat": 4,
 "nbformat_minor": 2,
 "metadata": {
  "orig_nbformat": 2,
  "deepnote": {
   "is_reactive": false
  },
  "deepnote_notebook_id": "c6ea99e3-a6a5-490b-89b4-f233a49432df",
  "deepnote_execution_queue": []
 }
}