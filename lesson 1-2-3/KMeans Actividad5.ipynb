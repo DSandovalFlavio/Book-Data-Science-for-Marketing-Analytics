{
 "cells": [
  {
   "cell_type": "code",
   "metadata": {
    "tags": [],
    "cell_id": "00000-edd8c861-b256-4c1b-af0b-d6fed0e6785b",
    "deepnote_to_be_reexecuted": false,
    "source_hash": "24b26b86",
    "execution_start": 1628567765787,
    "execution_millis": 1324,
    "deepnote_cell_type": "code"
   },
   "source": "import pandas as pd\nimport numpy as np\nimport matplotlib.pyplot as plt\nimport seaborn as sns",
   "execution_count": null,
   "outputs": []
  },
  {
   "cell_type": "code",
   "metadata": {
    "tags": [],
    "cell_id": "00001-9d175bfc-2adf-4ae1-8cc5-b85ff9c1787a",
    "deepnote_to_be_reexecuted": false,
    "source_hash": "bca85f33",
    "execution_start": 1628567867146,
    "execution_millis": 29,
    "deepnote_cell_type": "code"
   },
   "source": "four_cols = pd.read_csv('four_cols.csv')\nfour_cols.columns",
   "execution_count": null,
   "outputs": [
    {
     "output_type": "execute_result",
     "execution_count": 2,
     "data": {
      "text/plain": "Index(['income', 'age', 'days_since_purchase', 'annual_spend'], dtype='object')"
     },
     "metadata": {}
    }
   ]
  },
  {
   "cell_type": "code",
   "metadata": {
    "tags": [],
    "cell_id": "00002-fc028063-87e2-4dc5-b309-9b9841079a69",
    "deepnote_to_be_reexecuted": false,
    "source_hash": "5e0c0c2b",
    "execution_start": 1628568035095,
    "execution_millis": 1516,
    "deepnote_cell_type": "code"
   },
   "source": "from sklearn.preprocessing import StandardScaler\n\ncolumns_z = []\nfor colum in list(four_cols.columns):\n    scaler = StandardScaler().fit(four_cols[[colum]])\n    four_cols[colum + '_Z'] = scaler.transform(four_cols[[colum]])\n    columns_z.append(colum + '_Z')\n\nfour_cols.head()",
   "execution_count": null,
   "outputs": [
    {
     "output_type": "execute_result",
     "execution_count": 4,
     "data": {
      "application/vnd.deepnote.dataframe.v2+json": {
       "row_count": 5,
       "column_count": 8,
       "columns": [
        {
         "name": "income",
         "dtype": "int64",
         "stats": {
          "unique_count": 5,
          "nan_count": 0,
          "min": "37453",
          "max": "112343",
          "histogram": [
           {
            "bin_start": 37453,
            "bin_end": 44942,
            "count": 1
           },
           {
            "bin_start": 44942,
            "bin_end": 52431,
            "count": 2
           },
           {
            "bin_start": 52431,
            "bin_end": 59920,
            "count": 0
           },
           {
            "bin_start": 59920,
            "bin_end": 67409,
            "count": 0
           },
           {
            "bin_start": 67409,
            "bin_end": 74898,
            "count": 1
           },
           {
            "bin_start": 74898,
            "bin_end": 82387,
            "count": 0
           },
           {
            "bin_start": 82387,
            "bin_end": 89876,
            "count": 0
           },
           {
            "bin_start": 89876,
            "bin_end": 97365,
            "count": 0
           },
           {
            "bin_start": 97365,
            "bin_end": 104854,
            "count": 0
           },
           {
            "bin_start": 104854,
            "bin_end": 112343,
            "count": 1
           }
          ]
         }
        },
        {
         "name": "age",
         "dtype": "int64",
         "stats": {
          "unique_count": 5,
          "nan_count": 0,
          "min": "27",
          "max": "52",
          "histogram": [
           {
            "bin_start": 27,
            "bin_end": 29.5,
            "count": 1
           },
           {
            "bin_start": 29.5,
            "bin_end": 32,
            "count": 0
           },
           {
            "bin_start": 32,
            "bin_end": 34.5,
            "count": 0
           },
           {
            "bin_start": 34.5,
            "bin_end": 37,
            "count": 0
           },
           {
            "bin_start": 37,
            "bin_end": 39.5,
            "count": 0
           },
           {
            "bin_start": 39.5,
            "bin_end": 42,
            "count": 1
           },
           {
            "bin_start": 42,
            "bin_end": 44.5,
            "count": 0
           },
           {
            "bin_start": 44.5,
            "bin_end": 47,
            "count": 0
           },
           {
            "bin_start": 47,
            "bin_end": 49.5,
            "count": 1
           },
           {
            "bin_start": 49.5,
            "bin_end": 52,
            "count": 2
           }
          ]
         }
        },
        {
         "name": "days_since_purchase",
         "dtype": "int64",
         "stats": {
          "unique_count": 5,
          "nan_count": 0,
          "min": "259",
          "max": "566",
          "histogram": [
           {
            "bin_start": 259,
            "bin_end": 289.7,
            "count": 2
           },
           {
            "bin_start": 289.7,
            "bin_end": 320.4,
            "count": 0
           },
           {
            "bin_start": 320.4,
            "bin_end": 351.1,
            "count": 1
           },
           {
            "bin_start": 351.1,
            "bin_end": 381.8,
            "count": 0
           },
           {
            "bin_start": 381.8,
            "bin_end": 412.5,
            "count": 0
           },
           {
            "bin_start": 412.5,
            "bin_end": 443.2,
            "count": 0
           },
           {
            "bin_start": 443.2,
            "bin_end": 473.9,
            "count": 0
           },
           {
            "bin_start": 473.9,
            "bin_end": 504.6,
            "count": 1
           },
           {
            "bin_start": 504.6,
            "bin_end": 535.3,
            "count": 0
           },
           {
            "bin_start": 535.3,
            "bin_end": 566,
            "count": 1
           }
          ]
         }
        },
        {
         "name": "annual_spend",
         "dtype": "int64",
         "stats": {
          "unique_count": 5,
          "nan_count": 0,
          "min": "1749",
          "max": "5834",
          "histogram": [
           {
            "bin_start": 1749,
            "bin_end": 2157.5,
            "count": 1
           },
           {
            "bin_start": 2157.5,
            "bin_end": 2566,
            "count": 0
           },
           {
            "bin_start": 2566,
            "bin_end": 2974.5,
            "count": 0
           },
           {
            "bin_start": 2974.5,
            "bin_end": 3383,
            "count": 0
           },
           {
            "bin_start": 3383,
            "bin_end": 3791.5,
            "count": 0
           },
           {
            "bin_start": 3791.5,
            "bin_end": 4200,
            "count": 0
           },
           {
            "bin_start": 4200,
            "bin_end": 4608.5,
            "count": 2
           },
           {
            "bin_start": 4608.5,
            "bin_end": 5017,
            "count": 0
           },
           {
            "bin_start": 5017,
            "bin_end": 5425.5,
            "count": 0
           },
           {
            "bin_start": 5425.5,
            "bin_end": 5834,
            "count": 2
           }
          ]
         }
        },
        {
         "name": "income_Z",
         "dtype": "float64",
         "stats": {
          "unique_count": 5,
          "nan_count": 0,
          "min": "-0.8904264375301664",
          "max": "1.005897121511376",
          "histogram": [
           {
            "bin_start": -0.8904264375301664,
            "bin_end": -0.7007940816260121,
            "count": 1
           },
           {
            "bin_start": -0.7007940816260121,
            "bin_end": -0.5111617257218579,
            "count": 2
           },
           {
            "bin_start": -0.5111617257218579,
            "bin_end": -0.32152936981770364,
            "count": 0
           },
           {
            "bin_start": -0.32152936981770364,
            "bin_end": -0.13189701391354947,
            "count": 0
           },
           {
            "bin_start": -0.13189701391354947,
            "bin_end": 0.057735341990604705,
            "count": 1
           },
           {
            "bin_start": 0.057735341990604705,
            "bin_end": 0.2473676978947591,
            "count": 0
           },
           {
            "bin_start": 0.2473676978947591,
            "bin_end": 0.43700005379891327,
            "count": 0
           },
           {
            "bin_start": 0.43700005379891327,
            "bin_end": 0.6266324097030674,
            "count": 0
           },
           {
            "bin_start": 0.6266324097030674,
            "bin_end": 0.8162647656072216,
            "count": 0
           },
           {
            "bin_start": 0.8162647656072216,
            "bin_end": 1.005897121511376,
            "count": 1
           }
          ]
         }
        },
        {
         "name": "age_Z",
         "dtype": "float64",
         "stats": {
          "unique_count": 5,
          "nan_count": 0,
          "min": "-1.3323168584610436",
          "max": "0.9738467821625176",
          "histogram": [
           {
            "bin_start": -1.3323168584610436,
            "bin_end": -1.1017004943986874,
            "count": 1
           },
           {
            "bin_start": -1.1017004943986874,
            "bin_end": -0.8710841303363315,
            "count": 0
           },
           {
            "bin_start": -0.8710841303363315,
            "bin_end": -0.6404677662739753,
            "count": 0
           },
           {
            "bin_start": -0.6404677662739753,
            "bin_end": -0.4098514022116192,
            "count": 0
           },
           {
            "bin_start": -0.4098514022116192,
            "bin_end": -0.17923503814926312,
            "count": 0
           },
           {
            "bin_start": -0.17923503814926312,
            "bin_end": 0.05138132591309308,
            "count": 1
           },
           {
            "bin_start": 0.05138132591309308,
            "bin_end": 0.28199768997544905,
            "count": 0
           },
           {
            "bin_start": 0.28199768997544905,
            "bin_end": 0.5126140540378052,
            "count": 0
           },
           {
            "bin_start": 0.5126140540378052,
            "bin_end": 0.7432304181001612,
            "count": 1
           },
           {
            "bin_start": 0.7432304181001612,
            "bin_end": 0.9738467821625176,
            "count": 2
           }
          ]
         }
        },
        {
         "name": "days_since_purchase_Z",
         "dtype": "float64",
         "stats": {
          "unique_count": 5,
          "nan_count": 0,
          "min": "-1.4323975890936158",
          "max": "1.3063611603878371",
          "histogram": [
           {
            "bin_start": -1.4323975890936158,
            "bin_end": -1.1585217141454707,
            "count": 2
           },
           {
            "bin_start": -1.1585217141454707,
            "bin_end": -0.8846458391973253,
            "count": 0
           },
           {
            "bin_start": -0.8846458391973253,
            "bin_end": -0.6107699642491801,
            "count": 1
           },
           {
            "bin_start": -0.6107699642491801,
            "bin_end": -0.3368940893010348,
            "count": 0
           },
           {
            "bin_start": -0.3368940893010348,
            "bin_end": -0.06301821435288946,
            "count": 0
           },
           {
            "bin_start": -0.06301821435288946,
            "bin_end": 0.21085766059525568,
            "count": 0
           },
           {
            "bin_start": 0.21085766059525568,
            "bin_end": 0.4847335355434008,
            "count": 0
           },
           {
            "bin_start": 0.4847335355434008,
            "bin_end": 0.7586094104915462,
            "count": 1
           },
           {
            "bin_start": 0.7586094104915462,
            "bin_end": 1.0324852854396915,
            "count": 0
           },
           {
            "bin_start": 1.0324852854396915,
            "bin_end": 1.3063611603878371,
            "count": 1
           }
          ]
         }
        },
        {
         "name": "annual_spend_Z",
         "dtype": "float64",
         "stats": {
          "unique_count": 5,
          "nan_count": 0,
          "min": "-1.5531285218827995",
          "max": "0.8981816495443725",
          "histogram": [
           {
            "bin_start": -1.5531285218827995,
            "bin_end": -1.3079975047400823,
            "count": 1
           },
           {
            "bin_start": -1.3079975047400823,
            "bin_end": -1.0628664875973652,
            "count": 0
           },
           {
            "bin_start": -1.0628664875973652,
            "bin_end": -0.817735470454648,
            "count": 0
           },
           {
            "bin_start": -0.817735470454648,
            "bin_end": -0.5726044533119308,
            "count": 0
           },
           {
            "bin_start": -0.5726044533119308,
            "bin_end": -0.32747343616921354,
            "count": 0
           },
           {
            "bin_start": -0.32747343616921354,
            "bin_end": -0.08234241902649653,
            "count": 0
           },
           {
            "bin_start": -0.08234241902649653,
            "bin_end": 0.1627885981162207,
            "count": 2
           },
           {
            "bin_start": 0.1627885981162207,
            "bin_end": 0.40791961525893794,
            "count": 0
           },
           {
            "bin_start": 0.40791961525893794,
            "bin_end": 0.6530506324016552,
            "count": 0
           },
           {
            "bin_start": 0.6530506324016552,
            "bin_end": 0.8981816495443725,
            "count": 2
           }
          ]
         }
        },
        {
         "name": "_deepnote_index_column",
         "dtype": "int64"
        }
       ],
       "rows_top": [
        {
         "income": 37453,
         "age": 48,
         "days_since_purchase": 504,
         "annual_spend": 4441,
         "income_Z": -0.8904264375301664,
         "age_Z": 0.6048605996627479,
         "days_since_purchase_Z": 0.7532567875283905,
         "annual_spend_Z": 0.06227587994876654,
         "_deepnote_index_column": 0
        },
        {
         "income": 50775,
         "age": 50,
         "days_since_purchase": 566,
         "annual_spend": 4239,
         "income_Z": -0.5530940506487212,
         "age_Z": 0.7893536909126327,
         "days_since_purchase_Z": 1.3063611603878371,
         "annual_spend_Z": -0.05893945778153671,
         "_deepnote_index_column": 1
        },
        {
         "income": 71047,
         "age": 41,
         "days_since_purchase": 326,
         "annual_spend": 5834,
         "income_Z": -0.03977757062615283,
         "age_Z": -0.0408652197118493,
         "days_since_purchase_Z": -0.8346880248745365,
         "annual_spend_Z": 0.8981816495443725,
         "_deepnote_index_column": 2
        },
        {
         "income": 52239,
         "age": 52,
         "days_since_purchase": 259,
         "annual_spend": 5456,
         "income_Z": -0.516023444553958,
         "age_Z": 0.9738467821625176,
         "days_since_purchase_Z": -1.4323975890936158,
         "annual_spend_Z": 0.6713529482470725,
         "_deepnote_index_column": 3
        },
        {
         "income": 112343,
         "age": 27,
         "days_since_purchase": 279,
         "annual_spend": 1749,
         "income_Z": 1.005897121511376,
         "age_Z": -1.3323168584610436,
         "days_since_purchase_Z": -1.2539768236550846,
         "annual_spend_Z": -1.5531285218827995,
         "_deepnote_index_column": 4
        }
       ],
       "rows_bottom": null
      },
      "text/plain": "   income  age  days_since_purchase  annual_spend  income_Z     age_Z  \\\n0   37453   48                  504          4441 -0.890426  0.604861   \n1   50775   50                  566          4239 -0.553094  0.789354   \n2   71047   41                  326          5834 -0.039778 -0.040865   \n3   52239   52                  259          5456 -0.516023  0.973847   \n4  112343   27                  279          1749  1.005897 -1.332317   \n\n   days_since_purchase_Z  annual_spend_Z  \n0               0.753257        0.062276  \n1               1.306361       -0.058939  \n2              -0.834688        0.898182  \n3              -1.432398        0.671353  \n4              -1.253977       -1.553129  ",
      "text/html": "<div>\n<style scoped>\n    .dataframe tbody tr th:only-of-type {\n        vertical-align: middle;\n    }\n\n    .dataframe tbody tr th {\n        vertical-align: top;\n    }\n\n    .dataframe thead th {\n        text-align: right;\n    }\n</style>\n<table border=\"1\" class=\"dataframe\">\n  <thead>\n    <tr style=\"text-align: right;\">\n      <th></th>\n      <th>income</th>\n      <th>age</th>\n      <th>days_since_purchase</th>\n      <th>annual_spend</th>\n      <th>income_Z</th>\n      <th>age_Z</th>\n      <th>days_since_purchase_Z</th>\n      <th>annual_spend_Z</th>\n    </tr>\n  </thead>\n  <tbody>\n    <tr>\n      <th>0</th>\n      <td>37453</td>\n      <td>48</td>\n      <td>504</td>\n      <td>4441</td>\n      <td>-0.890426</td>\n      <td>0.604861</td>\n      <td>0.753257</td>\n      <td>0.062276</td>\n    </tr>\n    <tr>\n      <th>1</th>\n      <td>50775</td>\n      <td>50</td>\n      <td>566</td>\n      <td>4239</td>\n      <td>-0.553094</td>\n      <td>0.789354</td>\n      <td>1.306361</td>\n      <td>-0.058939</td>\n    </tr>\n    <tr>\n      <th>2</th>\n      <td>71047</td>\n      <td>41</td>\n      <td>326</td>\n      <td>5834</td>\n      <td>-0.039778</td>\n      <td>-0.040865</td>\n      <td>-0.834688</td>\n      <td>0.898182</td>\n    </tr>\n    <tr>\n      <th>3</th>\n      <td>52239</td>\n      <td>52</td>\n      <td>259</td>\n      <td>5456</td>\n      <td>-0.516023</td>\n      <td>0.973847</td>\n      <td>-1.432398</td>\n      <td>0.671353</td>\n    </tr>\n    <tr>\n      <th>4</th>\n      <td>112343</td>\n      <td>27</td>\n      <td>279</td>\n      <td>1749</td>\n      <td>1.005897</td>\n      <td>-1.332317</td>\n      <td>-1.253977</td>\n      <td>-1.553129</td>\n    </tr>\n  </tbody>\n</table>\n</div>"
     },
     "metadata": {}
    }
   ]
  },
  {
   "cell_type": "code",
   "metadata": {
    "tags": [],
    "cell_id": "00003-00624a7d-f8e5-4dfd-b254-7c54cda1be30",
    "deepnote_to_be_reexecuted": false,
    "source_hash": "4b936554",
    "execution_start": 1628568087954,
    "execution_millis": 5,
    "deepnote_cell_type": "code"
   },
   "source": "columns_z",
   "execution_count": null,
   "outputs": [
    {
     "output_type": "execute_result",
     "execution_count": 5,
     "data": {
      "text/plain": "['income_Z', 'age_Z', 'days_since_purchase_Z', 'annual_spend_Z']"
     },
     "metadata": {}
    }
   ]
  },
  {
   "cell_type": "code",
   "metadata": {
    "tags": [],
    "cell_id": "00003-72468f35-4232-43ac-8474-22e0d529bfad",
    "deepnote_to_be_reexecuted": false,
    "source_hash": "e0aad5d5",
    "execution_start": 1628568120566,
    "execution_millis": 4446,
    "deepnote_cell_type": "code"
   },
   "source": "from sklearn.cluster import KMeans\n\nwcss = []\nfor i in range(1, 11):\n    kmeans = KMeans(n_clusters=i, random_state=10)\n    kmeans.fit(four_cols[columns_z].values)\n    wcss.append(kmeans.inertia_)\nplt.plot(range(1, 11), wcss)\nplt.title('Elbow Method')\nplt.xlabel('Number of clusters')\nplt.ylabel('WCSS')\nplt.show()",
   "execution_count": null,
   "outputs": [
    {
     "data": {
      "text/plain": "<Figure size 432x288 with 1 Axes>",
      "image/png": "[encoded data removed]"
     },
     "metadata": {
      "needs_background": "light",
      "image/png": {
       "width": 395,
       "height": 278
      }
     },
     "output_type": "display_data"
    }
   ]
  },
  {
   "cell_type": "code",
   "metadata": {
    "tags": [],
    "cell_id": "00004-1d667199-de3f-4887-a6de-ff96fc83566f",
    "deepnote_to_be_reexecuted": false,
    "source_hash": "2c25fa4b",
    "execution_start": 1628568275154,
    "execution_millis": 487,
    "deepnote_cell_type": "code"
   },
   "source": "from sklearn.cluster import KMeans\n\nmodel = KMeans( n_clusters = 5,\n                random_state = 10)\nmodel.fit(four_cols[columns_z])\nfour_cols['Cluster'] = model.labels_\nfour_cols.head()",
   "execution_count": null,
   "outputs": [
    {
     "output_type": "execute_result",
     "execution_count": 8,
     "data": {
      "application/vnd.deepnote.dataframe.v2+json": {
       "row_count": 5,
       "column_count": 9,
       "columns": [
        {
         "name": "income",
         "dtype": "int64",
         "stats": {
          "unique_count": 5,
          "nan_count": 0,
          "min": "37453",
          "max": "112343",
          "histogram": [
           {
            "bin_start": 37453,
            "bin_end": 44942,
            "count": 1
           },
           {
            "bin_start": 44942,
            "bin_end": 52431,
            "count": 2
           },
           {
            "bin_start": 52431,
            "bin_end": 59920,
            "count": 0
           },
           {
            "bin_start": 59920,
            "bin_end": 67409,
            "count": 0
           },
           {
            "bin_start": 67409,
            "bin_end": 74898,
            "count": 1
           },
           {
            "bin_start": 74898,
            "bin_end": 82387,
            "count": 0
           },
           {
            "bin_start": 82387,
            "bin_end": 89876,
            "count": 0
           },
           {
            "bin_start": 89876,
            "bin_end": 97365,
            "count": 0
           },
           {
            "bin_start": 97365,
            "bin_end": 104854,
            "count": 0
           },
           {
            "bin_start": 104854,
            "bin_end": 112343,
            "count": 1
           }
          ]
         }
        },
        {
         "name": "age",
         "dtype": "int64",
         "stats": {
          "unique_count": 5,
          "nan_count": 0,
          "min": "27",
          "max": "52",
          "histogram": [
           {
            "bin_start": 27,
            "bin_end": 29.5,
            "count": 1
           },
           {
            "bin_start": 29.5,
            "bin_end": 32,
            "count": 0
           },
           {
            "bin_start": 32,
            "bin_end": 34.5,
            "count": 0
           },
           {
            "bin_start": 34.5,
            "bin_end": 37,
            "count": 0
           },
           {
            "bin_start": 37,
            "bin_end": 39.5,
            "count": 0
           },
           {
            "bin_start": 39.5,
            "bin_end": 42,
            "count": 1
           },
           {
            "bin_start": 42,
            "bin_end": 44.5,
            "count": 0
           },
           {
            "bin_start": 44.5,
            "bin_end": 47,
            "count": 0
           },
           {
            "bin_start": 47,
            "bin_end": 49.5,
            "count": 1
           },
           {
            "bin_start": 49.5,
            "bin_end": 52,
            "count": 2
           }
          ]
         }
        },
        {
         "name": "days_since_purchase",
         "dtype": "int64",
         "stats": {
          "unique_count": 5,
          "nan_count": 0,
          "min": "259",
          "max": "566",
          "histogram": [
           {
            "bin_start": 259,
            "bin_end": 289.7,
            "count": 2
           },
           {
            "bin_start": 289.7,
            "bin_end": 320.4,
            "count": 0
           },
           {
            "bin_start": 320.4,
            "bin_end": 351.1,
            "count": 1
           },
           {
            "bin_start": 351.1,
            "bin_end": 381.8,
            "count": 0
           },
           {
            "bin_start": 381.8,
            "bin_end": 412.5,
            "count": 0
           },
           {
            "bin_start": 412.5,
            "bin_end": 443.2,
            "count": 0
           },
           {
            "bin_start": 443.2,
            "bin_end": 473.9,
            "count": 0
           },
           {
            "bin_start": 473.9,
            "bin_end": 504.6,
            "count": 1
           },
           {
            "bin_start": 504.6,
            "bin_end": 535.3,
            "count": 0
           },
           {
            "bin_start": 535.3,
            "bin_end": 566,
            "count": 1
           }
          ]
         }
        },
        {
         "name": "annual_spend",
         "dtype": "int64",
         "stats": {
          "unique_count": 5,
          "nan_count": 0,
          "min": "1749",
          "max": "5834",
          "histogram": [
           {
            "bin_start": 1749,
            "bin_end": 2157.5,
            "count": 1
           },
           {
            "bin_start": 2157.5,
            "bin_end": 2566,
            "count": 0
           },
           {
            "bin_start": 2566,
            "bin_end": 2974.5,
            "count": 0
           },
           {
            "bin_start": 2974.5,
            "bin_end": 3383,
            "count": 0
           },
           {
            "bin_start": 3383,
            "bin_end": 3791.5,
            "count": 0
           },
           {
            "bin_start": 3791.5,
            "bin_end": 4200,
            "count": 0
           },
           {
            "bin_start": 4200,
            "bin_end": 4608.5,
            "count": 2
           },
           {
            "bin_start": 4608.5,
            "bin_end": 5017,
            "count": 0
           },
           {
            "bin_start": 5017,
            "bin_end": 5425.5,
            "count": 0
           },
           {
            "bin_start": 5425.5,
            "bin_end": 5834,
            "count": 2
           }
          ]
         }
        },
        {
         "name": "income_Z",
         "dtype": "float64",
         "stats": {
          "unique_count": 5,
          "nan_count": 0,
          "min": "-0.8904264375301664",
          "max": "1.005897121511376",
          "histogram": [
           {
            "bin_start": -0.8904264375301664,
            "bin_end": -0.7007940816260121,
            "count": 1
           },
           {
            "bin_start": -0.7007940816260121,
            "bin_end": -0.5111617257218579,
            "count": 2
           },
           {
            "bin_start": -0.5111617257218579,
            "bin_end": -0.32152936981770364,
            "count": 0
           },
           {
            "bin_start": -0.32152936981770364,
            "bin_end": -0.13189701391354947,
            "count": 0
           },
           {
            "bin_start": -0.13189701391354947,
            "bin_end": 0.057735341990604705,
            "count": 1
           },
           {
            "bin_start": 0.057735341990604705,
            "bin_end": 0.2473676978947591,
            "count": 0
           },
           {
            "bin_start": 0.2473676978947591,
            "bin_end": 0.43700005379891327,
            "count": 0
           },
           {
            "bin_start": 0.43700005379891327,
            "bin_end": 0.6266324097030674,
            "count": 0
           },
           {
            "bin_start": 0.6266324097030674,
            "bin_end": 0.8162647656072216,
            "count": 0
           },
           {
            "bin_start": 0.8162647656072216,
            "bin_end": 1.005897121511376,
            "count": 1
           }
          ]
         }
        },
        {
         "name": "age_Z",
         "dtype": "float64",
         "stats": {
          "unique_count": 5,
          "nan_count": 0,
          "min": "-1.3323168584610436",
          "max": "0.9738467821625176",
          "histogram": [
           {
            "bin_start": -1.3323168584610436,
            "bin_end": -1.1017004943986874,
            "count": 1
           },
           {
            "bin_start": -1.1017004943986874,
            "bin_end": -0.8710841303363315,
            "count": 0
           },
           {
            "bin_start": -0.8710841303363315,
            "bin_end": -0.6404677662739753,
            "count": 0
           },
           {
            "bin_start": -0.6404677662739753,
            "bin_end": -0.4098514022116192,
            "count": 0
           },
           {
            "bin_start": -0.4098514022116192,
            "bin_end": -0.17923503814926312,
            "count": 0
           },
           {
            "bin_start": -0.17923503814926312,
            "bin_end": 0.05138132591309308,
            "count": 1
           },
           {
            "bin_start": 0.05138132591309308,
            "bin_end": 0.28199768997544905,
            "count": 0
           },
           {
            "bin_start": 0.28199768997544905,
            "bin_end": 0.5126140540378052,
            "count": 0
           },
           {
            "bin_start": 0.5126140540378052,
            "bin_end": 0.7432304181001612,
            "count": 1
           },
           {
            "bin_start": 0.7432304181001612,
            "bin_end": 0.9738467821625176,
            "count": 2
           }
          ]
         }
        },
        {
         "name": "days_since_purchase_Z",
         "dtype": "float64",
         "stats": {
          "unique_count": 5,
          "nan_count": 0,
          "min": "-1.4323975890936158",
          "max": "1.3063611603878371",
          "histogram": [
           {
            "bin_start": -1.4323975890936158,
            "bin_end": -1.1585217141454707,
            "count": 2
           },
           {
            "bin_start": -1.1585217141454707,
            "bin_end": -0.8846458391973253,
            "count": 0
           },
           {
            "bin_start": -0.8846458391973253,
            "bin_end": -0.6107699642491801,
            "count": 1
           },
           {
            "bin_start": -0.6107699642491801,
            "bin_end": -0.3368940893010348,
            "count": 0
           },
           {
            "bin_start": -0.3368940893010348,
            "bin_end": -0.06301821435288946,
            "count": 0
           },
           {
            "bin_start": -0.06301821435288946,
            "bin_end": 0.21085766059525568,
            "count": 0
           },
           {
            "bin_start": 0.21085766059525568,
            "bin_end": 0.4847335355434008,
            "count": 0
           },
           {
            "bin_start": 0.4847335355434008,
            "bin_end": 0.7586094104915462,
            "count": 1
           },
           {
            "bin_start": 0.7586094104915462,
            "bin_end": 1.0324852854396915,
            "count": 0
           },
           {
            "bin_start": 1.0324852854396915,
            "bin_end": 1.3063611603878371,
            "count": 1
           }
          ]
         }
        },
        {
         "name": "annual_spend_Z",
         "dtype": "float64",
         "stats": {
          "unique_count": 5,
          "nan_count": 0,
          "min": "-1.5531285218827995",
          "max": "0.8981816495443725",
          "histogram": [
           {
            "bin_start": -1.5531285218827995,
            "bin_end": -1.3079975047400823,
            "count": 1
           },
           {
            "bin_start": -1.3079975047400823,
            "bin_end": -1.0628664875973652,
            "count": 0
           },
           {
            "bin_start": -1.0628664875973652,
            "bin_end": -0.817735470454648,
            "count": 0
           },
           {
            "bin_start": -0.817735470454648,
            "bin_end": -0.5726044533119308,
            "count": 0
           },
           {
            "bin_start": -0.5726044533119308,
            "bin_end": -0.32747343616921354,
            "count": 0
           },
           {
            "bin_start": -0.32747343616921354,
            "bin_end": -0.08234241902649653,
            "count": 0
           },
           {
            "bin_start": -0.08234241902649653,
            "bin_end": 0.1627885981162207,
            "count": 2
           },
           {
            "bin_start": 0.1627885981162207,
            "bin_end": 0.40791961525893794,
            "count": 0
           },
           {
            "bin_start": 0.40791961525893794,
            "bin_end": 0.6530506324016552,
            "count": 0
           },
           {
            "bin_start": 0.6530506324016552,
            "bin_end": 0.8981816495443725,
            "count": 2
           }
          ]
         }
        },
        {
         "name": "Cluster",
         "dtype": "int32",
         "stats": {
          "unique_count": 3,
          "nan_count": 0,
          "min": "0",
          "max": "4",
          "histogram": [
           {
            "bin_start": 0,
            "bin_end": 0.4,
            "count": 2
           },
           {
            "bin_start": 0.4,
            "bin_end": 0.8,
            "count": 0
           },
           {
            "bin_start": 0.8,
            "bin_end": 1.2000000000000002,
            "count": 0
           },
           {
            "bin_start": 1.2000000000000002,
            "bin_end": 1.6,
            "count": 0
           },
           {
            "bin_start": 1.6,
            "bin_end": 2,
            "count": 0
           },
           {
            "bin_start": 2,
            "bin_end": 2.4000000000000004,
            "count": 0
           },
           {
            "bin_start": 2.4000000000000004,
            "bin_end": 2.8000000000000003,
            "count": 0
           },
           {
            "bin_start": 2.8000000000000003,
            "bin_end": 3.2,
            "count": 1
           },
           {
            "bin_start": 3.2,
            "bin_end": 3.6,
            "count": 0
           },
           {
            "bin_start": 3.6,
            "bin_end": 4,
            "count": 2
           }
          ]
         }
        },
        {
         "name": "_deepnote_index_column",
         "dtype": "int64"
        }
       ],
       "rows_top": [
        {
         "income": 37453,
         "age": 48,
         "days_since_purchase": 504,
         "annual_spend": 4441,
         "income_Z": -0.8904264375301664,
         "age_Z": 0.6048605996627479,
         "days_since_purchase_Z": 0.7532567875283905,
         "annual_spend_Z": 0.06227587994876654,
         "Cluster": 0,
         "_deepnote_index_column": 0
        },
        {
         "income": 50775,
         "age": 50,
         "days_since_purchase": 566,
         "annual_spend": 4239,
         "income_Z": -0.5530940506487212,
         "age_Z": 0.7893536909126327,
         "days_since_purchase_Z": 1.3063611603878371,
         "annual_spend_Z": -0.05893945778153671,
         "Cluster": 0,
         "_deepnote_index_column": 1
        },
        {
         "income": 71047,
         "age": 41,
         "days_since_purchase": 326,
         "annual_spend": 5834,
         "income_Z": -0.03977757062615283,
         "age_Z": -0.0408652197118493,
         "days_since_purchase_Z": -0.8346880248745365,
         "annual_spend_Z": 0.8981816495443725,
         "Cluster": 4,
         "_deepnote_index_column": 2
        },
        {
         "income": 52239,
         "age": 52,
         "days_since_purchase": 259,
         "annual_spend": 5456,
         "income_Z": -0.516023444553958,
         "age_Z": 0.9738467821625176,
         "days_since_purchase_Z": -1.4323975890936158,
         "annual_spend_Z": 0.6713529482470725,
         "Cluster": 4,
         "_deepnote_index_column": 3
        },
        {
         "income": 112343,
         "age": 27,
         "days_since_purchase": 279,
         "annual_spend": 1749,
         "income_Z": 1.005897121511376,
         "age_Z": -1.3323168584610436,
         "days_since_purchase_Z": -1.2539768236550846,
         "annual_spend_Z": -1.5531285218827995,
         "Cluster": 3,
         "_deepnote_index_column": 4
        }
       ],
       "rows_bottom": null
      },
      "text/plain": "   income  age  days_since_purchase  annual_spend  income_Z     age_Z  \\\n0   37453   48                  504          4441 -0.890426  0.604861   \n1   50775   50                  566          4239 -0.553094  0.789354   \n2   71047   41                  326          5834 -0.039778 -0.040865   \n3   52239   52                  259          5456 -0.516023  0.973847   \n4  112343   27                  279          1749  1.005897 -1.332317   \n\n   days_since_purchase_Z  annual_spend_Z  Cluster  \n0               0.753257        0.062276        0  \n1               1.306361       -0.058939        0  \n2              -0.834688        0.898182        4  \n3              -1.432398        0.671353        4  \n4              -1.253977       -1.553129        3  ",
      "text/html": "<div>\n<style scoped>\n    .dataframe tbody tr th:only-of-type {\n        vertical-align: middle;\n    }\n\n    .dataframe tbody tr th {\n        vertical-align: top;\n    }\n\n    .dataframe thead th {\n        text-align: right;\n    }\n</style>\n<table border=\"1\" class=\"dataframe\">\n  <thead>\n    <tr style=\"text-align: right;\">\n      <th></th>\n      <th>income</th>\n      <th>age</th>\n      <th>days_since_purchase</th>\n      <th>annual_spend</th>\n      <th>income_Z</th>\n      <th>age_Z</th>\n      <th>days_since_purchase_Z</th>\n      <th>annual_spend_Z</th>\n      <th>Cluster</th>\n    </tr>\n  </thead>\n  <tbody>\n    <tr>\n      <th>0</th>\n      <td>37453</td>\n      <td>48</td>\n      <td>504</td>\n      <td>4441</td>\n      <td>-0.890426</td>\n      <td>0.604861</td>\n      <td>0.753257</td>\n      <td>0.062276</td>\n      <td>0</td>\n    </tr>\n    <tr>\n      <th>1</th>\n      <td>50775</td>\n      <td>50</td>\n      <td>566</td>\n      <td>4239</td>\n      <td>-0.553094</td>\n      <td>0.789354</td>\n      <td>1.306361</td>\n      <td>-0.058939</td>\n      <td>0</td>\n    </tr>\n    <tr>\n      <th>2</th>\n      <td>71047</td>\n      <td>41</td>\n      <td>326</td>\n      <td>5834</td>\n      <td>-0.039778</td>\n      <td>-0.040865</td>\n      <td>-0.834688</td>\n      <td>0.898182</td>\n      <td>4</td>\n    </tr>\n    <tr>\n      <th>3</th>\n      <td>52239</td>\n      <td>52</td>\n      <td>259</td>\n      <td>5456</td>\n      <td>-0.516023</td>\n      <td>0.973847</td>\n      <td>-1.432398</td>\n      <td>0.671353</td>\n      <td>4</td>\n    </tr>\n    <tr>\n      <th>4</th>\n      <td>112343</td>\n      <td>27</td>\n      <td>279</td>\n      <td>1749</td>\n      <td>1.005897</td>\n      <td>-1.332317</td>\n      <td>-1.253977</td>\n      <td>-1.553129</td>\n      <td>3</td>\n    </tr>\n  </tbody>\n</table>\n</div>"
     },
     "metadata": {}
    }
   ]
  },
  {
   "cell_type": "code",
   "metadata": {
    "tags": [],
    "cell_id": "00005-003f87d7-a8e8-4d94-9e1f-2f5d6f5b3632",
    "deepnote_to_be_reexecuted": false,
    "source_hash": "7c896b84",
    "execution_start": 1628568353429,
    "execution_millis": 802,
    "deepnote_cell_type": "code"
   },
   "source": "from sklearn.decomposition import PCA\n\npca = PCA(n_components = 2)\nfour_cols['PC1'], four_cols['PC2'] = zip(* pca.fit_transform(four_cols[columns_z]))\n\nplt.figure(figsize = (20,20))\nsns.lmplot( x = 'PC1',\n            y = 'PC2',\n            data = four_cols,\n            hue = 'Cluster',\n            markers = ['x','o','d','s','P'],\n            fit_reg = False,\n             palette=\"Set2\")",
   "execution_count": null,
   "outputs": [
    {
     "output_type": "execute_result",
     "execution_count": 9,
     "data": {
      "text/plain": "<seaborn.axisgrid.FacetGrid at 0x7fd179cba350>"
     },
     "metadata": {}
    },
    {
     "data": {
      "text/plain": "<Figure size 1440x1440 with 0 Axes>"
     },
     "metadata": {},
     "output_type": "display_data"
    },
    {
     "data": {
      "text/plain": "<Figure size 403.5x360 with 1 Axes>",
      "image/png": "[encoded data removed]"
     },
     "metadata": {
      "needs_background": "light",
      "image/png": {
       "width": 412,
       "height": 366
      }
     },
     "output_type": "display_data"
    }
   ]
  },
  {
   "cell_type": "code",
   "metadata": {
    "tags": [],
    "cell_id": "00007-91b210ff-199e-40b0-be5b-613e26614a1c",
    "deepnote_to_be_reexecuted": false,
    "source_hash": "3f8f4eb2",
    "execution_start": 1628568426878,
    "execution_millis": 10,
    "deepnote_cell_type": "code"
   },
   "source": "four_cols.columns",
   "execution_count": null,
   "outputs": [
    {
     "output_type": "execute_result",
     "execution_count": 10,
     "data": {
      "text/plain": "Index(['income', 'age', 'days_since_purchase', 'annual_spend', 'income_Z',\n       'age_Z', 'days_since_purchase_Z', 'annual_spend_Z', 'Cluster', 'PC1',\n       'PC2'],\n      dtype='object')"
     },
     "metadata": {}
    }
   ]
  },
  {
   "cell_type": "code",
   "metadata": {
    "tags": [],
    "cell_id": "00005-7eeaac2a-2639-4697-b8f5-6a32abe022f6",
    "deepnote_to_be_reexecuted": false,
    "source_hash": "2471c5b1",
    "execution_start": 1628568444806,
    "execution_millis": 71,
    "deepnote_cell_type": "code"
   },
   "source": "four_cols.groupby(['Cluster'])[['income', 'age', 'days_since_purchase', 'annual_spend']].mean().reset_index()\n",
   "execution_count": null,
   "outputs": [
    {
     "output_type": "execute_result",
     "execution_count": 11,
     "data": {
      "application/vnd.deepnote.dataframe.v2+json": {
       "row_count": 5,
       "column_count": 5,
       "columns": [
        {
         "name": "Cluster",
         "dtype": "int64",
         "stats": {
          "unique_count": 5,
          "nan_count": 0,
          "min": "0",
          "max": "4",
          "histogram": [
           {
            "bin_start": 0,
            "bin_end": 0.4,
            "count": 1
           },
           {
            "bin_start": 0.4,
            "bin_end": 0.8,
            "count": 0
           },
           {
            "bin_start": 0.8,
            "bin_end": 1.2000000000000002,
            "count": 1
           },
           {
            "bin_start": 1.2000000000000002,
            "bin_end": 1.6,
            "count": 0
           },
           {
            "bin_start": 1.6,
            "bin_end": 2,
            "count": 0
           },
           {
            "bin_start": 2,
            "bin_end": 2.4000000000000004,
            "count": 1
           },
           {
            "bin_start": 2.4000000000000004,
            "bin_end": 2.8000000000000003,
            "count": 0
           },
           {
            "bin_start": 2.8000000000000003,
            "bin_end": 3.2,
            "count": 1
           },
           {
            "bin_start": 3.2,
            "bin_end": 3.6,
            "count": 0
           },
           {
            "bin_start": 3.6,
            "bin_end": 4,
            "count": 1
           }
          ]
         }
        },
        {
         "name": "income",
         "dtype": "float64",
         "stats": {
          "unique_count": 5,
          "nan_count": 0,
          "min": "42643.611940298506",
          "max": "116310.54271356783",
          "histogram": [
           {
            "bin_start": 42643.611940298506,
            "bin_end": 50010.30501762544,
            "count": 3
           },
           {
            "bin_start": 50010.30501762544,
            "bin_end": 57376.998094952374,
            "count": 0
           },
           {
            "bin_start": 57376.998094952374,
            "bin_end": 64743.6911722793,
            "count": 0
           },
           {
            "bin_start": 64743.6911722793,
            "bin_end": 72110.38424960623,
            "count": 0
           },
           {
            "bin_start": 72110.38424960623,
            "bin_end": 79477.07732693317,
            "count": 0
           },
           {
            "bin_start": 79477.07732693317,
            "bin_end": 86843.7704042601,
            "count": 0
           },
           {
            "bin_start": 86843.7704042601,
            "bin_end": 94210.46348158704,
            "count": 0
           },
           {
            "bin_start": 94210.46348158704,
            "bin_end": 101577.15655891396,
            "count": 0
           },
           {
            "bin_start": 101577.15655891396,
            "bin_end": 108943.84963624089,
            "count": 0
           },
           {
            "bin_start": 108943.84963624089,
            "bin_end": 116310.54271356783,
            "count": 2
           }
          ]
         }
        },
        {
         "name": "age",
         "dtype": "float64",
         "stats": {
          "unique_count": 5,
          "nan_count": 0,
          "min": "29.29145728643216",
          "max": "50.0507614213198",
          "histogram": [
           {
            "bin_start": 29.29145728643216,
            "bin_end": 31.367387699920922,
            "count": 2
           },
           {
            "bin_start": 31.367387699920922,
            "bin_end": 33.44331811340969,
            "count": 0
           },
           {
            "bin_start": 33.44331811340969,
            "bin_end": 35.51924852689845,
            "count": 0
           },
           {
            "bin_start": 35.51924852689845,
            "bin_end": 37.595178940387214,
            "count": 0
           },
           {
            "bin_start": 37.595178940387214,
            "bin_end": 39.67110935387598,
            "count": 0
           },
           {
            "bin_start": 39.67110935387598,
            "bin_end": 41.74703976736474,
            "count": 0
           },
           {
            "bin_start": 41.74703976736474,
            "bin_end": 43.8229701808535,
            "count": 0
           },
           {
            "bin_start": 43.8229701808535,
            "bin_end": 45.898900594342265,
            "count": 0
           },
           {
            "bin_start": 45.898900594342265,
            "bin_end": 47.97483100783103,
            "count": 0
           },
           {
            "bin_start": 47.97483100783103,
            "bin_end": 50.0507614213198,
            "count": 3
           }
          ]
         }
        },
        {
         "name": "days_since_purchase",
         "dtype": "float64",
         "stats": {
          "unique_count": 5,
          "nan_count": 0,
          "min": "294.1256281407035",
          "max": "505.2182741116751",
          "histogram": [
           {
            "bin_start": 294.1256281407035,
            "bin_end": 315.23489273780064,
            "count": 2
           },
           {
            "bin_start": 315.23489273780064,
            "bin_end": 336.34415733489783,
            "count": 0
           },
           {
            "bin_start": 336.34415733489783,
            "bin_end": 357.45342193199497,
            "count": 0
           },
           {
            "bin_start": 357.45342193199497,
            "bin_end": 378.56268652909216,
            "count": 0
           },
           {
            "bin_start": 378.56268652909216,
            "bin_end": 399.6719511261893,
            "count": 0
           },
           {
            "bin_start": 399.6719511261893,
            "bin_end": 420.78121572328644,
            "count": 0
           },
           {
            "bin_start": 420.78121572328644,
            "bin_end": 441.89048032038363,
            "count": 0
           },
           {
            "bin_start": 441.89048032038363,
            "bin_end": 462.99974491748077,
            "count": 0
           },
           {
            "bin_start": 462.99974491748077,
            "bin_end": 484.1090095145779,
            "count": 0
           },
           {
            "bin_start": 484.1090095145779,
            "bin_end": 505.2182741116751,
            "count": 3
           }
          ]
         }
        },
        {
         "name": "annual_spend",
         "dtype": "float64",
         "stats": {
          "unique_count": 5,
          "nan_count": 0,
          "min": "2501.7286432160804",
          "max": "5574.0",
          "histogram": [
           {
            "bin_start": 2501.7286432160804,
            "bin_end": 2808.955778894472,
            "count": 2
           },
           {
            "bin_start": 2808.955778894472,
            "bin_end": 3116.1829145728643,
            "count": 0
           },
           {
            "bin_start": 3116.1829145728643,
            "bin_end": 3423.4100502512565,
            "count": 0
           },
           {
            "bin_start": 3423.4100502512565,
            "bin_end": 3730.6371859296482,
            "count": 0
           },
           {
            "bin_start": 3730.6371859296482,
            "bin_end": 4037.86432160804,
            "count": 0
           },
           {
            "bin_start": 4037.86432160804,
            "bin_end": 4345.091457286432,
            "count": 0
           },
           {
            "bin_start": 4345.091457286432,
            "bin_end": 4652.318592964824,
            "count": 0
           },
           {
            "bin_start": 4652.318592964824,
            "bin_end": 4959.545728643216,
            "count": 0
           },
           {
            "bin_start": 4959.545728643216,
            "bin_end": 5266.772864321609,
            "count": 0
           },
           {
            "bin_start": 5266.772864321609,
            "bin_end": 5574,
            "count": 3
           }
          ]
         }
        },
        {
         "name": "_deepnote_index_column",
         "dtype": "int64"
        }
       ],
       "rows_top": [
        {
         "Cluster": 0,
         "income": 43101.812182741116,
         "age": 50.0507614213198,
         "days_since_purchase": 505.2182741116751,
         "annual_spend": 5568.370558375635,
         "_deepnote_index_column": 0
        },
        {
         "Cluster": 1,
         "income": 42643.611940298506,
         "age": 30.039800995024876,
         "days_since_purchase": 500.56716417910445,
         "annual_spend": 2501.7611940298507,
         "_deepnote_index_column": 1
        },
        {
         "Cluster": 2,
         "income": 115626.49019607843,
         "age": 48.90686274509804,
         "days_since_purchase": 498.5,
         "annual_spend": 5540.818627450981,
         "_deepnote_index_column": 2
        },
        {
         "Cluster": 3,
         "income": 116310.54271356783,
         "age": 29.29145728643216,
         "days_since_purchase": 294.1256281407035,
         "annual_spend": 2501.7286432160804,
         "_deepnote_index_column": 3
        },
        {
         "Cluster": 4,
         "income": 44331.05025125628,
         "age": 48.93969849246231,
         "days_since_purchase": 297.47236180904525,
         "annual_spend": 5574,
         "_deepnote_index_column": 4
        }
       ],
       "rows_bottom": null
      },
      "text/plain": "   Cluster         income        age  days_since_purchase  annual_spend\n0        0   43101.812183  50.050761           505.218274   5568.370558\n1        1   42643.611940  30.039801           500.567164   2501.761194\n2        2  115626.490196  48.906863           498.500000   5540.818627\n3        3  116310.542714  29.291457           294.125628   2501.728643\n4        4   44331.050251  48.939698           297.472362   5574.000000",
      "text/html": "<div>\n<style scoped>\n    .dataframe tbody tr th:only-of-type {\n        vertical-align: middle;\n    }\n\n    .dataframe tbody tr th {\n        vertical-align: top;\n    }\n\n    .dataframe thead th {\n        text-align: right;\n    }\n</style>\n<table border=\"1\" class=\"dataframe\">\n  <thead>\n    <tr style=\"text-align: right;\">\n      <th></th>\n      <th>Cluster</th>\n      <th>income</th>\n      <th>age</th>\n      <th>days_since_purchase</th>\n      <th>annual_spend</th>\n    </tr>\n  </thead>\n  <tbody>\n    <tr>\n      <th>0</th>\n      <td>0</td>\n      <td>43101.812183</td>\n      <td>50.050761</td>\n      <td>505.218274</td>\n      <td>5568.370558</td>\n    </tr>\n    <tr>\n      <th>1</th>\n      <td>1</td>\n      <td>42643.611940</td>\n      <td>30.039801</td>\n      <td>500.567164</td>\n      <td>2501.761194</td>\n    </tr>\n    <tr>\n      <th>2</th>\n      <td>2</td>\n      <td>115626.490196</td>\n      <td>48.906863</td>\n      <td>498.500000</td>\n      <td>5540.818627</td>\n    </tr>\n    <tr>\n      <th>3</th>\n      <td>3</td>\n      <td>116310.542714</td>\n      <td>29.291457</td>\n      <td>294.125628</td>\n      <td>2501.728643</td>\n    </tr>\n    <tr>\n      <th>4</th>\n      <td>4</td>\n      <td>44331.050251</td>\n      <td>48.939698</td>\n      <td>297.472362</td>\n      <td>5574.000000</td>\n    </tr>\n  </tbody>\n</table>\n</div>"
     },
     "metadata": {}
    }
   ]
  },
  {
   "cell_type": "markdown",
   "source": "<a style='text-decoration:none;line-height:16px;display:flex;color:#5B5B62;padding:10px;justify-content:end;' href='https://deepnote.com?utm_source=created-in-deepnote-cell&projectId=ff5e2091-543c-4b2c-9a56-1e41bbaff775' target=\"_blank\">\n<img alt='Created in deepnote.com' style='display:inline;max-height:16px;margin:0px;margin-right:7.5px;' src='data:image/svg+xml;base64,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' > </img>\nCreated in <span style='font-weight:600;margin-left:4px;'>Deepnote</span></a>",
   "metadata": {
    "tags": [],
    "created_in_deepnote_cell": true,
    "deepnote_cell_type": "markdown"
   }
  }
 ],
 "nbformat": 4,
 "nbformat_minor": 2,
 "metadata": {
  "orig_nbformat": 2,
  "deepnote": {
   "is_reactive": false
  },
  "deepnote_notebook_id": "b4c3eced-5456-4ea3-9ee4-fdfc52511a52",
  "deepnote_execution_queue": []
 }
}