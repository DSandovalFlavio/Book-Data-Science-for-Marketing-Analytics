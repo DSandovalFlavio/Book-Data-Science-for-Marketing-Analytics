{
 "cells": [
  {
   "cell_type": "code",
   "metadata": {
    "tags": [],
    "cell_id": "00000-d5260e50-1259-4c56-9787-96d9b00ceed0",
    "deepnote_to_be_reexecuted": false,
    "source_hash": "2849651b",
    "execution_start": 1629951757808,
    "execution_millis": 0,
    "deepnote_cell_type": "code"
   },
   "source": "import pandas as pd\ndf = pd.read_csv('four_cols.csv')",
   "outputs": [],
   "execution_count": null
  },
  {
   "cell_type": "code",
   "source": "cols = df.columns\nzcols = []\nfor col in cols:\n    df['z_' + col] = (df[col] - df[col].mean()) / df[col].std()\n    zcols.append('z_' + col)",
   "metadata": {
    "tags": [],
    "cell_id": "00001-2d9cdee6-9e99-40a1-aa55-d00ad89edf3d",
    "deepnote_to_be_reexecuted": false,
    "source_hash": "af502cf9",
    "execution_start": 1629951757808,
    "execution_millis": 1,
    "deepnote_cell_type": "code"
   },
   "outputs": [],
   "execution_count": null
  },
  {
   "cell_type": "code",
   "source": "from sklearn import cluster\nfrom sklearn import metrics\nimport matplotlib.pyplot as plt",
   "metadata": {
    "tags": [],
    "cell_id": "00002-e6190dca-62e1-436f-8ee0-1eada8a3b014",
    "deepnote_to_be_reexecuted": false,
    "source_hash": "93208c20",
    "execution_start": 1629951757809,
    "execution_millis": 2382,
    "deepnote_cell_type": "code"
   },
   "outputs": [],
   "execution_count": null
  },
  {
   "cell_type": "code",
   "source": "krange = list(range(2,11))\navg_silhouettes = []\nfor n in krange:\n    model = cluster.KMeans(n_clusters=n, random_state=10)\n    cluster_assignments = model.fit_predict(df[zcols])\n    silhouette_avg = metrics.silhouette_score(df[zcols], cluster_assignments)\n    avg_silhouettes.append(silhouette_avg)",
   "metadata": {
    "tags": [],
    "cell_id": "00003-6a408290-111a-4b08-850e-bdd5e5ce2c1a",
    "deepnote_to_be_reexecuted": false,
    "source_hash": "fa372263",
    "execution_start": 1629951760199,
    "execution_millis": 1959,
    "deepnote_cell_type": "code"
   },
   "outputs": [],
   "execution_count": null
  },
  {
   "cell_type": "code",
   "source": "plt.plot(krange, avg_silhouettes)\nplt.xlabel(\"$K$\")\nplt.ylabel(\"Average Silhouette Score\")",
   "metadata": {
    "tags": [],
    "cell_id": "00004-1a97da1a-9f7d-4352-b747-1838f976293f",
    "deepnote_to_be_reexecuted": false,
    "source_hash": "a784c63",
    "execution_start": 1629951762165,
    "execution_millis": 397,
    "deepnote_cell_type": "code"
   },
   "outputs": [
    {
     "output_type": "execute_result",
     "execution_count": 5,
     "data": {
      "text/plain": "Text(0, 0.5, 'Average Silhouette Score')"
     },
     "metadata": {}
    },
    {
     "data": {
      "text/plain": "<Figure size 432x288 with 1 Axes>",
      "image/png": "[encoded data removed]"
     },
     "metadata": {
      "needs_background": "light",
      "image/png": {
       "width": 392,
       "height": 264
      }
     },
     "output_type": "display_data"
    }
   ],
   "execution_count": null
  },
  {
   "cell_type": "code",
   "source": "model = cluster.KMeans(n_clusters=5,random_state=10)\nmodel.fit_predict(df[zcols])\nkm_silhouette = metrics.silhouette_score(df[zcols], model.labels_)\nprint('k-means silhouette score: ' + str(km_silhouette))",
   "metadata": {
    "tags": [],
    "cell_id": "00005-c6e3ddcb-11d9-42d1-934f-f733b09a8241",
    "deepnote_to_be_reexecuted": false,
    "source_hash": "ebd68f80",
    "execution_start": 1629951911625,
    "execution_millis": 136,
    "deepnote_cell_type": "code"
   },
   "outputs": [
    {
     "name": "stdout",
     "text": "k-means silhouette score: 0.4731327191810766\n",
     "output_type": "stream"
    }
   ],
   "execution_count": null
  },
  {
   "cell_type": "code",
   "source": "bandwidth = cluster.estimate_bandwidth(df[zcols], quantile=0.1)\nms = cluster.MeanShift(bandwidth=bandwidth, bin_seeding=True)\nms.fit(df[zcols])\nms_silhouette = metrics.silhouette_score(df[zcols], ms.labels_)\nprint('mean-shift silhouette score: ' + str(ms_silhouette))",
   "metadata": {
    "tags": [],
    "cell_id": "00006-0809284e-812e-4452-a020-5919ddf4e1db",
    "deepnote_to_be_reexecuted": false,
    "source_hash": "e5af76b0",
    "execution_start": 1629951971003,
    "execution_millis": 565,
    "deepnote_cell_type": "code"
   },
   "outputs": [
    {
     "name": "stdout",
     "text": "mean-shift silhouette score: 0.4728737238194506\n",
     "output_type": "stream"
    }
   ],
   "execution_count": null
  },
  {
   "cell_type": "markdown",
   "source": "<a style='text-decoration:none;line-height:16px;display:flex;color:#5B5B62;padding:10px;justify-content:end;' href='https://deepnote.com?utm_source=created-in-deepnote-cell&projectId=ff5e2091-543c-4b2c-9a56-1e41bbaff775' target=\"_blank\">\n<img alt='Created in deepnote.com' style='display:inline;max-height:16px;margin:0px;margin-right:7.5px;' src='data:image/svg+xml;base64,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' > </img>\nCreated in <span style='font-weight:600;margin-left:4px;'>Deepnote</span></a>",
   "metadata": {
    "tags": [],
    "created_in_deepnote_cell": true,
    "deepnote_cell_type": "markdown"
   }
  }
 ],
 "nbformat": 4,
 "nbformat_minor": 2,
 "metadata": {
  "orig_nbformat": 2,
  "deepnote": {
   "is_reactive": false
  },
  "deepnote_notebook_id": "a5b8f57d-f46e-431a-8f5e-f77839837a65",
  "deepnote_execution_queue": []
 }
}