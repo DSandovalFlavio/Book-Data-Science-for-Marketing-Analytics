{
 "cells": [
  {
   "cell_type": "code",
   "metadata": {
    "tags": [],
    "deepnote_to_be_reexecuted": false,
    "source_hash": "24b26b86",
    "execution_start": 1628812850032,
    "execution_millis": 505,
    "cell_id": "00000-a6cafc17-f682-4000-ad73-80a7b97b1ccc",
    "deepnote_cell_type": "code"
   },
   "source": "import pandas as pd\nimport numpy as np\nimport matplotlib.pyplot as plt\nimport seaborn as sns",
   "execution_count": null,
   "outputs": []
  },
  {
   "cell_type": "code",
   "metadata": {
    "tags": [],
    "deepnote_to_be_reexecuted": false,
    "source_hash": "cec649ee",
    "execution_start": 1628812852399,
    "execution_millis": 42,
    "cell_id": "00001-8a155cf4-725e-46b5-9cd1-72ca0291614f",
    "deepnote_cell_type": "code"
   },
   "source": "ageinc_df = pd.read_csv('ageinc.csv')\nageinc_df",
   "execution_count": null,
   "outputs": [
    {
     "output_type": "execute_result",
     "execution_count": 2,
     "data": {
      "application/vnd.deepnote.dataframe.v2+json": {
       "row_count": 1000,
       "column_count": 2,
       "columns": [
        {
         "name": "income",
         "dtype": "int64",
         "stats": {
          "unique_count": 984,
          "nan_count": 0,
          "min": "0",
          "max": "179294",
          "histogram": [
           {
            "bin_start": 0,
            "bin_end": 17929.4,
            "count": 35
           },
           {
            "bin_start": 17929.4,
            "bin_end": 35858.8,
            "count": 104
           },
           {
            "bin_start": 35858.8,
            "bin_end": 53788.200000000004,
            "count": 205
           },
           {
            "bin_start": 53788.200000000004,
            "bin_end": 71717.6,
            "count": 130
           },
           {
            "bin_start": 71717.6,
            "bin_end": 89647,
            "count": 63
           },
           {
            "bin_start": 89647,
            "bin_end": 107576.40000000001,
            "count": 128
           },
           {
            "bin_start": 107576.40000000001,
            "bin_end": 125505.80000000002,
            "count": 189
           },
           {
            "bin_start": 125505.80000000002,
            "bin_end": 143435.2,
            "count": 112
           },
           {
            "bin_start": 143435.2,
            "bin_end": 161364.6,
            "count": 31
           },
           {
            "bin_start": 161364.6,
            "bin_end": 179294,
            "count": 3
           }
          ]
         }
        },
        {
         "name": "age",
         "dtype": "int64",
         "stats": {
          "unique_count": 46,
          "nan_count": 0,
          "min": "18",
          "max": "63",
          "histogram": [
           {
            "bin_start": 18,
            "bin_end": 22.5,
            "count": 35
           },
           {
            "bin_start": 22.5,
            "bin_end": 27,
            "count": 97
           },
           {
            "bin_start": 27,
            "bin_end": 31.5,
            "count": 190
           },
           {
            "bin_start": 31.5,
            "bin_end": 36,
            "count": 122
           },
           {
            "bin_start": 36,
            "bin_end": 40.5,
            "count": 75
           },
           {
            "bin_start": 40.5,
            "bin_end": 45,
            "count": 67
           },
           {
            "bin_start": 45,
            "bin_end": 49.5,
            "count": 186
           },
           {
            "bin_start": 49.5,
            "bin_end": 54,
            "count": 119
           },
           {
            "bin_start": 54,
            "bin_end": 58.5,
            "count": 86
           },
           {
            "bin_start": 58.5,
            "bin_end": 63,
            "count": 23
           }
          ]
         }
        },
        {
         "name": "_deepnote_index_column",
         "dtype": "int64"
        }
       ],
       "rows_top": [
        {
         "income": 101743,
         "age": 58,
         "_deepnote_index_column": 0
        },
        {
         "income": 49597,
         "age": 27,
         "_deepnote_index_column": 1
        },
        {
         "income": 36517,
         "age": 52,
         "_deepnote_index_column": 2
        },
        {
         "income": 33223,
         "age": 49,
         "_deepnote_index_column": 3
        },
        {
         "income": 72994,
         "age": 53,
         "_deepnote_index_column": 4
        },
        {
         "income": 38361,
         "age": 26,
         "_deepnote_index_column": 5
        },
        {
         "income": 48579,
         "age": 29,
         "_deepnote_index_column": 6
        },
        {
         "income": 115248,
         "age": 24,
         "_deepnote_index_column": 7
        },
        {
         "income": 11527,
         "age": 31,
         "_deepnote_index_column": 8
        },
        {
         "income": 54096,
         "age": 51,
         "_deepnote_index_column": 9
        },
        {
         "income": 11783,
         "age": 29,
         "_deepnote_index_column": 10
        },
        {
         "income": 66578,
         "age": 28,
         "_deepnote_index_column": 11
        },
        {
         "income": 49199,
         "age": 27,
         "_deepnote_index_column": 12
        },
        {
         "income": 117177,
         "age": 55,
         "_deepnote_index_column": 13
        },
        {
         "income": 134379,
         "age": 48,
         "_deepnote_index_column": 14
        },
        {
         "income": 59501,
         "age": 50,
         "_deepnote_index_column": 15
        },
        {
         "income": 117846,
         "age": 27,
         "_deepnote_index_column": 16
        },
        {
         "income": 93487,
         "age": 38,
         "_deepnote_index_column": 17
        },
        {
         "income": 41563,
         "age": 31,
         "_deepnote_index_column": 18
        },
        {
         "income": 78534,
         "age": 51,
         "_deepnote_index_column": 19
        },
        {
         "income": 20851,
         "age": 26,
         "_deepnote_index_column": 20
        },
        {
         "income": 114628,
         "age": 31,
         "_deepnote_index_column": 21
        },
        {
         "income": 89332,
         "age": 50,
         "_deepnote_index_column": 22
        },
        {
         "income": 111413,
         "age": 60,
         "_deepnote_index_column": 23
        },
        {
         "income": 79333,
         "age": 24,
         "_deepnote_index_column": 24
        },
        {
         "income": 112400,
         "age": 30,
         "_deepnote_index_column": 25
        },
        {
         "income": 108937,
         "age": 61,
         "_deepnote_index_column": 26
        },
        {
         "income": 0,
         "age": 23,
         "_deepnote_index_column": 27
        },
        {
         "income": 118081,
         "age": 40,
         "_deepnote_index_column": 28
        },
        {
         "income": 130623,
         "age": 33,
         "_deepnote_index_column": 29
        },
        {
         "income": 54556,
         "age": 21,
         "_deepnote_index_column": 30
        },
        {
         "income": 71035,
         "age": 30,
         "_deepnote_index_column": 31
        },
        {
         "income": 36426,
         "age": 28,
         "_deepnote_index_column": 32
        },
        {
         "income": 103218,
         "age": 31,
         "_deepnote_index_column": 33
        },
        {
         "income": 108768,
         "age": 31,
         "_deepnote_index_column": 34
        },
        {
         "income": 104961,
         "age": 19,
         "_deepnote_index_column": 35
        },
        {
         "income": 49310,
         "age": 35,
         "_deepnote_index_column": 36
        },
        {
         "income": 54225,
         "age": 28,
         "_deepnote_index_column": 37
        },
        {
         "income": 43132,
         "age": 54,
         "_deepnote_index_column": 38
        },
        {
         "income": 116101,
         "age": 53,
         "_deepnote_index_column": 39
        },
        {
         "income": 48609,
         "age": 54,
         "_deepnote_index_column": 40
        },
        {
         "income": 43710,
         "age": 53,
         "_deepnote_index_column": 41
        },
        {
         "income": 131209,
         "age": 55,
         "_deepnote_index_column": 42
        },
        {
         "income": 113962,
         "age": 23,
         "_deepnote_index_column": 43
        },
        {
         "income": 112905,
         "age": 26,
         "_deepnote_index_column": 44
        },
        {
         "income": 145888,
         "age": 31,
         "_deepnote_index_column": 45
        },
        {
         "income": 150204,
         "age": 45,
         "_deepnote_index_column": 46
        },
        {
         "income": 126063,
         "age": 51,
         "_deepnote_index_column": 47
        },
        {
         "income": 136403,
         "age": 25,
         "_deepnote_index_column": 48
        },
        {
         "income": 59296,
         "age": 28,
         "_deepnote_index_column": 49
        },
        {
         "income": 111145,
         "age": 29,
         "_deepnote_index_column": 50
        },
        {
         "income": 48960,
         "age": 49,
         "_deepnote_index_column": 51
        },
        {
         "income": 96112,
         "age": 47,
         "_deepnote_index_column": 52
        },
        {
         "income": 21198,
         "age": 32,
         "_deepnote_index_column": 53
        },
        {
         "income": 35596,
         "age": 52,
         "_deepnote_index_column": 54
        },
        {
         "income": 24298,
         "age": 32,
         "_deepnote_index_column": 55
        },
        {
         "income": 28203,
         "age": 31,
         "_deepnote_index_column": 56
        },
        {
         "income": 54609,
         "age": 24,
         "_deepnote_index_column": 57
        },
        {
         "income": 125078,
         "age": 35,
         "_deepnote_index_column": 58
        },
        {
         "income": 51431,
         "age": 33,
         "_deepnote_index_column": 59
        },
        {
         "income": 124457,
         "age": 51,
         "_deepnote_index_column": 60
        },
        {
         "income": 36468,
         "age": 45,
         "_deepnote_index_column": 61
        },
        {
         "income": 115503,
         "age": 26,
         "_deepnote_index_column": 62
        },
        {
         "income": 124380,
         "age": 30,
         "_deepnote_index_column": 63
        },
        {
         "income": 50508,
         "age": 31,
         "_deepnote_index_column": 64
        },
        {
         "income": 136175,
         "age": 34,
         "_deepnote_index_column": 65
        },
        {
         "income": 47523,
         "age": 55,
         "_deepnote_index_column": 66
        },
        {
         "income": 132422,
         "age": 34,
         "_deepnote_index_column": 67
        },
        {
         "income": 138422,
         "age": 47,
         "_deepnote_index_column": 68
        },
        {
         "income": 131567,
         "age": 39,
         "_deepnote_index_column": 69
        },
        {
         "income": 52303,
         "age": 53,
         "_deepnote_index_column": 70
        },
        {
         "income": 86327,
         "age": 21,
         "_deepnote_index_column": 71
        },
        {
         "income": 104053,
         "age": 21,
         "_deepnote_index_column": 72
        },
        {
         "income": 117156,
         "age": 55,
         "_deepnote_index_column": 73
        },
        {
         "income": 56926,
         "age": 57,
         "_deepnote_index_column": 74
        },
        {
         "income": 60241,
         "age": 50,
         "_deepnote_index_column": 75
        },
        {
         "income": 26963,
         "age": 32,
         "_deepnote_index_column": 76
        },
        {
         "income": 114569,
         "age": 30,
         "_deepnote_index_column": 77
        },
        {
         "income": 126278,
         "age": 21,
         "_deepnote_index_column": 78
        },
        {
         "income": 110378,
         "age": 53,
         "_deepnote_index_column": 79
        },
        {
         "income": 139300,
         "age": 56,
         "_deepnote_index_column": 80
        },
        {
         "income": 53811,
         "age": 37,
         "_deepnote_index_column": 81
        },
        {
         "income": 90113,
         "age": 25,
         "_deepnote_index_column": 82
        },
        {
         "income": 39116,
         "age": 43,
         "_deepnote_index_column": 83
        },
        {
         "income": 112443,
         "age": 29,
         "_deepnote_index_column": 84
        },
        {
         "income": 27603,
         "age": 54,
         "_deepnote_index_column": 85
        },
        {
         "income": 71181,
         "age": 45,
         "_deepnote_index_column": 86
        },
        {
         "income": 20751,
         "age": 49,
         "_deepnote_index_column": 87
        },
        {
         "income": 47846,
         "age": 52,
         "_deepnote_index_column": 88
        },
        {
         "income": 106959,
         "age": 27,
         "_deepnote_index_column": 89
        },
        {
         "income": 32505,
         "age": 59,
         "_deepnote_index_column": 90
        },
        {
         "income": 33476,
         "age": 37,
         "_deepnote_index_column": 91
        },
        {
         "income": 60676,
         "age": 53,
         "_deepnote_index_column": 92
        },
        {
         "income": 116432,
         "age": 35,
         "_deepnote_index_column": 93
        },
        {
         "income": 43237,
         "age": 26,
         "_deepnote_index_column": 94
        },
        {
         "income": 57028,
         "age": 28,
         "_deepnote_index_column": 95
        },
        {
         "income": 115825,
         "age": 33,
         "_deepnote_index_column": 96
        },
        {
         "income": 49185,
         "age": 47,
         "_deepnote_index_column": 97
        },
        {
         "income": 15664,
         "age": 47,
         "_deepnote_index_column": 98
        },
        {
         "income": 46417,
         "age": 50,
         "_deepnote_index_column": 99
        },
        {
         "income": 15434,
         "age": 29,
         "_deepnote_index_column": 100
        },
        {
         "income": 113249,
         "age": 32,
         "_deepnote_index_column": 101
        },
        {
         "income": 71978,
         "age": 50,
         "_deepnote_index_column": 102
        },
        {
         "income": 132934,
         "age": 51,
         "_deepnote_index_column": 103
        },
        {
         "income": 70430,
         "age": 49,
         "_deepnote_index_column": 104
        },
        {
         "income": 71862,
         "age": 20,
         "_deepnote_index_column": 105
        },
        {
         "income": 110505,
         "age": 38,
         "_deepnote_index_column": 106
        },
        {
         "income": 31321,
         "age": 45,
         "_deepnote_index_column": 107
        },
        {
         "income": 32997,
         "age": 41,
         "_deepnote_index_column": 108
        },
        {
         "income": 53066,
         "age": 53,
         "_deepnote_index_column": 109
        },
        {
         "income": 42935,
         "age": 27,
         "_deepnote_index_column": 110
        },
        {
         "income": 98690,
         "age": 49,
         "_deepnote_index_column": 111
        },
        {
         "income": 91509,
         "age": 50,
         "_deepnote_index_column": 112
        },
        {
         "income": 0,
         "age": 25,
         "_deepnote_index_column": 113
        },
        {
         "income": 147193,
         "age": 32,
         "_deepnote_index_column": 114
        },
        {
         "income": 50403,
         "age": 44,
         "_deepnote_index_column": 115
        },
        {
         "income": 96110,
         "age": 46,
         "_deepnote_index_column": 116
        },
        {
         "income": 130613,
         "age": 30,
         "_deepnote_index_column": 117
        },
        {
         "income": 57273,
         "age": 32,
         "_deepnote_index_column": 118
        },
        {
         "income": 10416,
         "age": 48,
         "_deepnote_index_column": 119
        },
        {
         "income": 141352,
         "age": 45,
         "_deepnote_index_column": 120
        },
        {
         "income": 61184,
         "age": 23,
         "_deepnote_index_column": 121
        },
        {
         "income": 111150,
         "age": 24,
         "_deepnote_index_column": 122
        },
        {
         "income": 62284,
         "age": 28,
         "_deepnote_index_column": 123
        },
        {
         "income": 37066,
         "age": 55,
         "_deepnote_index_column": 124
        },
        {
         "income": 53226,
         "age": 22,
         "_deepnote_index_column": 125
        },
        {
         "income": 129368,
         "age": 28,
         "_deepnote_index_column": 126
        },
        {
         "income": 25488,
         "age": 24,
         "_deepnote_index_column": 127
        },
        {
         "income": 43146,
         "age": 30,
         "_deepnote_index_column": 128
        },
        {
         "income": 110294,
         "age": 58,
         "_deepnote_index_column": 129
        },
        {
         "income": 122790,
         "age": 31,
         "_deepnote_index_column": 130
        },
        {
         "income": 75097,
         "age": 39,
         "_deepnote_index_column": 131
        },
        {
         "income": 43065,
         "age": 55,
         "_deepnote_index_column": 132
        },
        {
         "income": 119753,
         "age": 31,
         "_deepnote_index_column": 133
        },
        {
         "income": 106694,
         "age": 41,
         "_deepnote_index_column": 134
        },
        {
         "income": 47404,
         "age": 54,
         "_deepnote_index_column": 135
        },
        {
         "income": 132090,
         "age": 26,
         "_deepnote_index_column": 136
        },
        {
         "income": 56511,
         "age": 34,
         "_deepnote_index_column": 137
        },
        {
         "income": 127411,
         "age": 40,
         "_deepnote_index_column": 138
        },
        {
         "income": 30861,
         "age": 37,
         "_deepnote_index_column": 139
        },
        {
         "income": 34505,
         "age": 63,
         "_deepnote_index_column": 140
        },
        {
         "income": 31115,
         "age": 33,
         "_deepnote_index_column": 141
        },
        {
         "income": 41653,
         "age": 47,
         "_deepnote_index_column": 142
        },
        {
         "income": 96385,
         "age": 39,
         "_deepnote_index_column": 143
        },
        {
         "income": 33476,
         "age": 26,
         "_deepnote_index_column": 144
        },
        {
         "income": 80243,
         "age": 50,
         "_deepnote_index_column": 145
        },
        {
         "income": 93159,
         "age": 51,
         "_deepnote_index_column": 146
        },
        {
         "income": 101121,
         "age": 23,
         "_deepnote_index_column": 147
        },
        {
         "income": 133391,
         "age": 26,
         "_deepnote_index_column": 148
        },
        {
         "income": 51410,
         "age": 34,
         "_deepnote_index_column": 149
        },
        {
         "income": 105830,
         "age": 28,
         "_deepnote_index_column": 150
        },
        {
         "income": 42751,
         "age": 23,
         "_deepnote_index_column": 151
        },
        {
         "income": 131368,
         "age": 38,
         "_deepnote_index_column": 152
        },
        {
         "income": 47635,
         "age": 41,
         "_deepnote_index_column": 153
        },
        {
         "income": 26634,
         "age": 32,
         "_deepnote_index_column": 154
        },
        {
         "income": 70878,
         "age": 32,
         "_deepnote_index_column": 155
        },
        {
         "income": 104176,
         "age": 29,
         "_deepnote_index_column": 156
        },
        {
         "income": 39522,
         "age": 35,
         "_deepnote_index_column": 157
        },
        {
         "income": 102043,
         "age": 30,
         "_deepnote_index_column": 158
        },
        {
         "income": 106336,
         "age": 43,
         "_deepnote_index_column": 159
        },
        {
         "income": 144395,
         "age": 41,
         "_deepnote_index_column": 160
        },
        {
         "income": 133755,
         "age": 29,
         "_deepnote_index_column": 161
        },
        {
         "income": 103784,
         "age": 49,
         "_deepnote_index_column": 162
        },
        {
         "income": 110017,
         "age": 33,
         "_deepnote_index_column": 163
        },
        {
         "income": 136470,
         "age": 46,
         "_deepnote_index_column": 164
        },
        {
         "income": 61322,
         "age": 31,
         "_deepnote_index_column": 165
        },
        {
         "income": 26896,
         "age": 30,
         "_deepnote_index_column": 166
        },
        {
         "income": 128130,
         "age": 54,
         "_deepnote_index_column": 167
        },
        {
         "income": 130038,
         "age": 28,
         "_deepnote_index_column": 168
        },
        {
         "income": 61603,
         "age": 25,
         "_deepnote_index_column": 169
        },
        {
         "income": 101915,
         "age": 31,
         "_deepnote_index_column": 170
        },
        {
         "income": 77240,
         "age": 40,
         "_deepnote_index_column": 171
        },
        {
         "income": 118032,
         "age": 31,
         "_deepnote_index_column": 172
        },
        {
         "income": 109343,
         "age": 52,
         "_deepnote_index_column": 173
        },
        {
         "income": 52643,
         "age": 51,
         "_deepnote_index_column": 174
        },
        {
         "income": 43996,
         "age": 50,
         "_deepnote_index_column": 175
        },
        {
         "income": 102206,
         "age": 47,
         "_deepnote_index_column": 176
        },
        {
         "income": 114246,
         "age": 54,
         "_deepnote_index_column": 177
        },
        {
         "income": 89774,
         "age": 31,
         "_deepnote_index_column": 178
        },
        {
         "income": 128766,
         "age": 32,
         "_deepnote_index_column": 179
        },
        {
         "income": 56198,
         "age": 51,
         "_deepnote_index_column": 180
        },
        {
         "income": 75594,
         "age": 26,
         "_deepnote_index_column": 181
        },
        {
         "income": 84184,
         "age": 30,
         "_deepnote_index_column": 182
        },
        {
         "income": 26772,
         "age": 25,
         "_deepnote_index_column": 183
        },
        {
         "income": 124610,
         "age": 47,
         "_deepnote_index_column": 184
        },
        {
         "income": 128139,
         "age": 29,
         "_deepnote_index_column": 185
        },
        {
         "income": 94311,
         "age": 23,
         "_deepnote_index_column": 186
        },
        {
         "income": 100599,
         "age": 48,
         "_deepnote_index_column": 187
        },
        {
         "income": 113875,
         "age": 51,
         "_deepnote_index_column": 188
        },
        {
         "income": 121412,
         "age": 38,
         "_deepnote_index_column": 189
        },
        {
         "income": 108704,
         "age": 31,
         "_deepnote_index_column": 190
        },
        {
         "income": 52303,
         "age": 55,
         "_deepnote_index_column": 191
        },
        {
         "income": 33959,
         "age": 30,
         "_deepnote_index_column": 192
        },
        {
         "income": 58555,
         "age": 21,
         "_deepnote_index_column": 193
        },
        {
         "income": 44617,
         "age": 26,
         "_deepnote_index_column": 194
        },
        {
         "income": 65386,
         "age": 21,
         "_deepnote_index_column": 195
        },
        {
         "income": 128277,
         "age": 62,
         "_deepnote_index_column": 196
        },
        {
         "income": 113641,
         "age": 35,
         "_deepnote_index_column": 197
        },
        {
         "income": 121928,
         "age": 48,
         "_deepnote_index_column": 198
        },
        {
         "income": 57133,
         "age": 47,
         "_deepnote_index_column": 199
        },
        {
         "income": 97035,
         "age": 53,
         "_deepnote_index_column": 200
        },
        {
         "income": 58616,
         "age": 52,
         "_deepnote_index_column": 201
        },
        {
         "income": 28549,
         "age": 51,
         "_deepnote_index_column": 202
        },
        {
         "income": 50981,
         "age": 39,
         "_deepnote_index_column": 203
        },
        {
         "income": 69900,
         "age": 47,
         "_deepnote_index_column": 204
        },
        {
         "income": 93200,
         "age": 45,
         "_deepnote_index_column": 205
        },
        {
         "income": 107993,
         "age": 49,
         "_deepnote_index_column": 206
        },
        {
         "income": 19781,
         "age": 48,
         "_deepnote_index_column": 207
        },
        {
         "income": 39729,
         "age": 54,
         "_deepnote_index_column": 208
        },
        {
         "income": 52101,
         "age": 44,
         "_deepnote_index_column": 209
        },
        {
         "income": 48594,
         "age": 57,
         "_deepnote_index_column": 210
        },
        {
         "income": 51183,
         "age": 40,
         "_deepnote_index_column": 211
        },
        {
         "income": 118081,
         "age": 45,
         "_deepnote_index_column": 212
        },
        {
         "income": 124037,
         "age": 44,
         "_deepnote_index_column": 213
        },
        {
         "income": 70825,
         "age": 47,
         "_deepnote_index_column": 214
        },
        {
         "income": 43359,
         "age": 36,
         "_deepnote_index_column": 215
        },
        {
         "income": 103137,
         "age": 29,
         "_deepnote_index_column": 216
        },
        {
         "income": 48983,
         "age": 36,
         "_deepnote_index_column": 217
        },
        {
         "income": 123425,
         "age": 50,
         "_deepnote_index_column": 218
        },
        {
         "income": 15110,
         "age": 43,
         "_deepnote_index_column": 219
        },
        {
         "income": 104978,
         "age": 22,
         "_deepnote_index_column": 220
        },
        {
         "income": 99373,
         "age": 32,
         "_deepnote_index_column": 221
        },
        {
         "income": 39887,
         "age": 27,
         "_deepnote_index_column": 222
        },
        {
         "income": 119701,
         "age": 34,
         "_deepnote_index_column": 223
        },
        {
         "income": 115444,
         "age": 29,
         "_deepnote_index_column": 224
        },
        {
         "income": 140602,
         "age": 45,
         "_deepnote_index_column": 225
        },
        {
         "income": 52569,
         "age": 47,
         "_deepnote_index_column": 226
        },
        {
         "income": 48505,
         "age": 31,
         "_deepnote_index_column": 227
        },
        {
         "income": 43379,
         "age": 45,
         "_deepnote_index_column": 228
        },
        {
         "income": 99173,
         "age": 44,
         "_deepnote_index_column": 229
        },
        {
         "income": 118866,
         "age": 45,
         "_deepnote_index_column": 230
        },
        {
         "income": 67238,
         "age": 44,
         "_deepnote_index_column": 231
        },
        {
         "income": 100436,
         "age": 47,
         "_deepnote_index_column": 232
        },
        {
         "income": 179294,
         "age": 26,
         "_deepnote_index_column": 233
        },
        {
         "income": 44903,
         "age": 27,
         "_deepnote_index_column": 234
        },
        {
         "income": 141522,
         "age": 28,
         "_deepnote_index_column": 235
        },
        {
         "income": 60320,
         "age": 28,
         "_deepnote_index_column": 236
        },
        {
         "income": 149485,
         "age": 46,
         "_deepnote_index_column": 237
        },
        {
         "income": 52533,
         "age": 27,
         "_deepnote_index_column": 238
        },
        {
         "income": 137533,
         "age": 49,
         "_deepnote_index_column": 239
        },
        {
         "income": 131854,
         "age": 56,
         "_deepnote_index_column": 240
        },
        {
         "income": 73549,
         "age": 47,
         "_deepnote_index_column": 241
        },
        {
         "income": 14166,
         "age": 37,
         "_deepnote_index_column": 242
        },
        {
         "income": 86065,
         "age": 29,
         "_deepnote_index_column": 243
        },
        {
         "income": 44079,
         "age": 45,
         "_deepnote_index_column": 244
        },
        {
         "income": 100771,
         "age": 48,
         "_deepnote_index_column": 245
        },
        {
         "income": 113843,
         "age": 45,
         "_deepnote_index_column": 246
        },
        {
         "income": 17637,
         "age": 32,
         "_deepnote_index_column": 247
        },
        {
         "income": 15955,
         "age": 20,
         "_deepnote_index_column": 248
        },
        {
         "income": 115341,
         "age": 30,
         "_deepnote_index_column": 249
        }
       ],
       "rows_bottom": [
        {
         "income": 90303,
         "age": 32,
         "_deepnote_index_column": 750
        },
        {
         "income": 58024,
         "age": 50,
         "_deepnote_index_column": 751
        },
        {
         "income": 52039,
         "age": 24,
         "_deepnote_index_column": 752
        },
        {
         "income": 49624,
         "age": 54,
         "_deepnote_index_column": 753
        },
        {
         "income": 81759,
         "age": 37,
         "_deepnote_index_column": 754
        },
        {
         "income": 131002,
         "age": 31,
         "_deepnote_index_column": 755
        },
        {
         "income": 115302,
         "age": 54,
         "_deepnote_index_column": 756
        },
        {
         "income": 67016,
         "age": 19,
         "_deepnote_index_column": 757
        },
        {
         "income": 145185,
         "age": 21,
         "_deepnote_index_column": 758
        },
        {
         "income": 62898,
         "age": 40,
         "_deepnote_index_column": 759
        },
        {
         "income": 106219,
         "age": 42,
         "_deepnote_index_column": 760
        },
        {
         "income": 124898,
         "age": 37,
         "_deepnote_index_column": 761
        },
        {
         "income": 133885,
         "age": 48,
         "_deepnote_index_column": 762
        },
        {
         "income": 95107,
         "age": 53,
         "_deepnote_index_column": 763
        },
        {
         "income": 117162,
         "age": 26,
         "_deepnote_index_column": 764
        },
        {
         "income": 45423,
         "age": 27,
         "_deepnote_index_column": 765
        },
        {
         "income": 64990,
         "age": 42,
         "_deepnote_index_column": 766
        },
        {
         "income": 48214,
         "age": 23,
         "_deepnote_index_column": 767
        },
        {
         "income": 0,
         "age": 48,
         "_deepnote_index_column": 768
        },
        {
         "income": 148923,
         "age": 46,
         "_deepnote_index_column": 769
        },
        {
         "income": 89174,
         "age": 44,
         "_deepnote_index_column": 770
        },
        {
         "income": 103083,
         "age": 59,
         "_deepnote_index_column": 771
        },
        {
         "income": 27794,
         "age": 52,
         "_deepnote_index_column": 772
        },
        {
         "income": 88442,
         "age": 33,
         "_deepnote_index_column": 773
        },
        {
         "income": 108098,
         "age": 37,
         "_deepnote_index_column": 774
        },
        {
         "income": 100746,
         "age": 47,
         "_deepnote_index_column": 775
        },
        {
         "income": 19566,
         "age": 47,
         "_deepnote_index_column": 776
        },
        {
         "income": 44309,
         "age": 54,
         "_deepnote_index_column": 777
        },
        {
         "income": 11111,
         "age": 59,
         "_deepnote_index_column": 778
        },
        {
         "income": 118448,
         "age": 30,
         "_deepnote_index_column": 779
        },
        {
         "income": 110109,
         "age": 59,
         "_deepnote_index_column": 780
        },
        {
         "income": 38091,
         "age": 21,
         "_deepnote_index_column": 781
        },
        {
         "income": 38795,
         "age": 27,
         "_deepnote_index_column": 782
        },
        {
         "income": 52462,
         "age": 48,
         "_deepnote_index_column": 783
        },
        {
         "income": 112857,
         "age": 22,
         "_deepnote_index_column": 784
        },
        {
         "income": 133957,
         "age": 25,
         "_deepnote_index_column": 785
        },
        {
         "income": 84481,
         "age": 49,
         "_deepnote_index_column": 786
        },
        {
         "income": 102347,
         "age": 54,
         "_deepnote_index_column": 787
        },
        {
         "income": 54790,
         "age": 45,
         "_deepnote_index_column": 788
        },
        {
         "income": 124161,
         "age": 45,
         "_deepnote_index_column": 789
        },
        {
         "income": 95169,
         "age": 58,
         "_deepnote_index_column": 790
        },
        {
         "income": 126899,
         "age": 47,
         "_deepnote_index_column": 791
        },
        {
         "income": 129031,
         "age": 29,
         "_deepnote_index_column": 792
        },
        {
         "income": 52384,
         "age": 51,
         "_deepnote_index_column": 793
        },
        {
         "income": 130127,
         "age": 36,
         "_deepnote_index_column": 794
        },
        {
         "income": 115534,
         "age": 32,
         "_deepnote_index_column": 795
        },
        {
         "income": 22858,
         "age": 26,
         "_deepnote_index_column": 796
        },
        {
         "income": 39809,
         "age": 58,
         "_deepnote_index_column": 797
        },
        {
         "income": 48674,
         "age": 58,
         "_deepnote_index_column": 798
        },
        {
         "income": 35882,
         "age": 45,
         "_deepnote_index_column": 799
        },
        {
         "income": 53106,
         "age": 27,
         "_deepnote_index_column": 800
        },
        {
         "income": 116081,
         "age": 53,
         "_deepnote_index_column": 801
        },
        {
         "income": 175073,
         "age": 40,
         "_deepnote_index_column": 802
        },
        {
         "income": 114034,
         "age": 25,
         "_deepnote_index_column": 803
        },
        {
         "income": 41566,
         "age": 43,
         "_deepnote_index_column": 804
        },
        {
         "income": 45489,
         "age": 45,
         "_deepnote_index_column": 805
        },
        {
         "income": 13137,
         "age": 25,
         "_deepnote_index_column": 806
        },
        {
         "income": 114709,
         "age": 48,
         "_deepnote_index_column": 807
        },
        {
         "income": 40945,
         "age": 50,
         "_deepnote_index_column": 808
        },
        {
         "income": 117258,
         "age": 32,
         "_deepnote_index_column": 809
        },
        {
         "income": 124811,
         "age": 30,
         "_deepnote_index_column": 810
        },
        {
         "income": 102747,
         "age": 34,
         "_deepnote_index_column": 811
        },
        {
         "income": 132238,
         "age": 33,
         "_deepnote_index_column": 812
        },
        {
         "income": 124213,
         "age": 48,
         "_deepnote_index_column": 813
        },
        {
         "income": 92940,
         "age": 40,
         "_deepnote_index_column": 814
        },
        {
         "income": 51071,
         "age": 47,
         "_deepnote_index_column": 815
        },
        {
         "income": 36917,
         "age": 32,
         "_deepnote_index_column": 816
        },
        {
         "income": 120590,
         "age": 24,
         "_deepnote_index_column": 817
        },
        {
         "income": 122776,
         "age": 21,
         "_deepnote_index_column": 818
        },
        {
         "income": 56431,
         "age": 53,
         "_deepnote_index_column": 819
        },
        {
         "income": 60673,
         "age": 32,
         "_deepnote_index_column": 820
        },
        {
         "income": 68411,
         "age": 47,
         "_deepnote_index_column": 821
        },
        {
         "income": 28091,
         "age": 27,
         "_deepnote_index_column": 822
        },
        {
         "income": 25266,
         "age": 35,
         "_deepnote_index_column": 823
        },
        {
         "income": 34567,
         "age": 52,
         "_deepnote_index_column": 824
        },
        {
         "income": 116829,
         "age": 46,
         "_deepnote_index_column": 825
        },
        {
         "income": 131896,
         "age": 26,
         "_deepnote_index_column": 826
        },
        {
         "income": 64034,
         "age": 30,
         "_deepnote_index_column": 827
        },
        {
         "income": 116379,
         "age": 46,
         "_deepnote_index_column": 828
        },
        {
         "income": 118079,
         "age": 28,
         "_deepnote_index_column": 829
        },
        {
         "income": 38066,
         "age": 46,
         "_deepnote_index_column": 830
        },
        {
         "income": 39938,
         "age": 47,
         "_deepnote_index_column": 831
        },
        {
         "income": 123857,
         "age": 47,
         "_deepnote_index_column": 832
        },
        {
         "income": 41751,
         "age": 45,
         "_deepnote_index_column": 833
        },
        {
         "income": 72394,
         "age": 28,
         "_deepnote_index_column": 834
        },
        {
         "income": 92418,
         "age": 41,
         "_deepnote_index_column": 835
        },
        {
         "income": 42729,
         "age": 46,
         "_deepnote_index_column": 836
        },
        {
         "income": 154122,
         "age": 36,
         "_deepnote_index_column": 837
        },
        {
         "income": 115636,
         "age": 37,
         "_deepnote_index_column": 838
        },
        {
         "income": 120246,
         "age": 48,
         "_deepnote_index_column": 839
        },
        {
         "income": 89005,
         "age": 25,
         "_deepnote_index_column": 840
        },
        {
         "income": 21823,
         "age": 52,
         "_deepnote_index_column": 841
        },
        {
         "income": 109483,
         "age": 29,
         "_deepnote_index_column": 842
        },
        {
         "income": 50891,
         "age": 38,
         "_deepnote_index_column": 843
        },
        {
         "income": 3628,
         "age": 48,
         "_deepnote_index_column": 844
        },
        {
         "income": 47429,
         "age": 33,
         "_deepnote_index_column": 845
        },
        {
         "income": 59202,
         "age": 25,
         "_deepnote_index_column": 846
        },
        {
         "income": 56686,
         "age": 56,
         "_deepnote_index_column": 847
        },
        {
         "income": 116743,
         "age": 30,
         "_deepnote_index_column": 848
        },
        {
         "income": 88010,
         "age": 32,
         "_deepnote_index_column": 849
        },
        {
         "income": 96112,
         "age": 49,
         "_deepnote_index_column": 850
        },
        {
         "income": 55567,
         "age": 51,
         "_deepnote_index_column": 851
        },
        {
         "income": 42426,
         "age": 33,
         "_deepnote_index_column": 852
        },
        {
         "income": 76176,
         "age": 34,
         "_deepnote_index_column": 853
        },
        {
         "income": 72118,
         "age": 38,
         "_deepnote_index_column": 854
        },
        {
         "income": 68204,
         "age": 31,
         "_deepnote_index_column": 855
        },
        {
         "income": 137757,
         "age": 57,
         "_deepnote_index_column": 856
        },
        {
         "income": 111802,
         "age": 20,
         "_deepnote_index_column": 857
        },
        {
         "income": 156355,
         "age": 25,
         "_deepnote_index_column": 858
        },
        {
         "income": 78654,
         "age": 32,
         "_deepnote_index_column": 859
        },
        {
         "income": 43450,
         "age": 33,
         "_deepnote_index_column": 860
        },
        {
         "income": 58986,
         "age": 48,
         "_deepnote_index_column": 861
        },
        {
         "income": 59670,
         "age": 54,
         "_deepnote_index_column": 862
        },
        {
         "income": 57346,
         "age": 31,
         "_deepnote_index_column": 863
        },
        {
         "income": 138932,
         "age": 25,
         "_deepnote_index_column": 864
        },
        {
         "income": 63289,
         "age": 30,
         "_deepnote_index_column": 865
        },
        {
         "income": 99924,
         "age": 32,
         "_deepnote_index_column": 866
        },
        {
         "income": 144600,
         "age": 52,
         "_deepnote_index_column": 867
        },
        {
         "income": 105432,
         "age": 52,
         "_deepnote_index_column": 868
        },
        {
         "income": 132774,
         "age": 39,
         "_deepnote_index_column": 869
        },
        {
         "income": 130271,
         "age": 46,
         "_deepnote_index_column": 870
        },
        {
         "income": 0,
         "age": 37,
         "_deepnote_index_column": 871
        },
        {
         "income": 35462,
         "age": 39,
         "_deepnote_index_column": 872
        },
        {
         "income": 116184,
         "age": 51,
         "_deepnote_index_column": 873
        },
        {
         "income": 36585,
         "age": 54,
         "_deepnote_index_column": 874
        },
        {
         "income": 47653,
         "age": 53,
         "_deepnote_index_column": 875
        },
        {
         "income": 115535,
         "age": 39,
         "_deepnote_index_column": 876
        },
        {
         "income": 126115,
         "age": 26,
         "_deepnote_index_column": 877
        },
        {
         "income": 149644,
         "age": 53,
         "_deepnote_index_column": 878
        },
        {
         "income": 41469,
         "age": 28,
         "_deepnote_index_column": 879
        },
        {
         "income": 54461,
         "age": 51,
         "_deepnote_index_column": 880
        },
        {
         "income": 45792,
         "age": 25,
         "_deepnote_index_column": 881
        },
        {
         "income": 135542,
         "age": 48,
         "_deepnote_index_column": 882
        },
        {
         "income": 133411,
         "age": 35,
         "_deepnote_index_column": 883
        },
        {
         "income": 62843,
         "age": 46,
         "_deepnote_index_column": 884
        },
        {
         "income": 27972,
         "age": 49,
         "_deepnote_index_column": 885
        },
        {
         "income": 115621,
         "age": 32,
         "_deepnote_index_column": 886
        },
        {
         "income": 54263,
         "age": 34,
         "_deepnote_index_column": 887
        },
        {
         "income": 59625,
         "age": 32,
         "_deepnote_index_column": 888
        },
        {
         "income": 29788,
         "age": 40,
         "_deepnote_index_column": 889
        },
        {
         "income": 44365,
         "age": 41,
         "_deepnote_index_column": 890
        },
        {
         "income": 112292,
         "age": 53,
         "_deepnote_index_column": 891
        },
        {
         "income": 129342,
         "age": 26,
         "_deepnote_index_column": 892
        },
        {
         "income": 106273,
         "age": 31,
         "_deepnote_index_column": 893
        },
        {
         "income": 52798,
         "age": 25,
         "_deepnote_index_column": 894
        },
        {
         "income": 35886,
         "age": 38,
         "_deepnote_index_column": 895
        },
        {
         "income": 48203,
         "age": 31,
         "_deepnote_index_column": 896
        },
        {
         "income": 30124,
         "age": 41,
         "_deepnote_index_column": 897
        },
        {
         "income": 126910,
         "age": 47,
         "_deepnote_index_column": 898
        },
        {
         "income": 81503,
         "age": 24,
         "_deepnote_index_column": 899
        },
        {
         "income": 28346,
         "age": 59,
         "_deepnote_index_column": 900
        },
        {
         "income": 57453,
         "age": 50,
         "_deepnote_index_column": 901
        },
        {
         "income": 114789,
         "age": 30,
         "_deepnote_index_column": 902
        },
        {
         "income": 113258,
         "age": 42,
         "_deepnote_index_column": 903
        },
        {
         "income": 34828,
         "age": 35,
         "_deepnote_index_column": 904
        },
        {
         "income": 20623,
         "age": 44,
         "_deepnote_index_column": 905
        },
        {
         "income": 34701,
         "age": 49,
         "_deepnote_index_column": 906
        },
        {
         "income": 65512,
         "age": 33,
         "_deepnote_index_column": 907
        },
        {
         "income": 123079,
         "age": 30,
         "_deepnote_index_column": 908
        },
        {
         "income": 129248,
         "age": 61,
         "_deepnote_index_column": 909
        },
        {
         "income": 31154,
         "age": 50,
         "_deepnote_index_column": 910
        },
        {
         "income": 29159,
         "age": 24,
         "_deepnote_index_column": 911
        },
        {
         "income": 69608,
         "age": 51,
         "_deepnote_index_column": 912
        },
        {
         "income": 65853,
         "age": 50,
         "_deepnote_index_column": 913
        },
        {
         "income": 96689,
         "age": 40,
         "_deepnote_index_column": 914
        },
        {
         "income": 111257,
         "age": 18,
         "_deepnote_index_column": 915
        },
        {
         "income": 103654,
         "age": 51,
         "_deepnote_index_column": 916
        },
        {
         "income": 110122,
         "age": 36,
         "_deepnote_index_column": 917
        },
        {
         "income": 19793,
         "age": 28,
         "_deepnote_index_column": 918
        },
        {
         "income": 28247,
         "age": 50,
         "_deepnote_index_column": 919
        },
        {
         "income": 132370,
         "age": 43,
         "_deepnote_index_column": 920
        },
        {
         "income": 97748,
         "age": 31,
         "_deepnote_index_column": 921
        },
        {
         "income": 6871,
         "age": 37,
         "_deepnote_index_column": 922
        },
        {
         "income": 135162,
         "age": 23,
         "_deepnote_index_column": 923
        },
        {
         "income": 101342,
         "age": 30,
         "_deepnote_index_column": 924
        },
        {
         "income": 127669,
         "age": 51,
         "_deepnote_index_column": 925
        },
        {
         "income": 123456,
         "age": 29,
         "_deepnote_index_column": 926
        },
        {
         "income": 44790,
         "age": 36,
         "_deepnote_index_column": 927
        },
        {
         "income": 128800,
         "age": 33,
         "_deepnote_index_column": 928
        },
        {
         "income": 99813,
         "age": 34,
         "_deepnote_index_column": 929
        },
        {
         "income": 58501,
         "age": 34,
         "_deepnote_index_column": 930
        },
        {
         "income": 24876,
         "age": 23,
         "_deepnote_index_column": 931
        },
        {
         "income": 87004,
         "age": 54,
         "_deepnote_index_column": 932
        },
        {
         "income": 112459,
         "age": 35,
         "_deepnote_index_column": 933
        },
        {
         "income": 115769,
         "age": 30,
         "_deepnote_index_column": 934
        },
        {
         "income": 49448,
         "age": 45,
         "_deepnote_index_column": 935
        },
        {
         "income": 57248,
         "age": 45,
         "_deepnote_index_column": 936
        },
        {
         "income": 92121,
         "age": 32,
         "_deepnote_index_column": 937
        },
        {
         "income": 123368,
         "age": 51,
         "_deepnote_index_column": 938
        },
        {
         "income": 83543,
         "age": 25,
         "_deepnote_index_column": 939
        },
        {
         "income": 128899,
         "age": 26,
         "_deepnote_index_column": 940
        },
        {
         "income": 84628,
         "age": 36,
         "_deepnote_index_column": 941
        },
        {
         "income": 102913,
         "age": 45,
         "_deepnote_index_column": 942
        },
        {
         "income": 68256,
         "age": 25,
         "_deepnote_index_column": 943
        },
        {
         "income": 133538,
         "age": 51,
         "_deepnote_index_column": 944
        },
        {
         "income": 105018,
         "age": 30,
         "_deepnote_index_column": 945
        },
        {
         "income": 124157,
         "age": 53,
         "_deepnote_index_column": 946
        },
        {
         "income": 98230,
         "age": 58,
         "_deepnote_index_column": 947
        },
        {
         "income": 41779,
         "age": 44,
         "_deepnote_index_column": 948
        },
        {
         "income": 36377,
         "age": 44,
         "_deepnote_index_column": 949
        },
        {
         "income": 143370,
         "age": 30,
         "_deepnote_index_column": 950
        },
        {
         "income": 29982,
         "age": 47,
         "_deepnote_index_column": 951
        },
        {
         "income": 61890,
         "age": 34,
         "_deepnote_index_column": 952
        },
        {
         "income": 104571,
         "age": 53,
         "_deepnote_index_column": 953
        },
        {
         "income": 100355,
         "age": 56,
         "_deepnote_index_column": 954
        },
        {
         "income": 150464,
         "age": 26,
         "_deepnote_index_column": 955
        },
        {
         "income": 98610,
         "age": 42,
         "_deepnote_index_column": 956
        },
        {
         "income": 50189,
         "age": 27,
         "_deepnote_index_column": 957
        },
        {
         "income": 123625,
         "age": 58,
         "_deepnote_index_column": 958
        },
        {
         "income": 61479,
         "age": 52,
         "_deepnote_index_column": 959
        },
        {
         "income": 42073,
         "age": 49,
         "_deepnote_index_column": 960
        },
        {
         "income": 96497,
         "age": 51,
         "_deepnote_index_column": 961
        },
        {
         "income": 49014,
         "age": 36,
         "_deepnote_index_column": 962
        },
        {
         "income": 137076,
         "age": 33,
         "_deepnote_index_column": 963
        },
        {
         "income": 131272,
         "age": 26,
         "_deepnote_index_column": 964
        },
        {
         "income": 110771,
         "age": 31,
         "_deepnote_index_column": 965
        },
        {
         "income": 52062,
         "age": 40,
         "_deepnote_index_column": 966
        },
        {
         "income": 77794,
         "age": 49,
         "_deepnote_index_column": 967
        },
        {
         "income": 125883,
         "age": 45,
         "_deepnote_index_column": 968
        },
        {
         "income": 79721,
         "age": 58,
         "_deepnote_index_column": 969
        },
        {
         "income": 31411,
         "age": 38,
         "_deepnote_index_column": 970
        },
        {
         "income": 117502,
         "age": 49,
         "_deepnote_index_column": 971
        },
        {
         "income": 29282,
         "age": 55,
         "_deepnote_index_column": 972
        },
        {
         "income": 21025,
         "age": 29,
         "_deepnote_index_column": 973
        },
        {
         "income": 35506,
         "age": 54,
         "_deepnote_index_column": 974
        },
        {
         "income": 36985,
         "age": 41,
         "_deepnote_index_column": 975
        },
        {
         "income": 124976,
         "age": 30,
         "_deepnote_index_column": 976
        },
        {
         "income": 117584,
         "age": 23,
         "_deepnote_index_column": 977
        },
        {
         "income": 135507,
         "age": 57,
         "_deepnote_index_column": 978
        },
        {
         "income": 15933,
         "age": 56,
         "_deepnote_index_column": 979
        },
        {
         "income": 108025,
         "age": 55,
         "_deepnote_index_column": 980
        },
        {
         "income": 34512,
         "age": 54,
         "_deepnote_index_column": 981
        },
        {
         "income": 42597,
         "age": 49,
         "_deepnote_index_column": 982
        },
        {
         "income": 74576,
         "age": 53,
         "_deepnote_index_column": 983
        },
        {
         "income": 73044,
         "age": 51,
         "_deepnote_index_column": 984
        },
        {
         "income": 55886,
         "age": 42,
         "_deepnote_index_column": 985
        },
        {
         "income": 37519,
         "age": 54,
         "_deepnote_index_column": 986
        },
        {
         "income": 27683,
         "age": 39,
         "_deepnote_index_column": 987
        },
        {
         "income": 91446,
         "age": 27,
         "_deepnote_index_column": 988
        },
        {
         "income": 51601,
         "age": 19,
         "_deepnote_index_column": 989
        },
        {
         "income": 127550,
         "age": 52,
         "_deepnote_index_column": 990
        },
        {
         "income": 95327,
         "age": 46,
         "_deepnote_index_column": 991
        },
        {
         "income": 92675,
         "age": 55,
         "_deepnote_index_column": 992
        },
        {
         "income": 112466,
         "age": 39,
         "_deepnote_index_column": 993
        },
        {
         "income": 44937,
         "age": 54,
         "_deepnote_index_column": 994
        },
        {
         "income": 70615,
         "age": 29,
         "_deepnote_index_column": 995
        },
        {
         "income": 95102,
         "age": 41,
         "_deepnote_index_column": 996
        },
        {
         "income": 42203,
         "age": 35,
         "_deepnote_index_column": 997
        },
        {
         "income": 16975,
         "age": 31,
         "_deepnote_index_column": 998
        },
        {
         "income": 123857,
         "age": 44,
         "_deepnote_index_column": 999
        }
       ]
      },
      "text/plain": "     income  age\n0    101743   58\n1     49597   27\n2     36517   52\n3     33223   49\n4     72994   53\n..      ...  ...\n995   70615   29\n996   95102   41\n997   42203   35\n998   16975   31\n999  123857   44\n\n[1000 rows x 2 columns]",
      "text/html": "<div>\n<style scoped>\n    .dataframe tbody tr th:only-of-type {\n        vertical-align: middle;\n    }\n\n    .dataframe tbody tr th {\n        vertical-align: top;\n    }\n\n    .dataframe thead th {\n        text-align: right;\n    }\n</style>\n<table border=\"1\" class=\"dataframe\">\n  <thead>\n    <tr style=\"text-align: right;\">\n      <th></th>\n      <th>income</th>\n      <th>age</th>\n    </tr>\n  </thead>\n  <tbody>\n    <tr>\n      <th>0</th>\n      <td>101743</td>\n      <td>58</td>\n    </tr>\n    <tr>\n      <th>1</th>\n      <td>49597</td>\n      <td>27</td>\n    </tr>\n    <tr>\n      <th>2</th>\n      <td>36517</td>\n      <td>52</td>\n    </tr>\n    <tr>\n      <th>3</th>\n      <td>33223</td>\n      <td>49</td>\n    </tr>\n    <tr>\n      <th>4</th>\n      <td>72994</td>\n      <td>53</td>\n    </tr>\n    <tr>\n      <th>...</th>\n      <td>...</td>\n      <td>...</td>\n    </tr>\n    <tr>\n      <th>995</th>\n      <td>70615</td>\n      <td>29</td>\n    </tr>\n    <tr>\n      <th>996</th>\n      <td>95102</td>\n      <td>41</td>\n    </tr>\n    <tr>\n      <th>997</th>\n      <td>42203</td>\n      <td>35</td>\n    </tr>\n    <tr>\n      <th>998</th>\n      <td>16975</td>\n      <td>31</td>\n    </tr>\n    <tr>\n      <th>999</th>\n      <td>123857</td>\n      <td>44</td>\n    </tr>\n  </tbody>\n</table>\n<p>1000 rows × 2 columns</p>\n</div>"
     },
     "metadata": {}
    }
   ]
  },
  {
   "cell_type": "code",
   "metadata": {
    "tags": [],
    "deepnote_to_be_reexecuted": false,
    "source_hash": "e8be1b9b",
    "execution_start": 1628812855717,
    "execution_millis": 11,
    "cell_id": "00002-2925d527-b8e7-464f-bec8-76fd35e13429",
    "deepnote_cell_type": "code"
   },
   "source": "ageinc_df.columns",
   "execution_count": null,
   "outputs": [
    {
     "output_type": "execute_result",
     "execution_count": 3,
     "data": {
      "text/plain": "Index(['income', 'age'], dtype='object')"
     },
     "metadata": {}
    }
   ]
  },
  {
   "cell_type": "code",
   "metadata": {
    "tags": [],
    "deepnote_to_be_reexecuted": false,
    "source_hash": "97d42772",
    "execution_start": 1628812858346,
    "execution_millis": 166,
    "cell_id": "00003-23b07f36-f916-4465-b1fe-20414e4a2ec0",
    "deepnote_cell_type": "code"
   },
   "source": "plt.scatter(ageinc_df['income'],\n            ageinc_df['age'])\nplt.xlabel('Income')\nplt.ylabel('Age')\nplt.show()",
   "execution_count": null,
   "outputs": [
    {
     "data": {
      "text/plain": "<Figure size 432x288 with 1 Axes>",
      "image/png": "[encoded data removed]"
     },
     "metadata": {
      "needs_background": "light",
      "image/png": {
       "width": 382,
       "height": 262
      }
     },
     "output_type": "display_data"
    }
   ]
  },
  {
   "cell_type": "code",
   "metadata": {
    "tags": [],
    "deepnote_to_be_reexecuted": false,
    "source_hash": "fcfef615",
    "execution_start": 1628812862014,
    "execution_millis": 7,
    "cell_id": "00004-c96bc719-82ae-493a-9538-d831c62756c0",
    "deepnote_cell_type": "code"
   },
   "source": "from sklearn.preprocessing import StandardScaler\n\nscaler = StandardScaler().fit(ageinc_df[['income']])\nageinc_df['income_Z'] = scaler.transform(ageinc_df[['income']])\n\nscaler = StandardScaler().fit(ageinc_df[['age']])\nageinc_df['age_Z'] = scaler.transform(ageinc_df[['age']])",
   "execution_count": null,
   "outputs": []
  },
  {
   "cell_type": "code",
   "metadata": {
    "tags": [],
    "deepnote_to_be_reexecuted": false,
    "source_hash": "5a0367ae",
    "execution_start": 1628813250706,
    "execution_millis": 358,
    "cell_id": "00005-0c7b5fb6-c6f9-468b-a44f-ea44ab5ef3e5",
    "deepnote_cell_type": "code"
   },
   "source": "from sklearn.cluster import MeanShift\nfrom sklearn import cluster\n\nx = ageinc_df[['income_Z', 'age_Z']]\nbandwidth = cluster.estimate_bandwidth(x, quantile = 0.1)\nms = MeanShift(bandwidth=bandwidth,bin_seeding=True)\n\nms.fit(x)",
   "execution_count": null,
   "outputs": [
    {
     "output_type": "execute_result",
     "execution_count": 7,
     "data": {
      "text/plain": "MeanShift(bandwidth=0.6371390561473768, bin_seeding=True)"
     },
     "metadata": {}
    }
   ]
  },
  {
   "cell_type": "code",
   "metadata": {
    "tags": [],
    "cell_id": "00006-39f3c7b9-8c0e-4dd9-bc5e-6f074ff4bc75",
    "deepnote_to_be_reexecuted": false,
    "source_hash": "a98c6453",
    "execution_start": 1628813459863,
    "execution_millis": 6,
    "deepnote_cell_type": "code"
   },
   "source": "ageinc_df['Cluster'] = ms.labels_\nprint(f'Numero de Clusters: {len(ageinc_df.Cluster.unique())}')",
   "execution_count": null,
   "outputs": [
    {
     "name": "stdout",
     "text": "Numero de Clusters: 4\n",
     "output_type": "stream"
    }
   ]
  },
  {
   "cell_type": "code",
   "metadata": {
    "tags": [],
    "deepnote_to_be_reexecuted": false,
    "source_hash": "e55597ac",
    "execution_start": 1628813604343,
    "execution_millis": 431,
    "cell_id": "00006-eec36cf0-c4ff-4f37-aef8-fd55a66df252",
    "deepnote_cell_type": "code"
   },
   "source": "plt.figure(figsize = (20,20))\nsns.lmplot( x = 'income',\n            y = 'age',\n            data = ageinc_df,\n            hue = 'Cluster',\n            markers = ['x','o','d','s'],\n            fit_reg = False,\n             palette=\"Set2\")",
   "execution_count": null,
   "outputs": [
    {
     "output_type": "execute_result",
     "execution_count": 11,
     "data": {
      "text/plain": "<seaborn.axisgrid.FacetGrid at 0x7f6c51b3f390>"
     },
     "metadata": {}
    },
    {
     "data": {
      "text/plain": "<Figure size 1440x1440 with 0 Axes>"
     },
     "metadata": {},
     "output_type": "display_data"
    },
    {
     "data": {
      "text/plain": "<Figure size 403.5x360 with 1 Axes>",
      "image/png": "[encoded data removed]"
     },
     "metadata": {
      "needs_background": "light",
      "image/png": {
       "width": 412,
       "height": 366
      }
     },
     "output_type": "display_data"
    }
   ]
  },
  {
   "cell_type": "markdown",
   "source": "<a style='text-decoration:none;line-height:16px;display:flex;color:#5B5B62;padding:10px;justify-content:end;' href='https://deepnote.com?utm_source=created-in-deepnote-cell&projectId=11bf7be5-3b62-4605-8e79-42e562c1fd79' target=\"_blank\">\n<img alt='Created in deepnote.com' style='display:inline;max-height:16px;margin:0px;margin-right:7.5px;' src='data:image/svg+xml;base64,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' > </img>\nCreated in <span style='font-weight:600;margin-left:4px;'>Deepnote</span></a>",
   "metadata": {
    "tags": [],
    "created_in_deepnote_cell": true,
    "deepnote_cell_type": "markdown"
   }
  }
 ],
 "nbformat": 4,
 "nbformat_minor": 2,
 "metadata": {
  "orig_nbformat": 2,
  "deepnote": {
   "is_reactive": false
  },
  "deepnote_notebook_id": "909d6366-0f07-46e1-866b-8f869b9e2459",
  "deepnote_execution_queue": []
 }
}