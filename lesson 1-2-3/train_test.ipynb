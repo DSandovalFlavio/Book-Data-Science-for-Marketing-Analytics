{
 "cells": [
  {
   "cell_type": "code",
   "metadata": {
    "tags": [],
    "cell_id": "00000-c41b2d15-8f47-41dd-9dae-4d4a298606e0",
    "deepnote_to_be_reexecuted": false,
    "source_hash": "2849651b",
    "execution_start": 1629956492148,
    "execution_millis": 6,
    "deepnote_cell_type": "code"
   },
   "source": "import pandas as pd\ndf = pd.read_csv('four_cols.csv')",
   "outputs": [],
   "execution_count": null
  },
  {
   "cell_type": "code",
   "metadata": {
    "tags": [],
    "cell_id": "00001-11099ed7-e80b-4781-b178-765d9e499d86",
    "deepnote_to_be_reexecuted": false,
    "source_hash": "fbfcfdc9",
    "execution_start": 1629956548722,
    "execution_millis": 7,
    "deepnote_cell_type": "code"
   },
   "source": "cols = df.columns\nzcols = []\nfor col in cols:\n    df['z_' + col] = (df[col] - df[col].mean())/df[col].std()\n    zcols.append('z_' + col)",
   "outputs": [],
   "execution_count": null
  },
  {
   "cell_type": "code",
   "metadata": {
    "tags": [],
    "cell_id": "00002-26e7c943-0111-4ffe-89f9-19812496f411",
    "deepnote_to_be_reexecuted": false,
    "source_hash": "17c57a9f",
    "execution_start": 1629956655020,
    "execution_millis": 5,
    "deepnote_cell_type": "code"
   },
   "source": "from sklearn import model_selection\nX_train, X_test = model_selection.train_test_split(df[zcols], random_state = 100)\nprint('Length of training set: ' + str(len(X_train)))\nprint('Length of test set: ' + str(len(X_test)))\nprint('Length of all set: ' + str(len(df)))",
   "outputs": [
    {
     "name": "stdout",
     "text": "Length of training set: 750\nLength of test set: 250\nLength of all set: 1000\n",
     "output_type": "stream"
    }
   ],
   "execution_count": null
  },
  {
   "cell_type": "code",
   "source": "from sklearn import cluster\nfrom sklearn import metrics\nbandwidth = cluster.estimate_bandwidth(X_train, quantile=0.1)\nms = cluster.MeanShift(bandwidth=bandwidth, bin_seeding=True)\nms.fit(X_train)",
   "metadata": {
    "tags": [],
    "cell_id": "00003-7a9771ff-0eec-45ed-8a3d-af6a7a473370",
    "deepnote_to_be_reexecuted": false,
    "source_hash": "8ccb99b6",
    "execution_start": 1629956693119,
    "execution_millis": 588,
    "deepnote_cell_type": "code"
   },
   "outputs": [
    {
     "output_type": "execute_result",
     "execution_count": 8,
     "data": {
      "text/plain": "MeanShift(bandwidth=1.1345565848091819, bin_seeding=True)"
     },
     "metadata": {}
    }
   ],
   "execution_count": null
  },
  {
   "cell_type": "code",
   "source": "ms_labels = ms.predict(X_test)\nms_silhouette = metrics.silhouette_score(X_test, ms_labels)\nprint('mean-shift silhouette score: ' + str(ms_silhouette))",
   "metadata": {
    "tags": [],
    "cell_id": "00004-2c62ba88-fa80-4041-b6db-ec0ca3fdb528",
    "deepnote_to_be_reexecuted": false,
    "source_hash": "bc4c106f",
    "execution_start": 1629956772096,
    "execution_millis": 33,
    "deepnote_cell_type": "code"
   },
   "outputs": [
    {
     "name": "stdout",
     "text": "mean-shift silhouette score: 0.47022477783036093\n",
     "output_type": "stream"
    }
   ],
   "execution_count": null
  },
  {
   "cell_type": "code",
   "source": "model = cluster.KMeans(n_clusters=5, random_state=10)\nmodel.fit(X_train)\nkm_labels = model.predict(X_test)\nkm_silhouette = metrics.silhouette_score(X_test, km_labels)\nprint('k-means silhouette score: ' + str(km_silhouette))",
   "metadata": {
    "tags": [],
    "cell_id": "00005-eee897b1-2350-4d65-917e-a8f19a673ac8",
    "deepnote_to_be_reexecuted": false,
    "source_hash": "c194d96c",
    "execution_start": 1629956803245,
    "execution_millis": 61,
    "deepnote_cell_type": "code"
   },
   "outputs": [
    {
     "name": "stdout",
     "text": "k-means silhouette score: 0.471021110334254\n",
     "output_type": "stream"
    }
   ],
   "execution_count": null
  },
  {
   "cell_type": "code",
   "source": "bandwidth = cluster.estimate_bandwidth(X_train, quantile=0.01)\nms = cluster.MeanShift(bandwidth=bandwidth, bin_seeding=True)\nms.fit(X_train)\nms_labels = ms.predict(X_test)\nms_silhouette = metrics.silhouette_score(X_test, ms_label)\nprint('mean-shift (low quantile) silhouette score: ' + str(ms_silhouette))",
   "metadata": {
    "tags": [],
    "cell_id": "00006-9dbd413b-a6a4-460e-8a0c-229e7f2b0587",
    "deepnote_to_be_reexecuted": false,
    "source_hash": "a1207471",
    "execution_start": 1629956844585,
    "execution_millis": 1633,
    "deepnote_cell_type": "code"
   },
   "outputs": [
    {
     "name": "stdout",
     "text": "mean-shift (low quantile) silhouette score: 0.04231903342506714\n",
     "output_type": "stream"
    }
   ],
   "execution_count": null
  },
  {
   "cell_type": "markdown",
   "source": "<a style='text-decoration:none;line-height:16px;display:flex;color:#5B5B62;padding:10px;justify-content:end;' href='https://deepnote.com?utm_source=created-in-deepnote-cell&projectId=ff5e2091-543c-4b2c-9a56-1e41bbaff775' target=\"_blank\">\n<img alt='Created in deepnote.com' style='display:inline;max-height:16px;margin:0px;margin-right:7.5px;' src='data:image/svg+xml;base64,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' > </img>\nCreated in <span style='font-weight:600;margin-left:4px;'>Deepnote</span></a>",
   "metadata": {
    "tags": [],
    "created_in_deepnote_cell": true,
    "deepnote_cell_type": "markdown"
   }
  }
 ],
 "nbformat": 4,
 "nbformat_minor": 2,
 "metadata": {
  "orig_nbformat": 2,
  "deepnote": {
   "is_reactive": false
  },
  "deepnote_notebook_id": "ed3fb272-f0c2-4392-805e-d23860fdb75a",
  "deepnote_execution_queue": []
 }
}