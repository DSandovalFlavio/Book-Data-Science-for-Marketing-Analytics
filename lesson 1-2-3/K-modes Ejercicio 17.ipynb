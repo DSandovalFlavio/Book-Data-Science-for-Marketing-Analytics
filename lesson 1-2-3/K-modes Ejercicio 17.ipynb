{
 "cells": [
  {
   "cell_type": "code",
   "metadata": {
    "tags": [],
    "deepnote_to_be_reexecuted": false,
    "source_hash": "24b26b86",
    "execution_start": 1628814852355,
    "execution_millis": 2569,
    "cell_id": "00000-68819b5e-4b57-47a8-8526-dee701205e2d",
    "deepnote_cell_type": "code"
   },
   "source": "import pandas as pd\nimport numpy as np\nimport matplotlib.pyplot as plt\nimport seaborn as sns",
   "execution_count": null,
   "outputs": []
  },
  {
   "cell_type": "code",
   "metadata": {
    "tags": [],
    "deepnote_to_be_reexecuted": false,
    "source_hash": "5a562bd0",
    "execution_start": 1628814856813,
    "execution_millis": 49,
    "cell_id": "00001-e997e379-e2d9-4821-a811-cdc4fd372a23",
    "deepnote_cell_type": "code"
   },
   "source": "age_education_df = pd.read_csv('age_education.csv')\nage_education_df",
   "execution_count": null,
   "outputs": [
    {
     "output_type": "execute_result",
     "execution_count": 2,
     "data": {
      "application/vnd.deepnote.dataframe.v2+json": {
       "row_count": 1000,
       "column_count": 2,
       "columns": [
        {
         "name": "age",
         "dtype": "float64",
         "stats": {
          "unique_count": 999,
          "nan_count": 0,
          "min": "18.0",
          "max": "64.790359806",
          "histogram": [
           {
            "bin_start": 18,
            "bin_end": 22.6790359806,
            "count": 33
           },
           {
            "bin_start": 22.6790359806,
            "bin_end": 27.3580719612,
            "count": 90
           },
           {
            "bin_start": 27.3580719612,
            "bin_end": 32.0371079418,
            "count": 127
           },
           {
            "bin_start": 32.0371079418,
            "bin_end": 36.7161439224,
            "count": 67
           },
           {
            "bin_start": 36.7161439224,
            "bin_end": 41.395179903,
            "count": 48
           },
           {
            "bin_start": 41.395179903,
            "bin_end": 46.074215883600004,
            "count": 112
           },
           {
            "bin_start": 46.074215883600004,
            "bin_end": 50.7532518642,
            "count": 235
           },
           {
            "bin_start": 50.7532518642,
            "bin_end": 55.4322878448,
            "count": 213
           },
           {
            "bin_start": 55.4322878448,
            "bin_end": 60.1113238254,
            "count": 63
           },
           {
            "bin_start": 60.1113238254,
            "bin_end": 64.790359806,
            "count": 12
           }
          ]
         }
        },
        {
         "name": "education",
         "dtype": "object",
         "stats": {
          "unique_count": 3,
          "nan_count": 0,
          "categories": [
           {
            "name": "college",
            "count": 334
           },
           {
            "name": "highschool",
            "count": 333
           },
           {
            "name": "less_than_highschool",
            "count": 333
           }
          ]
         }
        },
        {
         "name": "_deepnote_index_column",
         "dtype": "int64"
        }
       ],
       "rows_top": [
        {
         "age": 27.0072187412,
         "education": "college",
         "_deepnote_index_column": 0
        },
        {
         "age": 47.615408975600005,
         "education": "highschool",
         "_deepnote_index_column": 1
        },
        {
         "age": 51.3828153473,
         "education": "highschool",
         "_deepnote_index_column": 2
        },
        {
         "age": 54.9066215628,
         "education": "highschool",
         "_deepnote_index_column": 3
        },
        {
         "age": 27.7199392103,
         "education": "less_than_highschool",
         "_deepnote_index_column": 4
        },
        {
         "age": 48.2811118735,
         "education": "less_than_highschool",
         "_deepnote_index_column": 5
        },
        {
         "age": 46.7908336532,
         "education": "highschool",
         "_deepnote_index_column": 6
        },
        {
         "age": 46.5724870478,
         "education": "less_than_highschool",
         "_deepnote_index_column": 7
        },
        {
         "age": 50.2080609053,
         "education": "college",
         "_deepnote_index_column": 8
        },
        {
         "age": 55.4969448171,
         "education": "highschool",
         "_deepnote_index_column": 9
        },
        {
         "age": 54.360282249,
         "education": "highschool",
         "_deepnote_index_column": 10
        },
        {
         "age": 49.2774923474,
         "education": "highschool",
         "_deepnote_index_column": 11
        },
        {
         "age": 23.8919155879,
         "education": "less_than_highschool",
         "_deepnote_index_column": 12
        },
        {
         "age": 49.96033377569999,
         "education": "less_than_highschool",
         "_deepnote_index_column": 13
        },
        {
         "age": 49.4293039058,
         "education": "highschool",
         "_deepnote_index_column": 14
        },
        {
         "age": 33.8844994191,
         "education": "college",
         "_deepnote_index_column": 15
        },
        {
         "age": 43.7523085505,
         "education": "highschool",
         "_deepnote_index_column": 16
        },
        {
         "age": 39.5515859035,
         "education": "college",
         "_deepnote_index_column": 17
        },
        {
         "age": 50.8851810565,
         "education": "less_than_highschool",
         "_deepnote_index_column": 18
        },
        {
         "age": 45.9925624287,
         "education": "highschool",
         "_deepnote_index_column": 19
        },
        {
         "age": 46.2641695089,
         "education": "highschool",
         "_deepnote_index_column": 20
        },
        {
         "age": 45.591757482,
         "education": "highschool",
         "_deepnote_index_column": 21
        },
        {
         "age": 47.7461998967,
         "education": "less_than_highschool",
         "_deepnote_index_column": 22
        },
        {
         "age": 33.3828076758,
         "education": "college",
         "_deepnote_index_column": 23
        },
        {
         "age": 49.7362569352,
         "education": "highschool",
         "_deepnote_index_column": 24
        },
        {
         "age": 28.9778432627,
         "education": "college",
         "_deepnote_index_column": 25
        },
        {
         "age": 47.8059325678,
         "education": "less_than_highschool",
         "_deepnote_index_column": 26
        },
        {
         "age": 57.9438917101,
         "education": "less_than_highschool",
         "_deepnote_index_column": 27
        },
        {
         "age": 52.8089502121,
         "education": "less_than_highschool",
         "_deepnote_index_column": 28
        },
        {
         "age": 34.3422271787,
         "education": "college",
         "_deepnote_index_column": 29
        },
        {
         "age": 42.307154913000005,
         "education": "college",
         "_deepnote_index_column": 30
        },
        {
         "age": 46.894473207,
         "education": "highschool",
         "_deepnote_index_column": 31
        },
        {
         "age": 57.2963114044,
         "education": "college",
         "_deepnote_index_column": 32
        },
        {
         "age": 52.2660443297,
         "education": "highschool",
         "_deepnote_index_column": 33
        },
        {
         "age": 25.759429825,
         "education": "less_than_highschool",
         "_deepnote_index_column": 34
        },
        {
         "age": 51.4675365415,
         "education": "highschool",
         "_deepnote_index_column": 35
        },
        {
         "age": 30.9016844429,
         "education": "college",
         "_deepnote_index_column": 36
        },
        {
         "age": 48.095552363100005,
         "education": "highschool",
         "_deepnote_index_column": 37
        },
        {
         "age": 54.513392510600006,
         "education": "less_than_highschool",
         "_deepnote_index_column": 38
        },
        {
         "age": 54.7518814588,
         "education": "highschool",
         "_deepnote_index_column": 39
        },
        {
         "age": 53.8020918644,
         "education": "highschool",
         "_deepnote_index_column": 40
        },
        {
         "age": 29.0777491981,
         "education": "college",
         "_deepnote_index_column": 41
        },
        {
         "age": 47.7974430602,
         "education": "highschool",
         "_deepnote_index_column": 42
        },
        {
         "age": 28.2244481114,
         "education": "college",
         "_deepnote_index_column": 43
        },
        {
         "age": 50.9601802121,
         "education": "highschool",
         "_deepnote_index_column": 44
        },
        {
         "age": 49.8341233525,
         "education": "college",
         "_deepnote_index_column": 45
        },
        {
         "age": 48.7524494982,
         "education": "less_than_highschool",
         "_deepnote_index_column": 46
        },
        {
         "age": 53.311088907,
         "education": "less_than_highschool",
         "_deepnote_index_column": 47
        },
        {
         "age": 50.4439996576,
         "education": "highschool",
         "_deepnote_index_column": 48
        },
        {
         "age": 50.3272992661,
         "education": "less_than_highschool",
         "_deepnote_index_column": 49
        },
        {
         "age": 26.4753432943,
         "education": "college",
         "_deepnote_index_column": 50
        },
        {
         "age": 53.1871975165,
         "education": "college",
         "_deepnote_index_column": 51
        },
        {
         "age": 51.3955083326,
         "education": "highschool",
         "_deepnote_index_column": 52
        },
        {
         "age": 44.5996130253,
         "education": "less_than_highschool",
         "_deepnote_index_column": 53
        },
        {
         "age": 54.1424379589,
         "education": "less_than_highschool",
         "_deepnote_index_column": 54
        },
        {
         "age": 47.0332994663,
         "education": "highschool",
         "_deepnote_index_column": 55
        },
        {
         "age": 59.6738542984,
         "education": "less_than_highschool",
         "_deepnote_index_column": 56
        },
        {
         "age": 21.5102042205,
         "education": "college",
         "_deepnote_index_column": 57
        },
        {
         "age": 48.0929397968,
         "education": "highschool",
         "_deepnote_index_column": 58
        },
        {
         "age": 43.3934809193,
         "education": "less_than_highschool",
         "_deepnote_index_column": 59
        },
        {
         "age": 58.0264585182,
         "education": "less_than_highschool",
         "_deepnote_index_column": 60
        },
        {
         "age": 24.4326271752,
         "education": "college",
         "_deepnote_index_column": 61
        },
        {
         "age": 54.3539814265,
         "education": "highschool",
         "_deepnote_index_column": 62
        },
        {
         "age": 55.6130608524,
         "education": "highschool",
         "_deepnote_index_column": 63
        },
        {
         "age": 32.5839851956,
         "education": "college",
         "_deepnote_index_column": 64
        },
        {
         "age": 36.8408324725,
         "education": "college",
         "_deepnote_index_column": 65
        },
        {
         "age": 30.4177717331,
         "education": "college",
         "_deepnote_index_column": 66
        },
        {
         "age": 48.0589423075,
         "education": "less_than_highschool",
         "_deepnote_index_column": 67
        },
        {
         "age": 46.8454243182,
         "education": "highschool",
         "_deepnote_index_column": 68
        },
        {
         "age": 44.8198005461,
         "education": "highschool",
         "_deepnote_index_column": 69
        },
        {
         "age": 40.2623875188,
         "education": "college",
         "_deepnote_index_column": 70
        },
        {
         "age": 51.5783626082,
         "education": "college",
         "_deepnote_index_column": 71
        },
        {
         "age": 46.0886726844,
         "education": "highschool",
         "_deepnote_index_column": 72
        },
        {
         "age": 34.677425535,
         "education": "less_than_highschool",
         "_deepnote_index_column": 73
        },
        {
         "age": 23.8648637962,
         "education": "college",
         "_deepnote_index_column": 74
        },
        {
         "age": 53.29196122729999,
         "education": "highschool",
         "_deepnote_index_column": 75
        },
        {
         "age": 52.775784532,
         "education": "less_than_highschool",
         "_deepnote_index_column": 76
        },
        {
         "age": 23.3906647579,
         "education": "college",
         "_deepnote_index_column": 77
        },
        {
         "age": 52.902260615,
         "education": "college",
         "_deepnote_index_column": 78
        },
        {
         "age": 27.395927673000003,
         "education": "college",
         "_deepnote_index_column": 79
        },
        {
         "age": 46.81823977649999,
         "education": "highschool",
         "_deepnote_index_column": 80
        },
        {
         "age": 56.3739357963,
         "education": "highschool",
         "_deepnote_index_column": 81
        },
        {
         "age": 22.4699406492,
         "education": "college",
         "_deepnote_index_column": 82
        },
        {
         "age": 54.1067078387,
         "education": "highschool",
         "_deepnote_index_column": 83
        },
        {
         "age": 33.482886734000004,
         "education": "college",
         "_deepnote_index_column": 84
        },
        {
         "age": 48.947050051000005,
         "education": "less_than_highschool",
         "_deepnote_index_column": 85
        },
        {
         "age": 53.172792248,
         "education": "highschool",
         "_deepnote_index_column": 86
        },
        {
         "age": 33.2299402589,
         "education": "college",
         "_deepnote_index_column": 87
        },
        {
         "age": 50.5191294032,
         "education": "highschool",
         "_deepnote_index_column": 88
        },
        {
         "age": 27.9300551879,
         "education": "college",
         "_deepnote_index_column": 89
        },
        {
         "age": 62.14156217399999,
         "education": "highschool",
         "_deepnote_index_column": 90
        },
        {
         "age": 33.8048933319,
         "education": "college",
         "_deepnote_index_column": 91
        },
        {
         "age": 47.2139747003,
         "education": "less_than_highschool",
         "_deepnote_index_column": 92
        },
        {
         "age": 58.3312328337,
         "education": "highschool",
         "_deepnote_index_column": 93
        },
        {
         "age": 49.9935750798,
         "education": "less_than_highschool",
         "_deepnote_index_column": 94
        },
        {
         "age": 51.70110104760001,
         "education": "less_than_highschool",
         "_deepnote_index_column": 95
        },
        {
         "age": 51.11391191,
         "education": "less_than_highschool",
         "_deepnote_index_column": 96
        },
        {
         "age": 44.3866499738,
         "education": "less_than_highschool",
         "_deepnote_index_column": 97
        },
        {
         "age": 35.2141501043,
         "education": "highschool",
         "_deepnote_index_column": 98
        },
        {
         "age": 51.2387328322,
         "education": "highschool",
         "_deepnote_index_column": 99
        },
        {
         "age": 23.8179040977,
         "education": "college",
         "_deepnote_index_column": 100
        },
        {
         "age": 21.8910707582,
         "education": "college",
         "_deepnote_index_column": 101
        },
        {
         "age": 47.1659407064,
         "education": "highschool",
         "_deepnote_index_column": 102
        },
        {
         "age": 49.32599855390001,
         "education": "highschool",
         "_deepnote_index_column": 103
        },
        {
         "age": 53.2970143433,
         "education": "less_than_highschool",
         "_deepnote_index_column": 104
        },
        {
         "age": 52.1513291625,
         "education": "highschool",
         "_deepnote_index_column": 105
        },
        {
         "age": 45.4055545511,
         "education": "highschool",
         "_deepnote_index_column": 106
        },
        {
         "age": 50.1037707199,
         "education": "highschool",
         "_deepnote_index_column": 107
        },
        {
         "age": 44.3243667169,
         "education": "less_than_highschool",
         "_deepnote_index_column": 108
        },
        {
         "age": 21.6133167099,
         "education": "college",
         "_deepnote_index_column": 109
        },
        {
         "age": 37.6737681908,
         "education": "less_than_highschool",
         "_deepnote_index_column": 110
        },
        {
         "age": 44.7220185127,
         "education": "highschool",
         "_deepnote_index_column": 111
        },
        {
         "age": 39.8005194816,
         "education": "highschool",
         "_deepnote_index_column": 112
        },
        {
         "age": 27.7453446911,
         "education": "college",
         "_deepnote_index_column": 113
        },
        {
         "age": 56.0924680787,
         "education": "less_than_highschool",
         "_deepnote_index_column": 114
        },
        {
         "age": 56.1488685859,
         "education": "less_than_highschool",
         "_deepnote_index_column": 115
        },
        {
         "age": 45.0071930199,
         "education": "highschool",
         "_deepnote_index_column": 116
        },
        {
         "age": 48.0556388103,
         "education": "highschool",
         "_deepnote_index_column": 117
        },
        {
         "age": 29.160394985,
         "education": "college",
         "_deepnote_index_column": 118
        },
        {
         "age": 21.3571077755,
         "education": "college",
         "_deepnote_index_column": 119
        },
        {
         "age": 30.9033869524,
         "education": "college",
         "_deepnote_index_column": 120
        },
        {
         "age": 44.1701608136,
         "education": "highschool",
         "_deepnote_index_column": 121
        },
        {
         "age": 48.878583905,
         "education": "less_than_highschool",
         "_deepnote_index_column": 122
        },
        {
         "age": 27.6201168073,
         "education": "college",
         "_deepnote_index_column": 123
        },
        {
         "age": 57.5621899458,
         "education": "less_than_highschool",
         "_deepnote_index_column": 124
        },
        {
         "age": 48.2573194173,
         "education": "less_than_highschool",
         "_deepnote_index_column": 125
        },
        {
         "age": 27.3901055019,
         "education": "college",
         "_deepnote_index_column": 126
        },
        {
         "age": 44.6567387228,
         "education": "less_than_highschool",
         "_deepnote_index_column": 127
        },
        {
         "age": 49.5248419329,
         "education": "less_than_highschool",
         "_deepnote_index_column": 128
        },
        {
         "age": 50.5568346321,
         "education": "highschool",
         "_deepnote_index_column": 129
        },
        {
         "age": 32.1599464452,
         "education": "college",
         "_deepnote_index_column": 130
        },
        {
         "age": 47.3101522827,
         "education": "highschool",
         "_deepnote_index_column": 131
        },
        {
         "age": 45.4908614316,
         "education": "less_than_highschool",
         "_deepnote_index_column": 132
        },
        {
         "age": 47.9589136342,
         "education": "less_than_highschool",
         "_deepnote_index_column": 133
        },
        {
         "age": 39.7962499286,
         "education": "less_than_highschool",
         "_deepnote_index_column": 134
        },
        {
         "age": 37.21502608,
         "education": "college",
         "_deepnote_index_column": 135
        },
        {
         "age": 31.2248898693,
         "education": "college",
         "_deepnote_index_column": 136
        },
        {
         "age": 50.6267201282,
         "education": "less_than_highschool",
         "_deepnote_index_column": 137
        },
        {
         "age": 32.5904392823,
         "education": "college",
         "_deepnote_index_column": 138
        },
        {
         "age": 54.4157068288,
         "education": "college",
         "_deepnote_index_column": 139
        },
        {
         "age": 25.9520971593,
         "education": "college",
         "_deepnote_index_column": 140
        },
        {
         "age": 28.1179342148,
         "education": "college",
         "_deepnote_index_column": 141
        },
        {
         "age": 25.2262365443,
         "education": "college",
         "_deepnote_index_column": 142
        },
        {
         "age": 48.7048685753,
         "education": "highschool",
         "_deepnote_index_column": 143
        },
        {
         "age": 37.3506589447,
         "education": "college",
         "_deepnote_index_column": 144
        },
        {
         "age": 48.0901803551,
         "education": "less_than_highschool",
         "_deepnote_index_column": 145
        },
        {
         "age": 50.0743405721,
         "education": "highschool",
         "_deepnote_index_column": 146
        },
        {
         "age": 48.2434385305,
         "education": "highschool",
         "_deepnote_index_column": 147
        },
        {
         "age": 23.6085169026,
         "education": "college",
         "_deepnote_index_column": 148
        },
        {
         "age": 51.9977391837,
         "education": "college",
         "_deepnote_index_column": 149
        },
        {
         "age": 30.113484907600004,
         "education": "college",
         "_deepnote_index_column": 150
        },
        {
         "age": 54.7842246388,
         "education": "college",
         "_deepnote_index_column": 151
        },
        {
         "age": 57.9063932924,
         "education": "less_than_highschool",
         "_deepnote_index_column": 152
        },
        {
         "age": 28.0132374493,
         "education": "college",
         "_deepnote_index_column": 153
        },
        {
         "age": 52.5804037905,
         "education": "highschool",
         "_deepnote_index_column": 154
        },
        {
         "age": 27.4475432979,
         "education": "college",
         "_deepnote_index_column": 155
        },
        {
         "age": 27.5003441563,
         "education": "college",
         "_deepnote_index_column": 156
        },
        {
         "age": 46.8959032524,
         "education": "highschool",
         "_deepnote_index_column": 157
        },
        {
         "age": 50.3906277823,
         "education": "college",
         "_deepnote_index_column": 158
        },
        {
         "age": 45.3039604498,
         "education": "highschool",
         "_deepnote_index_column": 159
        },
        {
         "age": 56.3218192616,
         "education": "college",
         "_deepnote_index_column": 160
        },
        {
         "age": 32.8068362845,
         "education": "college",
         "_deepnote_index_column": 161
        },
        {
         "age": 31.0254761495,
         "education": "less_than_highschool",
         "_deepnote_index_column": 162
        },
        {
         "age": 54.4598263519,
         "education": "less_than_highschool",
         "_deepnote_index_column": 163
        },
        {
         "age": 51.3200552539,
         "education": "less_than_highschool",
         "_deepnote_index_column": 164
        },
        {
         "age": 52.5123908303,
         "education": "highschool",
         "_deepnote_index_column": 165
        },
        {
         "age": 51.6768967026,
         "education": "highschool",
         "_deepnote_index_column": 166
        },
        {
         "age": 48.9034488016,
         "education": "less_than_highschool",
         "_deepnote_index_column": 167
        },
        {
         "age": 39.0269040645,
         "education": "college",
         "_deepnote_index_column": 168
        },
        {
         "age": 50.775621167,
         "education": "highschool",
         "_deepnote_index_column": 169
        },
        {
         "age": 47.661517319,
         "education": "less_than_highschool",
         "_deepnote_index_column": 170
        },
        {
         "age": 39.516017792,
         "education": "highschool",
         "_deepnote_index_column": 171
        },
        {
         "age": 57.2886332325,
         "education": "highschool",
         "_deepnote_index_column": 172
        },
        {
         "age": 27.0926361227,
         "education": "college",
         "_deepnote_index_column": 173
        },
        {
         "age": 23.4685150124,
         "education": "college",
         "_deepnote_index_column": 174
        },
        {
         "age": 55.3468816704,
         "education": "highschool",
         "_deepnote_index_column": 175
        },
        {
         "age": 34.474474261,
         "education": "college",
         "_deepnote_index_column": 176
        },
        {
         "age": 52.3313473291,
         "education": "highschool",
         "_deepnote_index_column": 177
        },
        {
         "age": 43.1917437743,
         "education": "highschool",
         "_deepnote_index_column": 178
        },
        {
         "age": 50.8930708735,
         "education": "highschool",
         "_deepnote_index_column": 179
        },
        {
         "age": 53.44870675399999,
         "education": "highschool",
         "_deepnote_index_column": 180
        },
        {
         "age": 44.58355315520001,
         "education": "highschool",
         "_deepnote_index_column": 181
        },
        {
         "age": 55.6302846691,
         "education": "highschool",
         "_deepnote_index_column": 182
        },
        {
         "age": 49.7048849741,
         "education": "less_than_highschool",
         "_deepnote_index_column": 183
        },
        {
         "age": 19.9945787426,
         "education": "less_than_highschool",
         "_deepnote_index_column": 184
        },
        {
         "age": 52.4097527275,
         "education": "highschool",
         "_deepnote_index_column": 185
        },
        {
         "age": 54.396228824,
         "education": "less_than_highschool",
         "_deepnote_index_column": 186
        },
        {
         "age": 43.1621573047,
         "education": "highschool",
         "_deepnote_index_column": 187
        },
        {
         "age": 29.6580994235,
         "education": "less_than_highschool",
         "_deepnote_index_column": 188
        },
        {
         "age": 32.8972164953,
         "education": "college",
         "_deepnote_index_column": 189
        },
        {
         "age": 33.7126886872,
         "education": "college",
         "_deepnote_index_column": 190
        },
        {
         "age": 48.5178035026,
         "education": "highschool",
         "_deepnote_index_column": 191
        },
        {
         "age": 51.1576958085,
         "education": "highschool",
         "_deepnote_index_column": 192
        },
        {
         "age": 32.1759815786,
         "education": "college",
         "_deepnote_index_column": 193
        },
        {
         "age": 46.8536502682,
         "education": "less_than_highschool",
         "_deepnote_index_column": 194
        },
        {
         "age": 52.1209083134,
         "education": "highschool",
         "_deepnote_index_column": 195
        },
        {
         "age": 52.9197608348,
         "education": "less_than_highschool",
         "_deepnote_index_column": 196
        },
        {
         "age": 22.1495461885,
         "education": "college",
         "_deepnote_index_column": 197
        },
        {
         "age": 26.9104767719,
         "education": "college",
         "_deepnote_index_column": 198
        },
        {
         "age": 52.0115141634,
         "education": "highschool",
         "_deepnote_index_column": 199
        },
        {
         "age": 52.0020266517,
         "education": "less_than_highschool",
         "_deepnote_index_column": 200
        },
        {
         "age": 19.0719335275,
         "education": "college",
         "_deepnote_index_column": 201
        },
        {
         "age": 32.1989964287,
         "education": "less_than_highschool",
         "_deepnote_index_column": 202
        },
        {
         "age": 33.5576371819,
         "education": "college",
         "_deepnote_index_column": 203
        },
        {
         "age": 47.02888497399999,
         "education": "highschool",
         "_deepnote_index_column": 204
        },
        {
         "age": 42.5782597065,
         "education": "less_than_highschool",
         "_deepnote_index_column": 205
        },
        {
         "age": 51.4440050292,
         "education": "college",
         "_deepnote_index_column": 206
        },
        {
         "age": 54.6925545217,
         "education": "less_than_highschool",
         "_deepnote_index_column": 207
        },
        {
         "age": 19.814588694,
         "education": "college",
         "_deepnote_index_column": 208
        },
        {
         "age": 48.612171885600006,
         "education": "less_than_highschool",
         "_deepnote_index_column": 209
        },
        {
         "age": 43.6324524821,
         "education": "highschool",
         "_deepnote_index_column": 210
        },
        {
         "age": 54.993279105,
         "education": "highschool",
         "_deepnote_index_column": 211
        },
        {
         "age": 47.5390875378,
         "education": "less_than_highschool",
         "_deepnote_index_column": 212
        },
        {
         "age": 46.0277058261,
         "education": "less_than_highschool",
         "_deepnote_index_column": 213
        },
        {
         "age": 51.5572774643,
         "education": "highschool",
         "_deepnote_index_column": 214
        },
        {
         "age": 51.7105872236,
         "education": "highschool",
         "_deepnote_index_column": 215
        },
        {
         "age": 33.2486990039,
         "education": "less_than_highschool",
         "_deepnote_index_column": 216
        },
        {
         "age": 28.877377500500003,
         "education": "college",
         "_deepnote_index_column": 217
        },
        {
         "age": 26.3791353245,
         "education": "college",
         "_deepnote_index_column": 218
        },
        {
         "age": 54.3401647326,
         "education": "less_than_highschool",
         "_deepnote_index_column": 219
        },
        {
         "age": 54.232807345,
         "education": "less_than_highschool",
         "_deepnote_index_column": 220
        },
        {
         "age": 57.7136227266,
         "education": "highschool",
         "_deepnote_index_column": 221
        },
        {
         "age": 27.159455994,
         "education": "less_than_highschool",
         "_deepnote_index_column": 222
        },
        {
         "age": 42.3324505402,
         "education": "highschool",
         "_deepnote_index_column": 223
        },
        {
         "age": 31.9462357293,
         "education": "college",
         "_deepnote_index_column": 224
        },
        {
         "age": 27.7204999749,
         "education": "college",
         "_deepnote_index_column": 225
        },
        {
         "age": 53.7957104727,
         "education": "college",
         "_deepnote_index_column": 226
        },
        {
         "age": 48.5826787152,
         "education": "highschool",
         "_deepnote_index_column": 227
        },
        {
         "age": 25.5579196887,
         "education": "college",
         "_deepnote_index_column": 228
        },
        {
         "age": 48.593070854,
         "education": "highschool",
         "_deepnote_index_column": 229
        },
        {
         "age": 53.5616823304,
         "education": "highschool",
         "_deepnote_index_column": 230
        },
        {
         "age": 42.176880287,
         "education": "highschool",
         "_deepnote_index_column": 231
        },
        {
         "age": 50.1761667331,
         "education": "college",
         "_deepnote_index_column": 232
        },
        {
         "age": 44.375171391,
         "education": "less_than_highschool",
         "_deepnote_index_column": 233
        },
        {
         "age": 30.3789253472,
         "education": "college",
         "_deepnote_index_column": 234
        },
        {
         "age": 37.9424514145,
         "education": "highschool",
         "_deepnote_index_column": 235
        },
        {
         "age": 54.680862805,
         "education": "less_than_highschool",
         "_deepnote_index_column": 236
        },
        {
         "age": 34.0202486558,
         "education": "college",
         "_deepnote_index_column": 237
        },
        {
         "age": 50.8195410753,
         "education": "less_than_highschool",
         "_deepnote_index_column": 238
        },
        {
         "age": 31.8068410774,
         "education": "college",
         "_deepnote_index_column": 239
        },
        {
         "age": 51.7602020182,
         "education": "highschool",
         "_deepnote_index_column": 240
        },
        {
         "age": 44.66752309100001,
         "education": "highschool",
         "_deepnote_index_column": 241
        },
        {
         "age": 27.6119598641,
         "education": "college",
         "_deepnote_index_column": 242
        },
        {
         "age": 51.5547029663,
         "education": "highschool",
         "_deepnote_index_column": 243
        },
        {
         "age": 18,
         "education": "less_than_highschool",
         "_deepnote_index_column": 244
        },
        {
         "age": 52.09742084810001,
         "education": "highschool",
         "_deepnote_index_column": 245
        },
        {
         "age": 29.3415360547,
         "education": "college",
         "_deepnote_index_column": 246
        },
        {
         "age": 54.2444186324,
         "education": "highschool",
         "_deepnote_index_column": 247
        },
        {
         "age": 45.2515301424,
         "education": "less_than_highschool",
         "_deepnote_index_column": 248
        },
        {
         "age": 20.1995240803,
         "education": "college",
         "_deepnote_index_column": 249
        }
       ],
       "rows_bottom": [
        {
         "age": 42.8339819377,
         "education": "less_than_highschool",
         "_deepnote_index_column": 750
        },
        {
         "age": 42.553392037600005,
         "education": "less_than_highschool",
         "_deepnote_index_column": 751
        },
        {
         "age": 55.429214338,
         "education": "less_than_highschool",
         "_deepnote_index_column": 752
        },
        {
         "age": 36.6293186376,
         "education": "highschool",
         "_deepnote_index_column": 753
        },
        {
         "age": 24.3430749075,
         "education": "college",
         "_deepnote_index_column": 754
        },
        {
         "age": 47.7989799016,
         "education": "less_than_highschool",
         "_deepnote_index_column": 755
        },
        {
         "age": 43.9327748478,
         "education": "highschool",
         "_deepnote_index_column": 756
        },
        {
         "age": 28.8708928242,
         "education": "less_than_highschool",
         "_deepnote_index_column": 757
        },
        {
         "age": 54.7009488093,
         "education": "highschool",
         "_deepnote_index_column": 758
        },
        {
         "age": 28.6919008284,
         "education": "college",
         "_deepnote_index_column": 759
        },
        {
         "age": 24.081468310500004,
         "education": "college",
         "_deepnote_index_column": 760
        },
        {
         "age": 43.4237860291,
         "education": "highschool",
         "_deepnote_index_column": 761
        },
        {
         "age": 51.5579628351,
         "education": "college",
         "_deepnote_index_column": 762
        },
        {
         "age": 54.99079791689999,
         "education": "highschool",
         "_deepnote_index_column": 763
        },
        {
         "age": 53.6783676116,
         "education": "less_than_highschool",
         "_deepnote_index_column": 764
        },
        {
         "age": 50.76827474979999,
         "education": "highschool",
         "_deepnote_index_column": 765
        },
        {
         "age": 50.8094945079,
         "education": "highschool",
         "_deepnote_index_column": 766
        },
        {
         "age": 43.3784519546,
         "education": "highschool",
         "_deepnote_index_column": 767
        },
        {
         "age": 50.3225720966,
         "education": "less_than_highschool",
         "_deepnote_index_column": 768
        },
        {
         "age": 44.7285302217,
         "education": "highschool",
         "_deepnote_index_column": 769
        },
        {
         "age": 32.001472324,
         "education": "college",
         "_deepnote_index_column": 770
        },
        {
         "age": 53.3131595341,
         "education": "highschool",
         "_deepnote_index_column": 771
        },
        {
         "age": 38.428578916300005,
         "education": "highschool",
         "_deepnote_index_column": 772
        },
        {
         "age": 55.67676476850001,
         "education": "less_than_highschool",
         "_deepnote_index_column": 773
        },
        {
         "age": 55.6585623448,
         "education": "less_than_highschool",
         "_deepnote_index_column": 774
        },
        {
         "age": 50.9696946199,
         "education": "less_than_highschool",
         "_deepnote_index_column": 775
        },
        {
         "age": 53.7688178462,
         "education": "highschool",
         "_deepnote_index_column": 776
        },
        {
         "age": 34.7699441265,
         "education": "college",
         "_deepnote_index_column": 777
        },
        {
         "age": 37.2560351092,
         "education": "college",
         "_deepnote_index_column": 778
        },
        {
         "age": 52.5707603483,
         "education": "less_than_highschool",
         "_deepnote_index_column": 779
        },
        {
         "age": 46.7039998396,
         "education": "less_than_highschool",
         "_deepnote_index_column": 780
        },
        {
         "age": 27.7199157747,
         "education": "college",
         "_deepnote_index_column": 781
        },
        {
         "age": 21.6035093597,
         "education": "college",
         "_deepnote_index_column": 782
        },
        {
         "age": 29.1269557366,
         "education": "college",
         "_deepnote_index_column": 783
        },
        {
         "age": 51.8027825611,
         "education": "highschool",
         "_deepnote_index_column": 784
        },
        {
         "age": 47.3553859233,
         "education": "less_than_highschool",
         "_deepnote_index_column": 785
        },
        {
         "age": 30.3111360943,
         "education": "college",
         "_deepnote_index_column": 786
        },
        {
         "age": 41.0802441565,
         "education": "less_than_highschool",
         "_deepnote_index_column": 787
        },
        {
         "age": 53.823480920600005,
         "education": "highschool",
         "_deepnote_index_column": 788
        },
        {
         "age": 44.84844465729999,
         "education": "highschool",
         "_deepnote_index_column": 789
        },
        {
         "age": 30.8918761307,
         "education": "college",
         "_deepnote_index_column": 790
        },
        {
         "age": 24.7249283269,
         "education": "college",
         "_deepnote_index_column": 791
        },
        {
         "age": 54.9441425903,
         "education": "highschool",
         "_deepnote_index_column": 792
        },
        {
         "age": 29.9372423207,
         "education": "college",
         "_deepnote_index_column": 793
        },
        {
         "age": 49.8966212268,
         "education": "less_than_highschool",
         "_deepnote_index_column": 794
        },
        {
         "age": 52.2979163332,
         "education": "highschool",
         "_deepnote_index_column": 795
        },
        {
         "age": 30.2672054699,
         "education": "college",
         "_deepnote_index_column": 796
        },
        {
         "age": 54.3816050044,
         "education": "less_than_highschool",
         "_deepnote_index_column": 797
        },
        {
         "age": 47.2076202986,
         "education": "less_than_highschool",
         "_deepnote_index_column": 798
        },
        {
         "age": 49.5537877087,
         "education": "college",
         "_deepnote_index_column": 799
        },
        {
         "age": 21.1499870317,
         "education": "college",
         "_deepnote_index_column": 800
        },
        {
         "age": 48.1769682091,
         "education": "highschool",
         "_deepnote_index_column": 801
        },
        {
         "age": 38.0889611215,
         "education": "less_than_highschool",
         "_deepnote_index_column": 802
        },
        {
         "age": 24.878802418600007,
         "education": "less_than_highschool",
         "_deepnote_index_column": 803
        },
        {
         "age": 47.7219570616,
         "education": "highschool",
         "_deepnote_index_column": 804
        },
        {
         "age": 46.8231813152,
         "education": "highschool",
         "_deepnote_index_column": 805
        },
        {
         "age": 49.4755627276,
         "education": "highschool",
         "_deepnote_index_column": 806
        },
        {
         "age": 45.3454031799,
         "education": "less_than_highschool",
         "_deepnote_index_column": 807
        },
        {
         "age": 26.7470206422,
         "education": "college",
         "_deepnote_index_column": 808
        },
        {
         "age": 41.102255171100005,
         "education": "less_than_highschool",
         "_deepnote_index_column": 809
        },
        {
         "age": 38.669541296,
         "education": "college",
         "_deepnote_index_column": 810
        },
        {
         "age": 40.415381365,
         "education": "highschool",
         "_deepnote_index_column": 811
        },
        {
         "age": 57.2949692961,
         "education": "college",
         "_deepnote_index_column": 812
        },
        {
         "age": 47.955605345600006,
         "education": "highschool",
         "_deepnote_index_column": 813
        },
        {
         "age": 45.4327317551,
         "education": "college",
         "_deepnote_index_column": 814
        },
        {
         "age": 25.317528023,
         "education": "college",
         "_deepnote_index_column": 815
        },
        {
         "age": 44.05089499979999,
         "education": "less_than_highschool",
         "_deepnote_index_column": 816
        },
        {
         "age": 39.0428477056,
         "education": "highschool",
         "_deepnote_index_column": 817
        },
        {
         "age": 43.3718114328,
         "education": "less_than_highschool",
         "_deepnote_index_column": 818
        },
        {
         "age": 58.0748900716,
         "education": "highschool",
         "_deepnote_index_column": 819
        },
        {
         "age": 22.0315301119,
         "education": "less_than_highschool",
         "_deepnote_index_column": 820
        },
        {
         "age": 43.698291616000006,
         "education": "highschool",
         "_deepnote_index_column": 821
        },
        {
         "age": 55.8220205851,
         "education": "highschool",
         "_deepnote_index_column": 822
        },
        {
         "age": 55.5957683384,
         "education": "highschool",
         "_deepnote_index_column": 823
        },
        {
         "age": 29.397791579,
         "education": "college",
         "_deepnote_index_column": 824
        },
        {
         "age": 44.04279807,
         "education": "college",
         "_deepnote_index_column": 825
        },
        {
         "age": 44.224639343,
         "education": "highschool",
         "_deepnote_index_column": 826
        },
        {
         "age": 55.0908528338,
         "education": "highschool",
         "_deepnote_index_column": 827
        },
        {
         "age": 30.4575589861,
         "education": "less_than_highschool",
         "_deepnote_index_column": 828
        },
        {
         "age": 47.833103449,
         "education": "less_than_highschool",
         "_deepnote_index_column": 829
        },
        {
         "age": 55.3973005042,
         "education": "highschool",
         "_deepnote_index_column": 830
        },
        {
         "age": 48.4569409488,
         "education": "highschool",
         "_deepnote_index_column": 831
        },
        {
         "age": 46.2954868909,
         "education": "less_than_highschool",
         "_deepnote_index_column": 832
        },
        {
         "age": 52.0714289357,
         "education": "highschool",
         "_deepnote_index_column": 833
        },
        {
         "age": 50.9275662682,
         "education": "highschool",
         "_deepnote_index_column": 834
        },
        {
         "age": 21.9650502033,
         "education": "college",
         "_deepnote_index_column": 835
        },
        {
         "age": 46.9026413484,
         "education": "highschool",
         "_deepnote_index_column": 836
        },
        {
         "age": 46.619763444300006,
         "education": "highschool",
         "_deepnote_index_column": 837
        },
        {
         "age": 49.1565596324,
         "education": "less_than_highschool",
         "_deepnote_index_column": 838
        },
        {
         "age": 35.601538079,
         "education": "college",
         "_deepnote_index_column": 839
        },
        {
         "age": 43.553727169,
         "education": "college",
         "_deepnote_index_column": 840
        },
        {
         "age": 30.4600540014,
         "education": "college",
         "_deepnote_index_column": 841
        },
        {
         "age": 47.6263113392,
         "education": "highschool",
         "_deepnote_index_column": 842
        },
        {
         "age": 48.0337481611,
         "education": "highschool",
         "_deepnote_index_column": 843
        },
        {
         "age": 28.845698098200003,
         "education": "less_than_highschool",
         "_deepnote_index_column": 844
        },
        {
         "age": 43.4625228173,
         "education": "highschool",
         "_deepnote_index_column": 845
        },
        {
         "age": 54.4615402867,
         "education": "less_than_highschool",
         "_deepnote_index_column": 846
        },
        {
         "age": 32.793570828200004,
         "education": "college",
         "_deepnote_index_column": 847
        },
        {
         "age": 51.1195990693,
         "education": "highschool",
         "_deepnote_index_column": 848
        },
        {
         "age": 42.5515750488,
         "education": "less_than_highschool",
         "_deepnote_index_column": 849
        },
        {
         "age": 28.9332175124,
         "education": "less_than_highschool",
         "_deepnote_index_column": 850
        },
        {
         "age": 50.5214044951,
         "education": "highschool",
         "_deepnote_index_column": 851
        },
        {
         "age": 28.7776853998,
         "education": "college",
         "_deepnote_index_column": 852
        },
        {
         "age": 53.9590486384,
         "education": "less_than_highschool",
         "_deepnote_index_column": 853
        },
        {
         "age": 21.509562547,
         "education": "less_than_highschool",
         "_deepnote_index_column": 854
        },
        {
         "age": 23.6697192909,
         "education": "college",
         "_deepnote_index_column": 855
        },
        {
         "age": 53.4916529683,
         "education": "college",
         "_deepnote_index_column": 856
        },
        {
         "age": 26.1984683446,
         "education": "less_than_highschool",
         "_deepnote_index_column": 857
        },
        {
         "age": 47.564492568,
         "education": "highschool",
         "_deepnote_index_column": 858
        },
        {
         "age": 38.0491505598,
         "education": "highschool",
         "_deepnote_index_column": 859
        },
        {
         "age": 49.8228584952,
         "education": "highschool",
         "_deepnote_index_column": 860
        },
        {
         "age": 44.3017336584,
         "education": "less_than_highschool",
         "_deepnote_index_column": 861
        },
        {
         "age": 48.1338535372,
         "education": "less_than_highschool",
         "_deepnote_index_column": 862
        },
        {
         "age": 50.9112869391,
         "education": "college",
         "_deepnote_index_column": 863
        },
        {
         "age": 31.0036659129,
         "education": "college",
         "_deepnote_index_column": 864
        },
        {
         "age": 45.6424109116,
         "education": "less_than_highschool",
         "_deepnote_index_column": 865
        },
        {
         "age": 50.1897220154,
         "education": "less_than_highschool",
         "_deepnote_index_column": 866
        },
        {
         "age": 50.6614526869,
         "education": "highschool",
         "_deepnote_index_column": 867
        },
        {
         "age": 31.9225041223,
         "education": "less_than_highschool",
         "_deepnote_index_column": 868
        },
        {
         "age": 29.1862182772,
         "education": "college",
         "_deepnote_index_column": 869
        },
        {
         "age": 60.3099181995,
         "education": "highschool",
         "_deepnote_index_column": 870
        },
        {
         "age": 55.6913068362,
         "education": "less_than_highschool",
         "_deepnote_index_column": 871
        },
        {
         "age": 40.5155143557,
         "education": "college",
         "_deepnote_index_column": 872
        },
        {
         "age": 50.5378021957,
         "education": "less_than_highschool",
         "_deepnote_index_column": 873
        },
        {
         "age": 50.1898983409,
         "education": "highschool",
         "_deepnote_index_column": 874
        },
        {
         "age": 37.2802582763,
         "education": "less_than_highschool",
         "_deepnote_index_column": 875
        },
        {
         "age": 55.6011861073,
         "education": "less_than_highschool",
         "_deepnote_index_column": 876
        },
        {
         "age": 44.9460761705,
         "education": "less_than_highschool",
         "_deepnote_index_column": 877
        },
        {
         "age": 48.1862899081,
         "education": "highschool",
         "_deepnote_index_column": 878
        },
        {
         "age": 51.0872986945,
         "education": "less_than_highschool",
         "_deepnote_index_column": 879
        },
        {
         "age": 46.5067016778,
         "education": "less_than_highschool",
         "_deepnote_index_column": 880
        },
        {
         "age": 56.1467823916,
         "education": "less_than_highschool",
         "_deepnote_index_column": 881
        },
        {
         "age": 52.6411040673,
         "education": "highschool",
         "_deepnote_index_column": 882
        },
        {
         "age": 31.7574608114,
         "education": "less_than_highschool",
         "_deepnote_index_column": 883
        },
        {
         "age": 43.9012805491,
         "education": "less_than_highschool",
         "_deepnote_index_column": 884
        },
        {
         "age": 46.3381868637,
         "education": "highschool",
         "_deepnote_index_column": 885
        },
        {
         "age": 26.8986909686,
         "education": "college",
         "_deepnote_index_column": 886
        },
        {
         "age": 43.8722120742,
         "education": "less_than_highschool",
         "_deepnote_index_column": 887
        },
        {
         "age": 21.9999791939,
         "education": "college",
         "_deepnote_index_column": 888
        },
        {
         "age": 49.7273353386,
         "education": "less_than_highschool",
         "_deepnote_index_column": 889
        },
        {
         "age": 56.0481533938,
         "education": "less_than_highschool",
         "_deepnote_index_column": 890
        },
        {
         "age": 53.0557908082,
         "education": "less_than_highschool",
         "_deepnote_index_column": 891
        },
        {
         "age": 26.8524723239,
         "education": "college",
         "_deepnote_index_column": 892
        },
        {
         "age": 32.7307216169,
         "education": "college",
         "_deepnote_index_column": 893
        },
        {
         "age": 22.6995841873,
         "education": "college",
         "_deepnote_index_column": 894
        },
        {
         "age": 53.5189029183,
         "education": "highschool",
         "_deepnote_index_column": 895
        },
        {
         "age": 48.848808794300005,
         "education": "highschool",
         "_deepnote_index_column": 896
        },
        {
         "age": 46.53333115939999,
         "education": "highschool",
         "_deepnote_index_column": 897
        },
        {
         "age": 28.9302057035,
         "education": "college",
         "_deepnote_index_column": 898
        },
        {
         "age": 50.1637794923,
         "education": "highschool",
         "_deepnote_index_column": 899
        },
        {
         "age": 48.4085046169,
         "education": "highschool",
         "_deepnote_index_column": 900
        },
        {
         "age": 44.6505667325,
         "education": "less_than_highschool",
         "_deepnote_index_column": 901
        },
        {
         "age": 50.165998654,
         "education": "highschool",
         "_deepnote_index_column": 902
        },
        {
         "age": 37.1383882813,
         "education": "college",
         "_deepnote_index_column": 903
        },
        {
         "age": 26.2569780752,
         "education": "college",
         "_deepnote_index_column": 904
        },
        {
         "age": 47.2649724048,
         "education": "college",
         "_deepnote_index_column": 905
        },
        {
         "age": 43.3454540483,
         "education": "less_than_highschool",
         "_deepnote_index_column": 906
        },
        {
         "age": 52.8968394944,
         "education": "less_than_highschool",
         "_deepnote_index_column": 907
        },
        {
         "age": 23.0115485237,
         "education": "college",
         "_deepnote_index_column": 908
        },
        {
         "age": 25.4097333629,
         "education": "college",
         "_deepnote_index_column": 909
        },
        {
         "age": 40.2179692157,
         "education": "college",
         "_deepnote_index_column": 910
        },
        {
         "age": 42.425419545,
         "education": "highschool",
         "_deepnote_index_column": 911
        },
        {
         "age": 56.36011886560001,
         "education": "highschool",
         "_deepnote_index_column": 912
        },
        {
         "age": 48.396656612,
         "education": "less_than_highschool",
         "_deepnote_index_column": 913
        },
        {
         "age": 50.2439412797,
         "education": "highschool",
         "_deepnote_index_column": 914
        },
        {
         "age": 55.6249728801,
         "education": "less_than_highschool",
         "_deepnote_index_column": 915
        },
        {
         "age": 51.6980387636,
         "education": "less_than_highschool",
         "_deepnote_index_column": 916
        },
        {
         "age": 30.7244709775,
         "education": "college",
         "_deepnote_index_column": 917
        },
        {
         "age": 34.4604970617,
         "education": "college",
         "_deepnote_index_column": 918
        },
        {
         "age": 51.7080856733,
         "education": "highschool",
         "_deepnote_index_column": 919
        },
        {
         "age": 21.7598716048,
         "education": "less_than_highschool",
         "_deepnote_index_column": 920
        },
        {
         "age": 25.7111670924,
         "education": "college",
         "_deepnote_index_column": 921
        },
        {
         "age": 24.397677303,
         "education": "college",
         "_deepnote_index_column": 922
        },
        {
         "age": 29.2567046246,
         "education": "college",
         "_deepnote_index_column": 923
        },
        {
         "age": 52.4631862873,
         "education": "less_than_highschool",
         "_deepnote_index_column": 924
        },
        {
         "age": 49.257414541,
         "education": "highschool",
         "_deepnote_index_column": 925
        },
        {
         "age": 55.7835524883,
         "education": "less_than_highschool",
         "_deepnote_index_column": 926
        },
        {
         "age": 27.8087777932,
         "education": "college",
         "_deepnote_index_column": 927
        },
        {
         "age": 47.7491332121,
         "education": "highschool",
         "_deepnote_index_column": 928
        },
        {
         "age": 51.0595327046,
         "education": "highschool",
         "_deepnote_index_column": 929
        },
        {
         "age": 46.8501634019,
         "education": "less_than_highschool",
         "_deepnote_index_column": 930
        },
        {
         "age": 55.6191358759,
         "education": "less_than_highschool",
         "_deepnote_index_column": 931
        },
        {
         "age": 58.9764596679,
         "education": "less_than_highschool",
         "_deepnote_index_column": 932
        },
        {
         "age": 52.4643355858,
         "education": "less_than_highschool",
         "_deepnote_index_column": 933
        },
        {
         "age": 44.1683659129,
         "education": "highschool",
         "_deepnote_index_column": 934
        },
        {
         "age": 24.9267694271,
         "education": "college",
         "_deepnote_index_column": 935
        },
        {
         "age": 26.959548555700003,
         "education": "college",
         "_deepnote_index_column": 936
        },
        {
         "age": 57.5918686013,
         "education": "highschool",
         "_deepnote_index_column": 937
        },
        {
         "age": 38.0901176006,
         "education": "college",
         "_deepnote_index_column": 938
        },
        {
         "age": 52.837450275600006,
         "education": "less_than_highschool",
         "_deepnote_index_column": 939
        },
        {
         "age": 32.522930199,
         "education": "college",
         "_deepnote_index_column": 940
        },
        {
         "age": 22.7315331175,
         "education": "college",
         "_deepnote_index_column": 941
        },
        {
         "age": 51.7231535341,
         "education": "highschool",
         "_deepnote_index_column": 942
        },
        {
         "age": 54.0420686629,
         "education": "less_than_highschool",
         "_deepnote_index_column": 943
        },
        {
         "age": 55.4838183867,
         "education": "highschool",
         "_deepnote_index_column": 944
        },
        {
         "age": 52.7202875641,
         "education": "highschool",
         "_deepnote_index_column": 945
        },
        {
         "age": 48.7778028231,
         "education": "less_than_highschool",
         "_deepnote_index_column": 946
        },
        {
         "age": 44.1432348116,
         "education": "highschool",
         "_deepnote_index_column": 947
        },
        {
         "age": 52.45914272979999,
         "education": "highschool",
         "_deepnote_index_column": 948
        },
        {
         "age": 54.9300541657,
         "education": "highschool",
         "_deepnote_index_column": 949
        },
        {
         "age": 54.4499029871,
         "education": "highschool",
         "_deepnote_index_column": 950
        },
        {
         "age": 53.689317922700006,
         "education": "less_than_highschool",
         "_deepnote_index_column": 951
        },
        {
         "age": 30.7911657559,
         "education": "college",
         "_deepnote_index_column": 952
        },
        {
         "age": 45.7391302809,
         "education": "highschool",
         "_deepnote_index_column": 953
        },
        {
         "age": 40.902228137,
         "education": "highschool",
         "_deepnote_index_column": 954
        },
        {
         "age": 47.228811582,
         "education": "highschool",
         "_deepnote_index_column": 955
        },
        {
         "age": 30.7652844252,
         "education": "less_than_highschool",
         "_deepnote_index_column": 956
        },
        {
         "age": 49.8338450748,
         "education": "highschool",
         "_deepnote_index_column": 957
        },
        {
         "age": 60.673672287,
         "education": "less_than_highschool",
         "_deepnote_index_column": 958
        },
        {
         "age": 25.2772175729,
         "education": "college",
         "_deepnote_index_column": 959
        },
        {
         "age": 35.6296082177,
         "education": "college",
         "_deepnote_index_column": 960
        },
        {
         "age": 50.67980672979999,
         "education": "highschool",
         "_deepnote_index_column": 961
        },
        {
         "age": 45.063301267700005,
         "education": "college",
         "_deepnote_index_column": 962
        },
        {
         "age": 49.307476144,
         "education": "less_than_highschool",
         "_deepnote_index_column": 963
        },
        {
         "age": 57.8168413513,
         "education": "highschool",
         "_deepnote_index_column": 964
        },
        {
         "age": 45.4003898544,
         "education": "less_than_highschool",
         "_deepnote_index_column": 965
        },
        {
         "age": 49.0051093796,
         "education": "less_than_highschool",
         "_deepnote_index_column": 966
        },
        {
         "age": 45.709457181800005,
         "education": "highschool",
         "_deepnote_index_column": 967
        },
        {
         "age": 48.7409561849,
         "education": "less_than_highschool",
         "_deepnote_index_column": 968
        },
        {
         "age": 45.9487386494,
         "education": "highschool",
         "_deepnote_index_column": 969
        },
        {
         "age": 25.0093512169,
         "education": "college",
         "_deepnote_index_column": 970
        },
        {
         "age": 41.9615322805,
         "education": "highschool",
         "_deepnote_index_column": 971
        },
        {
         "age": 33.9624677174,
         "education": "college",
         "_deepnote_index_column": 972
        },
        {
         "age": 52.44037829999999,
         "education": "less_than_highschool",
         "_deepnote_index_column": 973
        },
        {
         "age": 25.4932789329,
         "education": "college",
         "_deepnote_index_column": 974
        },
        {
         "age": 46.0199583441,
         "education": "less_than_highschool",
         "_deepnote_index_column": 975
        },
        {
         "age": 49.510044276,
         "education": "less_than_highschool",
         "_deepnote_index_column": 976
        },
        {
         "age": 53.1859763718,
         "education": "less_than_highschool",
         "_deepnote_index_column": 977
        },
        {
         "age": 46.5523868195,
         "education": "less_than_highschool",
         "_deepnote_index_column": 978
        },
        {
         "age": 41.7065389097,
         "education": "highschool",
         "_deepnote_index_column": 979
        },
        {
         "age": 56.3127147629,
         "education": "highschool",
         "_deepnote_index_column": 980
        },
        {
         "age": 49.5909780632,
         "education": "highschool",
         "_deepnote_index_column": 981
        },
        {
         "age": 42.5588268806,
         "education": "less_than_highschool",
         "_deepnote_index_column": 982
        },
        {
         "age": 31.3058156729,
         "education": "college",
         "_deepnote_index_column": 983
        },
        {
         "age": 42.2200331096,
         "education": "less_than_highschool",
         "_deepnote_index_column": 984
        },
        {
         "age": 55.4573534995,
         "education": "highschool",
         "_deepnote_index_column": 985
        },
        {
         "age": 51.6949230567,
         "education": "less_than_highschool",
         "_deepnote_index_column": 986
        },
        {
         "age": 50.9454015913,
         "education": "less_than_highschool",
         "_deepnote_index_column": 987
        },
        {
         "age": 44.784393467,
         "education": "highschool",
         "_deepnote_index_column": 988
        },
        {
         "age": 55.144221806,
         "education": "highschool",
         "_deepnote_index_column": 989
        },
        {
         "age": 49.8641097348,
         "education": "less_than_highschool",
         "_deepnote_index_column": 990
        },
        {
         "age": 49.7136399756,
         "education": "highschool",
         "_deepnote_index_column": 991
        },
        {
         "age": 54.5252864707,
         "education": "college",
         "_deepnote_index_column": 992
        },
        {
         "age": 48.9802485398,
         "education": "highschool",
         "_deepnote_index_column": 993
        },
        {
         "age": 41.8411081479,
         "education": "highschool",
         "_deepnote_index_column": 994
        },
        {
         "age": 57.550480738900006,
         "education": "less_than_highschool",
         "_deepnote_index_column": 995
        },
        {
         "age": 23.7268491224,
         "education": "college",
         "_deepnote_index_column": 996
        },
        {
         "age": 52.8286466436,
         "education": "highschool",
         "_deepnote_index_column": 997
        },
        {
         "age": 54.4112232769,
         "education": "highschool",
         "_deepnote_index_column": 998
        },
        {
         "age": 48.4817187505,
         "education": "less_than_highschool",
         "_deepnote_index_column": 999
        }
       ]
      },
      "text/plain": "           age             education\n0    27.007219               college\n1    47.615409            highschool\n2    51.382815            highschool\n3    54.906622            highschool\n4    27.719939  less_than_highschool\n..         ...                   ...\n995  57.550481  less_than_highschool\n996  23.726849               college\n997  52.828647            highschool\n998  54.411223            highschool\n999  48.481719  less_than_highschool\n\n[1000 rows x 2 columns]",
      "text/html": "<div>\n<style scoped>\n    .dataframe tbody tr th:only-of-type {\n        vertical-align: middle;\n    }\n\n    .dataframe tbody tr th {\n        vertical-align: top;\n    }\n\n    .dataframe thead th {\n        text-align: right;\n    }\n</style>\n<table border=\"1\" class=\"dataframe\">\n  <thead>\n    <tr style=\"text-align: right;\">\n      <th></th>\n      <th>age</th>\n      <th>education</th>\n    </tr>\n  </thead>\n  <tbody>\n    <tr>\n      <th>0</th>\n      <td>27.007219</td>\n      <td>college</td>\n    </tr>\n    <tr>\n      <th>1</th>\n      <td>47.615409</td>\n      <td>highschool</td>\n    </tr>\n    <tr>\n      <th>2</th>\n      <td>51.382815</td>\n      <td>highschool</td>\n    </tr>\n    <tr>\n      <th>3</th>\n      <td>54.906622</td>\n      <td>highschool</td>\n    </tr>\n    <tr>\n      <th>4</th>\n      <td>27.719939</td>\n      <td>less_than_highschool</td>\n    </tr>\n    <tr>\n      <th>...</th>\n      <td>...</td>\n      <td>...</td>\n    </tr>\n    <tr>\n      <th>995</th>\n      <td>57.550481</td>\n      <td>less_than_highschool</td>\n    </tr>\n    <tr>\n      <th>996</th>\n      <td>23.726849</td>\n      <td>college</td>\n    </tr>\n    <tr>\n      <th>997</th>\n      <td>52.828647</td>\n      <td>highschool</td>\n    </tr>\n    <tr>\n      <th>998</th>\n      <td>54.411223</td>\n      <td>highschool</td>\n    </tr>\n    <tr>\n      <th>999</th>\n      <td>48.481719</td>\n      <td>less_than_highschool</td>\n    </tr>\n  </tbody>\n</table>\n<p>1000 rows × 2 columns</p>\n</div>"
     },
     "metadata": {}
    }
   ]
  },
  {
   "cell_type": "code",
   "metadata": {
    "tags": [],
    "deepnote_to_be_reexecuted": false,
    "source_hash": "387c13b4",
    "execution_start": 1628814870030,
    "execution_millis": 8,
    "cell_id": "00002-019320ff-92c4-4eb1-92af-495dbfd55ad3",
    "deepnote_cell_type": "code"
   },
   "source": "age_education_df.columns",
   "execution_count": null,
   "outputs": [
    {
     "output_type": "execute_result",
     "execution_count": 3,
     "data": {
      "text/plain": "Index(['age', 'education'], dtype='object')"
     },
     "metadata": {}
    }
   ]
  },
  {
   "cell_type": "code",
   "metadata": {
    "tags": [],
    "deepnote_to_be_reexecuted": false,
    "source_hash": "90825041",
    "execution_start": 1628815286592,
    "execution_millis": 8,
    "cell_id": "00004-d4c54f01-4051-44a0-983d-eab7b042e368",
    "deepnote_cell_type": "code"
   },
   "source": "from sklearn.preprocessing import StandardScaler\n\nscaler = StandardScaler().fit(age_education_df[['age']])\nage_education_df['age_Z'] = scaler.transform(age_education_df[['age']])",
   "execution_count": null,
   "outputs": []
  },
  {
   "cell_type": "code",
   "metadata": {
    "tags": [],
    "deepnote_to_be_reexecuted": false,
    "source_hash": "d9edfe71",
    "execution_start": 1628815606133,
    "execution_millis": 6041,
    "cell_id": "00005-1fac6720-341a-44e4-ba6c-bc0dbf62aedc",
    "deepnote_cell_type": "code"
   },
   "source": "from kmodes.kprototypes import KPrototypes\n\nx = age_education_df[['age_Z','education']].values\nkp = KPrototypes(n_clusters=3)\nage_education_df['Cluster'] = kp.fit_predict(x, categorical = [1])",
   "execution_count": null,
   "outputs": []
  },
  {
   "cell_type": "code",
   "metadata": {
    "tags": [],
    "deepnote_to_be_reexecuted": false,
    "source_hash": "92b60713",
    "execution_start": 1628815791355,
    "execution_millis": 51,
    "cell_id": "00006-e916aaff-1779-4585-9d92-b4a83055ca43",
    "deepnote_cell_type": "code"
   },
   "source": "age_education_df = pd.concat([age_education_df, pd.get_dummies(age_education_df['education'])], axis=1)\nage_education_df",
   "execution_count": null,
   "outputs": [
    {
     "output_type": "execute_result",
     "execution_count": 11,
     "data": {
      "application/vnd.deepnote.dataframe.v2+json": {
       "row_count": 1000,
       "column_count": 7,
       "columns": [
        {
         "name": "age",
         "dtype": "float64",
         "stats": {
          "unique_count": 999,
          "nan_count": 0,
          "min": "18.0",
          "max": "64.790359806",
          "histogram": [
           {
            "bin_start": 18,
            "bin_end": 22.6790359806,
            "count": 33
           },
           {
            "bin_start": 22.6790359806,
            "bin_end": 27.3580719612,
            "count": 90
           },
           {
            "bin_start": 27.3580719612,
            "bin_end": 32.0371079418,
            "count": 127
           },
           {
            "bin_start": 32.0371079418,
            "bin_end": 36.7161439224,
            "count": 67
           },
           {
            "bin_start": 36.7161439224,
            "bin_end": 41.395179903,
            "count": 48
           },
           {
            "bin_start": 41.395179903,
            "bin_end": 46.074215883600004,
            "count": 112
           },
           {
            "bin_start": 46.074215883600004,
            "bin_end": 50.7532518642,
            "count": 235
           },
           {
            "bin_start": 50.7532518642,
            "bin_end": 55.4322878448,
            "count": 213
           },
           {
            "bin_start": 55.4322878448,
            "bin_end": 60.1113238254,
            "count": 63
           },
           {
            "bin_start": 60.1113238254,
            "bin_end": 64.790359806,
            "count": 12
           }
          ]
         }
        },
        {
         "name": "education",
         "dtype": "object",
         "stats": {
          "unique_count": 3,
          "nan_count": 0,
          "categories": [
           {
            "name": "college",
            "count": 334
           },
           {
            "name": "highschool",
            "count": 333
           },
           {
            "name": "less_than_highschool",
            "count": 333
           }
          ]
         }
        },
        {
         "name": "age_Z",
         "dtype": "float64",
         "stats": {
          "unique_count": 999,
          "nan_count": 0,
          "min": "-2.27125165316605",
          "max": "2.010634640236392",
          "histogram": [
           {
            "bin_start": -2.27125165316605,
            "bin_end": -1.843063023825806,
            "count": 33
           },
           {
            "bin_start": -1.843063023825806,
            "bin_end": -1.4148743944855617,
            "count": 90
           },
           {
            "bin_start": -1.4148743944855617,
            "bin_end": -0.9866857651453174,
            "count": 127
           },
           {
            "bin_start": -0.9866857651453174,
            "bin_end": -0.5584971358050732,
            "count": 67
           },
           {
            "bin_start": -0.5584971358050732,
            "bin_end": -0.13030850646482905,
            "count": 48
           },
           {
            "bin_start": -0.13030850646482905,
            "bin_end": 0.2978801228754153,
            "count": 112
           },
           {
            "bin_start": 0.2978801228754153,
            "bin_end": 0.7260687522156593,
            "count": 235
           },
           {
            "bin_start": 0.7260687522156593,
            "bin_end": 1.1542573815559036,
            "count": 213
           },
           {
            "bin_start": 1.1542573815559036,
            "bin_end": 1.582446010896148,
            "count": 63
           },
           {
            "bin_start": 1.582446010896148,
            "bin_end": 2.010634640236392,
            "count": 12
           }
          ]
         }
        },
        {
         "name": "Cluster",
         "dtype": "uint16",
         "stats": {
          "unique_count": 3,
          "nan_count": 0,
          "min": "0",
          "max": "2",
          "histogram": [
           {
            "bin_start": 0,
            "bin_end": 0.2,
            "count": 357
           },
           {
            "bin_start": 0.2,
            "bin_end": 0.4,
            "count": 0
           },
           {
            "bin_start": 0.4,
            "bin_end": 0.6000000000000001,
            "count": 0
           },
           {
            "bin_start": 0.6000000000000001,
            "bin_end": 0.8,
            "count": 0
           },
           {
            "bin_start": 0.8,
            "bin_end": 1,
            "count": 0
           },
           {
            "bin_start": 1,
            "bin_end": 1.2000000000000002,
            "count": 344
           },
           {
            "bin_start": 1.2000000000000002,
            "bin_end": 1.4000000000000001,
            "count": 0
           },
           {
            "bin_start": 1.4000000000000001,
            "bin_end": 1.6,
            "count": 0
           },
           {
            "bin_start": 1.6,
            "bin_end": 1.8,
            "count": 0
           },
           {
            "bin_start": 1.8,
            "bin_end": 2,
            "count": 299
           }
          ]
         }
        },
        {
         "name": "college",
         "dtype": "uint8",
         "stats": {
          "unique_count": 2,
          "nan_count": 0,
          "min": "0",
          "max": "1",
          "histogram": [
           {
            "bin_start": 0,
            "bin_end": 0.1,
            "count": 666
           },
           {
            "bin_start": 0.1,
            "bin_end": 0.2,
            "count": 0
           },
           {
            "bin_start": 0.2,
            "bin_end": 0.30000000000000004,
            "count": 0
           },
           {
            "bin_start": 0.30000000000000004,
            "bin_end": 0.4,
            "count": 0
           },
           {
            "bin_start": 0.4,
            "bin_end": 0.5,
            "count": 0
           },
           {
            "bin_start": 0.5,
            "bin_end": 0.6000000000000001,
            "count": 0
           },
           {
            "bin_start": 0.6000000000000001,
            "bin_end": 0.7000000000000001,
            "count": 0
           },
           {
            "bin_start": 0.7000000000000001,
            "bin_end": 0.8,
            "count": 0
           },
           {
            "bin_start": 0.8,
            "bin_end": 0.9,
            "count": 0
           },
           {
            "bin_start": 0.9,
            "bin_end": 1,
            "count": 334
           }
          ]
         }
        },
        {
         "name": "highschool",
         "dtype": "uint8",
         "stats": {
          "unique_count": 2,
          "nan_count": 0,
          "min": "0",
          "max": "1",
          "histogram": [
           {
            "bin_start": 0,
            "bin_end": 0.1,
            "count": 667
           },
           {
            "bin_start": 0.1,
            "bin_end": 0.2,
            "count": 0
           },
           {
            "bin_start": 0.2,
            "bin_end": 0.30000000000000004,
            "count": 0
           },
           {
            "bin_start": 0.30000000000000004,
            "bin_end": 0.4,
            "count": 0
           },
           {
            "bin_start": 0.4,
            "bin_end": 0.5,
            "count": 0
           },
           {
            "bin_start": 0.5,
            "bin_end": 0.6000000000000001,
            "count": 0
           },
           {
            "bin_start": 0.6000000000000001,
            "bin_end": 0.7000000000000001,
            "count": 0
           },
           {
            "bin_start": 0.7000000000000001,
            "bin_end": 0.8,
            "count": 0
           },
           {
            "bin_start": 0.8,
            "bin_end": 0.9,
            "count": 0
           },
           {
            "bin_start": 0.9,
            "bin_end": 1,
            "count": 333
           }
          ]
         }
        },
        {
         "name": "less_than_highschool",
         "dtype": "uint8",
         "stats": {
          "unique_count": 2,
          "nan_count": 0,
          "min": "0",
          "max": "1",
          "histogram": [
           {
            "bin_start": 0,
            "bin_end": 0.1,
            "count": 667
           },
           {
            "bin_start": 0.1,
            "bin_end": 0.2,
            "count": 0
           },
           {
            "bin_start": 0.2,
            "bin_end": 0.30000000000000004,
            "count": 0
           },
           {
            "bin_start": 0.30000000000000004,
            "bin_end": 0.4,
            "count": 0
           },
           {
            "bin_start": 0.4,
            "bin_end": 0.5,
            "count": 0
           },
           {
            "bin_start": 0.5,
            "bin_end": 0.6000000000000001,
            "count": 0
           },
           {
            "bin_start": 0.6000000000000001,
            "bin_end": 0.7000000000000001,
            "count": 0
           },
           {
            "bin_start": 0.7000000000000001,
            "bin_end": 0.8,
            "count": 0
           },
           {
            "bin_start": 0.8,
            "bin_end": 0.9,
            "count": 0
           },
           {
            "bin_start": 0.9,
            "bin_end": 1,
            "count": 333
           }
          ]
         }
        },
        {
         "name": "_deepnote_index_column",
         "dtype": "int64"
        }
       ],
       "rows_top": [
        {
         "age": 27.0072187412,
         "education": "college",
         "age_Z": -1.4469817259945077,
         "Cluster": 1,
         "college": 1,
         "highschool": 0,
         "less_than_highschool": 0,
         "_deepnote_index_column": 0
        },
        {
         "age": 47.615408975600005,
         "education": "highschool",
         "age_Z": 0.438918011950915,
         "Cluster": 0,
         "college": 0,
         "highschool": 1,
         "less_than_highschool": 0,
         "_deepnote_index_column": 1
        },
        {
         "age": 51.3828153473,
         "education": "highschool",
         "age_Z": 0.7836814583433633,
         "Cluster": 0,
         "college": 0,
         "highschool": 1,
         "less_than_highschool": 0,
         "_deepnote_index_column": 2
        },
        {
         "age": 54.9066215628,
         "education": "highschool",
         "age_Z": 1.1061525313873652,
         "Cluster": 0,
         "college": 0,
         "highschool": 1,
         "less_than_highschool": 0,
         "_deepnote_index_column": 3
        },
        {
         "age": 27.7199392103,
         "education": "less_than_highschool",
         "age_Z": -1.3817591455245168,
         "Cluster": 1,
         "college": 0,
         "highschool": 0,
         "less_than_highschool": 1,
         "_deepnote_index_column": 4
        },
        {
         "age": 48.2811118735,
         "education": "less_than_highschool",
         "age_Z": 0.4998379135249731,
         "Cluster": 2,
         "college": 0,
         "highschool": 0,
         "less_than_highschool": 1,
         "_deepnote_index_column": 5
        },
        {
         "age": 46.7908336532,
         "education": "highschool",
         "age_Z": 0.3634593536823861,
         "Cluster": 0,
         "college": 0,
         "highschool": 1,
         "less_than_highschool": 0,
         "_deepnote_index_column": 6
        },
        {
         "age": 46.5724870478,
         "education": "less_than_highschool",
         "age_Z": 0.3434779869916917,
         "Cluster": 2,
         "college": 0,
         "highschool": 0,
         "less_than_highschool": 1,
         "_deepnote_index_column": 7
        },
        {
         "age": 50.2080609053,
         "education": "college",
         "age_Z": 0.6761771569409104,
         "Cluster": 0,
         "college": 1,
         "highschool": 0,
         "less_than_highschool": 0,
         "_deepnote_index_column": 8
        },
        {
         "age": 55.4969448171,
         "education": "highschool",
         "age_Z": 1.1601742799215533,
         "Cluster": 0,
         "college": 0,
         "highschool": 1,
         "less_than_highschool": 0,
         "_deepnote_index_column": 9
        },
        {
         "age": 54.360282249,
         "education": "highschool",
         "age_Z": 1.056155847689987,
         "Cluster": 0,
         "college": 0,
         "highschool": 1,
         "less_than_highschool": 0,
         "_deepnote_index_column": 10
        },
        {
         "age": 49.2774923474,
         "education": "highschool",
         "age_Z": 0.5910188301046986,
         "Cluster": 0,
         "college": 0,
         "highschool": 1,
         "less_than_highschool": 0,
         "_deepnote_index_column": 11
        },
        {
         "age": 23.8919155879,
         "education": "less_than_highschool",
         "age_Z": -1.7320698066849696,
         "Cluster": 1,
         "college": 0,
         "highschool": 0,
         "less_than_highschool": 1,
         "_deepnote_index_column": 12
        },
        {
         "age": 49.96033377569999,
         "education": "less_than_highschool",
         "age_Z": 0.6535071153952546,
         "Cluster": 2,
         "college": 0,
         "highschool": 0,
         "less_than_highschool": 1,
         "_deepnote_index_column": 13
        },
        {
         "age": 49.4293039058,
         "education": "highschool",
         "age_Z": 0.6049114317813726,
         "Cluster": 0,
         "college": 0,
         "highschool": 1,
         "less_than_highschool": 0,
         "_deepnote_index_column": 14
        },
        {
         "age": 33.8844994191,
         "education": "college",
         "age_Z": -0.8176270043664566,
         "Cluster": 1,
         "college": 1,
         "highschool": 0,
         "less_than_highschool": 0,
         "_deepnote_index_column": 15
        },
        {
         "age": 43.7523085505,
         "education": "highschool",
         "age_Z": 0.08539739725900262,
         "Cluster": 0,
         "college": 0,
         "highschool": 1,
         "less_than_highschool": 0,
         "_deepnote_index_column": 16
        },
        {
         "age": 39.5515859035,
         "education": "college",
         "age_Z": -0.2990197518963244,
         "Cluster": 1,
         "college": 1,
         "highschool": 0,
         "less_than_highschool": 0,
         "_deepnote_index_column": 17
        },
        {
         "age": 50.8851810565,
         "education": "less_than_highschool",
         "age_Z": 0.738141875879406,
         "Cluster": 2,
         "college": 0,
         "highschool": 0,
         "less_than_highschool": 1,
         "_deepnote_index_column": 18
        },
        {
         "age": 45.9925624287,
         "education": "highschool",
         "age_Z": 0.29040783989244834,
         "Cluster": 0,
         "college": 0,
         "highschool": 1,
         "less_than_highschool": 0,
         "_deepnote_index_column": 19
        },
        {
         "age": 46.2641695089,
         "education": "highschool",
         "age_Z": 0.31526318699217937,
         "Cluster": 0,
         "college": 0,
         "highschool": 1,
         "less_than_highschool": 0,
         "_deepnote_index_column": 20
        },
        {
         "age": 45.591757482,
         "education": "highschool",
         "age_Z": 0.2537293186175905,
         "Cluster": 0,
         "college": 0,
         "highschool": 1,
         "less_than_highschool": 0,
         "_deepnote_index_column": 21
        },
        {
         "age": 47.7461998967,
         "education": "less_than_highschool",
         "age_Z": 0.45088696997307004,
         "Cluster": 2,
         "college": 0,
         "highschool": 0,
         "less_than_highschool": 1,
         "_deepnote_index_column": 22
        },
        {
         "age": 33.3828076758,
         "education": "college",
         "age_Z": -0.8635378930207898,
         "Cluster": 1,
         "college": 1,
         "highschool": 0,
         "less_than_highschool": 0,
         "_deepnote_index_column": 23
        },
        {
         "age": 49.7362569352,
         "education": "highschool",
         "age_Z": 0.633001362586685,
         "Cluster": 0,
         "college": 0,
         "highschool": 1,
         "less_than_highschool": 0,
         "_deepnote_index_column": 24
        },
        {
         "age": 28.9778432627,
         "education": "college",
         "age_Z": -1.2666456447367702,
         "Cluster": 1,
         "college": 1,
         "highschool": 0,
         "less_than_highschool": 0,
         "_deepnote_index_column": 25
        },
        {
         "age": 47.8059325678,
         "education": "less_than_highschool",
         "age_Z": 0.4563532349625222,
         "Cluster": 2,
         "college": 0,
         "highschool": 0,
         "less_than_highschool": 1,
         "_deepnote_index_column": 26
        },
        {
         "age": 57.9438917101,
         "education": "less_than_highschool",
         "age_Z": 1.3840996441474727,
         "Cluster": 2,
         "college": 0,
         "highschool": 0,
         "less_than_highschool": 1,
         "_deepnote_index_column": 27
        },
        {
         "age": 52.8089502121,
         "education": "less_than_highschool",
         "age_Z": 0.9141901219964991,
         "Cluster": 2,
         "college": 0,
         "highschool": 0,
         "less_than_highschool": 1,
         "_deepnote_index_column": 28
        },
        {
         "age": 34.3422271787,
         "education": "college",
         "age_Z": -0.7757393542593141,
         "Cluster": 1,
         "college": 1,
         "highschool": 0,
         "less_than_highschool": 0,
         "_deepnote_index_column": 29
        },
        {
         "age": 42.307154913000005,
         "education": "college",
         "age_Z": -0.04685171512073166,
         "Cluster": 2,
         "college": 1,
         "highschool": 0,
         "less_than_highschool": 0,
         "_deepnote_index_column": 30
        },
        {
         "age": 46.894473207,
         "education": "highschool",
         "age_Z": 0.37294363178391143,
         "Cluster": 0,
         "college": 0,
         "highschool": 1,
         "less_than_highschool": 0,
         "_deepnote_index_column": 31
        },
        {
         "age": 57.2963114044,
         "education": "college",
         "age_Z": 1.3248381798981936,
         "Cluster": 0,
         "college": 1,
         "highschool": 0,
         "less_than_highschool": 0,
         "_deepnote_index_column": 32
        },
        {
         "age": 52.2660443297,
         "education": "highschool",
         "age_Z": 0.8645076389787467,
         "Cluster": 0,
         "college": 0,
         "highschool": 1,
         "less_than_highschool": 0,
         "_deepnote_index_column": 33
        },
        {
         "age": 25.759429825,
         "education": "less_than_highschool",
         "age_Z": -1.5611695689495246,
         "Cluster": 1,
         "college": 0,
         "highschool": 0,
         "less_than_highschool": 1,
         "_deepnote_index_column": 34
        },
        {
         "age": 51.4675365415,
         "education": "highschool",
         "age_Z": 0.7914344767366767,
         "Cluster": 0,
         "college": 0,
         "highschool": 1,
         "less_than_highschool": 0,
         "_deepnote_index_column": 35
        },
        {
         "age": 30.9016844429,
         "education": "college",
         "age_Z": -1.0905908074938808,
         "Cluster": 1,
         "college": 1,
         "highschool": 0,
         "less_than_highschool": 0,
         "_deepnote_index_column": 36
        },
        {
         "age": 48.095552363100005,
         "education": "highschool",
         "age_Z": 0.48285696429768526,
         "Cluster": 0,
         "college": 0,
         "highschool": 1,
         "less_than_highschool": 0,
         "_deepnote_index_column": 37
        },
        {
         "age": 54.513392510600006,
         "education": "less_than_highschool",
         "age_Z": 1.0701672964850497,
         "Cluster": 2,
         "college": 0,
         "highschool": 0,
         "less_than_highschool": 1,
         "_deepnote_index_column": 38
        },
        {
         "age": 54.7518814588,
         "education": "highschool",
         "age_Z": 1.0919919322147063,
         "Cluster": 0,
         "college": 0,
         "highschool": 1,
         "less_than_highschool": 0,
         "_deepnote_index_column": 39
        },
        {
         "age": 53.8020918644,
         "education": "highschool",
         "age_Z": 1.0050746470572596,
         "Cluster": 0,
         "college": 0,
         "highschool": 1,
         "less_than_highschool": 0,
         "_deepnote_index_column": 40
        },
        {
         "age": 29.0777491981,
         "education": "college",
         "age_Z": -1.257503038071797,
         "Cluster": 1,
         "college": 1,
         "highschool": 0,
         "less_than_highschool": 0,
         "_deepnote_index_column": 41
        },
        {
         "age": 47.7974430602,
         "education": "highschool",
         "age_Z": 0.45557634189350377,
         "Cluster": 0,
         "college": 0,
         "highschool": 1,
         "less_than_highschool": 0,
         "_deepnote_index_column": 42
        },
        {
         "age": 28.2244481114,
         "education": "college",
         "age_Z": -1.3355904527109472,
         "Cluster": 1,
         "college": 1,
         "highschool": 0,
         "less_than_highschool": 0,
         "_deepnote_index_column": 43
        },
        {
         "age": 50.9601802121,
         "education": "highschool",
         "age_Z": 0.7450052096454183,
         "Cluster": 0,
         "college": 0,
         "highschool": 1,
         "less_than_highschool": 0,
         "_deepnote_index_column": 44
        },
        {
         "age": 49.8341233525,
         "education": "college",
         "age_Z": 0.6419573285711048,
         "Cluster": 2,
         "college": 1,
         "highschool": 0,
         "less_than_highschool": 0,
         "_deepnote_index_column": 45
        },
        {
         "age": 48.7524494982,
         "education": "less_than_highschool",
         "age_Z": 0.542971031610314,
         "Cluster": 2,
         "college": 0,
         "highschool": 0,
         "less_than_highschool": 1,
         "_deepnote_index_column": 46
        },
        {
         "age": 53.311088907,
         "education": "less_than_highschool",
         "age_Z": 0.9601419121514356,
         "Cluster": 2,
         "college": 0,
         "highschool": 0,
         "less_than_highschool": 1,
         "_deepnote_index_column": 47
        },
        {
         "age": 50.4439996576,
         "education": "highschool",
         "age_Z": 0.6977684187680165,
         "Cluster": 0,
         "college": 0,
         "highschool": 1,
         "less_than_highschool": 0,
         "_deepnote_index_column": 48
        },
        {
         "age": 50.3272992661,
         "education": "less_than_highschool",
         "age_Z": 0.6870889153645294,
         "Cluster": 2,
         "college": 0,
         "highschool": 0,
         "less_than_highschool": 1,
         "_deepnote_index_column": 49
        },
        {
         "age": 26.4753432943,
         "education": "college",
         "age_Z": -1.4956547901752701,
         "Cluster": 1,
         "college": 1,
         "highschool": 0,
         "less_than_highschool": 0,
         "_deepnote_index_column": 50
        },
        {
         "age": 53.1871975165,
         "education": "college",
         "age_Z": 0.9488043449890542,
         "Cluster": 0,
         "college": 1,
         "highschool": 0,
         "less_than_highschool": 0,
         "_deepnote_index_column": 51
        },
        {
         "age": 51.3955083326,
         "education": "highschool",
         "age_Z": 0.784843020682353,
         "Cluster": 0,
         "college": 0,
         "highschool": 1,
         "less_than_highschool": 0,
         "_deepnote_index_column": 52
        },
        {
         "age": 44.5996130253,
         "education": "less_than_highschool",
         "age_Z": 0.16293604906734935,
         "Cluster": 2,
         "college": 0,
         "highschool": 0,
         "less_than_highschool": 1,
         "_deepnote_index_column": 53
        },
        {
         "age": 54.1424379589,
         "education": "less_than_highschool",
         "age_Z": 1.0362204489509592,
         "Cluster": 2,
         "college": 0,
         "highschool": 0,
         "less_than_highschool": 1,
         "_deepnote_index_column": 54
        },
        {
         "age": 47.0332994663,
         "education": "highschool",
         "age_Z": 0.38564792085810645,
         "Cluster": 0,
         "college": 0,
         "highschool": 1,
         "less_than_highschool": 0,
         "_deepnote_index_column": 55
        },
        {
         "age": 59.6738542984,
         "education": "less_than_highschool",
         "age_Z": 1.542412235152403,
         "Cluster": 2,
         "college": 0,
         "highschool": 0,
         "less_than_highschool": 1,
         "_deepnote_index_column": 56
        },
        {
         "age": 21.5102042205,
         "education": "college",
         "age_Z": -1.950025327890496,
         "Cluster": 1,
         "college": 1,
         "highschool": 0,
         "less_than_highschool": 0,
         "_deepnote_index_column": 57
        },
        {
         "age": 48.0929397968,
         "education": "highschool",
         "age_Z": 0.4826178827459091,
         "Cluster": 0,
         "college": 0,
         "highschool": 1,
         "less_than_highschool": 0,
         "_deepnote_index_column": 58
        },
        {
         "age": 43.3934809193,
         "education": "less_than_highschool",
         "age_Z": 0.05256031025860953,
         "Cluster": 2,
         "college": 0,
         "highschool": 0,
         "less_than_highschool": 1,
         "_deepnote_index_column": 59
        },
        {
         "age": 58.0264585182,
         "education": "less_than_highschool",
         "age_Z": 1.3916555100429102,
         "Cluster": 2,
         "college": 0,
         "highschool": 0,
         "less_than_highschool": 1,
         "_deepnote_index_column": 60
        },
        {
         "age": 24.4326271752,
         "education": "college",
         "age_Z": -1.6825881283233757,
         "Cluster": 1,
         "college": 1,
         "highschool": 0,
         "less_than_highschool": 0,
         "_deepnote_index_column": 61
        },
        {
         "age": 54.3539814265,
         "education": "highschool",
         "age_Z": 1.0555792458939808,
         "Cluster": 0,
         "college": 0,
         "highschool": 1,
         "less_than_highschool": 0,
         "_deepnote_index_column": 62
        },
        {
         "age": 55.6130608524,
         "education": "highschool",
         "age_Z": 1.1708003076344569,
         "Cluster": 0,
         "college": 0,
         "highschool": 1,
         "less_than_highschool": 0,
         "_deepnote_index_column": 63
        },
        {
         "age": 32.5839851956,
         "education": "college",
         "age_Z": -0.9366398534034821,
         "Cluster": 1,
         "college": 1,
         "highschool": 0,
         "less_than_highschool": 0,
         "_deepnote_index_column": 64
        },
        {
         "age": 36.8408324725,
         "education": "college",
         "age_Z": -0.5470866188560468,
         "Cluster": 1,
         "college": 1,
         "highschool": 0,
         "less_than_highschool": 0,
         "_deepnote_index_column": 65
        },
        {
         "age": 30.4177717331,
         "education": "college",
         "age_Z": -1.134874698617756,
         "Cluster": 1,
         "college": 1,
         "highschool": 0,
         "less_than_highschool": 0,
         "_deepnote_index_column": 66
        },
        {
         "age": 48.0589423075,
         "education": "less_than_highschool",
         "age_Z": 0.4795066995011689,
         "Cluster": 2,
         "college": 0,
         "highschool": 0,
         "less_than_highschool": 1,
         "_deepnote_index_column": 67
        },
        {
         "age": 46.8454243182,
         "education": "highschool",
         "age_Z": 0.36845506265278916,
         "Cluster": 0,
         "college": 0,
         "highschool": 1,
         "less_than_highschool": 0,
         "_deepnote_index_column": 68
        },
        {
         "age": 44.8198005461,
         "education": "highschool",
         "age_Z": 0.18308588187908315,
         "Cluster": 0,
         "college": 0,
         "highschool": 1,
         "less_than_highschool": 0,
         "_deepnote_index_column": 69
        },
        {
         "age": 40.2623875188,
         "education": "college",
         "age_Z": -0.23397276985770585,
         "Cluster": 1,
         "college": 1,
         "highschool": 0,
         "less_than_highschool": 0,
         "_deepnote_index_column": 70
        }
       ],
       "rows_bottom": [
        {
         "age": 51.0595327046,
         "education": "highschool",
         "age_Z": 0.7540971695622681,
         "Cluster": 0,
         "college": 0,
         "highschool": 1,
         "less_than_highschool": 0,
         "_deepnote_index_column": 929
        },
        {
         "age": 46.8501634019,
         "education": "less_than_highschool",
         "age_Z": 0.36888874637786484,
         "Cluster": 2,
         "college": 0,
         "highschool": 0,
         "less_than_highschool": 1,
         "_deepnote_index_column": 930
        },
        {
         "age": 55.6191358759,
         "education": "less_than_highschool",
         "age_Z": 1.171356246079141,
         "Cluster": 2,
         "college": 0,
         "highschool": 0,
         "less_than_highschool": 1,
         "_deepnote_index_column": 931
        },
        {
         "age": 58.9764596679,
         "education": "less_than_highschool",
         "age_Z": 1.478592155080108,
         "Cluster": 2,
         "college": 0,
         "highschool": 0,
         "less_than_highschool": 1,
         "_deepnote_index_column": 932
        },
        {
         "age": 52.4643355858,
         "education": "less_than_highschool",
         "age_Z": 0.8826536975924543,
         "Cluster": 2,
         "college": 0,
         "highschool": 0,
         "less_than_highschool": 1,
         "_deepnote_index_column": 933
        },
        {
         "age": 44.1683659129,
         "education": "highschool",
         "age_Z": 0.12347169984432496,
         "Cluster": 0,
         "college": 0,
         "highschool": 1,
         "less_than_highschool": 0,
         "_deepnote_index_column": 934
        },
        {
         "age": 24.9267694271,
         "education": "college",
         "age_Z": -1.6373681098372106,
         "Cluster": 1,
         "college": 1,
         "highschool": 0,
         "less_than_highschool": 0,
         "_deepnote_index_column": 935
        },
        {
         "age": 26.959548555700003,
         "education": "college",
         "age_Z": -1.4513441270263163,
         "Cluster": 1,
         "college": 1,
         "highschool": 0,
         "less_than_highschool": 0,
         "_deepnote_index_column": 936
        },
        {
         "age": 57.5918686013,
         "education": "highschool",
         "age_Z": 1.3518852536024712,
         "Cluster": 0,
         "college": 0,
         "highschool": 1,
         "less_than_highschool": 0,
         "_deepnote_index_column": 937
        },
        {
         "age": 38.0901176006,
         "education": "college",
         "age_Z": -0.43276185433741665,
         "Cluster": 1,
         "college": 1,
         "highschool": 0,
         "less_than_highschool": 0,
         "_deepnote_index_column": 938
        },
        {
         "age": 52.837450275600006,
         "education": "less_than_highschool",
         "age_Z": 0.9167982240022913,
         "Cluster": 2,
         "college": 0,
         "highschool": 0,
         "less_than_highschool": 1,
         "_deepnote_index_column": 939
        },
        {
         "age": 32.522930199,
         "education": "college",
         "age_Z": -0.9422271272387166,
         "Cluster": 1,
         "college": 1,
         "highschool": 0,
         "less_than_highschool": 0,
         "_deepnote_index_column": 940
        },
        {
         "age": 22.7315331175,
         "education": "college",
         "age_Z": -1.8382588981070256,
         "Cluster": 1,
         "college": 1,
         "highschool": 0,
         "less_than_highschool": 0,
         "_deepnote_index_column": 941
        },
        {
         "age": 51.7231535341,
         "education": "highschool",
         "age_Z": 0.8148265365864563,
         "Cluster": 0,
         "college": 0,
         "highschool": 1,
         "less_than_highschool": 0,
         "_deepnote_index_column": 942
        },
        {
         "age": 54.0420686629,
         "education": "less_than_highschool",
         "age_Z": 1.0270354391625598,
         "Cluster": 2,
         "college": 0,
         "highschool": 0,
         "less_than_highschool": 1,
         "_deepnote_index_column": 943
        },
        {
         "age": 55.4838183867,
         "education": "highschool",
         "age_Z": 1.1589730520907757,
         "Cluster": 0,
         "college": 0,
         "highschool": 1,
         "less_than_highschool": 0,
         "_deepnote_index_column": 944
        },
        {
         "age": 52.7202875641,
         "education": "highschool",
         "age_Z": 0.9060764127029173,
         "Cluster": 0,
         "college": 0,
         "highschool": 1,
         "less_than_highschool": 0,
         "_deepnote_index_column": 945
        },
        {
         "age": 48.7778028231,
         "education": "less_than_highschool",
         "age_Z": 0.5452911688101898,
         "Cluster": 2,
         "college": 0,
         "highschool": 0,
         "less_than_highschool": 1,
         "_deepnote_index_column": 946
        },
        {
         "age": 44.1432348116,
         "education": "highschool",
         "age_Z": 0.12117189880324021,
         "Cluster": 0,
         "college": 0,
         "highschool": 1,
         "less_than_highschool": 0,
         "_deepnote_index_column": 947
        },
        {
         "age": 52.45914272979999,
         "education": "highschool",
         "age_Z": 0.8821784881898713,
         "Cluster": 0,
         "college": 0,
         "highschool": 1,
         "less_than_highschool": 0,
         "_deepnote_index_column": 948
        },
        {
         "age": 54.9300541657,
         "education": "highschool",
         "age_Z": 1.108296899192876,
         "Cluster": 0,
         "college": 0,
         "highschool": 1,
         "less_than_highschool": 0,
         "_deepnote_index_column": 949
        },
        {
         "age": 54.4499029871,
         "education": "highschool",
         "age_Z": 1.0643572338658165,
         "Cluster": 0,
         "college": 0,
         "highschool": 1,
         "less_than_highschool": 0,
         "_deepnote_index_column": 950
        },
        {
         "age": 53.689317922700006,
         "education": "less_than_highschool",
         "age_Z": 0.9947544615057854,
         "Cluster": 2,
         "college": 0,
         "highschool": 0,
         "less_than_highschool": 1,
         "_deepnote_index_column": 951
        },
        {
         "age": 30.7911657559,
         "education": "college",
         "age_Z": -1.10070460984531,
         "Cluster": 1,
         "college": 1,
         "highschool": 0,
         "less_than_highschool": 0,
         "_deepnote_index_column": 952
        },
        {
         "age": 45.7391302809,
         "education": "highschool",
         "age_Z": 0.2672157198815823,
         "Cluster": 0,
         "college": 0,
         "highschool": 1,
         "less_than_highschool": 0,
         "_deepnote_index_column": 953
        },
        {
         "age": 40.902228137,
         "education": "highschool",
         "age_Z": -0.17541958103009128,
         "Cluster": 0,
         "college": 0,
         "highschool": 1,
         "less_than_highschool": 0,
         "_deepnote_index_column": 954
        },
        {
         "age": 47.228811582,
         "education": "highschool",
         "age_Z": 0.4035396543664815,
         "Cluster": 0,
         "college": 0,
         "highschool": 1,
         "less_than_highschool": 0,
         "_deepnote_index_column": 955
        },
        {
         "age": 30.7652844252,
         "education": "less_than_highschool",
         "age_Z": -1.10307306598967,
         "Cluster": 1,
         "college": 0,
         "highschool": 0,
         "less_than_highschool": 1,
         "_deepnote_index_column": 956
        },
        {
         "age": 49.8338450748,
         "education": "highschool",
         "age_Z": 0.6419318627812642,
         "Cluster": 0,
         "college": 0,
         "highschool": 1,
         "less_than_highschool": 0,
         "_deepnote_index_column": 957
        },
        {
         "age": 60.673672287,
         "education": "less_than_highschool",
         "age_Z": 1.6339077260833055,
         "Cluster": 2,
         "college": 0,
         "highschool": 0,
         "less_than_highschool": 1,
         "_deepnote_index_column": 958
        },
        {
         "age": 25.2772175729,
         "education": "college",
         "age_Z": -1.605297847538076,
         "Cluster": 1,
         "college": 1,
         "highschool": 0,
         "less_than_highschool": 0,
         "_deepnote_index_column": 959
        },
        {
         "age": 35.6296082177,
         "education": "college",
         "age_Z": -0.6579283511352594,
         "Cluster": 1,
         "college": 1,
         "highschool": 0,
         "less_than_highschool": 0,
         "_deepnote_index_column": 960
        },
        {
         "age": 50.67980672979999,
         "education": "highschool",
         "age_Z": 0.7193476302664291,
         "Cluster": 0,
         "college": 0,
         "highschool": 1,
         "less_than_highschool": 0,
         "_deepnote_index_column": 961
        },
        {
         "age": 45.063301267700005,
         "education": "college",
         "age_Z": 0.20536915575377934,
         "Cluster": 2,
         "college": 1,
         "highschool": 0,
         "less_than_highschool": 0,
         "_deepnote_index_column": 962
        },
        {
         "age": 49.307476144,
         "education": "less_than_highschool",
         "age_Z": 0.5937627117123208,
         "Cluster": 2,
         "college": 0,
         "highschool": 0,
         "less_than_highschool": 1,
         "_deepnote_index_column": 963
        },
        {
         "age": 57.8168413513,
         "education": "highschool",
         "age_Z": 1.3724729930130692,
         "Cluster": 0,
         "college": 0,
         "highschool": 1,
         "less_than_highschool": 0,
         "_deepnote_index_column": 964
        },
        {
         "age": 45.4003898544,
         "education": "less_than_highschool",
         "age_Z": 0.23621685611422855,
         "Cluster": 2,
         "college": 0,
         "highschool": 0,
         "less_than_highschool": 1,
         "_deepnote_index_column": 965
        },
        {
         "age": 49.0051093796,
         "education": "less_than_highschool",
         "age_Z": 0.5660924798647174,
         "Cluster": 2,
         "college": 0,
         "highschool": 0,
         "less_than_highschool": 1,
         "_deepnote_index_column": 966
        },
        {
         "age": 45.709457181800005,
         "education": "highschool",
         "age_Z": 0.2645002708693106,
         "Cluster": 0,
         "college": 0,
         "highschool": 1,
         "less_than_highschool": 0,
         "_deepnote_index_column": 967
        },
        {
         "age": 48.7409561849,
         "education": "less_than_highschool",
         "age_Z": 0.5419192538319618,
         "Cluster": 2,
         "college": 0,
         "highschool": 0,
         "less_than_highschool": 1,
         "_deepnote_index_column": 968
        },
        {
         "age": 45.9487386494,
         "education": "highschool",
         "age_Z": 0.28639743175094706,
         "Cluster": 0,
         "college": 0,
         "highschool": 1,
         "less_than_highschool": 0,
         "_deepnote_index_column": 969
        },
        {
         "age": 25.0093512169,
         "education": "college",
         "age_Z": -1.6298108729342382,
         "Cluster": 1,
         "college": 1,
         "highschool": 0,
         "less_than_highschool": 0,
         "_deepnote_index_column": 970
        },
        {
         "age": 41.9615322805,
         "education": "highschool",
         "age_Z": -0.07848038433651446,
         "Cluster": 0,
         "college": 0,
         "highschool": 1,
         "less_than_highschool": 0,
         "_deepnote_index_column": 971
        },
        {
         "age": 33.9624677174,
         "education": "college",
         "age_Z": -0.8104919579766686,
         "Cluster": 1,
         "college": 1,
         "highschool": 0,
         "less_than_highschool": 0,
         "_deepnote_index_column": 972
        },
        {
         "age": 52.44037829999999,
         "education": "less_than_highschool",
         "age_Z": 0.8804613149281725,
         "Cluster": 2,
         "college": 0,
         "highschool": 0,
         "less_than_highschool": 1,
         "_deepnote_index_column": 973
        },
        {
         "age": 25.4932789329,
         "education": "college",
         "age_Z": -1.5855256085607798,
         "Cluster": 1,
         "college": 1,
         "highschool": 0,
         "less_than_highschool": 0,
         "_deepnote_index_column": 974
        },
        {
         "age": 46.0199583441,
         "education": "less_than_highschool",
         "age_Z": 0.29291489893479894,
         "Cluster": 2,
         "college": 0,
         "highschool": 0,
         "less_than_highschool": 1,
         "_deepnote_index_column": 975
        },
        {
         "age": 49.510044276,
         "education": "less_than_highschool",
         "age_Z": 0.612300156422881,
         "Cluster": 2,
         "college": 0,
         "highschool": 0,
         "less_than_highschool": 1,
         "_deepnote_index_column": 976
        },
        {
         "age": 53.1859763718,
         "education": "less_than_highschool",
         "age_Z": 0.948692595415534,
         "Cluster": 2,
         "college": 0,
         "highschool": 0,
         "less_than_highschool": 1,
         "_deepnote_index_column": 977
        },
        {
         "age": 46.5523868195,
         "education": "less_than_highschool",
         "age_Z": 0.34163857194105124,
         "Cluster": 2,
         "college": 0,
         "highschool": 0,
         "less_than_highschool": 1,
         "_deepnote_index_column": 978
        },
        {
         "age": 41.7065389097,
         "education": "highschool",
         "age_Z": -0.10181537521634526,
         "Cluster": 0,
         "college": 0,
         "highschool": 1,
         "less_than_highschool": 0,
         "_deepnote_index_column": 979
        },
        {
         "age": 56.3127147629,
         "education": "highschool",
         "age_Z": 1.234827139270644,
         "Cluster": 0,
         "college": 0,
         "highschool": 1,
         "less_than_highschool": 0,
         "_deepnote_index_column": 980
        },
        {
         "age": 49.5909780632,
         "education": "highschool",
         "age_Z": 0.6197065810693608,
         "Cluster": 0,
         "college": 0,
         "highschool": 1,
         "less_than_highschool": 0,
         "_deepnote_index_column": 981
        },
        {
         "age": 42.5588268806,
         "education": "less_than_highschool",
         "age_Z": -0.023820672979400187,
         "Cluster": 2,
         "college": 0,
         "highschool": 0,
         "less_than_highschool": 1,
         "_deepnote_index_column": 982
        },
        {
         "age": 31.3058156729,
         "education": "college",
         "age_Z": -1.0536078908920945,
         "Cluster": 1,
         "college": 1,
         "highschool": 0,
         "less_than_highschool": 0,
         "_deepnote_index_column": 983
        },
        {
         "age": 42.2200331096,
         "education": "less_than_highschool",
         "age_Z": -0.05482441841648909,
         "Cluster": 2,
         "college": 0,
         "highschool": 0,
         "less_than_highschool": 1,
         "_deepnote_index_column": 984
        },
        {
         "age": 55.4573534995,
         "education": "highschool",
         "age_Z": 1.1565511934380968,
         "Cluster": 0,
         "college": 0,
         "highschool": 1,
         "less_than_highschool": 0,
         "_deepnote_index_column": 985
        },
        {
         "age": 51.6949230567,
         "education": "less_than_highschool",
         "age_Z": 0.8122431049835266,
         "Cluster": 2,
         "college": 0,
         "highschool": 0,
         "less_than_highschool": 1,
         "_deepnote_index_column": 986
        },
        {
         "age": 50.9454015913,
         "education": "less_than_highschool",
         "age_Z": 0.7436527863235783,
         "Cluster": 2,
         "college": 0,
         "highschool": 0,
         "less_than_highschool": 1,
         "_deepnote_index_column": 987
        },
        {
         "age": 44.784393467,
         "education": "highschool",
         "age_Z": 0.1798457040450958,
         "Cluster": 0,
         "college": 0,
         "highschool": 1,
         "less_than_highschool": 0,
         "_deepnote_index_column": 988
        },
        {
         "age": 55.144221806,
         "education": "highschool",
         "age_Z": 1.1278958398142584,
         "Cluster": 0,
         "college": 0,
         "highschool": 1,
         "less_than_highschool": 0,
         "_deepnote_index_column": 989
        },
        {
         "age": 49.8641097348,
         "education": "less_than_highschool",
         "age_Z": 0.6447014468016861,
         "Cluster": 2,
         "college": 0,
         "highschool": 0,
         "less_than_highschool": 1,
         "_deepnote_index_column": 990
        },
        {
         "age": 49.7136399756,
         "education": "highschool",
         "age_Z": 0.6309316360508949,
         "Cluster": 0,
         "college": 0,
         "highschool": 1,
         "less_than_highschool": 0,
         "_deepnote_index_column": 991
        },
        {
         "age": 54.5252864707,
         "education": "college",
         "age_Z": 1.0712557383123322,
         "Cluster": 0,
         "college": 1,
         "highschool": 0,
         "less_than_highschool": 0,
         "_deepnote_index_column": 992
        },
        {
         "age": 48.9802485398,
         "education": "highschool",
         "age_Z": 0.563817411033799,
         "Cluster": 0,
         "college": 0,
         "highschool": 1,
         "less_than_highschool": 0,
         "_deepnote_index_column": 993
        },
        {
         "age": 41.8411081479,
         "education": "highschool",
         "age_Z": -0.08950065528362304,
         "Cluster": 0,
         "college": 0,
         "highschool": 1,
         "less_than_highschool": 0,
         "_deepnote_index_column": 994
        },
        {
         "age": 57.550480738900006,
         "education": "less_than_highschool",
         "age_Z": 1.3480977614468534,
         "Cluster": 2,
         "college": 0,
         "highschool": 0,
         "less_than_highschool": 1,
         "_deepnote_index_column": 995
        },
        {
         "age": 23.7268491224,
         "education": "college",
         "age_Z": -1.7471753933711014,
         "Cluster": 1,
         "college": 1,
         "highschool": 0,
         "less_than_highschool": 0,
         "_deepnote_index_column": 996
        },
        {
         "age": 52.8286466436,
         "education": "highschool",
         "age_Z": 0.915992584734945,
         "Cluster": 0,
         "college": 0,
         "highschool": 1,
         "less_than_highschool": 0,
         "_deepnote_index_column": 997
        },
        {
         "age": 54.4112232769,
         "education": "highschool",
         "age_Z": 1.0608175705329235,
         "Cluster": 0,
         "college": 0,
         "highschool": 1,
         "less_than_highschool": 0,
         "_deepnote_index_column": 998
        },
        {
         "age": 48.4817187505,
         "education": "less_than_highschool",
         "age_Z": 0.5181958795793059,
         "Cluster": 2,
         "college": 0,
         "highschool": 0,
         "less_than_highschool": 1,
         "_deepnote_index_column": 999
        }
       ]
      },
      "text/plain": "           age             education     age_Z  Cluster  college  highschool  \\\n0    27.007219               college -1.446982        1        1           0   \n1    47.615409            highschool  0.438918        0        0           1   \n2    51.382815            highschool  0.783681        0        0           1   \n3    54.906622            highschool  1.106153        0        0           1   \n4    27.719939  less_than_highschool -1.381759        1        0           0   \n..         ...                   ...       ...      ...      ...         ...   \n995  57.550481  less_than_highschool  1.348098        2        0           0   \n996  23.726849               college -1.747175        1        1           0   \n997  52.828647            highschool  0.915993        0        0           1   \n998  54.411223            highschool  1.060818        0        0           1   \n999  48.481719  less_than_highschool  0.518196        2        0           0   \n\n     less_than_highschool  \n0                       0  \n1                       0  \n2                       0  \n3                       0  \n4                       1  \n..                    ...  \n995                     1  \n996                     0  \n997                     0  \n998                     0  \n999                     1  \n\n[1000 rows x 7 columns]",
      "text/html": "<div>\n<style scoped>\n    .dataframe tbody tr th:only-of-type {\n        vertical-align: middle;\n    }\n\n    .dataframe tbody tr th {\n        vertical-align: top;\n    }\n\n    .dataframe thead th {\n        text-align: right;\n    }\n</style>\n<table border=\"1\" class=\"dataframe\">\n  <thead>\n    <tr style=\"text-align: right;\">\n      <th></th>\n      <th>age</th>\n      <th>education</th>\n      <th>age_Z</th>\n      <th>Cluster</th>\n      <th>college</th>\n      <th>highschool</th>\n      <th>less_than_highschool</th>\n    </tr>\n  </thead>\n  <tbody>\n    <tr>\n      <th>0</th>\n      <td>27.007219</td>\n      <td>college</td>\n      <td>-1.446982</td>\n      <td>1</td>\n      <td>1</td>\n      <td>0</td>\n      <td>0</td>\n    </tr>\n    <tr>\n      <th>1</th>\n      <td>47.615409</td>\n      <td>highschool</td>\n      <td>0.438918</td>\n      <td>0</td>\n      <td>0</td>\n      <td>1</td>\n      <td>0</td>\n    </tr>\n    <tr>\n      <th>2</th>\n      <td>51.382815</td>\n      <td>highschool</td>\n      <td>0.783681</td>\n      <td>0</td>\n      <td>0</td>\n      <td>1</td>\n      <td>0</td>\n    </tr>\n    <tr>\n      <th>3</th>\n      <td>54.906622</td>\n      <td>highschool</td>\n      <td>1.106153</td>\n      <td>0</td>\n      <td>0</td>\n      <td>1</td>\n      <td>0</td>\n    </tr>\n    <tr>\n      <th>4</th>\n      <td>27.719939</td>\n      <td>less_than_highschool</td>\n      <td>-1.381759</td>\n      <td>1</td>\n      <td>0</td>\n      <td>0</td>\n      <td>1</td>\n    </tr>\n    <tr>\n      <th>...</th>\n      <td>...</td>\n      <td>...</td>\n      <td>...</td>\n      <td>...</td>\n      <td>...</td>\n      <td>...</td>\n      <td>...</td>\n    </tr>\n    <tr>\n      <th>995</th>\n      <td>57.550481</td>\n      <td>less_than_highschool</td>\n      <td>1.348098</td>\n      <td>2</td>\n      <td>0</td>\n      <td>0</td>\n      <td>1</td>\n    </tr>\n    <tr>\n      <th>996</th>\n      <td>23.726849</td>\n      <td>college</td>\n      <td>-1.747175</td>\n      <td>1</td>\n      <td>1</td>\n      <td>0</td>\n      <td>0</td>\n    </tr>\n    <tr>\n      <th>997</th>\n      <td>52.828647</td>\n      <td>highschool</td>\n      <td>0.915993</td>\n      <td>0</td>\n      <td>0</td>\n      <td>1</td>\n      <td>0</td>\n    </tr>\n    <tr>\n      <th>998</th>\n      <td>54.411223</td>\n      <td>highschool</td>\n      <td>1.060818</td>\n      <td>0</td>\n      <td>0</td>\n      <td>1</td>\n      <td>0</td>\n    </tr>\n    <tr>\n      <th>999</th>\n      <td>48.481719</td>\n      <td>less_than_highschool</td>\n      <td>0.518196</td>\n      <td>2</td>\n      <td>0</td>\n      <td>0</td>\n      <td>1</td>\n    </tr>\n  </tbody>\n</table>\n<p>1000 rows × 7 columns</p>\n</div>"
     },
     "metadata": {}
    }
   ]
  },
  {
   "cell_type": "code",
   "metadata": {
    "tags": [],
    "deepnote_to_be_reexecuted": false,
    "source_hash": "90d50eaf",
    "execution_start": 1628815975069,
    "execution_millis": 456,
    "cell_id": "00007-4a11437b-d48c-427a-8b19-4ea7463dbcfc",
    "deepnote_cell_type": "code"
   },
   "source": "plt.figure(figsize = (20,20))\nfor i in range(3):\n    cluster_df = age_education_df[age_education_df['Cluster'] == i]\n    means = cluster_df[['college','highschool','less_than_highschool']].mean()\n    ax = plt.subplot(3, 1, i+1)\n    plt.barh([1,2,3],means)\n    ax.set_yticks([1,2,3])\n    ax.set_yticklabels(['college','highschool','less_than_highschool'])\n    ax.set_title('Cluster ' + str(i))\nplt.show()",
   "execution_count": null,
   "outputs": [
    {
     "data": {
      "text/plain": "<Figure size 1440x1440 with 3 Axes>",
      "image/png": "[encoded data removed]"
     },
     "metadata": {
      "needs_background": "light",
      "image/png": {
       "width": 1243,
       "height": 1134
      }
     },
     "output_type": "display_data"
    }
   ]
  },
  {
   "cell_type": "markdown",
   "source": "<a style='text-decoration:none;line-height:16px;display:flex;color:#5B5B62;padding:10px;justify-content:end;' href='https://deepnote.com?utm_source=created-in-deepnote-cell&projectId=ff5e2091-543c-4b2c-9a56-1e41bbaff775' target=\"_blank\">\n<img alt='Created in deepnote.com' style='display:inline;max-height:16px;margin:0px;margin-right:7.5px;' src='data:image/svg+xml;base64,PD94bWwgdmVyc2lvbj0iMS4wIiBlbmNvZGluZz0iVVRGLTgiPz4KPHN2ZyB3aWR0aD0iODBweCIgaGVpZ2h0PSI4MHB4IiB2aWV3Qm94PSIwIDAgODAgODAiIHZlcnNpb249IjEuMSIgeG1sbnM9Imh0dHA6Ly93d3cudzMub3JnLzIwMDAvc3ZnIiB4bWxuczp4bGluaz0iaHR0cDovL3d3dy53My5vcmcvMTk5OS94bGluayI+CiAgICA8IS0tIEdlbmVyYXRvcjogU2tldGNoIDU0LjEgKDc2NDkwKSAtIGh0dHBzOi8vc2tldGNoYXBwLmNvbSAtLT4KICAgIDx0aXRsZT5Hcm91cCAzPC90aXRsZT4KICAgIDxkZXNjPkNyZWF0ZWQgd2l0aCBTa2V0Y2guPC9kZXNjPgogICAgPGcgaWQ9IkxhbmRpbmciIHN0cm9rZT0ibm9uZSIgc3Ryb2tlLXdpZHRoPSIxIiBmaWxsPSJub25lIiBmaWxsLXJ1bGU9ImV2ZW5vZGQiPgogICAgICAgIDxnIGlkPSJBcnRib2FyZCIgdHJhbnNmb3JtPSJ0cmFuc2xhdGUoLTEyMzUuMDAwMDAwLCAtNzkuMDAwMDAwKSI+CiAgICAgICAgICAgIDxnIGlkPSJHcm91cC0zIiB0cmFuc2Zvcm09InRyYW5zbGF0ZSgxMjM1LjAwMDAwMCwgNzkuMDAwMDAwKSI+CiAgICAgICAgICAgICAgICA8cG9seWdvbiBpZD0iUGF0aC0yMCIgZmlsbD0iIzAyNjVCNCIgcG9pbnRzPSIyLjM3NjIzNzYyIDgwIDM4LjA0NzY2NjcgODAgNTcuODIxNzgyMiA3My44MDU3NTkyIDU3LjgyMTc4MjIgMzIuNzU5MjczOSAzOS4xNDAyMjc4IDMxLjY4MzE2ODMiPjwvcG9seWdvbj4KICAgICAgICAgICAgICAgIDxwYXRoIGQ9Ik0zNS4wMDc3MTgsODAgQzQyLjkwNjIwMDcsNzYuNDU0OTM1OCA0Ny41NjQ5MTY3LDcxLjU0MjI2NzEgNDguOTgzODY2LDY1LjI2MTk5MzkgQzUxLjExMjI4OTksNTUuODQxNTg0MiA0MS42NzcxNzk1LDQ5LjIxMjIyODQgMjUuNjIzOTg0Niw0OS4yMTIyMjg0IEMyNS40ODQ5Mjg5LDQ5LjEyNjg0NDggMjkuODI2MTI5Niw0My4yODM4MjQ4IDM4LjY0NzU4NjksMzEuNjgzMTY4MyBMNzIuODcxMjg3MSwzMi41NTQ0MjUgTDY1LjI4MDk3Myw2Ny42NzYzNDIxIEw1MS4xMTIyODk5LDc3LjM3NjE0NCBMMzUuMDA3NzE4LDgwIFoiIGlkPSJQYXRoLTIyIiBmaWxsPSIjMDAyODY4Ij48L3BhdGg+CiAgICAgICAgICAgICAgICA8cGF0aCBkPSJNMCwzNy43MzA0NDA1IEwyNy4xMTQ1MzcsMC4yNTcxMTE0MzYgQzYyLjM3MTUxMjMsLTEuOTkwNzE3MDEgODAsMTAuNTAwMzkyNyA4MCwzNy43MzA0NDA1IEM4MCw2NC45NjA0ODgyIDY0Ljc3NjUwMzgsNzkuMDUwMzQxNCAzNC4zMjk1MTEzLDgwIEM0Ny4wNTUzNDg5LDc3LjU2NzA4MDggNTMuNDE4MjY3Nyw3MC4zMTM2MTAzIDUzLjQxODI2NzcsNTguMjM5NTg4NSBDNTMuNDE4MjY3Nyw0MC4xMjg1NTU3IDM2LjMwMzk1NDQsMzcuNzMwNDQwNSAyNS4yMjc0MTcsMzcuNzMwNDQwNSBDMTcuODQzMDU4NiwzNy43MzA0NDA1IDkuNDMzOTE5NjYsMzcuNzMwNDQwNSAwLDM3LjczMDQ0MDUgWiIgaWQ9IlBhdGgtMTkiIGZpbGw9IiMzNzkzRUYiPjwvcGF0aD4KICAgICAgICAgICAgPC9nPgogICAgICAgIDwvZz4KICAgIDwvZz4KPC9zdmc+' > </img>\nCreated in <span style='font-weight:600;margin-left:4px;'>Deepnote</span></a>",
   "metadata": {
    "tags": [],
    "created_in_deepnote_cell": true,
    "deepnote_cell_type": "markdown"
   }
  }
 ],
 "nbformat": 4,
 "nbformat_minor": 2,
 "metadata": {
  "orig_nbformat": 2,
  "deepnote": {
   "is_reactive": false
  },
  "deepnote_notebook_id": "7891902e-87bc-4f67-8d09-d2af5868bd60",
  "deepnote_execution_queue": []
 }
}