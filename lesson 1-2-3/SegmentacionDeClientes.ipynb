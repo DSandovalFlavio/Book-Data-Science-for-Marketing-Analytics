{
 "cells": [
  {
   "cell_type": "code",
   "metadata": {
    "tags": [],
    "cell_id": "00000-539ba164-d38f-4097-bb22-8b6b4f7d589f",
    "deepnote_to_be_reexecuted": false,
    "source_hash": "c76c7c51",
    "execution_start": 1628047381804,
    "execution_millis": 10553300,
    "deepnote_cell_type": "code"
   },
   "source": "import pandas as pd\nimport numpy as np",
   "execution_count": null,
   "outputs": []
  },
  {
   "cell_type": "code",
   "metadata": {
    "tags": [],
    "cell_id": "00001-978bb3f5-abb7-4e3d-ac7f-b4e661a5f693",
    "deepnote_to_be_reexecuted": false,
    "source_hash": "db823474",
    "execution_start": 1628047381804,
    "execution_millis": 63,
    "deepnote_cell_type": "code"
   },
   "source": "df_marketing = pd.read_csv('marketing_data.csv')",
   "execution_count": null,
   "outputs": []
  },
  {
   "cell_type": "code",
   "metadata": {
    "tags": [],
    "cell_id": "00002-3f7ea450-da58-412a-9904-b082998afaf1",
    "deepnote_to_be_reexecuted": false,
    "source_hash": "f8241b59",
    "execution_start": 1628047381886,
    "execution_millis": 503,
    "deepnote_cell_type": "code"
   },
   "source": "df_marketing = df_marketing[df_marketing.Year_Birth >= 1960]\ndf_marketing =  df_marketing.rename(columns={ i : i.replace(' ', '') for i in list(df_marketing.columns)})\ndf_marketing = df_marketing[df_marketing.Income.notnull()]\ndf_marketing.Income =  (df_marketing.Income.str.replace('$','').str.replace(',','')).astype(float)\ndf_marketing['Age'] = 2021 - df_marketing.Year_Birth\ndf_marketing",
   "execution_count": null,
   "outputs": [
    {
     "name": "stderr",
     "text": "/shared-libs/python3.7/py-core/lib/python3.7/site-packages/ipykernel_launcher.py:4: FutureWarning: The default value of regex will change from True to False in a future version. In addition, single character regular expressions will*not* be treated as literal strings when regex=True.\n  after removing the cwd from sys.path.\n",
     "output_type": "stream"
    },
    {
     "output_type": "execute_result",
     "execution_count": 3,
     "data": {
      "application/vnd.deepnote.dataframe.v2+json": {
       "row_count": 1654,
       "column_count": 29,
       "columns": [
        {
         "name": "ID",
         "dtype": "int64",
         "stats": {
          "unique_count": 1654,
          "nan_count": 0,
          "min": "0",
          "max": "11191",
          "histogram": [
           {
            "bin_start": 0,
            "bin_end": 1119.1,
            "count": 166
           },
           {
            "bin_start": 1119.1,
            "bin_end": 2238.2,
            "count": 163
           },
           {
            "bin_start": 2238.2,
            "bin_end": 3357.2999999999997,
            "count": 178
           },
           {
            "bin_start": 3357.2999999999997,
            "bin_end": 4476.4,
            "count": 172
           },
           {
            "bin_start": 4476.4,
            "bin_end": 5595.5,
            "count": 175
           },
           {
            "bin_start": 5595.5,
            "bin_end": 6714.599999999999,
            "count": 166
           },
           {
            "bin_start": 6714.599999999999,
            "bin_end": 7833.699999999999,
            "count": 155
           },
           {
            "bin_start": 7833.699999999999,
            "bin_end": 8952.8,
            "count": 142
           },
           {
            "bin_start": 8952.8,
            "bin_end": 10071.9,
            "count": 147
           },
           {
            "bin_start": 10071.9,
            "bin_end": 11191,
            "count": 190
           }
          ]
         }
        },
        {
         "name": "Year_Birth",
         "dtype": "int64",
         "stats": {
          "unique_count": 37,
          "nan_count": 0,
          "min": "1960",
          "max": "1996",
          "histogram": [
           {
            "bin_start": 1960,
            "bin_end": 1963.6,
            "count": 172
           },
           {
            "bin_start": 1963.6,
            "bin_end": 1967.2,
            "count": 209
           },
           {
            "bin_start": 1967.2,
            "bin_end": 1970.8,
            "count": 196
           },
           {
            "bin_start": 1970.8,
            "bin_end": 1974.4,
            "count": 305
           },
           {
            "bin_start": 1974.4,
            "bin_end": 1978,
            "count": 224
           },
           {
            "bin_start": 1978,
            "bin_end": 1981.6,
            "count": 206
           },
           {
            "bin_start": 1981.6,
            "bin_end": 1985.2,
            "count": 155
           },
           {
            "bin_start": 1985.2,
            "bin_end": 1988.8,
            "count": 97
           },
           {
            "bin_start": 1988.8,
            "bin_end": 1992.4,
            "count": 75
           },
           {
            "bin_start": 1992.4,
            "bin_end": 1996,
            "count": 15
           }
          ]
         }
        },
        {
         "name": "Education",
         "dtype": "object",
         "stats": {
          "unique_count": 5,
          "nan_count": 0,
          "categories": [
           {
            "name": "Graduation",
            "count": 847
           },
           {
            "name": "PhD",
            "count": 334
           },
           {
            "name": "3 others",
            "count": 473
           }
          ]
         }
        },
        {
         "name": "Marital_Status",
         "dtype": "object",
         "stats": {
          "unique_count": 8,
          "nan_count": 0,
          "categories": [
           {
            "name": "Married",
            "count": 661
           },
           {
            "name": "Together",
            "count": 406
           },
           {
            "name": "6 others",
            "count": 587
           }
          ]
         }
        },
        {
         "name": "Income",
         "dtype": "float64",
         "stats": {
          "unique_count": 1470,
          "nan_count": 0,
          "min": "1730.0",
          "max": "666666.0",
          "histogram": [
           {
            "bin_start": 1730,
            "bin_end": 68223.6,
            "count": 1263
           },
           {
            "bin_start": 68223.6,
            "bin_end": 134717.2,
            "count": 384
           },
           {
            "bin_start": 134717.2,
            "bin_end": 201210.80000000002,
            "count": 6
           },
           {
            "bin_start": 201210.80000000002,
            "bin_end": 267704.4,
            "count": 0
           },
           {
            "bin_start": 267704.4,
            "bin_end": 334198,
            "count": 0
           },
           {
            "bin_start": 334198,
            "bin_end": 400691.60000000003,
            "count": 0
           },
           {
            "bin_start": 400691.60000000003,
            "bin_end": 467185.20000000007,
            "count": 0
           },
           {
            "bin_start": 467185.20000000007,
            "bin_end": 533678.8,
            "count": 0
           },
           {
            "bin_start": 533678.8,
            "bin_end": 600172.4,
            "count": 0
           },
           {
            "bin_start": 600172.4,
            "bin_end": 666666,
            "count": 1
           }
          ]
         }
        },
        {
         "name": "Kidhome",
         "dtype": "int64",
         "stats": {
          "unique_count": 3,
          "nan_count": 0,
          "min": "0",
          "max": "2",
          "histogram": [
           {
            "bin_start": 0,
            "bin_end": 0.2,
            "count": 844
           },
           {
            "bin_start": 0.2,
            "bin_end": 0.4,
            "count": 0
           },
           {
            "bin_start": 0.4,
            "bin_end": 0.6000000000000001,
            "count": 0
           },
           {
            "bin_start": 0.6000000000000001,
            "bin_end": 0.8,
            "count": 0
           },
           {
            "bin_start": 0.8,
            "bin_end": 1,
            "count": 0
           },
           {
            "bin_start": 1,
            "bin_end": 1.2000000000000002,
            "count": 775
           },
           {
            "bin_start": 1.2000000000000002,
            "bin_end": 1.4000000000000001,
            "count": 0
           },
           {
            "bin_start": 1.4000000000000001,
            "bin_end": 1.6,
            "count": 0
           },
           {
            "bin_start": 1.6,
            "bin_end": 1.8,
            "count": 0
           },
           {
            "bin_start": 1.8,
            "bin_end": 2,
            "count": 35
           }
          ]
         }
        },
        {
         "name": "Teenhome",
         "dtype": "int64",
         "stats": {
          "unique_count": 3,
          "nan_count": 0,
          "min": "0",
          "max": "2",
          "histogram": [
           {
            "bin_start": 0,
            "bin_end": 0.2,
            "count": 944
           },
           {
            "bin_start": 0.2,
            "bin_end": 0.4,
            "count": 0
           },
           {
            "bin_start": 0.4,
            "bin_end": 0.6000000000000001,
            "count": 0
           },
           {
            "bin_start": 0.6000000000000001,
            "bin_end": 0.8,
            "count": 0
           },
           {
            "bin_start": 0.8,
            "bin_end": 1,
            "count": 0
           },
           {
            "bin_start": 1,
            "bin_end": 1.2000000000000002,
            "count": 679
           },
           {
            "bin_start": 1.2000000000000002,
            "bin_end": 1.4000000000000001,
            "count": 0
           },
           {
            "bin_start": 1.4000000000000001,
            "bin_end": 1.6,
            "count": 0
           },
           {
            "bin_start": 1.6,
            "bin_end": 1.8,
            "count": 0
           },
           {
            "bin_start": 1.8,
            "bin_end": 2,
            "count": 31
           }
          ]
         }
        },
        {
         "name": "Dt_Customer",
         "dtype": "object",
         "stats": {
          "unique_count": 616,
          "nan_count": 0,
          "categories": [
           {
            "name": "9/12/12",
            "count": 10
           },
           {
            "name": "8/31/12",
            "count": 10
           },
           {
            "name": "614 others",
            "count": 1634
           }
          ]
         }
        },
        {
         "name": "Recency",
         "dtype": "int64",
         "stats": {
          "unique_count": 100,
          "nan_count": 0,
          "min": "0",
          "max": "99",
          "histogram": [
           {
            "bin_start": 0,
            "bin_end": 9.9,
            "count": 167
           },
           {
            "bin_start": 9.9,
            "bin_end": 19.8,
            "count": 181
           },
           {
            "bin_start": 19.8,
            "bin_end": 29.700000000000003,
            "count": 169
           },
           {
            "bin_start": 29.700000000000003,
            "bin_end": 39.6,
            "count": 170
           },
           {
            "bin_start": 39.6,
            "bin_end": 49.5,
            "count": 167
           },
           {
            "bin_start": 49.5,
            "bin_end": 59.400000000000006,
            "count": 155
           },
           {
            "bin_start": 59.400000000000006,
            "bin_end": 69.3,
            "count": 148
           },
           {
            "bin_start": 69.3,
            "bin_end": 79.2,
            "count": 164
           },
           {
            "bin_start": 79.2,
            "bin_end": 89.10000000000001,
            "count": 166
           },
           {
            "bin_start": 89.10000000000001,
            "bin_end": 99,
            "count": 167
           }
          ]
         }
        },
        {
         "name": "MntWines",
         "dtype": "int64",
         "stats": {
          "unique_count": 624,
          "nan_count": 0,
          "min": "0",
          "max": "1486",
          "histogram": [
           {
            "bin_start": 0,
            "bin_end": 148.6,
            "count": 848
           },
           {
            "bin_start": 148.6,
            "bin_end": 297.2,
            "count": 217
           },
           {
            "bin_start": 297.2,
            "bin_end": 445.79999999999995,
            "count": 152
           },
           {
            "bin_start": 445.79999999999995,
            "bin_end": 594.4,
            "count": 137
           },
           {
            "bin_start": 594.4,
            "bin_end": 743,
            "count": 107
           },
           {
            "bin_start": 743,
            "bin_end": 891.5999999999999,
            "count": 70
           },
           {
            "bin_start": 891.5999999999999,
            "bin_end": 1040.2,
            "count": 65
           },
           {
            "bin_start": 1040.2,
            "bin_end": 1188.8,
            "count": 33
           },
           {
            "bin_start": 1188.8,
            "bin_end": 1337.3999999999999,
            "count": 18
           },
           {
            "bin_start": 1337.3999999999999,
            "bin_end": 1486,
            "count": 7
           }
          ]
         }
        },
        {
         "name": "MntFruits",
         "dtype": "int64",
         "stats": {
          "unique_count": 148,
          "nan_count": 0,
          "min": "0",
          "max": "199",
          "histogram": [
           {
            "bin_start": 0,
            "bin_end": 19.9,
            "count": 1116
           },
           {
            "bin_start": 19.9,
            "bin_end": 39.8,
            "count": 190
           },
           {
            "bin_start": 39.8,
            "bin_end": 59.699999999999996,
            "count": 102
           },
           {
            "bin_start": 59.699999999999996,
            "bin_end": 79.6,
            "count": 60
           },
           {
            "bin_start": 79.6,
            "bin_end": 99.5,
            "count": 55
           },
           {
            "bin_start": 99.5,
            "bin_end": 119.39999999999999,
            "count": 39
           },
           {
            "bin_start": 119.39999999999999,
            "bin_end": 139.29999999999998,
            "count": 36
           },
           {
            "bin_start": 139.29999999999998,
            "bin_end": 159.2,
            "count": 24
           },
           {
            "bin_start": 159.2,
            "bin_end": 179.1,
            "count": 19
           },
           {
            "bin_start": 179.1,
            "bin_end": 199,
            "count": 13
           }
          ]
         }
        },
        {
         "name": "MntMeatProducts",
         "dtype": "int64",
         "stats": {
          "unique_count": 457,
          "nan_count": 0,
          "min": "0",
          "max": "1725",
          "histogram": [
           {
            "bin_start": 0,
            "bin_end": 172.5,
            "count": 1207
           },
           {
            "bin_start": 172.5,
            "bin_end": 345,
            "count": 167
           },
           {
            "bin_start": 345,
            "bin_end": 517.5,
            "count": 130
           },
           {
            "bin_start": 517.5,
            "bin_end": 690,
            "count": 69
           },
           {
            "bin_start": 690,
            "bin_end": 862.5,
            "count": 53
           },
           {
            "bin_start": 862.5,
            "bin_end": 1035,
            "count": 24
           },
           {
            "bin_start": 1035,
            "bin_end": 1207.5,
            "count": 0
           },
           {
            "bin_start": 1207.5,
            "bin_end": 1380,
            "count": 0
           },
           {
            "bin_start": 1380,
            "bin_end": 1552.5,
            "count": 0
           },
           {
            "bin_start": 1552.5,
            "bin_end": 1725,
            "count": 4
           }
          ]
         }
        },
        {
         "name": "MntFishProducts",
         "dtype": "int64",
         "stats": {
          "unique_count": 170,
          "nan_count": 0,
          "min": "0",
          "max": "259",
          "histogram": [
           {
            "bin_start": 0,
            "bin_end": 25.9,
            "count": 1111
           },
           {
            "bin_start": 25.9,
            "bin_end": 51.8,
            "count": 166
           },
           {
            "bin_start": 51.8,
            "bin_end": 77.69999999999999,
            "count": 109
           },
           {
            "bin_start": 77.69999999999999,
            "bin_end": 103.6,
            "count": 72
           },
           {
            "bin_start": 103.6,
            "bin_end": 129.5,
            "count": 56
           },
           {
            "bin_start": 129.5,
            "bin_end": 155.39999999999998,
            "count": 44
           },
           {
            "bin_start": 155.39999999999998,
            "bin_end": 181.29999999999998,
            "count": 34
           },
           {
            "bin_start": 181.29999999999998,
            "bin_end": 207.2,
            "count": 25
           },
           {
            "bin_start": 207.2,
            "bin_end": 233.1,
            "count": 25
           },
           {
            "bin_start": 233.1,
            "bin_end": 259,
            "count": 12
           }
          ]
         }
        },
        {
         "name": "MntSweetProducts",
         "dtype": "int64",
         "stats": {
          "unique_count": 161,
          "nan_count": 0,
          "min": "0",
          "max": "198",
          "histogram": [
           {
            "bin_start": 0,
            "bin_end": 19.8,
            "count": 1109
           },
           {
            "bin_start": 19.8,
            "bin_end": 39.6,
            "count": 197
           },
           {
            "bin_start": 39.6,
            "bin_end": 59.400000000000006,
            "count": 104
           },
           {
            "bin_start": 59.400000000000006,
            "bin_end": 79.2,
            "count": 55
           },
           {
            "bin_start": 79.2,
            "bin_end": 99,
            "count": 58
           },
           {
            "bin_start": 99,
            "bin_end": 118.80000000000001,
            "count": 41
           },
           {
            "bin_start": 118.80000000000001,
            "bin_end": 138.6,
            "count": 31
           },
           {
            "bin_start": 138.6,
            "bin_end": 158.4,
            "count": 22
           },
           {
            "bin_start": 158.4,
            "bin_end": 178.20000000000002,
            "count": 21
           },
           {
            "bin_start": 178.20000000000002,
            "bin_end": 198,
            "count": 16
           }
          ]
         }
        },
        {
         "name": "MntGoldProds",
         "dtype": "int64",
         "stats": {
          "unique_count": 194,
          "nan_count": 0,
          "min": "0",
          "max": "321",
          "histogram": [
           {
            "bin_start": 0,
            "bin_end": 32.1,
            "count": 1012
           },
           {
            "bin_start": 32.1,
            "bin_end": 64.2,
            "count": 289
           },
           {
            "bin_start": 64.2,
            "bin_end": 96.30000000000001,
            "count": 135
           },
           {
            "bin_start": 96.30000000000001,
            "bin_end": 128.4,
            "count": 79
           },
           {
            "bin_start": 128.4,
            "bin_end": 160.5,
            "count": 61
           },
           {
            "bin_start": 160.5,
            "bin_end": 192.60000000000002,
            "count": 42
           },
           {
            "bin_start": 192.60000000000002,
            "bin_end": 224.70000000000002,
            "count": 17
           },
           {
            "bin_start": 224.70000000000002,
            "bin_end": 256.8,
            "count": 16
           },
           {
            "bin_start": 256.8,
            "bin_end": 288.90000000000003,
            "count": 1
           },
           {
            "bin_start": 288.90000000000003,
            "bin_end": 321,
            "count": 2
           }
          ]
         }
        },
        {
         "name": "NumDealsPurchases",
         "dtype": "int64",
         "stats": {
          "unique_count": 15,
          "nan_count": 0,
          "min": "0",
          "max": "15",
          "histogram": [
           {
            "bin_start": 0,
            "bin_end": 1.5,
            "count": 746
           },
           {
            "bin_start": 1.5,
            "bin_end": 3,
            "count": 371
           },
           {
            "bin_start": 3,
            "bin_end": 4.5,
            "count": 358
           },
           {
            "bin_start": 4.5,
            "bin_end": 6,
            "count": 72
           },
           {
            "bin_start": 6,
            "bin_end": 7.5,
            "count": 75
           },
           {
            "bin_start": 7.5,
            "bin_end": 9,
            "count": 12
           },
           {
            "bin_start": 9,
            "bin_end": 10.5,
            "count": 9
           },
           {
            "bin_start": 10.5,
            "bin_end": 12,
            "count": 1
           },
           {
            "bin_start": 12,
            "bin_end": 13.5,
            "count": 3
           },
           {
            "bin_start": 13.5,
            "bin_end": 15,
            "count": 7
           }
          ]
         }
        },
        {
         "name": "NumWebPurchases",
         "dtype": "int64",
         "stats": {
          "unique_count": 14,
          "nan_count": 0,
          "min": "0",
          "max": "25",
          "histogram": [
           {
            "bin_start": 0,
            "bin_end": 2.5,
            "count": 618
           },
           {
            "bin_start": 2.5,
            "bin_end": 5,
            "count": 457
           },
           {
            "bin_start": 5,
            "bin_end": 7.5,
            "count": 397
           },
           {
            "bin_start": 7.5,
            "bin_end": 10,
            "count": 124
           },
           {
            "bin_start": 10,
            "bin_end": 12.5,
            "count": 56
           },
           {
            "bin_start": 12.5,
            "bin_end": 15,
            "count": 0
           },
           {
            "bin_start": 15,
            "bin_end": 17.5,
            "count": 0
           },
           {
            "bin_start": 17.5,
            "bin_end": 20,
            "count": 0
           },
           {
            "bin_start": 20,
            "bin_end": 22.5,
            "count": 0
           },
           {
            "bin_start": 22.5,
            "bin_end": 25,
            "count": 2
           }
          ]
         }
        },
        {
         "name": "NumCatalogPurchases",
         "dtype": "int64",
         "stats": {
          "unique_count": 14,
          "nan_count": 0,
          "min": "0",
          "max": "28",
          "histogram": [
           {
            "bin_start": 0,
            "bin_end": 2.8,
            "count": 1055
           },
           {
            "bin_start": 2.8,
            "bin_end": 5.6,
            "count": 353
           },
           {
            "bin_start": 5.6,
            "bin_end": 8.399999999999999,
            "count": 175
           },
           {
            "bin_start": 8.399999999999999,
            "bin_end": 11.2,
            "count": 67
           },
           {
            "bin_start": 11.2,
            "bin_end": 14,
            "count": 0
           },
           {
            "bin_start": 14,
            "bin_end": 16.799999999999997,
            "count": 0
           },
           {
            "bin_start": 16.799999999999997,
            "bin_end": 19.599999999999998,
            "count": 0
           },
           {
            "bin_start": 19.599999999999998,
            "bin_end": 22.4,
            "count": 1
           },
           {
            "bin_start": 22.4,
            "bin_end": 25.2,
            "count": 0
           },
           {
            "bin_start": 25.2,
            "bin_end": 28,
            "count": 3
           }
          ]
         }
        },
        {
         "name": "NumStorePurchases",
         "dtype": "int64",
         "stats": {
          "unique_count": 14,
          "nan_count": 0,
          "min": "0",
          "max": "13",
          "histogram": [
           {
            "bin_start": 0,
            "bin_end": 1.3,
            "count": 16
           },
           {
            "bin_start": 1.3,
            "bin_end": 2.6,
            "count": 189
           },
           {
            "bin_start": 2.6,
            "bin_end": 3.9000000000000004,
            "count": 405
           },
           {
            "bin_start": 3.9000000000000004,
            "bin_end": 5.2,
            "count": 376
           },
           {
            "bin_start": 5.2,
            "bin_end": 6.5,
            "count": 118
           },
           {
            "bin_start": 6.5,
            "bin_end": 7.800000000000001,
            "count": 97
           },
           {
            "bin_start": 7.800000000000001,
            "bin_end": 9.1,
            "count": 180
           },
           {
            "bin_start": 9.1,
            "bin_end": 10.4,
            "count": 82
           },
           {
            "bin_start": 10.4,
            "bin_end": 11.700000000000001,
            "count": 54
           },
           {
            "bin_start": 11.700000000000001,
            "bin_end": 13,
            "count": 137
           }
          ]
         }
        },
        {
         "name": "NumWebVisitsMonth",
         "dtype": "int64",
         "stats": {
          "unique_count": 16,
          "nan_count": 0,
          "min": "0",
          "max": "20",
          "histogram": [
           {
            "bin_start": 0,
            "bin_end": 2,
            "count": 104
           },
           {
            "bin_start": 2,
            "bin_end": 4,
            "count": 274
           },
           {
            "bin_start": 4,
            "bin_end": 6,
            "count": 348
           },
           {
            "bin_start": 6,
            "bin_end": 8,
            "count": 566
           },
           {
            "bin_start": 8,
            "bin_end": 10,
            "count": 352
           },
           {
            "bin_start": 10,
            "bin_end": 12,
            "count": 3
           },
           {
            "bin_start": 12,
            "bin_end": 14,
            "count": 1
           },
           {
            "bin_start": 14,
            "bin_end": 16,
            "count": 2
           },
           {
            "bin_start": 16,
            "bin_end": 18,
            "count": 1
           },
           {
            "bin_start": 18,
            "bin_end": 20,
            "count": 3
           }
          ]
         }
        },
        {
         "name": "AcceptedCmp3",
         "dtype": "int64",
         "stats": {
          "unique_count": 2,
          "nan_count": 0,
          "min": "0",
          "max": "1",
          "histogram": [
           {
            "bin_start": 0,
            "bin_end": 0.1,
            "count": 1525
           },
           {
            "bin_start": 0.1,
            "bin_end": 0.2,
            "count": 0
           },
           {
            "bin_start": 0.2,
            "bin_end": 0.30000000000000004,
            "count": 0
           },
           {
            "bin_start": 0.30000000000000004,
            "bin_end": 0.4,
            "count": 0
           },
           {
            "bin_start": 0.4,
            "bin_end": 0.5,
            "count": 0
           },
           {
            "bin_start": 0.5,
            "bin_end": 0.6000000000000001,
            "count": 0
           },
           {
            "bin_start": 0.6000000000000001,
            "bin_end": 0.7000000000000001,
            "count": 0
           },
           {
            "bin_start": 0.7000000000000001,
            "bin_end": 0.8,
            "count": 0
           },
           {
            "bin_start": 0.8,
            "bin_end": 0.9,
            "count": 0
           },
           {
            "bin_start": 0.9,
            "bin_end": 1,
            "count": 129
           }
          ]
         }
        },
        {
         "name": "AcceptedCmp4",
         "dtype": "int64",
         "stats": {
          "unique_count": 2,
          "nan_count": 0,
          "min": "0",
          "max": "1",
          "histogram": [
           {
            "bin_start": 0,
            "bin_end": 0.1,
            "count": 1544
           },
           {
            "bin_start": 0.1,
            "bin_end": 0.2,
            "count": 0
           },
           {
            "bin_start": 0.2,
            "bin_end": 0.30000000000000004,
            "count": 0
           },
           {
            "bin_start": 0.30000000000000004,
            "bin_end": 0.4,
            "count": 0
           },
           {
            "bin_start": 0.4,
            "bin_end": 0.5,
            "count": 0
           },
           {
            "bin_start": 0.5,
            "bin_end": 0.6000000000000001,
            "count": 0
           },
           {
            "bin_start": 0.6000000000000001,
            "bin_end": 0.7000000000000001,
            "count": 0
           },
           {
            "bin_start": 0.7000000000000001,
            "bin_end": 0.8,
            "count": 0
           },
           {
            "bin_start": 0.8,
            "bin_end": 0.9,
            "count": 0
           },
           {
            "bin_start": 0.9,
            "bin_end": 1,
            "count": 110
           }
          ]
         }
        },
        {
         "name": "AcceptedCmp5",
         "dtype": "int64",
         "stats": {
          "unique_count": 2,
          "nan_count": 0,
          "min": "0",
          "max": "1",
          "histogram": [
           {
            "bin_start": 0,
            "bin_end": 0.1,
            "count": 1540
           },
           {
            "bin_start": 0.1,
            "bin_end": 0.2,
            "count": 0
           },
           {
            "bin_start": 0.2,
            "bin_end": 0.30000000000000004,
            "count": 0
           },
           {
            "bin_start": 0.30000000000000004,
            "bin_end": 0.4,
            "count": 0
           },
           {
            "bin_start": 0.4,
            "bin_end": 0.5,
            "count": 0
           },
           {
            "bin_start": 0.5,
            "bin_end": 0.6000000000000001,
            "count": 0
           },
           {
            "bin_start": 0.6000000000000001,
            "bin_end": 0.7000000000000001,
            "count": 0
           },
           {
            "bin_start": 0.7000000000000001,
            "bin_end": 0.8,
            "count": 0
           },
           {
            "bin_start": 0.8,
            "bin_end": 0.9,
            "count": 0
           },
           {
            "bin_start": 0.9,
            "bin_end": 1,
            "count": 114
           }
          ]
         }
        },
        {
         "name": "AcceptedCmp1",
         "dtype": "int64",
         "stats": {
          "unique_count": 2,
          "nan_count": 0,
          "min": "0",
          "max": "1",
          "histogram": [
           {
            "bin_start": 0,
            "bin_end": 0.1,
            "count": 1558
           },
           {
            "bin_start": 0.1,
            "bin_end": 0.2,
            "count": 0
           },
           {
            "bin_start": 0.2,
            "bin_end": 0.30000000000000004,
            "count": 0
           },
           {
            "bin_start": 0.30000000000000004,
            "bin_end": 0.4,
            "count": 0
           },
           {
            "bin_start": 0.4,
            "bin_end": 0.5,
            "count": 0
           },
           {
            "bin_start": 0.5,
            "bin_end": 0.6000000000000001,
            "count": 0
           },
           {
            "bin_start": 0.6000000000000001,
            "bin_end": 0.7000000000000001,
            "count": 0
           },
           {
            "bin_start": 0.7000000000000001,
            "bin_end": 0.8,
            "count": 0
           },
           {
            "bin_start": 0.8,
            "bin_end": 0.9,
            "count": 0
           },
           {
            "bin_start": 0.9,
            "bin_end": 1,
            "count": 96
           }
          ]
         }
        },
        {
         "name": "AcceptedCmp2",
         "dtype": "int64",
         "stats": {
          "unique_count": 2,
          "nan_count": 0,
          "min": "0",
          "max": "1",
          "histogram": [
           {
            "bin_start": 0,
            "bin_end": 0.1,
            "count": 1633
           },
           {
            "bin_start": 0.1,
            "bin_end": 0.2,
            "count": 0
           },
           {
            "bin_start": 0.2,
            "bin_end": 0.30000000000000004,
            "count": 0
           },
           {
            "bin_start": 0.30000000000000004,
            "bin_end": 0.4,
            "count": 0
           },
           {
            "bin_start": 0.4,
            "bin_end": 0.5,
            "count": 0
           },
           {
            "bin_start": 0.5,
            "bin_end": 0.6000000000000001,
            "count": 0
           },
           {
            "bin_start": 0.6000000000000001,
            "bin_end": 0.7000000000000001,
            "count": 0
           },
           {
            "bin_start": 0.7000000000000001,
            "bin_end": 0.8,
            "count": 0
           },
           {
            "bin_start": 0.8,
            "bin_end": 0.9,
            "count": 0
           },
           {
            "bin_start": 0.9,
            "bin_end": 1,
            "count": 21
           }
          ]
         }
        },
        {
         "name": "Response",
         "dtype": "int64",
         "stats": {
          "unique_count": 2,
          "nan_count": 0,
          "min": "0",
          "max": "1",
          "histogram": [
           {
            "bin_start": 0,
            "bin_end": 0.1,
            "count": 1405
           },
           {
            "bin_start": 0.1,
            "bin_end": 0.2,
            "count": 0
           },
           {
            "bin_start": 0.2,
            "bin_end": 0.30000000000000004,
            "count": 0
           },
           {
            "bin_start": 0.30000000000000004,
            "bin_end": 0.4,
            "count": 0
           },
           {
            "bin_start": 0.4,
            "bin_end": 0.5,
            "count": 0
           },
           {
            "bin_start": 0.5,
            "bin_end": 0.6000000000000001,
            "count": 0
           },
           {
            "bin_start": 0.6000000000000001,
            "bin_end": 0.7000000000000001,
            "count": 0
           },
           {
            "bin_start": 0.7000000000000001,
            "bin_end": 0.8,
            "count": 0
           },
           {
            "bin_start": 0.8,
            "bin_end": 0.9,
            "count": 0
           },
           {
            "bin_start": 0.9,
            "bin_end": 1,
            "count": 249
           }
          ]
         }
        },
        {
         "name": "Complain",
         "dtype": "int64",
         "stats": {
          "unique_count": 2,
          "nan_count": 0,
          "min": "0",
          "max": "1",
          "histogram": [
           {
            "bin_start": 0,
            "bin_end": 0.1,
            "count": 1643
           },
           {
            "bin_start": 0.1,
            "bin_end": 0.2,
            "count": 0
           },
           {
            "bin_start": 0.2,
            "bin_end": 0.30000000000000004,
            "count": 0
           },
           {
            "bin_start": 0.30000000000000004,
            "bin_end": 0.4,
            "count": 0
           },
           {
            "bin_start": 0.4,
            "bin_end": 0.5,
            "count": 0
           },
           {
            "bin_start": 0.5,
            "bin_end": 0.6000000000000001,
            "count": 0
           },
           {
            "bin_start": 0.6000000000000001,
            "bin_end": 0.7000000000000001,
            "count": 0
           },
           {
            "bin_start": 0.7000000000000001,
            "bin_end": 0.8,
            "count": 0
           },
           {
            "bin_start": 0.8,
            "bin_end": 0.9,
            "count": 0
           },
           {
            "bin_start": 0.9,
            "bin_end": 1,
            "count": 11
           }
          ]
         }
        },
        {
         "name": "Country",
         "dtype": "object",
         "stats": {
          "unique_count": 8,
          "nan_count": 0,
          "categories": [
           {
            "name": "SP",
            "count": 824
           },
           {
            "name": "SA",
            "count": 256
           },
           {
            "name": "6 others",
            "count": 574
           }
          ]
         }
        },
        {
         "name": "Age",
         "dtype": "int64",
         "stats": {
          "unique_count": 37,
          "nan_count": 0,
          "min": "25",
          "max": "61",
          "histogram": [
           {
            "bin_start": 25,
            "bin_end": 28.6,
            "count": 15
           },
           {
            "bin_start": 28.6,
            "bin_end": 32.2,
            "count": 75
           },
           {
            "bin_start": 32.2,
            "bin_end": 35.8,
            "count": 97
           },
           {
            "bin_start": 35.8,
            "bin_end": 39.4,
            "count": 155
           },
           {
            "bin_start": 39.4,
            "bin_end": 43,
            "count": 130
           },
           {
            "bin_start": 43,
            "bin_end": 46.6,
            "count": 300
           },
           {
            "bin_start": 46.6,
            "bin_end": 50.2,
            "count": 305
           },
           {
            "bin_start": 50.2,
            "bin_end": 53.8,
            "count": 196
           },
           {
            "bin_start": 53.8,
            "bin_end": 57.4,
            "count": 209
           },
           {
            "bin_start": 57.4,
            "bin_end": 61,
            "count": 172
           }
          ]
         }
        },
        {
         "name": "_deepnote_index_column",
         "dtype": "int64"
        }
       ],
       "rows_top": [
        {
         "ID": 1826,
         "Year_Birth": 1970,
         "Education": "Graduation",
         "Marital_Status": "Divorced",
         "Income": 84835,
         "Kidhome": 0,
         "Teenhome": 0,
         "Dt_Customer": "6/16/14",
         "Recency": 0,
         "MntWines": 189,
         "MntFruits": 104,
         "MntMeatProducts": 379,
         "MntFishProducts": 111,
         "MntSweetProducts": 189,
         "MntGoldProds": 218,
         "NumDealsPurchases": 1,
         "NumWebPurchases": 4,
         "NumCatalogPurchases": 4,
         "NumStorePurchases": 6,
         "NumWebVisitsMonth": 1,
         "AcceptedCmp3": 0,
         "AcceptedCmp4": 0,
         "AcceptedCmp5": 0,
         "AcceptedCmp1": 0,
         "AcceptedCmp2": 0,
         "Response": 1,
         "Complain": 0,
         "Country": "SP",
         "Age": 51,
         "_deepnote_index_column": 0
        },
        {
         "ID": 1,
         "Year_Birth": 1961,
         "Education": "Graduation",
         "Marital_Status": "Single",
         "Income": 57091,
         "Kidhome": 0,
         "Teenhome": 0,
         "Dt_Customer": "6/15/14",
         "Recency": 0,
         "MntWines": 464,
         "MntFruits": 5,
         "MntMeatProducts": 64,
         "MntFishProducts": 7,
         "MntSweetProducts": 0,
         "MntGoldProds": 37,
         "NumDealsPurchases": 1,
         "NumWebPurchases": 7,
         "NumCatalogPurchases": 3,
         "NumStorePurchases": 7,
         "NumWebVisitsMonth": 5,
         "AcceptedCmp3": 0,
         "AcceptedCmp4": 0,
         "AcceptedCmp5": 0,
         "AcceptedCmp1": 0,
         "AcceptedCmp2": 1,
         "Response": 1,
         "Complain": 0,
         "Country": "CA",
         "Age": 60,
         "_deepnote_index_column": 1
        },
        {
         "ID": 1386,
         "Year_Birth": 1967,
         "Education": "Graduation",
         "Marital_Status": "Together",
         "Income": 32474,
         "Kidhome": 1,
         "Teenhome": 1,
         "Dt_Customer": "5/11/14",
         "Recency": 0,
         "MntWines": 10,
         "MntFruits": 0,
         "MntMeatProducts": 1,
         "MntFishProducts": 0,
         "MntSweetProducts": 0,
         "MntGoldProds": 0,
         "NumDealsPurchases": 1,
         "NumWebPurchases": 1,
         "NumCatalogPurchases": 0,
         "NumStorePurchases": 2,
         "NumWebVisitsMonth": 7,
         "AcceptedCmp3": 0,
         "AcceptedCmp4": 0,
         "AcceptedCmp5": 0,
         "AcceptedCmp1": 0,
         "AcceptedCmp2": 0,
         "Response": 0,
         "Complain": 0,
         "Country": "AUS",
         "Age": 54,
         "_deepnote_index_column": 3
        },
        {
         "ID": 5371,
         "Year_Birth": 1989,
         "Education": "Graduation",
         "Marital_Status": "Single",
         "Income": 21474,
         "Kidhome": 1,
         "Teenhome": 0,
         "Dt_Customer": "4/8/14",
         "Recency": 0,
         "MntWines": 6,
         "MntFruits": 16,
         "MntMeatProducts": 24,
         "MntFishProducts": 11,
         "MntSweetProducts": 0,
         "MntGoldProds": 34,
         "NumDealsPurchases": 2,
         "NumWebPurchases": 3,
         "NumCatalogPurchases": 1,
         "NumStorePurchases": 2,
         "NumWebVisitsMonth": 7,
         "AcceptedCmp3": 1,
         "AcceptedCmp4": 0,
         "AcceptedCmp5": 0,
         "AcceptedCmp1": 0,
         "AcceptedCmp2": 0,
         "Response": 1,
         "Complain": 0,
         "Country": "SP",
         "Age": 32,
         "_deepnote_index_column": 4
        },
        {
         "ID": 1991,
         "Year_Birth": 1967,
         "Education": "Graduation",
         "Marital_Status": "Together",
         "Income": 44931,
         "Kidhome": 0,
         "Teenhome": 1,
         "Dt_Customer": "1/18/14",
         "Recency": 0,
         "MntWines": 78,
         "MntFruits": 0,
         "MntMeatProducts": 11,
         "MntFishProducts": 0,
         "MntSweetProducts": 0,
         "MntGoldProds": 7,
         "NumDealsPurchases": 1,
         "NumWebPurchases": 2,
         "NumCatalogPurchases": 1,
         "NumStorePurchases": 3,
         "NumWebVisitsMonth": 5,
         "AcceptedCmp3": 0,
         "AcceptedCmp4": 0,
         "AcceptedCmp5": 0,
         "AcceptedCmp1": 0,
         "AcceptedCmp2": 0,
         "Response": 0,
         "Complain": 0,
         "Country": "SP",
         "Age": 54,
         "_deepnote_index_column": 7
        },
        {
         "ID": 5642,
         "Year_Birth": 1979,
         "Education": "Master",
         "Marital_Status": "Together",
         "Income": 62499,
         "Kidhome": 1,
         "Teenhome": 0,
         "Dt_Customer": "12/9/13",
         "Recency": 0,
         "MntWines": 140,
         "MntFruits": 4,
         "MntMeatProducts": 61,
         "MntFishProducts": 0,
         "MntSweetProducts": 13,
         "MntGoldProds": 4,
         "NumDealsPurchases": 2,
         "NumWebPurchases": 3,
         "NumCatalogPurchases": 1,
         "NumStorePurchases": 6,
         "NumWebVisitsMonth": 4,
         "AcceptedCmp3": 0,
         "AcceptedCmp4": 0,
         "AcceptedCmp5": 0,
         "AcceptedCmp1": 0,
         "AcceptedCmp2": 0,
         "Response": 0,
         "Complain": 0,
         "Country": "SP",
         "Age": 42,
         "_deepnote_index_column": 11
        },
        {
         "ID": 2964,
         "Year_Birth": 1981,
         "Education": "Graduation",
         "Marital_Status": "Married",
         "Income": 26872,
         "Kidhome": 0,
         "Teenhome": 0,
         "Dt_Customer": "10/16/13",
         "Recency": 0,
         "MntWines": 3,
         "MntFruits": 10,
         "MntMeatProducts": 8,
         "MntFishProducts": 3,
         "MntSweetProducts": 16,
         "MntGoldProds": 32,
         "NumDealsPurchases": 1,
         "NumWebPurchases": 1,
         "NumCatalogPurchases": 1,
         "NumStorePurchases": 2,
         "NumWebVisitsMonth": 6,
         "AcceptedCmp3": 0,
         "AcceptedCmp4": 0,
         "AcceptedCmp5": 0,
         "AcceptedCmp1": 0,
         "AcceptedCmp2": 0,
         "Response": 0,
         "Complain": 0,
         "Country": "CA",
         "Age": 40,
         "_deepnote_index_column": 13
        },
        {
         "ID": 10311,
         "Year_Birth": 1969,
         "Education": "Graduation",
         "Marital_Status": "Married",
         "Income": 4428,
         "Kidhome": 0,
         "Teenhome": 1,
         "Dt_Customer": "10/5/13",
         "Recency": 0,
         "MntWines": 16,
         "MntFruits": 4,
         "MntMeatProducts": 12,
         "MntFishProducts": 2,
         "MntSweetProducts": 4,
         "MntGoldProds": 321,
         "NumDealsPurchases": 0,
         "NumWebPurchases": 25,
         "NumCatalogPurchases": 0,
         "NumStorePurchases": 0,
         "NumWebVisitsMonth": 1,
         "AcceptedCmp3": 0,
         "AcceptedCmp4": 0,
         "AcceptedCmp5": 0,
         "AcceptedCmp1": 0,
         "AcceptedCmp2": 0,
         "Response": 0,
         "Complain": 0,
         "Country": "SP",
         "Age": 52,
         "_deepnote_index_column": 14
        },
        {
         "ID": 837,
         "Year_Birth": 1977,
         "Education": "Graduation",
         "Marital_Status": "Married",
         "Income": 54809,
         "Kidhome": 1,
         "Teenhome": 1,
         "Dt_Customer": "9/11/13",
         "Recency": 0,
         "MntWines": 63,
         "MntFruits": 6,
         "MntMeatProducts": 57,
         "MntFishProducts": 13,
         "MntSweetProducts": 13,
         "MntGoldProds": 22,
         "NumDealsPurchases": 4,
         "NumWebPurchases": 2,
         "NumCatalogPurchases": 1,
         "NumStorePurchases": 5,
         "NumWebVisitsMonth": 4,
         "AcceptedCmp3": 0,
         "AcceptedCmp4": 0,
         "AcceptedCmp5": 0,
         "AcceptedCmp1": 0,
         "AcceptedCmp2": 0,
         "Response": 0,
         "Complain": 0,
         "Country": "SP",
         "Age": 44,
         "_deepnote_index_column": 15
        },
        {
         "ID": 10521,
         "Year_Birth": 1977,
         "Education": "Graduation",
         "Marital_Status": "Married",
         "Income": 54809,
         "Kidhome": 1,
         "Teenhome": 1,
         "Dt_Customer": "9/11/13",
         "Recency": 0,
         "MntWines": 63,
         "MntFruits": 6,
         "MntMeatProducts": 57,
         "MntFishProducts": 13,
         "MntSweetProducts": 13,
         "MntGoldProds": 22,
         "NumDealsPurchases": 4,
         "NumWebPurchases": 2,
         "NumCatalogPurchases": 1,
         "NumStorePurchases": 5,
         "NumWebVisitsMonth": 4,
         "AcceptedCmp3": 0,
         "AcceptedCmp4": 0,
         "AcceptedCmp5": 0,
         "AcceptedCmp1": 0,
         "AcceptedCmp2": 0,
         "Response": 1,
         "Complain": 0,
         "Country": "SP",
         "Age": 44,
         "_deepnote_index_column": 16
        },
        {
         "ID": 1473,
         "Year_Birth": 1960,
         "Education": "2n Cycle",
         "Marital_Status": "Single",
         "Income": 47823,
         "Kidhome": 0,
         "Teenhome": 1,
         "Dt_Customer": "7/23/13",
         "Recency": 0,
         "MntWines": 53,
         "MntFruits": 1,
         "MntMeatProducts": 5,
         "MntFishProducts": 2,
         "MntSweetProducts": 1,
         "MntGoldProds": 10,
         "NumDealsPurchases": 2,
         "NumWebPurchases": 2,
         "NumCatalogPurchases": 0,
         "NumStorePurchases": 3,
         "NumWebVisitsMonth": 8,
         "AcceptedCmp3": 0,
         "AcceptedCmp4": 0,
         "AcceptedCmp5": 0,
         "AcceptedCmp1": 0,
         "AcceptedCmp2": 0,
         "Response": 0,
         "Complain": 0,
         "Country": "CA",
         "Age": 61,
         "_deepnote_index_column": 18
        },
        {
         "ID": 115,
         "Year_Birth": 1966,
         "Education": "Master",
         "Marital_Status": "Single",
         "Income": 43456,
         "Kidhome": 0,
         "Teenhome": 1,
         "Dt_Customer": "3/26/13",
         "Recency": 0,
         "MntWines": 275,
         "MntFruits": 11,
         "MntMeatProducts": 68,
         "MntFishProducts": 25,
         "MntSweetProducts": 7,
         "MntGoldProds": 7,
         "NumDealsPurchases": 3,
         "NumWebPurchases": 5,
         "NumCatalogPurchases": 1,
         "NumStorePurchases": 8,
         "NumWebVisitsMonth": 5,
         "AcceptedCmp3": 0,
         "AcceptedCmp4": 0,
         "AcceptedCmp5": 0,
         "AcceptedCmp1": 0,
         "AcceptedCmp2": 0,
         "Response": 0,
         "Complain": 0,
         "Country": "IND",
         "Age": 55,
         "_deepnote_index_column": 21
        },
        {
         "ID": 10470,
         "Year_Birth": 1979,
         "Education": "Master",
         "Marital_Status": "Married",
         "Income": 40662,
         "Kidhome": 1,
         "Teenhome": 0,
         "Dt_Customer": "3/15/13",
         "Recency": 0,
         "MntWines": 40,
         "MntFruits": 2,
         "MntMeatProducts": 23,
         "MntFishProducts": 0,
         "MntSweetProducts": 4,
         "MntGoldProds": 23,
         "NumDealsPurchases": 2,
         "NumWebPurchases": 2,
         "NumCatalogPurchases": 1,
         "NumStorePurchases": 3,
         "NumWebVisitsMonth": 4,
         "AcceptedCmp3": 0,
         "AcceptedCmp4": 0,
         "AcceptedCmp5": 0,
         "AcceptedCmp1": 0,
         "AcceptedCmp2": 0,
         "Response": 0,
         "Complain": 0,
         "Country": "GER",
         "Age": 42,
         "_deepnote_index_column": 22
        },
        {
         "ID": 4065,
         "Year_Birth": 1976,
         "Education": "PhD",
         "Marital_Status": "Married",
         "Income": 49544,
         "Kidhome": 1,
         "Teenhome": 0,
         "Dt_Customer": "2/12/13",
         "Recency": 0,
         "MntWines": 308,
         "MntFruits": 0,
         "MntMeatProducts": 73,
         "MntFishProducts": 0,
         "MntSweetProducts": 0,
         "MntGoldProds": 23,
         "NumDealsPurchases": 2,
         "NumWebPurchases": 5,
         "NumCatalogPurchases": 1,
         "NumStorePurchases": 8,
         "NumWebVisitsMonth": 7,
         "AcceptedCmp3": 0,
         "AcceptedCmp4": 0,
         "AcceptedCmp5": 0,
         "AcceptedCmp1": 0,
         "AcceptedCmp2": 0,
         "Response": 0,
         "Complain": 0,
         "Country": "SP",
         "Age": 45,
         "_deepnote_index_column": 23
        },
        {
         "ID": 10968,
         "Year_Birth": 1969,
         "Education": "Graduation",
         "Marital_Status": "Single",
         "Income": 57731,
         "Kidhome": 0,
         "Teenhome": 1,
         "Dt_Customer": "11/23/12",
         "Recency": 0,
         "MntWines": 266,
         "MntFruits": 21,
         "MntMeatProducts": 300,
         "MntFishProducts": 65,
         "MntSweetProducts": 8,
         "MntGoldProds": 44,
         "NumDealsPurchases": 4,
         "NumWebPurchases": 8,
         "NumCatalogPurchases": 8,
         "NumStorePurchases": 6,
         "NumWebVisitsMonth": 6,
         "AcceptedCmp3": 0,
         "AcceptedCmp4": 0,
         "AcceptedCmp5": 0,
         "AcceptedCmp1": 0,
         "AcceptedCmp2": 0,
         "Response": 0,
         "Complain": 0,
         "Country": "IND",
         "Age": 52,
         "_deepnote_index_column": 24
        },
        {
         "ID": 5985,
         "Year_Birth": 1965,
         "Education": "Master",
         "Marital_Status": "Single",
         "Income": 33168,
         "Kidhome": 0,
         "Teenhome": 1,
         "Dt_Customer": "10/13/12",
         "Recency": 0,
         "MntWines": 80,
         "MntFruits": 1,
         "MntMeatProducts": 37,
         "MntFishProducts": 0,
         "MntSweetProducts": 1,
         "MntGoldProds": 3,
         "NumDealsPurchases": 3,
         "NumWebPurchases": 2,
         "NumCatalogPurchases": 1,
         "NumStorePurchases": 4,
         "NumWebVisitsMonth": 7,
         "AcceptedCmp3": 0,
         "AcceptedCmp4": 0,
         "AcceptedCmp5": 0,
         "AcceptedCmp1": 0,
         "AcceptedCmp2": 0,
         "Response": 0,
         "Complain": 0,
         "Country": "SP",
         "Age": 56,
         "_deepnote_index_column": 25
        },
        {
         "ID": 9687,
         "Year_Birth": 1975,
         "Education": "Graduation",
         "Marital_Status": "Single",
         "Income": 73170,
         "Kidhome": 0,
         "Teenhome": 0,
         "Dt_Customer": "5/31/14",
         "Recency": 1,
         "MntWines": 184,
         "MntFruits": 174,
         "MntMeatProducts": 256,
         "MntFishProducts": 50,
         "MntSweetProducts": 30,
         "MntGoldProds": 32,
         "NumDealsPurchases": 1,
         "NumWebPurchases": 5,
         "NumCatalogPurchases": 4,
         "NumStorePurchases": 6,
         "NumWebVisitsMonth": 2,
         "AcceptedCmp3": 0,
         "AcceptedCmp4": 0,
         "AcceptedCmp5": 0,
         "AcceptedCmp1": 0,
         "AcceptedCmp2": 0,
         "Response": 0,
         "Complain": 0,
         "Country": "CA",
         "Age": 46,
         "_deepnote_index_column": 29
        }
       ],
       "rows_bottom": [
        {
         "ID": 10001,
         "Year_Birth": 1985,
         "Education": "2n Cycle",
         "Marital_Status": "Together",
         "Income": 7500,
         "Kidhome": 1,
         "Teenhome": 0,
         "Dt_Customer": "8/1/12",
         "Recency": 98,
         "MntWines": 5,
         "MntFruits": 17,
         "MntMeatProducts": 17,
         "MntFishProducts": 13,
         "MntSweetProducts": 14,
         "MntGoldProds": 34,
         "NumDealsPurchases": 4,
         "NumWebPurchases": 2,
         "NumCatalogPurchases": 1,
         "NumStorePurchases": 3,
         "NumWebVisitsMonth": 9,
         "AcceptedCmp3": 0,
         "AcceptedCmp4": 0,
         "AcceptedCmp5": 0,
         "AcceptedCmp1": 0,
         "AcceptedCmp2": 0,
         "Response": 0,
         "Complain": 0,
         "Country": "SP",
         "Age": 36,
         "_deepnote_index_column": 2222
        },
        {
         "ID": 2831,
         "Year_Birth": 1976,
         "Education": "Graduation",
         "Marital_Status": "Together",
         "Income": 78416,
         "Kidhome": 0,
         "Teenhome": 1,
         "Dt_Customer": "6/27/14",
         "Recency": 99,
         "MntWines": 453,
         "MntFruits": 38,
         "MntMeatProducts": 279,
         "MntFishProducts": 188,
         "MntSweetProducts": 38,
         "MntGoldProds": 183,
         "NumDealsPurchases": 2,
         "NumWebPurchases": 7,
         "NumCatalogPurchases": 7,
         "NumStorePurchases": 10,
         "NumWebVisitsMonth": 3,
         "AcceptedCmp3": 0,
         "AcceptedCmp4": 0,
         "AcceptedCmp5": 0,
         "AcceptedCmp1": 0,
         "AcceptedCmp2": 0,
         "Response": 0,
         "Complain": 0,
         "Country": "SP",
         "Age": 45,
         "_deepnote_index_column": 2223
        },
        {
         "ID": 868,
         "Year_Birth": 1966,
         "Education": "Graduation",
         "Marital_Status": "Married",
         "Income": 44794,
         "Kidhome": 0,
         "Teenhome": 1,
         "Dt_Customer": "6/8/14",
         "Recency": 99,
         "MntWines": 54,
         "MntFruits": 0,
         "MntMeatProducts": 7,
         "MntFishProducts": 0,
         "MntSweetProducts": 0,
         "MntGoldProds": 4,
         "NumDealsPurchases": 1,
         "NumWebPurchases": 2,
         "NumCatalogPurchases": 0,
         "NumStorePurchases": 3,
         "NumWebVisitsMonth": 6,
         "AcceptedCmp3": 0,
         "AcceptedCmp4": 0,
         "AcceptedCmp5": 0,
         "AcceptedCmp1": 0,
         "AcceptedCmp2": 0,
         "Response": 0,
         "Complain": 0,
         "Country": "SA",
         "Age": 55,
         "_deepnote_index_column": 2224
        },
        {
         "ID": 7212,
         "Year_Birth": 1966,
         "Education": "Graduation",
         "Marital_Status": "Married",
         "Income": 44794,
         "Kidhome": 0,
         "Teenhome": 1,
         "Dt_Customer": "6/8/14",
         "Recency": 99,
         "MntWines": 54,
         "MntFruits": 0,
         "MntMeatProducts": 7,
         "MntFishProducts": 0,
         "MntSweetProducts": 0,
         "MntGoldProds": 4,
         "NumDealsPurchases": 1,
         "NumWebPurchases": 2,
         "NumCatalogPurchases": 0,
         "NumStorePurchases": 3,
         "NumWebVisitsMonth": 6,
         "AcceptedCmp3": 0,
         "AcceptedCmp4": 0,
         "AcceptedCmp5": 0,
         "AcceptedCmp1": 0,
         "AcceptedCmp2": 0,
         "Response": 0,
         "Complain": 0,
         "Country": "AUS",
         "Age": 55,
         "_deepnote_index_column": 2225
        },
        {
         "ID": 1743,
         "Year_Birth": 1974,
         "Education": "Graduation",
         "Marital_Status": "Single",
         "Income": 69719,
         "Kidhome": 0,
         "Teenhome": 0,
         "Dt_Customer": "5/26/14",
         "Recency": 99,
         "MntWines": 273,
         "MntFruits": 86,
         "MntMeatProducts": 208,
         "MntFishProducts": 177,
         "MntSweetProducts": 14,
         "MntGoldProds": 43,
         "NumDealsPurchases": 1,
         "NumWebPurchases": 2,
         "NumCatalogPurchases": 3,
         "NumStorePurchases": 5,
         "NumWebVisitsMonth": 1,
         "AcceptedCmp3": 0,
         "AcceptedCmp4": 0,
         "AcceptedCmp5": 0,
         "AcceptedCmp1": 0,
         "AcceptedCmp2": 0,
         "Response": 0,
         "Complain": 0,
         "Country": "SP",
         "Age": 47,
         "_deepnote_index_column": 2226
        },
        {
         "ID": 2415,
         "Year_Birth": 1962,
         "Education": "Graduation",
         "Marital_Status": "Together",
         "Income": 62568,
         "Kidhome": 0,
         "Teenhome": 1,
         "Dt_Customer": "4/7/14",
         "Recency": 99,
         "MntWines": 362,
         "MntFruits": 17,
         "MntMeatProducts": 398,
         "MntFishProducts": 80,
         "MntSweetProducts": 35,
         "MntGoldProds": 61,
         "NumDealsPurchases": 3,
         "NumWebPurchases": 5,
         "NumCatalogPurchases": 3,
         "NumStorePurchases": 5,
         "NumWebVisitsMonth": 4,
         "AcceptedCmp3": 0,
         "AcceptedCmp4": 0,
         "AcceptedCmp5": 0,
         "AcceptedCmp1": 1,
         "AcceptedCmp2": 0,
         "Response": 0,
         "Complain": 0,
         "Country": "SP",
         "Age": 59,
         "_deepnote_index_column": 2227
        },
        {
         "ID": 7947,
         "Year_Birth": 1969,
         "Education": "Graduation",
         "Marital_Status": "Married",
         "Income": 42231,
         "Kidhome": 1,
         "Teenhome": 1,
         "Dt_Customer": "3/25/14",
         "Recency": 99,
         "MntWines": 24,
         "MntFruits": 0,
         "MntMeatProducts": 8,
         "MntFishProducts": 0,
         "MntSweetProducts": 1,
         "MntGoldProds": 4,
         "NumDealsPurchases": 1,
         "NumWebPurchases": 1,
         "NumCatalogPurchases": 0,
         "NumStorePurchases": 3,
         "NumWebVisitsMonth": 5,
         "AcceptedCmp3": 0,
         "AcceptedCmp4": 0,
         "AcceptedCmp5": 0,
         "AcceptedCmp1": 0,
         "AcceptedCmp2": 0,
         "Response": 0,
         "Complain": 0,
         "Country": "SP",
         "Age": 52,
         "_deepnote_index_column": 2228
        },
        {
         "ID": 2106,
         "Year_Birth": 1974,
         "Education": "2n Cycle",
         "Marital_Status": "Married",
         "Income": 20130,
         "Kidhome": 0,
         "Teenhome": 0,
         "Dt_Customer": "3/17/14",
         "Recency": 99,
         "MntWines": 0,
         "MntFruits": 6,
         "MntMeatProducts": 3,
         "MntFishProducts": 7,
         "MntSweetProducts": 6,
         "MntGoldProds": 12,
         "NumDealsPurchases": 1,
         "NumWebPurchases": 1,
         "NumCatalogPurchases": 0,
         "NumStorePurchases": 3,
         "NumWebVisitsMonth": 8,
         "AcceptedCmp3": 0,
         "AcceptedCmp4": 0,
         "AcceptedCmp5": 0,
         "AcceptedCmp1": 0,
         "AcceptedCmp2": 0,
         "Response": 0,
         "Complain": 0,
         "Country": "SP",
         "Age": 47,
         "_deepnote_index_column": 2229
        },
        {
         "ID": 3363,
         "Year_Birth": 1974,
         "Education": "2n Cycle",
         "Marital_Status": "Married",
         "Income": 20130,
         "Kidhome": 0,
         "Teenhome": 0,
         "Dt_Customer": "3/17/14",
         "Recency": 99,
         "MntWines": 0,
         "MntFruits": 6,
         "MntMeatProducts": 3,
         "MntFishProducts": 7,
         "MntSweetProducts": 6,
         "MntGoldProds": 12,
         "NumDealsPurchases": 1,
         "NumWebPurchases": 1,
         "NumCatalogPurchases": 0,
         "NumStorePurchases": 3,
         "NumWebVisitsMonth": 8,
         "AcceptedCmp3": 0,
         "AcceptedCmp4": 0,
         "AcceptedCmp5": 0,
         "AcceptedCmp1": 0,
         "AcceptedCmp2": 0,
         "Response": 0,
         "Complain": 0,
         "Country": "SP",
         "Age": 47,
         "_deepnote_index_column": 2230
        },
        {
         "ID": 8595,
         "Year_Birth": 1973,
         "Education": "Graduation",
         "Marital_Status": "Widow",
         "Income": 42429,
         "Kidhome": 0,
         "Teenhome": 1,
         "Dt_Customer": "2/11/14",
         "Recency": 99,
         "MntWines": 55,
         "MntFruits": 0,
         "MntMeatProducts": 6,
         "MntFishProducts": 2,
         "MntSweetProducts": 0,
         "MntGoldProds": 4,
         "NumDealsPurchases": 2,
         "NumWebPurchases": 1,
         "NumCatalogPurchases": 1,
         "NumStorePurchases": 3,
         "NumWebVisitsMonth": 5,
         "AcceptedCmp3": 0,
         "AcceptedCmp4": 0,
         "AcceptedCmp5": 0,
         "AcceptedCmp1": 0,
         "AcceptedCmp2": 0,
         "Response": 0,
         "Complain": 0,
         "Country": "AUS",
         "Age": 48,
         "_deepnote_index_column": 2231
        },
        {
         "ID": 7232,
         "Year_Birth": 1973,
         "Education": "Graduation",
         "Marital_Status": "Widow",
         "Income": 42429,
         "Kidhome": 0,
         "Teenhome": 1,
         "Dt_Customer": "2/11/14",
         "Recency": 99,
         "MntWines": 55,
         "MntFruits": 0,
         "MntMeatProducts": 6,
         "MntFishProducts": 2,
         "MntSweetProducts": 0,
         "MntGoldProds": 4,
         "NumDealsPurchases": 2,
         "NumWebPurchases": 1,
         "NumCatalogPurchases": 1,
         "NumStorePurchases": 3,
         "NumWebVisitsMonth": 5,
         "AcceptedCmp3": 0,
         "AcceptedCmp4": 0,
         "AcceptedCmp5": 0,
         "AcceptedCmp1": 0,
         "AcceptedCmp2": 0,
         "Response": 0,
         "Complain": 0,
         "Country": "SP",
         "Age": 48,
         "_deepnote_index_column": 2232
        },
        {
         "ID": 9977,
         "Year_Birth": 1973,
         "Education": "Graduation",
         "Marital_Status": "Divorced",
         "Income": 78901,
         "Kidhome": 0,
         "Teenhome": 1,
         "Dt_Customer": "9/17/13",
         "Recency": 99,
         "MntWines": 321,
         "MntFruits": 11,
         "MntMeatProducts": 309,
         "MntFishProducts": 33,
         "MntSweetProducts": 26,
         "MntGoldProds": 34,
         "NumDealsPurchases": 3,
         "NumWebPurchases": 9,
         "NumCatalogPurchases": 3,
         "NumStorePurchases": 5,
         "NumWebVisitsMonth": 4,
         "AcceptedCmp3": 0,
         "AcceptedCmp4": 0,
         "AcceptedCmp5": 0,
         "AcceptedCmp1": 0,
         "AcceptedCmp2": 0,
         "Response": 0,
         "Complain": 0,
         "Country": "US",
         "Age": 48,
         "_deepnote_index_column": 2234
        },
        {
         "ID": 10142,
         "Year_Birth": 1976,
         "Education": "PhD",
         "Marital_Status": "Divorced",
         "Income": 66476,
         "Kidhome": 0,
         "Teenhome": 1,
         "Dt_Customer": "3/7/13",
         "Recency": 99,
         "MntWines": 372,
         "MntFruits": 18,
         "MntMeatProducts": 126,
         "MntFishProducts": 47,
         "MntSweetProducts": 48,
         "MntGoldProds": 78,
         "NumDealsPurchases": 2,
         "NumWebPurchases": 5,
         "NumCatalogPurchases": 2,
         "NumStorePurchases": 11,
         "NumWebVisitsMonth": 4,
         "AcceptedCmp3": 0,
         "AcceptedCmp4": 0,
         "AcceptedCmp5": 0,
         "AcceptedCmp1": 0,
         "AcceptedCmp2": 0,
         "Response": 0,
         "Complain": 0,
         "Country": "US",
         "Age": 45,
         "_deepnote_index_column": 2235
        },
        {
         "ID": 5263,
         "Year_Birth": 1977,
         "Education": "2n Cycle",
         "Marital_Status": "Married",
         "Income": 31056,
         "Kidhome": 1,
         "Teenhome": 0,
         "Dt_Customer": "1/22/13",
         "Recency": 99,
         "MntWines": 5,
         "MntFruits": 10,
         "MntMeatProducts": 13,
         "MntFishProducts": 3,
         "MntSweetProducts": 8,
         "MntGoldProds": 16,
         "NumDealsPurchases": 1,
         "NumWebPurchases": 1,
         "NumCatalogPurchases": 0,
         "NumStorePurchases": 3,
         "NumWebVisitsMonth": 8,
         "AcceptedCmp3": 0,
         "AcceptedCmp4": 0,
         "AcceptedCmp5": 0,
         "AcceptedCmp1": 0,
         "AcceptedCmp2": 0,
         "Response": 0,
         "Complain": 0,
         "Country": "SP",
         "Age": 44,
         "_deepnote_index_column": 2236
        },
        {
         "ID": 22,
         "Year_Birth": 1976,
         "Education": "Graduation",
         "Marital_Status": "Divorced",
         "Income": 46310,
         "Kidhome": 1,
         "Teenhome": 0,
         "Dt_Customer": "12/3/12",
         "Recency": 99,
         "MntWines": 185,
         "MntFruits": 2,
         "MntMeatProducts": 88,
         "MntFishProducts": 15,
         "MntSweetProducts": 5,
         "MntGoldProds": 14,
         "NumDealsPurchases": 2,
         "NumWebPurchases": 6,
         "NumCatalogPurchases": 1,
         "NumStorePurchases": 5,
         "NumWebVisitsMonth": 8,
         "AcceptedCmp3": 0,
         "AcceptedCmp4": 0,
         "AcceptedCmp5": 0,
         "AcceptedCmp1": 0,
         "AcceptedCmp2": 0,
         "Response": 0,
         "Complain": 0,
         "Country": "SP",
         "Age": 45,
         "_deepnote_index_column": 2237
        },
        {
         "ID": 528,
         "Year_Birth": 1978,
         "Education": "Graduation",
         "Marital_Status": "Married",
         "Income": 65819,
         "Kidhome": 0,
         "Teenhome": 0,
         "Dt_Customer": "11/29/12",
         "Recency": 99,
         "MntWines": 267,
         "MntFruits": 38,
         "MntMeatProducts": 701,
         "MntFishProducts": 149,
         "MntSweetProducts": 165,
         "MntGoldProds": 63,
         "NumDealsPurchases": 1,
         "NumWebPurchases": 5,
         "NumCatalogPurchases": 4,
         "NumStorePurchases": 10,
         "NumWebVisitsMonth": 3,
         "AcceptedCmp3": 0,
         "AcceptedCmp4": 0,
         "AcceptedCmp5": 0,
         "AcceptedCmp1": 0,
         "AcceptedCmp2": 0,
         "Response": 0,
         "Complain": 0,
         "Country": "IND",
         "Age": 43,
         "_deepnote_index_column": 2238
        },
        {
         "ID": 4070,
         "Year_Birth": 1969,
         "Education": "PhD",
         "Marital_Status": "Married",
         "Income": 94871,
         "Kidhome": 0,
         "Teenhome": 2,
         "Dt_Customer": "9/1/12",
         "Recency": 99,
         "MntWines": 169,
         "MntFruits": 24,
         "MntMeatProducts": 553,
         "MntFishProducts": 188,
         "MntSweetProducts": 0,
         "MntGoldProds": 144,
         "NumDealsPurchases": 1,
         "NumWebPurchases": 8,
         "NumCatalogPurchases": 5,
         "NumStorePurchases": 4,
         "NumWebVisitsMonth": 7,
         "AcceptedCmp3": 0,
         "AcceptedCmp4": 1,
         "AcceptedCmp5": 1,
         "AcceptedCmp1": 0,
         "AcceptedCmp2": 0,
         "Response": 1,
         "Complain": 0,
         "Country": "CA",
         "Age": 52,
         "_deepnote_index_column": 2239
        }
       ]
      },
      "text/plain": "         ID  Year_Birth   Education Marital_Status   Income  Kidhome  \\\n0      1826        1970  Graduation       Divorced  84835.0        0   \n1         1        1961  Graduation         Single  57091.0        0   \n3      1386        1967  Graduation       Together  32474.0        1   \n4      5371        1989  Graduation         Single  21474.0        1   \n7      1991        1967  Graduation       Together  44931.0        0   \n...     ...         ...         ...            ...      ...      ...   \n2235  10142        1976         PhD       Divorced  66476.0        0   \n2236   5263        1977    2n Cycle        Married  31056.0        1   \n2237     22        1976  Graduation       Divorced  46310.0        1   \n2238    528        1978  Graduation        Married  65819.0        0   \n2239   4070        1969         PhD        Married  94871.0        0   \n\n      Teenhome Dt_Customer  Recency  MntWines  ...  NumWebVisitsMonth  \\\n0            0     6/16/14        0       189  ...                  1   \n1            0     6/15/14        0       464  ...                  5   \n3            1     5/11/14        0        10  ...                  7   \n4            0      4/8/14        0         6  ...                  7   \n7            1     1/18/14        0        78  ...                  5   \n...        ...         ...      ...       ...  ...                ...   \n2235         1      3/7/13       99       372  ...                  4   \n2236         0     1/22/13       99         5  ...                  8   \n2237         0     12/3/12       99       185  ...                  8   \n2238         0    11/29/12       99       267  ...                  3   \n2239         2      9/1/12       99       169  ...                  7   \n\n      AcceptedCmp3  AcceptedCmp4  AcceptedCmp5  AcceptedCmp1  AcceptedCmp2  \\\n0                0             0             0             0             0   \n1                0             0             0             0             1   \n3                0             0             0             0             0   \n4                1             0             0             0             0   \n7                0             0             0             0             0   \n...            ...           ...           ...           ...           ...   \n2235             0             0             0             0             0   \n2236             0             0             0             0             0   \n2237             0             0             0             0             0   \n2238             0             0             0             0             0   \n2239             0             1             1             0             0   \n\n      Response  Complain  Country  Age  \n0            1         0       SP   51  \n1            1         0       CA   60  \n3            0         0      AUS   54  \n4            1         0       SP   32  \n7            0         0       SP   54  \n...        ...       ...      ...  ...  \n2235         0         0       US   45  \n2236         0         0       SP   44  \n2237         0         0       SP   45  \n2238         0         0      IND   43  \n2239         1         0       CA   52  \n\n[1654 rows x 29 columns]",
      "text/html": "<div>\n<style scoped>\n    .dataframe tbody tr th:only-of-type {\n        vertical-align: middle;\n    }\n\n    .dataframe tbody tr th {\n        vertical-align: top;\n    }\n\n    .dataframe thead th {\n        text-align: right;\n    }\n</style>\n<table border=\"1\" class=\"dataframe\">\n  <thead>\n    <tr style=\"text-align: right;\">\n      <th></th>\n      <th>ID</th>\n      <th>Year_Birth</th>\n      <th>Education</th>\n      <th>Marital_Status</th>\n      <th>Income</th>\n      <th>Kidhome</th>\n      <th>Teenhome</th>\n      <th>Dt_Customer</th>\n      <th>Recency</th>\n      <th>MntWines</th>\n      <th>...</th>\n      <th>NumWebVisitsMonth</th>\n      <th>AcceptedCmp3</th>\n      <th>AcceptedCmp4</th>\n      <th>AcceptedCmp5</th>\n      <th>AcceptedCmp1</th>\n      <th>AcceptedCmp2</th>\n      <th>Response</th>\n      <th>Complain</th>\n      <th>Country</th>\n      <th>Age</th>\n    </tr>\n  </thead>\n  <tbody>\n    <tr>\n      <th>0</th>\n      <td>1826</td>\n      <td>1970</td>\n      <td>Graduation</td>\n      <td>Divorced</td>\n      <td>84835.0</td>\n      <td>0</td>\n      <td>0</td>\n      <td>6/16/14</td>\n      <td>0</td>\n      <td>189</td>\n      <td>...</td>\n      <td>1</td>\n      <td>0</td>\n      <td>0</td>\n      <td>0</td>\n      <td>0</td>\n      <td>0</td>\n      <td>1</td>\n      <td>0</td>\n      <td>SP</td>\n      <td>51</td>\n    </tr>\n    <tr>\n      <th>1</th>\n      <td>1</td>\n      <td>1961</td>\n      <td>Graduation</td>\n      <td>Single</td>\n      <td>57091.0</td>\n      <td>0</td>\n      <td>0</td>\n      <td>6/15/14</td>\n      <td>0</td>\n      <td>464</td>\n      <td>...</td>\n      <td>5</td>\n      <td>0</td>\n      <td>0</td>\n      <td>0</td>\n      <td>0</td>\n      <td>1</td>\n      <td>1</td>\n      <td>0</td>\n      <td>CA</td>\n      <td>60</td>\n    </tr>\n    <tr>\n      <th>3</th>\n      <td>1386</td>\n      <td>1967</td>\n      <td>Graduation</td>\n      <td>Together</td>\n      <td>32474.0</td>\n      <td>1</td>\n      <td>1</td>\n      <td>5/11/14</td>\n      <td>0</td>\n      <td>10</td>\n      <td>...</td>\n      <td>7</td>\n      <td>0</td>\n      <td>0</td>\n      <td>0</td>\n      <td>0</td>\n      <td>0</td>\n      <td>0</td>\n      <td>0</td>\n      <td>AUS</td>\n      <td>54</td>\n    </tr>\n    <tr>\n      <th>4</th>\n      <td>5371</td>\n      <td>1989</td>\n      <td>Graduation</td>\n      <td>Single</td>\n      <td>21474.0</td>\n      <td>1</td>\n      <td>0</td>\n      <td>4/8/14</td>\n      <td>0</td>\n      <td>6</td>\n      <td>...</td>\n      <td>7</td>\n      <td>1</td>\n      <td>0</td>\n      <td>0</td>\n      <td>0</td>\n      <td>0</td>\n      <td>1</td>\n      <td>0</td>\n      <td>SP</td>\n      <td>32</td>\n    </tr>\n    <tr>\n      <th>7</th>\n      <td>1991</td>\n      <td>1967</td>\n      <td>Graduation</td>\n      <td>Together</td>\n      <td>44931.0</td>\n      <td>0</td>\n      <td>1</td>\n      <td>1/18/14</td>\n      <td>0</td>\n      <td>78</td>\n      <td>...</td>\n      <td>5</td>\n      <td>0</td>\n      <td>0</td>\n      <td>0</td>\n      <td>0</td>\n      <td>0</td>\n      <td>0</td>\n      <td>0</td>\n      <td>SP</td>\n      <td>54</td>\n    </tr>\n    <tr>\n      <th>...</th>\n      <td>...</td>\n      <td>...</td>\n      <td>...</td>\n      <td>...</td>\n      <td>...</td>\n      <td>...</td>\n      <td>...</td>\n      <td>...</td>\n      <td>...</td>\n      <td>...</td>\n      <td>...</td>\n      <td>...</td>\n      <td>...</td>\n      <td>...</td>\n      <td>...</td>\n      <td>...</td>\n      <td>...</td>\n      <td>...</td>\n      <td>...</td>\n      <td>...</td>\n      <td>...</td>\n    </tr>\n    <tr>\n      <th>2235</th>\n      <td>10142</td>\n      <td>1976</td>\n      <td>PhD</td>\n      <td>Divorced</td>\n      <td>66476.0</td>\n      <td>0</td>\n      <td>1</td>\n      <td>3/7/13</td>\n      <td>99</td>\n      <td>372</td>\n      <td>...</td>\n      <td>4</td>\n      <td>0</td>\n      <td>0</td>\n      <td>0</td>\n      <td>0</td>\n      <td>0</td>\n      <td>0</td>\n      <td>0</td>\n      <td>US</td>\n      <td>45</td>\n    </tr>\n    <tr>\n      <th>2236</th>\n      <td>5263</td>\n      <td>1977</td>\n      <td>2n Cycle</td>\n      <td>Married</td>\n      <td>31056.0</td>\n      <td>1</td>\n      <td>0</td>\n      <td>1/22/13</td>\n      <td>99</td>\n      <td>5</td>\n      <td>...</td>\n      <td>8</td>\n      <td>0</td>\n      <td>0</td>\n      <td>0</td>\n      <td>0</td>\n      <td>0</td>\n      <td>0</td>\n      <td>0</td>\n      <td>SP</td>\n      <td>44</td>\n    </tr>\n    <tr>\n      <th>2237</th>\n      <td>22</td>\n      <td>1976</td>\n      <td>Graduation</td>\n      <td>Divorced</td>\n      <td>46310.0</td>\n      <td>1</td>\n      <td>0</td>\n      <td>12/3/12</td>\n      <td>99</td>\n      <td>185</td>\n      <td>...</td>\n      <td>8</td>\n      <td>0</td>\n      <td>0</td>\n      <td>0</td>\n      <td>0</td>\n      <td>0</td>\n      <td>0</td>\n      <td>0</td>\n      <td>SP</td>\n      <td>45</td>\n    </tr>\n    <tr>\n      <th>2238</th>\n      <td>528</td>\n      <td>1978</td>\n      <td>Graduation</td>\n      <td>Married</td>\n      <td>65819.0</td>\n      <td>0</td>\n      <td>0</td>\n      <td>11/29/12</td>\n      <td>99</td>\n      <td>267</td>\n      <td>...</td>\n      <td>3</td>\n      <td>0</td>\n      <td>0</td>\n      <td>0</td>\n      <td>0</td>\n      <td>0</td>\n      <td>0</td>\n      <td>0</td>\n      <td>IND</td>\n      <td>43</td>\n    </tr>\n    <tr>\n      <th>2239</th>\n      <td>4070</td>\n      <td>1969</td>\n      <td>PhD</td>\n      <td>Married</td>\n      <td>94871.0</td>\n      <td>0</td>\n      <td>2</td>\n      <td>9/1/12</td>\n      <td>99</td>\n      <td>169</td>\n      <td>...</td>\n      <td>7</td>\n      <td>0</td>\n      <td>1</td>\n      <td>1</td>\n      <td>0</td>\n      <td>0</td>\n      <td>1</td>\n      <td>0</td>\n      <td>CA</td>\n      <td>52</td>\n    </tr>\n  </tbody>\n</table>\n<p>1654 rows × 29 columns</p>\n</div>"
     },
     "metadata": {}
    }
   ]
  },
  {
   "cell_type": "code",
   "metadata": {
    "tags": [],
    "cell_id": "00003-11074454-1ed9-4456-803a-6e52bfcee69d",
    "deepnote_to_be_reexecuted": false,
    "source_hash": "839c7d21",
    "execution_start": 1628047382401,
    "execution_millis": 142,
    "deepnote_cell_type": "code"
   },
   "source": "df_marketing_Age_Income = df_marketing[['Age', 'Income']]\ndf_marketing_Age_Income",
   "execution_count": null,
   "outputs": [
    {
     "output_type": "execute_result",
     "execution_count": 4,
     "data": {
      "application/vnd.deepnote.dataframe.v2+json": {
       "row_count": 1654,
       "column_count": 2,
       "columns": [
        {
         "name": "Age",
         "dtype": "int64",
         "stats": {
          "unique_count": 37,
          "nan_count": 0,
          "min": "25",
          "max": "61",
          "histogram": [
           {
            "bin_start": 25,
            "bin_end": 28.6,
            "count": 15
           },
           {
            "bin_start": 28.6,
            "bin_end": 32.2,
            "count": 75
           },
           {
            "bin_start": 32.2,
            "bin_end": 35.8,
            "count": 97
           },
           {
            "bin_start": 35.8,
            "bin_end": 39.4,
            "count": 155
           },
           {
            "bin_start": 39.4,
            "bin_end": 43,
            "count": 130
           },
           {
            "bin_start": 43,
            "bin_end": 46.6,
            "count": 300
           },
           {
            "bin_start": 46.6,
            "bin_end": 50.2,
            "count": 305
           },
           {
            "bin_start": 50.2,
            "bin_end": 53.8,
            "count": 196
           },
           {
            "bin_start": 53.8,
            "bin_end": 57.4,
            "count": 209
           },
           {
            "bin_start": 57.4,
            "bin_end": 61,
            "count": 172
           }
          ]
         }
        },
        {
         "name": "Income",
         "dtype": "float64",
         "stats": {
          "unique_count": 1470,
          "nan_count": 0,
          "min": "1730.0",
          "max": "666666.0",
          "histogram": [
           {
            "bin_start": 1730,
            "bin_end": 68223.6,
            "count": 1263
           },
           {
            "bin_start": 68223.6,
            "bin_end": 134717.2,
            "count": 384
           },
           {
            "bin_start": 134717.2,
            "bin_end": 201210.80000000002,
            "count": 6
           },
           {
            "bin_start": 201210.80000000002,
            "bin_end": 267704.4,
            "count": 0
           },
           {
            "bin_start": 267704.4,
            "bin_end": 334198,
            "count": 0
           },
           {
            "bin_start": 334198,
            "bin_end": 400691.60000000003,
            "count": 0
           },
           {
            "bin_start": 400691.60000000003,
            "bin_end": 467185.20000000007,
            "count": 0
           },
           {
            "bin_start": 467185.20000000007,
            "bin_end": 533678.8,
            "count": 0
           },
           {
            "bin_start": 533678.8,
            "bin_end": 600172.4,
            "count": 0
           },
           {
            "bin_start": 600172.4,
            "bin_end": 666666,
            "count": 1
           }
          ]
         }
        },
        {
         "name": "_deepnote_index_column",
         "dtype": "int64"
        }
       ],
       "rows_top": [
        {
         "Age": 51,
         "Income": 84835,
         "_deepnote_index_column": 0
        },
        {
         "Age": 60,
         "Income": 57091,
         "_deepnote_index_column": 1
        },
        {
         "Age": 54,
         "Income": 32474,
         "_deepnote_index_column": 3
        },
        {
         "Age": 32,
         "Income": 21474,
         "_deepnote_index_column": 4
        },
        {
         "Age": 54,
         "Income": 44931,
         "_deepnote_index_column": 7
        },
        {
         "Age": 42,
         "Income": 62499,
         "_deepnote_index_column": 11
        },
        {
         "Age": 40,
         "Income": 26872,
         "_deepnote_index_column": 13
        },
        {
         "Age": 52,
         "Income": 4428,
         "_deepnote_index_column": 14
        },
        {
         "Age": 44,
         "Income": 54809,
         "_deepnote_index_column": 15
        },
        {
         "Age": 44,
         "Income": 54809,
         "_deepnote_index_column": 16
        },
        {
         "Age": 61,
         "Income": 47823,
         "_deepnote_index_column": 18
        },
        {
         "Age": 55,
         "Income": 43456,
         "_deepnote_index_column": 21
        },
        {
         "Age": 42,
         "Income": 40662,
         "_deepnote_index_column": 22
        },
        {
         "Age": 45,
         "Income": 49544,
         "_deepnote_index_column": 23
        },
        {
         "Age": 52,
         "Income": 57731,
         "_deepnote_index_column": 24
        },
        {
         "Age": 56,
         "Income": 33168,
         "_deepnote_index_column": 25
        },
        {
         "Age": 46,
         "Income": 73170,
         "_deepnote_index_column": 29
        },
        {
         "Age": 50,
         "Income": 65808,
         "_deepnote_index_column": 30
        },
        {
         "Age": 35,
         "Income": 79529,
         "_deepnote_index_column": 31
        },
        {
         "Age": 49,
         "Income": 34578,
         "_deepnote_index_column": 32
        },
        {
         "Age": 47,
         "Income": 46374,
         "_deepnote_index_column": 33
        },
        {
         "Age": 31,
         "Income": 18351,
         "_deepnote_index_column": 34
        },
        {
         "Age": 34,
         "Income": 95169,
         "_deepnote_index_column": 35
        },
        {
         "Age": 37,
         "Income": 65370,
         "_deepnote_index_column": 36
        },
        {
         "Age": 61,
         "Income": 39228,
         "_deepnote_index_column": 37
        },
        {
         "Age": 60,
         "Income": 84865,
         "_deepnote_index_column": 38
        },
        {
         "Age": 53,
         "Income": 61314,
         "_deepnote_index_column": 39
        },
        {
         "Age": 49,
         "Income": 21359,
         "_deepnote_index_column": 40
        },
        {
         "Age": 38,
         "Income": 81698,
         "_deepnote_index_column": 42
        },
        {
         "Age": 35,
         "Income": 39146,
         "_deepnote_index_column": 43
        },
        {
         "Age": 51,
         "Income": 25959,
         "_deepnote_index_column": 44
        },
        {
         "Age": 60,
         "Income": 64260,
         "_deepnote_index_column": 45
        },
        {
         "Age": 48,
         "Income": 32300,
         "_deepnote_index_column": 46
        },
        {
         "Age": 56,
         "Income": 74806,
         "_deepnote_index_column": 47
        },
        {
         "Age": 51,
         "Income": 72967,
         "_deepnote_index_column": 48
        },
        {
         "Age": 61,
         "Income": 48904,
         "_deepnote_index_column": 49
        },
        {
         "Age": 37,
         "Income": 14796,
         "_deepnote_index_column": 50
        },
        {
         "Age": 43,
         "Income": 52195,
         "_deepnote_index_column": 52
        },
        {
         "Age": 47,
         "Income": 18393,
         "_deepnote_index_column": 54
        },
        {
         "Age": 48,
         "Income": 38576,
         "_deepnote_index_column": 56
        },
        {
         "Age": 46,
         "Income": 61905,
         "_deepnote_index_column": 57
        },
        {
         "Age": 59,
         "Income": 83715,
         "_deepnote_index_column": 58
        },
        {
         "Age": 57,
         "Income": 60597,
         "_deepnote_index_column": 59
        },
        {
         "Age": 39,
         "Income": 6560,
         "_deepnote_index_column": 60
        },
        {
         "Age": 60,
         "Income": 48330,
         "_deepnote_index_column": 61
        },
        {
         "Age": 53,
         "Income": 38236,
         "_deepnote_index_column": 62
        },
        {
         "Age": 44,
         "Income": 22701,
         "_deepnote_index_column": 63
        },
        {
         "Age": 47,
         "Income": 53367,
         "_deepnote_index_column": 64
        },
        {
         "Age": 35,
         "Income": 34728,
         "_deepnote_index_column": 65
        },
        {
         "Age": 61,
         "Income": 82504,
         "_deepnote_index_column": 67
        },
        {
         "Age": 49,
         "Income": 38578,
         "_deepnote_index_column": 68
        },
        {
         "Age": 49,
         "Income": 38578,
         "_deepnote_index_column": 69
        },
        {
         "Age": 46,
         "Income": 79174,
         "_deepnote_index_column": 70
        },
        {
         "Age": 59,
         "Income": 81975,
         "_deepnote_index_column": 71
        },
        {
         "Age": 44,
         "Income": 43263,
         "_deepnote_index_column": 72
        },
        {
         "Age": 51,
         "Income": 27242,
         "_deepnote_index_column": 73
        },
        {
         "Age": 50,
         "Income": 76445,
         "_deepnote_index_column": 74
        },
        {
         "Age": 56,
         "Income": 75276,
         "_deepnote_index_column": 75
        },
        {
         "Age": 58,
         "Income": 34213,
         "_deepnote_index_column": 76
        },
        {
         "Age": 45,
         "Income": 72335,
         "_deepnote_index_column": 77
        },
        {
         "Age": 57,
         "Income": 79143,
         "_deepnote_index_column": 78
        },
        {
         "Age": 52,
         "Income": 68695,
         "_deepnote_index_column": 80
        },
        {
         "Age": 52,
         "Income": 68695,
         "_deepnote_index_column": 81
        },
        {
         "Age": 51,
         "Income": 77622,
         "_deepnote_index_column": 83
        },
        {
         "Age": 59,
         "Income": 46102,
         "_deepnote_index_column": 84
        },
        {
         "Age": 41,
         "Income": 31859,
         "_deepnote_index_column": 85
        },
        {
         "Age": 34,
         "Income": 23830,
         "_deepnote_index_column": 86
        },
        {
         "Age": 48,
         "Income": 24639,
         "_deepnote_index_column": 87
        },
        {
         "Age": 37,
         "Income": 27255,
         "_deepnote_index_column": 89
        },
        {
         "Age": 44,
         "Income": 55375,
         "_deepnote_index_column": 90
        },
        {
         "Age": 61,
         "Income": 77037,
         "_deepnote_index_column": 91
        },
        {
         "Age": 51,
         "Income": 24163,
         "_deepnote_index_column": 92
        },
        {
         "Age": 52,
         "Income": 69476,
         "_deepnote_index_column": 93
        },
        {
         "Age": 42,
         "Income": 72063,
         "_deepnote_index_column": 94
        },
        {
         "Age": 59,
         "Income": 58646,
         "_deepnote_index_column": 95
        },
        {
         "Age": 59,
         "Income": 58646,
         "_deepnote_index_column": 96
        },
        {
         "Age": 41,
         "Income": 80011,
         "_deepnote_index_column": 98
        },
        {
         "Age": 39,
         "Income": 63211,
         "_deepnote_index_column": 101
        },
        {
         "Age": 48,
         "Income": 48432,
         "_deepnote_index_column": 102
        },
        {
         "Age": 48,
         "Income": 48432,
         "_deepnote_index_column": 103
        },
        {
         "Age": 48,
         "Income": 48432,
         "_deepnote_index_column": 104
        },
        {
         "Age": 56,
         "Income": 65220,
         "_deepnote_index_column": 107
        },
        {
         "Age": 31,
         "Income": 74214,
         "_deepnote_index_column": 108
        },
        {
         "Age": 41,
         "Income": 96547,
         "_deepnote_index_column": 109
        },
        {
         "Age": 51,
         "Income": 50447,
         "_deepnote_index_column": 111
        },
        {
         "Age": 39,
         "Income": 45203,
         "_deepnote_index_column": 113
        },
        {
         "Age": 46,
         "Income": 37368,
         "_deepnote_index_column": 114
        },
        {
         "Age": 45,
         "Income": 65104,
         "_deepnote_index_column": 116
        },
        {
         "Age": 45,
         "Income": 65104,
         "_deepnote_index_column": 117
        },
        {
         "Age": 53,
         "Income": 70566,
         "_deepnote_index_column": 119
        },
        {
         "Age": 59,
         "Income": 71434,
         "_deepnote_index_column": 121
        },
        {
         "Age": 43,
         "Income": 33039,
         "_deepnote_index_column": 122
        },
        {
         "Age": 43,
         "Income": 33039,
         "_deepnote_index_column": 123
        },
        {
         "Age": 45,
         "Income": 53359,
         "_deepnote_index_column": 126
        },
        {
         "Age": 50,
         "Income": 49505,
         "_deepnote_index_column": 127
        },
        {
         "Age": 54,
         "Income": 59235,
         "_deepnote_index_column": 131
        },
        {
         "Age": 49,
         "Income": 69209,
         "_deepnote_index_column": 135
        },
        {
         "Age": 32,
         "Income": 31928,
         "_deepnote_index_column": 136
        },
        {
         "Age": 34,
         "Income": 74004,
         "_deepnote_index_column": 137
        },
        {
         "Age": 34,
         "Income": 30390,
         "_deepnote_index_column": 138
        },
        {
         "Age": 36,
         "Income": 21355,
         "_deepnote_index_column": 139
        },
        {
         "Age": 52,
         "Income": 26304,
         "_deepnote_index_column": 140
        },
        {
         "Age": 32,
         "Income": 85710,
         "_deepnote_index_column": 141
        },
        {
         "Age": 47,
         "Income": 102692,
         "_deepnote_index_column": 142
        },
        {
         "Age": 50,
         "Income": 58350,
         "_deepnote_index_column": 143
        },
        {
         "Age": 43,
         "Income": 7500,
         "_deepnote_index_column": 144
        },
        {
         "Age": 37,
         "Income": 18890,
         "_deepnote_index_column": 145
        },
        {
         "Age": 35,
         "Income": 20425,
         "_deepnote_index_column": 146
        },
        {
         "Age": 35,
         "Income": 20425,
         "_deepnote_index_column": 147
        },
        {
         "Age": 56,
         "Income": 47025,
         "_deepnote_index_column": 153
        },
        {
         "Age": 45,
         "Income": 68397,
         "_deepnote_index_column": 154
        },
        {
         "Age": 37,
         "Income": 38175,
         "_deepnote_index_column": 155
        },
        {
         "Age": 49,
         "Income": 46423,
         "_deepnote_index_column": 156
        },
        {
         "Age": 49,
         "Income": 46423,
         "_deepnote_index_column": 157
        },
        {
         "Age": 45,
         "Income": 30560,
         "_deepnote_index_column": 158
        },
        {
         "Age": 45,
         "Income": 30560,
         "_deepnote_index_column": 159
        },
        {
         "Age": 42,
         "Income": 60152,
         "_deepnote_index_column": 160
        },
        {
         "Age": 56,
         "Income": 29672,
         "_deepnote_index_column": 161
        },
        {
         "Age": 56,
         "Income": 29672,
         "_deepnote_index_column": 162
        },
        {
         "Age": 59,
         "Income": 56181,
         "_deepnote_index_column": 164
        },
        {
         "Age": 31,
         "Income": 24279,
         "_deepnote_index_column": 165
        },
        {
         "Age": 52,
         "Income": 68462,
         "_deepnote_index_column": 166
        },
        {
         "Age": 45,
         "Income": 55424,
         "_deepnote_index_column": 167
        },
        {
         "Age": 48,
         "Income": 49094,
         "_deepnote_index_column": 168
        },
        {
         "Age": 60,
         "Income": 59184,
         "_deepnote_index_column": 169
        },
        {
         "Age": 34,
         "Income": 67430,
         "_deepnote_index_column": 170
        },
        {
         "Age": 61,
         "Income": 30522,
         "_deepnote_index_column": 171
        },
        {
         "Age": 44,
         "Income": 31878,
         "_deepnote_index_column": 172
        },
        {
         "Age": 29,
         "Income": 83528,
         "_deepnote_index_column": 173
        },
        {
         "Age": 42,
         "Income": 90300,
         "_deepnote_index_column": 174
        },
        {
         "Age": 43,
         "Income": 68092,
         "_deepnote_index_column": 175
        },
        {
         "Age": 49,
         "Income": 53761,
         "_deepnote_index_column": 176
        },
        {
         "Age": 48,
         "Income": 52845,
         "_deepnote_index_column": 177
        },
        {
         "Age": 45,
         "Income": 24027,
         "_deepnote_index_column": 178
        },
        {
         "Age": 42,
         "Income": 7500,
         "_deepnote_index_column": 179
        },
        {
         "Age": 48,
         "Income": 9722,
         "_deepnote_index_column": 182
        },
        {
         "Age": 46,
         "Income": 86836,
         "_deepnote_index_column": 183
        },
        {
         "Age": 49,
         "Income": 30467,
         "_deepnote_index_column": 184
        },
        {
         "Age": 39,
         "Income": 19444,
         "_deepnote_index_column": 186
        },
        {
         "Age": 58,
         "Income": 72968,
         "_deepnote_index_column": 188
        },
        {
         "Age": 31,
         "Income": 73687,
         "_deepnote_index_column": 190
        },
        {
         "Age": 40,
         "Income": 35523,
         "_deepnote_index_column": 192
        },
        {
         "Age": 46,
         "Income": 60554,
         "_deepnote_index_column": 193
        },
        {
         "Age": 56,
         "Income": 61559,
         "_deepnote_index_column": 195
        },
        {
         "Age": 59,
         "Income": 71670,
         "_deepnote_index_column": 196
        },
        {
         "Age": 40,
         "Income": 54386,
         "_deepnote_index_column": 198
        },
        {
         "Age": 61,
         "Income": 67716,
         "_deepnote_index_column": 202
        },
        {
         "Age": 50,
         "Income": 34600,
         "_deepnote_index_column": 203
        },
        {
         "Age": 50,
         "Income": 34600,
         "_deepnote_index_column": 204
        },
        {
         "Age": 52,
         "Income": 48752,
         "_deepnote_index_column": 205
        },
        {
         "Age": 33,
         "Income": 15716,
         "_deepnote_index_column": 206
        },
        {
         "Age": 44,
         "Income": 74985,
         "_deepnote_index_column": 208
        },
        {
         "Age": 34,
         "Income": 57100,
         "_deepnote_index_column": 211
        },
        {
         "Age": 49,
         "Income": 24434,
         "_deepnote_index_column": 212
        },
        {
         "Age": 50,
         "Income": 37126,
         "_deepnote_index_column": 213
        },
        {
         "Age": 44,
         "Income": 33178,
         "_deepnote_index_column": 215
        },
        {
         "Age": 46,
         "Income": 34176,
         "_deepnote_index_column": 217
        },
        {
         "Age": 53,
         "Income": 50014,
         "_deepnote_index_column": 218
        },
        {
         "Age": 51,
         "Income": 55282,
         "_deepnote_index_column": 220
        },
        {
         "Age": 58,
         "Income": 48799,
         "_deepnote_index_column": 221
        },
        {
         "Age": 39,
         "Income": 84169,
         "_deepnote_index_column": 222
        },
        {
         "Age": 39,
         "Income": 84169,
         "_deepnote_index_column": 223
        },
        {
         "Age": 50,
         "Income": 39763,
         "_deepnote_index_column": 224
        },
        {
         "Age": 46,
         "Income": 74165,
         "_deepnote_index_column": 225
        },
        {
         "Age": 56,
         "Income": 42720,
         "_deepnote_index_column": 226
        },
        {
         "Age": 60,
         "Income": 36443,
         "_deepnote_index_column": 228
        },
        {
         "Age": 56,
         "Income": 56046,
         "_deepnote_index_column": 230
        },
        {
         "Age": 60,
         "Income": 32583,
         "_deepnote_index_column": 233
        },
        {
         "Age": 42,
         "Income": 16653,
         "_deepnote_index_column": 234
        },
        {
         "Age": 50,
         "Income": 26850,
         "_deepnote_index_column": 235
        },
        {
         "Age": 53,
         "Income": 51287,
         "_deepnote_index_column": 236
        },
        {
         "Age": 48,
         "Income": 43050,
         "_deepnote_index_column": 237
        },
        {
         "Age": 52,
         "Income": 73448,
         "_deepnote_index_column": 238
        },
        {
         "Age": 29,
         "Income": 17256,
         "_deepnote_index_column": 239
        },
        {
         "Age": 60,
         "Income": 86429,
         "_deepnote_index_column": 240
        },
        {
         "Age": 38,
         "Income": 33569,
         "_deepnote_index_column": 241
        },
        {
         "Age": 41,
         "Income": 25130,
         "_deepnote_index_column": 242
        },
        {
         "Age": 45,
         "Income": 26907,
         "_deepnote_index_column": 244
        },
        {
         "Age": 45,
         "Income": 26907,
         "_deepnote_index_column": 245
        },
        {
         "Age": 45,
         "Income": 70179,
         "_deepnote_index_column": 248
        },
        {
         "Age": 45,
         "Income": 70179,
         "_deepnote_index_column": 249
        },
        {
         "Age": 35,
         "Income": 28072,
         "_deepnote_index_column": 250
        },
        {
         "Age": 52,
         "Income": 58917,
         "_deepnote_index_column": 252
        },
        {
         "Age": 50,
         "Income": 35178,
         "_deepnote_index_column": 254
        },
        {
         "Age": 50,
         "Income": 35178,
         "_deepnote_index_column": 255
        },
        {
         "Age": 53,
         "Income": 75693,
         "_deepnote_index_column": 256
        },
        {
         "Age": 39,
         "Income": 69109,
         "_deepnote_index_column": 257
        },
        {
         "Age": 39,
         "Income": 69109,
         "_deepnote_index_column": 258
        },
        {
         "Age": 27,
         "Income": 80134,
         "_deepnote_index_column": 259
        },
        {
         "Age": 51,
         "Income": 64713,
         "_deepnote_index_column": 260
        },
        {
         "Age": 35,
         "Income": 41411,
         "_deepnote_index_column": 261
        },
        {
         "Age": 53,
         "Income": 43795,
         "_deepnote_index_column": 264
        },
        {
         "Age": 51,
         "Income": 22070,
         "_deepnote_index_column": 265
        },
        {
         "Age": 45,
         "Income": 46049,
         "_deepnote_index_column": 269
        },
        {
         "Age": 49,
         "Income": 35641,
         "_deepnote_index_column": 270
        },
        {
         "Age": 37,
         "Income": 32414,
         "_deepnote_index_column": 271
        },
        {
         "Age": 41,
         "Income": 34968,
         "_deepnote_index_column": 273
        },
        {
         "Age": 54,
         "Income": 56320,
         "_deepnote_index_column": 274
        },
        {
         "Age": 52,
         "Income": 70091,
         "_deepnote_index_column": 275
        },
        {
         "Age": 58,
         "Income": 41003,
         "_deepnote_index_column": 277
        },
        {
         "Age": 46,
         "Income": 33249,
         "_deepnote_index_column": 279
        },
        {
         "Age": 46,
         "Income": 33249,
         "_deepnote_index_column": 280
        },
        {
         "Age": 52,
         "Income": 51039,
         "_deepnote_index_column": 282
        },
        {
         "Age": 55,
         "Income": 29435,
         "_deepnote_index_column": 284
        },
        {
         "Age": 33,
         "Income": 34176,
         "_deepnote_index_column": 286
        },
        {
         "Age": 33,
         "Income": 34176,
         "_deepnote_index_column": 287
        },
        {
         "Age": 51,
         "Income": 65968,
         "_deepnote_index_column": 288
        },
        {
         "Age": 55,
         "Income": 67272,
         "_deepnote_index_column": 290
        },
        {
         "Age": 49,
         "Income": 77044,
         "_deepnote_index_column": 292
        },
        {
         "Age": 28,
         "Income": 70515,
         "_deepnote_index_column": 293
        },
        {
         "Age": 46,
         "Income": 17459,
         "_deepnote_index_column": 294
        },
        {
         "Age": 51,
         "Income": 80336,
         "_deepnote_index_column": 295
        },
        {
         "Age": 45,
         "Income": 26326,
         "_deepnote_index_column": 297
        },
        {
         "Age": 45,
         "Income": 62061,
         "_deepnote_index_column": 298
        },
        {
         "Age": 45,
         "Income": 5305,
         "_deepnote_index_column": 299
        },
        {
         "Age": 39,
         "Income": 75777,
         "_deepnote_index_column": 300
        },
        {
         "Age": 39,
         "Income": 75777,
         "_deepnote_index_column": 301
        },
        {
         "Age": 50,
         "Income": 71499,
         "_deepnote_index_column": 302
        },
        {
         "Age": 43,
         "Income": 31626,
         "_deepnote_index_column": 303
        },
        {
         "Age": 29,
         "Income": 42670,
         "_deepnote_index_column": 304
        },
        {
         "Age": 48,
         "Income": 83917,
         "_deepnote_index_column": 305
        },
        {
         "Age": 52,
         "Income": 41021,
         "_deepnote_index_column": 306
        },
        {
         "Age": 41,
         "Income": 78789,
         "_deepnote_index_column": 308
        },
        {
         "Age": 38,
         "Income": 35876,
         "_deepnote_index_column": 310
        },
        {
         "Age": 54,
         "Income": 32557,
         "_deepnote_index_column": 312
        },
        {
         "Age": 51,
         "Income": 62466,
         "_deepnote_index_column": 313
        },
        {
         "Age": 51,
         "Income": 62466,
         "_deepnote_index_column": 314
        },
        {
         "Age": 55,
         "Income": 54198,
         "_deepnote_index_column": 315
        },
        {
         "Age": 43,
         "Income": 82170,
         "_deepnote_index_column": 316
        },
        {
         "Age": 57,
         "Income": 61798,
         "_deepnote_index_column": 317
        },
        {
         "Age": 29,
         "Income": 15253,
         "_deepnote_index_column": 318
        },
        {
         "Age": 33,
         "Income": 78285,
         "_deepnote_index_column": 319
        },
        {
         "Age": 48,
         "Income": 27190,
         "_deepnote_index_column": 321
        },
        {
         "Age": 53,
         "Income": 48985,
         "_deepnote_index_column": 322
        },
        {
         "Age": 51,
         "Income": 72940,
         "_deepnote_index_column": 323
        },
        {
         "Age": 36,
         "Income": 36145,
         "_deepnote_index_column": 324
        },
        {
         "Age": 44,
         "Income": 157146,
         "_deepnote_index_column": 325
        },
        {
         "Age": 61,
         "Income": 81843,
         "_deepnote_index_column": 326
        },
        {
         "Age": 33,
         "Income": 41883,
         "_deepnote_index_column": 327
        },
        {
         "Age": 57,
         "Income": 45759,
         "_deepnote_index_column": 328
        },
        {
         "Age": 57,
         "Income": 45759,
         "_deepnote_index_column": 329
        },
        {
         "Age": 35,
         "Income": 78394,
         "_deepnote_index_column": 330
        },
        {
         "Age": 32,
         "Income": 30279,
         "_deepnote_index_column": 331
        },
        {
         "Age": 32,
         "Income": 30279,
         "_deepnote_index_column": 332
        },
        {
         "Age": 51,
         "Income": 31880,
         "_deepnote_index_column": 333
        },
        {
         "Age": 48,
         "Income": 60208,
         "_deepnote_index_column": 334
        },
        {
         "Age": 38,
         "Income": 78687,
         "_deepnote_index_column": 335
        },
        {
         "Age": 48,
         "Income": 37401,
         "_deepnote_index_column": 336
        },
        {
         "Age": 48,
         "Income": 37401,
         "_deepnote_index_column": 337
        },
        {
         "Age": 56,
         "Income": 69263,
         "_deepnote_index_column": 339
        }
       ],
       "rows_bottom": [
        {
         "Age": 36,
         "Income": 92533,
         "_deepnote_index_column": 1900
        },
        {
         "Age": 46,
         "Income": 40233,
         "_deepnote_index_column": 1904
        },
        {
         "Age": 52,
         "Income": 46831,
         "_deepnote_index_column": 1905
        },
        {
         "Age": 34,
         "Income": 67605,
         "_deepnote_index_column": 1906
        },
        {
         "Age": 45,
         "Income": 70379,
         "_deepnote_index_column": 1907
        },
        {
         "Age": 59,
         "Income": 55759,
         "_deepnote_index_column": 1909
        },
        {
         "Age": 45,
         "Income": 51369,
         "_deepnote_index_column": 1911
        },
        {
         "Age": 45,
         "Income": 51369,
         "_deepnote_index_column": 1912
        },
        {
         "Age": 43,
         "Income": 52513,
         "_deepnote_index_column": 1914
        },
        {
         "Age": 51,
         "Income": 44159,
         "_deepnote_index_column": 1915
        },
        {
         "Age": 59,
         "Income": 76081,
         "_deepnote_index_column": 1916
        },
        {
         "Age": 59,
         "Income": 76081,
         "_deepnote_index_column": 1917
        },
        {
         "Age": 47,
         "Income": 39996,
         "_deepnote_index_column": 1918
        },
        {
         "Age": 48,
         "Income": 55012,
         "_deepnote_index_column": 1919
        },
        {
         "Age": 58,
         "Income": 80695,
         "_deepnote_index_column": 1921
        },
        {
         "Age": 39,
         "Income": 73450,
         "_deepnote_index_column": 1923
        },
        {
         "Age": 54,
         "Income": 30753,
         "_deepnote_index_column": 1926
        },
        {
         "Age": 46,
         "Income": 22280,
         "_deepnote_index_column": 1928
        },
        {
         "Age": 50,
         "Income": 80573,
         "_deepnote_index_column": 1931
        },
        {
         "Age": 50,
         "Income": 80573,
         "_deepnote_index_column": 1932
        },
        {
         "Age": 39,
         "Income": 24711,
         "_deepnote_index_column": 1933
        },
        {
         "Age": 47,
         "Income": 71466,
         "_deepnote_index_column": 1935
        },
        {
         "Age": 39,
         "Income": 22448,
         "_deepnote_index_column": 1939
        },
        {
         "Age": 45,
         "Income": 12571,
         "_deepnote_index_column": 1940
        },
        {
         "Age": 61,
         "Income": 73113,
         "_deepnote_index_column": 1941
        },
        {
         "Age": 31,
         "Income": 35765,
         "_deepnote_index_column": 1942
        },
        {
         "Age": 55,
         "Income": 46734,
         "_deepnote_index_column": 1943
        },
        {
         "Age": 58,
         "Income": 66313,
         "_deepnote_index_column": 1944
        },
        {
         "Age": 56,
         "Income": 44393,
         "_deepnote_index_column": 1946
        },
        {
         "Age": 35,
         "Income": 38197,
         "_deepnote_index_column": 1947
        },
        {
         "Age": 61,
         "Income": 13672,
         "_deepnote_index_column": 1950
        },
        {
         "Age": 39,
         "Income": 42081,
         "_deepnote_index_column": 1952
        },
        {
         "Age": 35,
         "Income": 14906,
         "_deepnote_index_column": 1953
        },
        {
         "Age": 36,
         "Income": 33812,
         "_deepnote_index_column": 1954
        },
        {
         "Age": 46,
         "Income": 46098,
         "_deepnote_index_column": 1955
        },
        {
         "Age": 46,
         "Income": 46098,
         "_deepnote_index_column": 1956
        },
        {
         "Age": 46,
         "Income": 46098,
         "_deepnote_index_column": 1957
        },
        {
         "Age": 32,
         "Income": 88420,
         "_deepnote_index_column": 1959
        },
        {
         "Age": 58,
         "Income": 39548,
         "_deepnote_index_column": 1960
        },
        {
         "Age": 57,
         "Income": 81246,
         "_deepnote_index_column": 1962
        },
        {
         "Age": 46,
         "Income": 58330,
         "_deepnote_index_column": 1963
        },
        {
         "Age": 46,
         "Income": 58330,
         "_deepnote_index_column": 1964
        },
        {
         "Age": 54,
         "Income": 65777,
         "_deepnote_index_column": 1965
        },
        {
         "Age": 41,
         "Income": 70829,
         "_deepnote_index_column": 1966
        },
        {
         "Age": 59,
         "Income": 59247,
         "_deepnote_index_column": 1968
        },
        {
         "Age": 54,
         "Income": 25930,
         "_deepnote_index_column": 1969
        },
        {
         "Age": 47,
         "Income": 28440,
         "_deepnote_index_column": 1971
        },
        {
         "Age": 48,
         "Income": 23559,
         "_deepnote_index_column": 1972
        },
        {
         "Age": 42,
         "Income": 63777,
         "_deepnote_index_column": 1974
        },
        {
         "Age": 49,
         "Income": 59666,
         "_deepnote_index_column": 1975
        },
        {
         "Age": 56,
         "Income": 71488,
         "_deepnote_index_column": 1977
        },
        {
         "Age": 47,
         "Income": 75702,
         "_deepnote_index_column": 1980
        },
        {
         "Age": 50,
         "Income": 43300,
         "_deepnote_index_column": 1981
        },
        {
         "Age": 36,
         "Income": 29760,
         "_deepnote_index_column": 1984
        },
        {
         "Age": 36,
         "Income": 29760,
         "_deepnote_index_column": 1985
        },
        {
         "Age": 59,
         "Income": 50127,
         "_deepnote_index_column": 1986
        },
        {
         "Age": 33,
         "Income": 29604,
         "_deepnote_index_column": 1987
        },
        {
         "Age": 47,
         "Income": 45837,
         "_deepnote_index_column": 1990
        },
        {
         "Age": 59,
         "Income": 85696,
         "_deepnote_index_column": 1991
        },
        {
         "Age": 59,
         "Income": 85696,
         "_deepnote_index_column": 1992
        },
        {
         "Age": 59,
         "Income": 59432,
         "_deepnote_index_column": 1993
        },
        {
         "Age": 46,
         "Income": 60631,
         "_deepnote_index_column": 1995
        },
        {
         "Age": 36,
         "Income": 20559,
         "_deepnote_index_column": 1996
        },
        {
         "Age": 43,
         "Income": 73807,
         "_deepnote_index_column": 1998
        },
        {
         "Age": 46,
         "Income": 46772,
         "_deepnote_index_column": 2001
        },
        {
         "Age": 45,
         "Income": 30772,
         "_deepnote_index_column": 2003
        },
        {
         "Age": 43,
         "Income": 46377,
         "_deepnote_index_column": 2004
        },
        {
         "Age": 47,
         "Income": 78128,
         "_deepnote_index_column": 2005
        },
        {
         "Age": 49,
         "Income": 83443,
         "_deepnote_index_column": 2006
        },
        {
         "Age": 61,
         "Income": 50523,
         "_deepnote_index_column": 2007
        },
        {
         "Age": 56,
         "Income": 47009,
         "_deepnote_index_column": 2008
        },
        {
         "Age": 54,
         "Income": 37054,
         "_deepnote_index_column": 2009
        },
        {
         "Age": 50,
         "Income": 32011,
         "_deepnote_index_column": 2010
        },
        {
         "Age": 59,
         "Income": 82122,
         "_deepnote_index_column": 2011
        },
        {
         "Age": 46,
         "Income": 70300,
         "_deepnote_index_column": 2012
        },
        {
         "Age": 45,
         "Income": 21024,
         "_deepnote_index_column": 2013
        },
        {
         "Age": 53,
         "Income": 34916,
         "_deepnote_index_column": 2014
        },
        {
         "Age": 54,
         "Income": 27943,
         "_deepnote_index_column": 2015
        },
        {
         "Age": 50,
         "Income": 39791,
         "_deepnote_index_column": 2016
        },
        {
         "Age": 56,
         "Income": 62745,
         "_deepnote_index_column": 2017
        },
        {
         "Age": 52,
         "Income": 18589,
         "_deepnote_index_column": 2018
        },
        {
         "Age": 45,
         "Income": 85606,
         "_deepnote_index_column": 2019
        },
        {
         "Age": 60,
         "Income": 82332,
         "_deepnote_index_column": 2021
        },
        {
         "Age": 51,
         "Income": 38853,
         "_deepnote_index_column": 2022
        },
        {
         "Age": 53,
         "Income": 27071,
         "_deepnote_index_column": 2023
        },
        {
         "Age": 55,
         "Income": 65814,
         "_deepnote_index_column": 2025
        },
        {
         "Age": 45,
         "Income": 33181,
         "_deepnote_index_column": 2027
        },
        {
         "Age": 51,
         "Income": 74854,
         "_deepnote_index_column": 2034
        },
        {
         "Age": 57,
         "Income": 60896,
         "_deepnote_index_column": 2035
        },
        {
         "Age": 33,
         "Income": 67546,
         "_deepnote_index_column": 2036
        },
        {
         "Age": 33,
         "Income": 67546,
         "_deepnote_index_column": 2037
        },
        {
         "Age": 34,
         "Income": 46923,
         "_deepnote_index_column": 2038
        },
        {
         "Age": 49,
         "Income": 38988,
         "_deepnote_index_column": 2039
        },
        {
         "Age": 50,
         "Income": 49118,
         "_deepnote_index_column": 2040
        },
        {
         "Age": 43,
         "Income": 27683,
         "_deepnote_index_column": 2041
        },
        {
         "Age": 47,
         "Income": 39190,
         "_deepnote_index_column": 2042
        },
        {
         "Age": 40,
         "Income": 56981,
         "_deepnote_index_column": 2043
        },
        {
         "Age": 37,
         "Income": 23228,
         "_deepnote_index_column": 2044
        },
        {
         "Age": 37,
         "Income": 90000,
         "_deepnote_index_column": 2045
        },
        {
         "Age": 32,
         "Income": 9255,
         "_deepnote_index_column": 2047
        },
        {
         "Age": 44,
         "Income": 42997,
         "_deepnote_index_column": 2048
        },
        {
         "Age": 55,
         "Income": 33585,
         "_deepnote_index_column": 2051
        },
        {
         "Age": 56,
         "Income": 46891,
         "_deepnote_index_column": 2052
        },
        {
         "Age": 56,
         "Income": 46891,
         "_deepnote_index_column": 2053
        },
        {
         "Age": 52,
         "Income": 76653,
         "_deepnote_index_column": 2055
        },
        {
         "Age": 43,
         "Income": 38415,
         "_deepnote_index_column": 2058
        },
        {
         "Age": 55,
         "Income": 7144,
         "_deepnote_index_column": 2063
        },
        {
         "Age": 44,
         "Income": 39771,
         "_deepnote_index_column": 2064
        },
        {
         "Age": 49,
         "Income": 42618,
         "_deepnote_index_column": 2065
        },
        {
         "Age": 49,
         "Income": 74716,
         "_deepnote_index_column": 2067
        },
        {
         "Age": 46,
         "Income": 33955,
         "_deepnote_index_column": 2068
        },
        {
         "Age": 50,
         "Income": 31632,
         "_deepnote_index_column": 2070
        },
        {
         "Age": 47,
         "Income": 60093,
         "_deepnote_index_column": 2071
        },
        {
         "Age": 52,
         "Income": 30822,
         "_deepnote_index_column": 2072
        },
        {
         "Age": 53,
         "Income": 41728,
         "_deepnote_index_column": 2073
        },
        {
         "Age": 30,
         "Income": 49767,
         "_deepnote_index_column": 2075
        },
        {
         "Age": 40,
         "Income": 34445,
         "_deepnote_index_column": 2076
        },
        {
         "Age": 56,
         "Income": 73538,
         "_deepnote_index_column": 2078
        },
        {
         "Age": 55,
         "Income": 80398,
         "_deepnote_index_column": 2079
        },
        {
         "Age": 33,
         "Income": 23331,
         "_deepnote_index_column": 2085
        },
        {
         "Age": 60,
         "Income": 60544,
         "_deepnote_index_column": 2086
        },
        {
         "Age": 60,
         "Income": 60544,
         "_deepnote_index_column": 2087
        },
        {
         "Age": 50,
         "Income": 49269,
         "_deepnote_index_column": 2088
        },
        {
         "Age": 33,
         "Income": 45204,
         "_deepnote_index_column": 2090
        },
        {
         "Age": 43,
         "Income": 67023,
         "_deepnote_index_column": 2091
        },
        {
         "Age": 43,
         "Income": 77583,
         "_deepnote_index_column": 2092
        },
        {
         "Age": 38,
         "Income": 76630,
         "_deepnote_index_column": 2093
        },
        {
         "Age": 61,
         "Income": 47353,
         "_deepnote_index_column": 2094
        },
        {
         "Age": 57,
         "Income": 48920,
         "_deepnote_index_column": 2095
        },
        {
         "Age": 57,
         "Income": 64100,
         "_deepnote_index_column": 2097
        },
        {
         "Age": 33,
         "Income": 38872,
         "_deepnote_index_column": 2098
        },
        {
         "Age": 59,
         "Income": 72217,
         "_deepnote_index_column": 2099
        },
        {
         "Age": 34,
         "Income": 15038,
         "_deepnote_index_column": 2100
        },
        {
         "Age": 45,
         "Income": 13624,
         "_deepnote_index_column": 2101
        },
        {
         "Age": 43,
         "Income": 42554,
         "_deepnote_index_column": 2102
        },
        {
         "Age": 35,
         "Income": 71952,
         "_deepnote_index_column": 2103
        },
        {
         "Age": 35,
         "Income": 71952,
         "_deepnote_index_column": 2104
        },
        {
         "Age": 50,
         "Income": 78041,
         "_deepnote_index_column": 2105
        },
        {
         "Age": 57,
         "Income": 63972,
         "_deepnote_index_column": 2106
        },
        {
         "Age": 49,
         "Income": 62010,
         "_deepnote_index_column": 2108
        },
        {
         "Age": 61,
         "Income": 83151,
         "_deepnote_index_column": 2109
        },
        {
         "Age": 54,
         "Income": 77870,
         "_deepnote_index_column": 2110
        },
        {
         "Age": 44,
         "Income": 46931,
         "_deepnote_index_column": 2111
        },
        {
         "Age": 44,
         "Income": 85072,
         "_deepnote_index_column": 2112
        },
        {
         "Age": 34,
         "Income": 73395,
         "_deepnote_index_column": 2113
        },
        {
         "Age": 40,
         "Income": 58293,
         "_deepnote_index_column": 2115
        },
        {
         "Age": 47,
         "Income": 47889,
         "_deepnote_index_column": 2116
        },
        {
         "Age": 42,
         "Income": 24594,
         "_deepnote_index_column": 2117
        },
        {
         "Age": 42,
         "Income": 24594,
         "_deepnote_index_column": 2118
        },
        {
         "Age": 56,
         "Income": 69882,
         "_deepnote_index_column": 2119
        },
        {
         "Age": 36,
         "Income": 22327,
         "_deepnote_index_column": 2121
        },
        {
         "Age": 60,
         "Income": 61923,
         "_deepnote_index_column": 2122
        },
        {
         "Age": 56,
         "Income": 35791,
         "_deepnote_index_column": 2123
        },
        {
         "Age": 56,
         "Income": 35791,
         "_deepnote_index_column": 2124
        },
        {
         "Age": 31,
         "Income": 91172,
         "_deepnote_index_column": 2125
        },
        {
         "Age": 54,
         "Income": 35441,
         "_deepnote_index_column": 2126
        },
        {
         "Age": 51,
         "Income": 19656,
         "_deepnote_index_column": 2127
        },
        {
         "Age": 34,
         "Income": 7500,
         "_deepnote_index_column": 2128
        },
        {
         "Age": 42,
         "Income": 71626,
         "_deepnote_index_column": 2129
        },
        {
         "Age": 44,
         "Income": 75330,
         "_deepnote_index_column": 2130
        },
        {
         "Age": 45,
         "Income": 34529,
         "_deepnote_index_column": 2131
        },
        {
         "Age": 29,
         "Income": 48789,
         "_deepnote_index_column": 2132
        },
        {
         "Age": 44,
         "Income": 34487,
         "_deepnote_index_column": 2133
        },
        {
         "Age": 48,
         "Income": 35688,
         "_deepnote_index_column": 2134
        },
        {
         "Age": 48,
         "Income": 35688,
         "_deepnote_index_column": 2135
        },
        {
         "Age": 34,
         "Income": 73454,
         "_deepnote_index_column": 2137
        },
        {
         "Age": 41,
         "Income": 31535,
         "_deepnote_index_column": 2140
        },
        {
         "Age": 39,
         "Income": 40479,
         "_deepnote_index_column": 2142
        },
        {
         "Age": 61,
         "Income": 29440,
         "_deepnote_index_column": 2143
        },
        {
         "Age": 35,
         "Income": 38508,
         "_deepnote_index_column": 2144
        },
        {
         "Age": 38,
         "Income": 69520,
         "_deepnote_index_column": 2145
        },
        {
         "Age": 57,
         "Income": 18701,
         "_deepnote_index_column": 2146
        },
        {
         "Age": 57,
         "Income": 18701,
         "_deepnote_index_column": 2147
        },
        {
         "Age": 52,
         "Income": 69901,
         "_deepnote_index_column": 2148
        },
        {
         "Age": 30,
         "Income": 86037,
         "_deepnote_index_column": 2150
        },
        {
         "Age": 43,
         "Income": 71847,
         "_deepnote_index_column": 2151
        },
        {
         "Age": 50,
         "Income": 42033,
         "_deepnote_index_column": 2152
        },
        {
         "Age": 57,
         "Income": 51983,
         "_deepnote_index_column": 2153
        },
        {
         "Age": 33,
         "Income": 68655,
         "_deepnote_index_column": 2154
        },
        {
         "Age": 33,
         "Income": 68655,
         "_deepnote_index_column": 2155
        },
        {
         "Age": 51,
         "Income": 79419,
         "_deepnote_index_column": 2157
        },
        {
         "Age": 46,
         "Income": 57338,
         "_deepnote_index_column": 2158
        },
        {
         "Age": 57,
         "Income": 42523,
         "_deepnote_index_column": 2159
        },
        {
         "Age": 57,
         "Income": 42523,
         "_deepnote_index_column": 2160
        },
        {
         "Age": 37,
         "Income": 31761,
         "_deepnote_index_column": 2161
        },
        {
         "Age": 52,
         "Income": 65747,
         "_deepnote_index_column": 2162
        },
        {
         "Age": 61,
         "Income": 17144,
         "_deepnote_index_column": 2163
        },
        {
         "Age": 61,
         "Income": 17144,
         "_deepnote_index_column": 2164
        },
        {
         "Age": 56,
         "Income": 84618,
         "_deepnote_index_column": 2166
        },
        {
         "Age": 56,
         "Income": 84618,
         "_deepnote_index_column": 2167
        },
        {
         "Age": 41,
         "Income": 15072,
         "_deepnote_index_column": 2172
        },
        {
         "Age": 35,
         "Income": 7500,
         "_deepnote_index_column": 2173
        },
        {
         "Age": 43,
         "Income": 17117,
         "_deepnote_index_column": 2174
        },
        {
         "Age": 56,
         "Income": 59754,
         "_deepnote_index_column": 2175
        },
        {
         "Age": 49,
         "Income": 86857,
         "_deepnote_index_column": 2178
        },
        {
         "Age": 49,
         "Income": 86857,
         "_deepnote_index_column": 2179
        },
        {
         "Age": 57,
         "Income": 68142,
         "_deepnote_index_column": 2180
        },
        {
         "Age": 57,
         "Income": 63404,
         "_deepnote_index_column": 2182
        },
        {
         "Age": 47,
         "Income": 49669,
         "_deepnote_index_column": 2183
        },
        {
         "Age": 57,
         "Income": 55761,
         "_deepnote_index_column": 2184
        },
        {
         "Age": 48,
         "Income": 37971,
         "_deepnote_index_column": 2186
        },
        {
         "Age": 44,
         "Income": 30368,
         "_deepnote_index_column": 2187
        },
        {
         "Age": 43,
         "Income": 34043,
         "_deepnote_index_column": 2188
        },
        {
         "Age": 56,
         "Income": 54111,
         "_deepnote_index_column": 2189
        },
        {
         "Age": 57,
         "Income": 69932,
         "_deepnote_index_column": 2190
        },
        {
         "Age": 40,
         "Income": 39665,
         "_deepnote_index_column": 2191
        },
        {
         "Age": 37,
         "Income": 38680,
         "_deepnote_index_column": 2193
        },
        {
         "Age": 37,
         "Income": 24570,
         "_deepnote_index_column": 2194
        },
        {
         "Age": 54,
         "Income": 77766,
         "_deepnote_index_column": 2195
        },
        {
         "Age": 54,
         "Income": 77766,
         "_deepnote_index_column": 2196
        },
        {
         "Age": 53,
         "Income": 23748,
         "_deepnote_index_column": 2198
        },
        {
         "Age": 57,
         "Income": 45989,
         "_deepnote_index_column": 2199
        },
        {
         "Age": 33,
         "Income": 23331,
         "_deepnote_index_column": 2200
        },
        {
         "Age": 58,
         "Income": 23091,
         "_deepnote_index_column": 2202
        },
        {
         "Age": 31,
         "Income": 24683,
         "_deepnote_index_column": 2203
        },
        {
         "Age": 48,
         "Income": 157243,
         "_deepnote_index_column": 2204
        },
        {
         "Age": 48,
         "Income": 54222,
         "_deepnote_index_column": 2205
        },
        {
         "Age": 53,
         "Income": 73455,
         "_deepnote_index_column": 2206
        },
        {
         "Age": 49,
         "Income": 84906,
         "_deepnote_index_column": 2207
        },
        {
         "Age": 49,
         "Income": 84906,
         "_deepnote_index_column": 2208
        },
        {
         "Age": 43,
         "Income": 47025,
         "_deepnote_index_column": 2209
        },
        {
         "Age": 55,
         "Income": 44529,
         "_deepnote_index_column": 2210
        },
        {
         "Age": 47,
         "Income": 31560,
         "_deepnote_index_column": 2211
        },
        {
         "Age": 38,
         "Income": 90687,
         "_deepnote_index_column": 2212
        },
        {
         "Age": 32,
         "Income": 66973,
         "_deepnote_index_column": 2213
        },
        {
         "Age": 43,
         "Income": 41154,
         "_deepnote_index_column": 2214
        },
        {
         "Age": 53,
         "Income": 64590,
         "_deepnote_index_column": 2215
        },
        {
         "Age": 61,
         "Income": 50611,
         "_deepnote_index_column": 2216
        },
        {
         "Age": 61,
         "Income": 50611,
         "_deepnote_index_column": 2217
        },
        {
         "Age": 51,
         "Income": 83273,
         "_deepnote_index_column": 2218
        },
        {
         "Age": 41,
         "Income": 81702,
         "_deepnote_index_column": 2219
        },
        {
         "Age": 42,
         "Income": 24401,
         "_deepnote_index_column": 2220
        },
        {
         "Age": 47,
         "Income": 42557,
         "_deepnote_index_column": 2221
        },
        {
         "Age": 36,
         "Income": 7500,
         "_deepnote_index_column": 2222
        },
        {
         "Age": 45,
         "Income": 78416,
         "_deepnote_index_column": 2223
        },
        {
         "Age": 55,
         "Income": 44794,
         "_deepnote_index_column": 2224
        },
        {
         "Age": 55,
         "Income": 44794,
         "_deepnote_index_column": 2225
        },
        {
         "Age": 47,
         "Income": 69719,
         "_deepnote_index_column": 2226
        },
        {
         "Age": 59,
         "Income": 62568,
         "_deepnote_index_column": 2227
        },
        {
         "Age": 52,
         "Income": 42231,
         "_deepnote_index_column": 2228
        },
        {
         "Age": 47,
         "Income": 20130,
         "_deepnote_index_column": 2229
        },
        {
         "Age": 47,
         "Income": 20130,
         "_deepnote_index_column": 2230
        },
        {
         "Age": 48,
         "Income": 42429,
         "_deepnote_index_column": 2231
        },
        {
         "Age": 48,
         "Income": 42429,
         "_deepnote_index_column": 2232
        },
        {
         "Age": 48,
         "Income": 78901,
         "_deepnote_index_column": 2234
        },
        {
         "Age": 45,
         "Income": 66476,
         "_deepnote_index_column": 2235
        },
        {
         "Age": 44,
         "Income": 31056,
         "_deepnote_index_column": 2236
        },
        {
         "Age": 45,
         "Income": 46310,
         "_deepnote_index_column": 2237
        },
        {
         "Age": 43,
         "Income": 65819,
         "_deepnote_index_column": 2238
        },
        {
         "Age": 52,
         "Income": 94871,
         "_deepnote_index_column": 2239
        }
       ]
      },
      "text/plain": "      Age   Income\n0      51  84835.0\n1      60  57091.0\n3      54  32474.0\n4      32  21474.0\n7      54  44931.0\n...   ...      ...\n2235   45  66476.0\n2236   44  31056.0\n2237   45  46310.0\n2238   43  65819.0\n2239   52  94871.0\n\n[1654 rows x 2 columns]",
      "text/html": "<div>\n<style scoped>\n    .dataframe tbody tr th:only-of-type {\n        vertical-align: middle;\n    }\n\n    .dataframe tbody tr th {\n        vertical-align: top;\n    }\n\n    .dataframe thead th {\n        text-align: right;\n    }\n</style>\n<table border=\"1\" class=\"dataframe\">\n  <thead>\n    <tr style=\"text-align: right;\">\n      <th></th>\n      <th>Age</th>\n      <th>Income</th>\n    </tr>\n  </thead>\n  <tbody>\n    <tr>\n      <th>0</th>\n      <td>51</td>\n      <td>84835.0</td>\n    </tr>\n    <tr>\n      <th>1</th>\n      <td>60</td>\n      <td>57091.0</td>\n    </tr>\n    <tr>\n      <th>3</th>\n      <td>54</td>\n      <td>32474.0</td>\n    </tr>\n    <tr>\n      <th>4</th>\n      <td>32</td>\n      <td>21474.0</td>\n    </tr>\n    <tr>\n      <th>7</th>\n      <td>54</td>\n      <td>44931.0</td>\n    </tr>\n    <tr>\n      <th>...</th>\n      <td>...</td>\n      <td>...</td>\n    </tr>\n    <tr>\n      <th>2235</th>\n      <td>45</td>\n      <td>66476.0</td>\n    </tr>\n    <tr>\n      <th>2236</th>\n      <td>44</td>\n      <td>31056.0</td>\n    </tr>\n    <tr>\n      <th>2237</th>\n      <td>45</td>\n      <td>46310.0</td>\n    </tr>\n    <tr>\n      <th>2238</th>\n      <td>43</td>\n      <td>65819.0</td>\n    </tr>\n    <tr>\n      <th>2239</th>\n      <td>52</td>\n      <td>94871.0</td>\n    </tr>\n  </tbody>\n</table>\n<p>1654 rows × 2 columns</p>\n</div>"
     },
     "metadata": {}
    }
   ]
  },
  {
   "cell_type": "code",
   "metadata": {
    "tags": [],
    "cell_id": "00004-b2cbcedd-eb54-474f-ac80-58a805e6f192",
    "deepnote_to_be_reexecuted": false,
    "source_hash": "537dd39d",
    "execution_start": 1628047382556,
    "execution_millis": 15,
    "deepnote_cell_type": "code"
   },
   "source": "df_marketing_Age_Income.std()",
   "execution_count": null,
   "outputs": [
    {
     "output_type": "execute_result",
     "execution_count": 5,
     "data": {
      "text/plain": "Age           8.196068\nIncome    26775.035539\ndtype: float64"
     },
     "metadata": {}
    }
   ]
  },
  {
   "cell_type": "code",
   "metadata": {
    "tags": [],
    "cell_id": "00004-9603c5a9-3894-4c71-90b4-5e0c7b4dfd12",
    "deepnote_to_be_reexecuted": false,
    "source_hash": "ea86ac66",
    "execution_start": 1628047382572,
    "execution_millis": 35,
    "deepnote_cell_type": "code"
   },
   "source": "df_marketing_Age_Income.mean()",
   "execution_count": null,
   "outputs": [
    {
     "output_type": "execute_result",
     "execution_count": 6,
     "data": {
      "text/plain": "Age          46.803507\nIncome    50294.647521\ndtype: float64"
     },
     "metadata": {}
    }
   ]
  },
  {
   "cell_type": "markdown",
   "source": "## Estandarización de Datos con Z score",
   "metadata": {
    "tags": [],
    "is_collapsed": false,
    "cell_id": "00006-2f3c13eb-fa34-4848-aa0d-dd2c8b91a113",
    "deepnote_cell_type": "text-cell-h2"
   }
  },
  {
   "cell_type": "markdown",
   "source": "## $ Z_{i} = \\frac{x_{i} - mean(x)}{std(x)} $",
   "metadata": {
    "tags": [],
    "cell_id": "00007-57cc3567-5292-484a-83fc-c0a8789675eb",
    "deepnote_cell_type": "markdown"
   }
  },
  {
   "cell_type": "code",
   "metadata": {
    "tags": [],
    "cell_id": "00006-126d8ad2-1ef1-4d47-943a-6ca8edd94301",
    "deepnote_to_be_reexecuted": false,
    "source_hash": "5142f475",
    "execution_start": 1628047382611,
    "execution_millis": 186,
    "deepnote_cell_type": "code"
   },
   "source": "df_marketing_Age_Income['Age_Z'] = (df_marketing_Age_Income.Age - df_marketing_Age_Income.Age.mean()) / df_marketing_Age_Income.Age.std()\ndf_marketing_Age_Income['Income_Z'] = (df_marketing_Age_Income.Income - df_marketing_Age_Income.Income.mean()) / df_marketing_Age_Income.Income.std()\ndf_marketing_Age_Income",
   "execution_count": null,
   "outputs": [
    {
     "name": "stderr",
     "text": "/shared-libs/python3.7/py-core/lib/python3.7/site-packages/ipykernel_launcher.py:1: SettingWithCopyWarning: \nA value is trying to be set on a copy of a slice from a DataFrame.\nTry using .loc[row_indexer,col_indexer] = value instead\n\nSee the caveats in the documentation: https://pandas.pydata.org/pandas-docs/stable/user_guide/indexing.html#returning-a-view-versus-a-copy\n  \"\"\"Entry point for launching an IPython kernel.\n/shared-libs/python3.7/py-core/lib/python3.7/site-packages/ipykernel_launcher.py:2: SettingWithCopyWarning: \nA value is trying to be set on a copy of a slice from a DataFrame.\nTry using .loc[row_indexer,col_indexer] = value instead\n\nSee the caveats in the documentation: https://pandas.pydata.org/pandas-docs/stable/user_guide/indexing.html#returning-a-view-versus-a-copy\n  \n",
     "output_type": "stream"
    },
    {
     "output_type": "execute_result",
     "execution_count": 7,
     "data": {
      "application/vnd.deepnote.dataframe.v2+json": {
       "row_count": 1654,
       "column_count": 4,
       "columns": [
        {
         "name": "Age",
         "dtype": "int64",
         "stats": {
          "unique_count": 37,
          "nan_count": 0,
          "min": "25",
          "max": "61",
          "histogram": [
           {
            "bin_start": 25,
            "bin_end": 28.6,
            "count": 15
           },
           {
            "bin_start": 28.6,
            "bin_end": 32.2,
            "count": 75
           },
           {
            "bin_start": 32.2,
            "bin_end": 35.8,
            "count": 97
           },
           {
            "bin_start": 35.8,
            "bin_end": 39.4,
            "count": 155
           },
           {
            "bin_start": 39.4,
            "bin_end": 43,
            "count": 130
           },
           {
            "bin_start": 43,
            "bin_end": 46.6,
            "count": 300
           },
           {
            "bin_start": 46.6,
            "bin_end": 50.2,
            "count": 305
           },
           {
            "bin_start": 50.2,
            "bin_end": 53.8,
            "count": 196
           },
           {
            "bin_start": 53.8,
            "bin_end": 57.4,
            "count": 209
           },
           {
            "bin_start": 57.4,
            "bin_end": 61,
            "count": 172
           }
          ]
         }
        },
        {
         "name": "Income",
         "dtype": "float64",
         "stats": {
          "unique_count": 1470,
          "nan_count": 0,
          "min": "1730.0",
          "max": "666666.0",
          "histogram": [
           {
            "bin_start": 1730,
            "bin_end": 68223.6,
            "count": 1263
           },
           {
            "bin_start": 68223.6,
            "bin_end": 134717.2,
            "count": 384
           },
           {
            "bin_start": 134717.2,
            "bin_end": 201210.80000000002,
            "count": 6
           },
           {
            "bin_start": 201210.80000000002,
            "bin_end": 267704.4,
            "count": 0
           },
           {
            "bin_start": 267704.4,
            "bin_end": 334198,
            "count": 0
           },
           {
            "bin_start": 334198,
            "bin_end": 400691.60000000003,
            "count": 0
           },
           {
            "bin_start": 400691.60000000003,
            "bin_end": 467185.20000000007,
            "count": 0
           },
           {
            "bin_start": 467185.20000000007,
            "bin_end": 533678.8,
            "count": 0
           },
           {
            "bin_start": 533678.8,
            "bin_end": 600172.4,
            "count": 0
           },
           {
            "bin_start": 600172.4,
            "bin_end": 666666,
            "count": 1
           }
          ]
         }
        },
        {
         "name": "Age_Z",
         "dtype": "float64",
         "stats": {
          "unique_count": 37,
          "nan_count": 0,
          "min": "-2.6602399931021963",
          "max": "1.7321103424017044",
          "histogram": [
           {
            "bin_start": -2.6602399931021963,
            "bin_end": -2.221004959551806,
            "count": 15
           },
           {
            "bin_start": -2.221004959551806,
            "bin_end": -1.7817699260014161,
            "count": 75
           },
           {
            "bin_start": -1.7817699260014161,
            "bin_end": -1.342534892451026,
            "count": 97
           },
           {
            "bin_start": -1.342534892451026,
            "bin_end": -0.903299858900636,
            "count": 155
           },
           {
            "bin_start": -0.903299858900636,
            "bin_end": -0.46406482535024596,
            "count": 130
           },
           {
            "bin_start": -0.46406482535024596,
            "bin_end": -0.024829791799855894,
            "count": 300
           },
           {
            "bin_start": -0.024829791799855894,
            "bin_end": 0.41440524175053417,
            "count": 305
           },
           {
            "bin_start": 0.41440524175053417,
            "bin_end": 0.8536402753009242,
            "count": 196
           },
           {
            "bin_start": 0.8536402753009242,
            "bin_end": 1.2928753088513143,
            "count": 209
           },
           {
            "bin_start": 1.2928753088513143,
            "bin_end": 1.7321103424017044,
            "count": 172
           }
          ]
         }
        },
        {
         "name": "Income_Z",
         "dtype": "float64",
         "stats": {
          "unique_count": 1470,
          "nan_count": 0,
          "min": "-1.813803288914845",
          "max": "23.020374766065785",
          "histogram": [
           {
            "bin_start": -1.813803288914845,
            "bin_end": 0.6696145165832181,
            "count": 1263
           },
           {
            "bin_start": 0.6696145165832181,
            "bin_end": 3.1530323220812813,
            "count": 384
           },
           {
            "bin_start": 3.1530323220812813,
            "bin_end": 5.636450127579344,
            "count": 6
           },
           {
            "bin_start": 5.636450127579344,
            "bin_end": 8.119867933077408,
            "count": 0
           },
           {
            "bin_start": 8.119867933077408,
            "bin_end": 10.603285738575472,
            "count": 0
           },
           {
            "bin_start": 10.603285738575472,
            "bin_end": 13.086703544073533,
            "count": 0
           },
           {
            "bin_start": 13.086703544073533,
            "bin_end": 15.570121349571597,
            "count": 0
           },
           {
            "bin_start": 15.570121349571597,
            "bin_end": 18.05353915506966,
            "count": 0
           },
           {
            "bin_start": 18.05353915506966,
            "bin_end": 20.536956960567725,
            "count": 0
           },
           {
            "bin_start": 20.536956960567725,
            "bin_end": 23.020374766065785,
            "count": 1
           }
          ]
         }
        },
        {
         "name": "_deepnote_index_column",
         "dtype": "int64"
        }
       ],
       "rows_top": [
        {
         "Age": 51,
         "Income": 84835,
         "Age_Z": 0.5120130269839541,
         "Income_Z": 1.2900207892808988,
         "_deepnote_index_column": 0
        },
        {
         "Age": 60,
         "Income": 57091,
         "Age_Z": 1.6101006108599292,
         "Income_Z": 0.2538316884390395,
         "_deepnote_index_column": 1
        },
        {
         "Age": 54,
         "Income": 32474,
         "Age_Z": 0.8780422216092792,
         "Income_Z": -0.6655695188643072,
         "_deepnote_index_column": 3
        },
        {
         "Age": 32,
         "Income": 21474,
         "Age_Z": -1.806171872309771,
         "Income_Z": -1.076399972629462,
         "_deepnote_index_column": 4
        },
        {
         "Age": 54,
         "Income": 44931,
         "Age_Z": 0.8780422216092792,
         "Income_Z": -0.20032270408680425,
         "_deepnote_index_column": 7
        },
        {
         "Age": 42,
         "Income": 62499,
         "Age_Z": -0.5860745568920209,
         "Income_Z": 0.4558108787992174,
         "_deepnote_index_column": 11
        },
        {
         "Age": 40,
         "Income": 26872,
         "Age_Z": -0.830094019975571,
         "Income_Z": -0.8747942644999797,
         "_deepnote_index_column": 13
        },
        {
         "Age": 52,
         "Income": 4428,
         "Age_Z": 0.6340227585257292,
         "Income_Z": -1.7130377830731736,
         "_deepnote_index_column": 14
        },
        {
         "Age": 44,
         "Income": 54809,
         "Age_Z": -0.34205509380847093,
         "Income_Z": 0.16860304339430468,
         "_deepnote_index_column": 15
        },
        {
         "Age": 44,
         "Income": 54809,
         "Age_Z": -0.34205509380847093,
         "Income_Z": 0.16860304339430468,
         "_deepnote_index_column": 16
        },
        {
         "Age": 61,
         "Income": 47823,
         "Age_Z": 1.7321103424017044,
         "Income_Z": -0.09231164296963812,
         "_deepnote_index_column": 18
        },
        {
         "Age": 55,
         "Income": 43456,
         "Age_Z": 1.000051953151054,
         "Income_Z": -0.25541133311440456,
         "_deepnote_index_column": 21
        },
        {
         "Age": 42,
         "Income": 40662,
         "Age_Z": -0.5860745568920209,
         "Income_Z": -0.3597622683707538,
         "_deepnote_index_column": 22
        },
        {
         "Age": 45,
         "Income": 49544,
         "Age_Z": -0.22004536226669594,
         "Income_Z": -0.028035351066926183,
         "_deepnote_index_column": 23
        },
        {
         "Age": 52,
         "Income": 57731,
         "Age_Z": 0.6340227585257292,
         "Income_Z": 0.2777345512035576,
         "_deepnote_index_column": 24
        },
        {
         "Age": 56,
         "Income": 33168,
         "Age_Z": 1.1220616846928293,
         "Income_Z": -0.6396498520540329,
         "_deepnote_index_column": 25
        },
        {
         "Age": 46,
         "Income": 73170,
         "Age_Z": -0.09803563072492091,
         "Income_Z": 0.854353767174487,
         "_deepnote_index_column": 29
        },
        {
         "Age": 50,
         "Income": 65808,
         "Age_Z": 0.39000329544217915,
         "Income_Z": 0.5793961489363898,
         "_deepnote_index_column": 30
        },
        {
         "Age": 35,
         "Income": 79529,
         "Age_Z": -1.4401426776844461,
         "Income_Z": 1.091851117673816,
         "_deepnote_index_column": 31
        },
        {
         "Age": 49,
         "Income": 34578,
         "Age_Z": 0.26799356390040413,
         "Income_Z": -0.586988857525954,
         "_deepnote_index_column": 32
        },
        {
         "Age": 47,
         "Income": 46374,
         "Age_Z": 0.023974100816854103,
         "Income_Z": -0.14642921819742985,
         "_deepnote_index_column": 33
        },
        {
         "Age": 31,
         "Income": 18351,
         "Age_Z": -1.928181603851546,
         "Income_Z": -1.1930384732756962,
         "_deepnote_index_column": 34
        },
        {
         "Age": 34,
         "Income": 95169,
         "Age_Z": -1.5621524092262211,
         "Income_Z": 1.6759773264817268,
         "_deepnote_index_column": 35
        },
        {
         "Age": 37,
         "Income": 65370,
         "Age_Z": -1.196123214600896,
         "Income_Z": 0.5630376272319227,
         "_deepnote_index_column": 36
        },
        {
         "Age": 61,
         "Income": 39228,
         "Age_Z": 1.7321103424017044,
         "Income_Z": -0.4133196202525022,
         "_deepnote_index_column": 37
        },
        {
         "Age": 60,
         "Income": 84865,
         "Age_Z": 1.6101006108599292,
         "Income_Z": 1.2911412359729857,
         "_deepnote_index_column": 38
        },
        {
         "Age": 53,
         "Income": 61314,
         "Age_Z": 0.7560324900675042,
         "Income_Z": 0.4115532344617894,
         "_deepnote_index_column": 39
        },
        {
         "Age": 49,
         "Income": 21359,
         "Age_Z": 0.26799356390040413,
         "Income_Z": -1.0806950182824613,
         "_deepnote_index_column": 40
        },
        {
         "Age": 38,
         "Income": 81698,
         "Age_Z": -1.074113483059121,
         "Income_Z": 1.1728594135116905,
         "_deepnote_index_column": 42
        },
        {
         "Age": 35,
         "Income": 39146,
         "Age_Z": -1.4401426776844461,
         "Income_Z": -0.41638217454420606,
         "_deepnote_index_column": 43
        },
        {
         "Age": 51,
         "Income": 25959,
         "Age_Z": 0.5120130269839541,
         "Income_Z": -0.9088931921624874,
         "_deepnote_index_column": 44
        },
        {
         "Age": 60,
         "Income": 64260,
         "Age_Z": 1.6101006108599292,
         "Income_Z": 0.5215810996247117,
         "_deepnote_index_column": 45
        },
        {
         "Age": 48,
         "Income": 32300,
         "Age_Z": 0.1459838323586291,
         "Income_Z": -0.6720681096784106,
         "_deepnote_index_column": 46
        },
        {
         "Age": 56,
         "Income": 74806,
         "Age_Z": 1.1220616846928293,
         "Income_Z": 0.9154554601162864,
         "_deepnote_index_column": 47
        },
        {
         "Age": 51,
         "Income": 72967,
         "Age_Z": 0.5120130269839541,
         "Income_Z": 0.8467720778913664,
         "_deepnote_index_column": 48
        },
        {
         "Age": 61,
         "Income": 48904,
         "Age_Z": 1.7321103424017044,
         "Income_Z": -0.05193821383144428,
         "_deepnote_index_column": 49
        },
        {
         "Age": 37,
         "Income": 14796,
         "Age_Z": -1.196123214600896,
         "Income_Z": -1.3258114062879804,
         "_deepnote_index_column": 50
        },
        {
         "Age": 43,
         "Income": 52195,
         "Age_Z": -0.46406482535024596,
         "Income_Z": 0.0709747882904761,
         "_deepnote_index_column": 52
        },
        {
         "Age": 47,
         "Income": 18393,
         "Age_Z": 0.023974100816854103,
         "Income_Z": -1.1914698479067747,
         "_deepnote_index_column": 54
        },
        {
         "Age": 48,
         "Income": 38576,
         "Age_Z": 0.1459838323586291,
         "Income_Z": -0.437670661693855,
         "_deepnote_index_column": 56
        },
        {
         "Age": 46,
         "Income": 61905,
         "Age_Z": -0.09803563072492091,
         "Income_Z": 0.433626034295899,
         "_deepnote_index_column": 57
        },
        {
         "Age": 59,
         "Income": 83715,
         "Age_Z": 1.4880908793181542,
         "Income_Z": 1.248190779442992,
         "_deepnote_index_column": 58
        },
        {
         "Age": 57,
         "Income": 60597,
         "Age_Z": 1.2440714162346043,
         "Income_Z": 0.3847745585209152,
         "_deepnote_index_column": 59
        },
        {
         "Age": 39,
         "Income": 6560,
         "Age_Z": -0.952103751517346,
         "Income_Z": -1.6334113714888725,
         "_deepnote_index_column": 60
        },
        {
         "Age": 60,
         "Income": 48330,
         "Age_Z": 1.6101006108599292,
         "Income_Z": -0.07337609387337143,
         "_deepnote_index_column": 61
        },
        {
         "Age": 53,
         "Income": 38236,
         "Age_Z": 0.7560324900675042,
         "Income_Z": -0.4503690575375052,
         "_deepnote_index_column": 62
        },
        {
         "Age": 44,
         "Income": 22701,
         "Age_Z": -0.34205509380847093,
         "Income_Z": -1.0305737029231123,
         "_deepnote_index_column": 63
        },
        {
         "Age": 47,
         "Income": 53367,
         "Age_Z": 0.023974100816854103,
         "Income_Z": 0.11474690572799985,
         "_deepnote_index_column": 64
        },
        {
         "Age": 35,
         "Income": 34728,
         "Age_Z": -1.4401426776844461,
         "Income_Z": -0.58138662406552,
         "_deepnote_index_column": 65
        },
        {
         "Age": 61,
         "Income": 82504,
         "Age_Z": 1.7321103424017044,
         "Income_Z": 1.2029620813057555,
         "_deepnote_index_column": 67
        },
        {
         "Age": 49,
         "Income": 38578,
         "Age_Z": 0.26799356390040413,
         "Income_Z": -0.4375959652477159,
         "_deepnote_index_column": 68
        },
        {
         "Age": 49,
         "Income": 38578,
         "Age_Z": 0.26799356390040413,
         "Income_Z": -0.4375959652477159,
         "_deepnote_index_column": 69
        },
        {
         "Age": 46,
         "Income": 79174,
         "Age_Z": -0.09803563072492091,
         "Income_Z": 1.0785924984841224,
         "_deepnote_index_column": 70
        },
        {
         "Age": 59,
         "Income": 81975,
         "Age_Z": 1.4880908793181542,
         "Income_Z": 1.1832048713019585,
         "_deepnote_index_column": 71
        },
        {
         "Age": 44,
         "Income": 43263,
         "Age_Z": -0.34205509380847093,
         "Income_Z": -0.26261954016682953,
         "_deepnote_index_column": 72
        },
        {
         "Age": 51,
         "Income": 27242,
         "Age_Z": 0.5120130269839541,
         "Income_Z": -0.8609754219642426,
         "_deepnote_index_column": 73
        },
        {
         "Age": 50,
         "Income": 76445,
         "Age_Z": 0.39000329544217915,
         "Income_Z": 0.9766691977272944,
         "_deepnote_index_column": 74
        },
        {
         "Age": 56,
         "Income": 75276,
         "Age_Z": 1.1220616846928293,
         "Income_Z": 0.9330091249589794,
         "_deepnote_index_column": 75
        },
        {
         "Age": 58,
         "Income": 34213,
         "Age_Z": 1.3660811477763792,
         "Income_Z": -0.6006209589463432,
         "_deepnote_index_column": 76
        },
        {
         "Age": 45,
         "Income": 72335,
         "Age_Z": -0.22004536226669594,
         "Income_Z": 0.8231680009114049,
         "_deepnote_index_column": 77
        },
        {
         "Age": 57,
         "Income": 79143,
         "Age_Z": 1.2440714162346043,
         "Income_Z": 1.077434703568966,
         "_deepnote_index_column": 78
        },
        {
         "Age": 52,
         "Income": 68695,
         "Age_Z": 0.6340227585257292,
         "Income_Z": 0.6872204689382082,
         "_deepnote_index_column": 80
        },
        {
         "Age": 52,
         "Income": 68695,
         "Age_Z": 0.6340227585257292,
         "Income_Z": 0.6872204689382082,
         "_deepnote_index_column": 81
        },
        {
         "Age": 51,
         "Income": 77622,
         "Age_Z": 0.5120130269839541,
         "Income_Z": 1.020628056280166,
         "_deepnote_index_column": 83
        },
        {
         "Age": 59,
         "Income": 46102,
         "Age_Z": 1.4880908793181542,
         "Income_Z": -0.15658793487235004,
         "_deepnote_index_column": 84
        },
        {
         "Age": 41,
         "Income": 31859,
         "Age_Z": -0.708084288433796,
         "Income_Z": -0.6885386760520863,
         "_deepnote_index_column": 85
        },
        {
         "Age": 34,
         "Income": 23830,
         "Age_Z": -1.5621524092262211,
         "Income_Z": -0.9884075590775797,
         "_deepnote_index_column": 86
        },
        {
         "Age": 48,
         "Income": 24639,
         "Age_Z": 0.1459838323586291,
         "Income_Z": -0.958192846614306,
         "_deepnote_index_column": 87
        },
        {
         "Age": 37,
         "Income": 27255,
         "Age_Z": -1.196123214600896,
         "Income_Z": -0.8604898950643383,
         "_deepnote_index_column": 89
        },
        {
         "Age": 44,
         "Income": 55375,
         "Age_Z": -0.34205509380847093,
         "Income_Z": 0.18974213765167539,
         "_deepnote_index_column": 90
        },
        {
         "Age": 61,
         "Income": 77037,
         "Age_Z": 1.7321103424017044,
         "Income_Z": 0.9987793457844737,
         "_deepnote_index_column": 91
        },
        {
         "Age": 51,
         "Income": 24163,
         "Age_Z": 0.5120130269839541,
         "Income_Z": -0.9759706007954163,
         "_deepnote_index_column": 92
        },
        {
         "Age": 52,
         "Income": 69476,
         "Age_Z": 0.6340227585257292,
         "Income_Z": 0.7163894311555341,
         "_deepnote_index_column": 93
        },
        {
         "Age": 42,
         "Income": 72063,
         "Age_Z": -0.5860745568920209,
         "Income_Z": 0.8130092842364847,
         "_deepnote_index_column": 94
        },
        {
         "Age": 59,
         "Income": 58646,
         "Age_Z": 1.4880908793181542,
         "Income_Z": 0.31190817531220455,
         "_deepnote_index_column": 95
        },
        {
         "Age": 59,
         "Income": 58646,
         "Age_Z": 1.4880908793181542,
         "Income_Z": 0.31190817531220455,
         "_deepnote_index_column": 96
        },
        {
         "Age": 41,
         "Income": 80011,
         "Age_Z": -0.708084288433796,
         "Income_Z": 1.1098529611933436,
         "_deepnote_index_column": 98
        },
        {
         "Age": 39,
         "Income": 63211,
         "Age_Z": -0.952103751517346,
         "Income_Z": 0.48240281362474374,
         "_deepnote_index_column": 101
        },
        {
         "Age": 48,
         "Income": 48432,
         "Age_Z": 0.1459838323586291,
         "Income_Z": -0.06956657512027636,
         "_deepnote_index_column": 102
        },
        {
         "Age": 48,
         "Income": 48432,
         "Age_Z": 0.1459838323586291,
         "Income_Z": -0.06956657512027636,
         "_deepnote_index_column": 103
        },
        {
         "Age": 48,
         "Income": 48432,
         "Age_Z": 0.1459838323586291,
         "Income_Z": -0.06956657512027636,
         "_deepnote_index_column": 104
        },
        {
         "Age": 56,
         "Income": 65220,
         "Age_Z": 1.1220616846928293,
         "Income_Z": 0.5574353937714889,
         "_deepnote_index_column": 107
        },
        {
         "Age": 31,
         "Income": 74214,
         "Age_Z": -1.928181603851546,
         "Income_Z": 0.8933453120591072,
         "_deepnote_index_column": 108
        },
        {
         "Age": 41,
         "Income": 96547,
         "Age_Z": -0.708084288433796,
         "Income_Z": 1.72744317787158,
         "_deepnote_index_column": 109
        },
        {
         "Age": 51,
         "Income": 50447,
         "Age_Z": 0.5120130269839541,
         "Income_Z": 0.005690094364886061,
         "_deepnote_index_column": 111
        },
        {
         "Age": 39,
         "Income": 45203,
         "Age_Z": -0.952103751517346,
         "Income_Z": -0.19016398741188406,
         "_deepnote_index_column": 113
        },
        {
         "Age": 46,
         "Income": 37368,
         "Age_Z": -0.09803563072492091,
         "Income_Z": -0.4827873151618829,
         "_deepnote_index_column": 114
        },
        {
         "Age": 45,
         "Income": 65104,
         "Age_Z": -0.22004536226669594,
         "Income_Z": 0.5531029998954199,
         "_deepnote_index_column": 116
        },
        {
         "Age": 45,
         "Income": 65104,
         "Age_Z": -0.22004536226669594,
         "Income_Z": 0.5531029998954199,
         "_deepnote_index_column": 117
        },
        {
         "Age": 53,
         "Income": 70566,
         "Age_Z": 0.7560324900675042,
         "Income_Z": 0.7570989943013541,
         "_deepnote_index_column": 119
        },
        {
         "Age": 59,
         "Income": 71434,
         "Age_Z": 1.4880908793181542,
         "Income_Z": 0.7895172519257317,
         "_deepnote_index_column": 121
        },
        {
         "Age": 43,
         "Income": 33039,
         "Age_Z": -0.46406482535024596,
         "Income_Z": -0.644467772830006,
         "_deepnote_index_column": 122
        },
        {
         "Age": 43,
         "Income": 33039,
         "Age_Z": -0.46406482535024596,
         "Income_Z": -0.644467772830006,
         "_deepnote_index_column": 123
        },
        {
         "Age": 45,
         "Income": 53359,
         "Age_Z": -0.22004536226669594,
         "Income_Z": 0.11444811994344338,
         "_deepnote_index_column": 126
        },
        {
         "Age": 50,
         "Income": 49505,
         "Age_Z": 0.39000329544217915,
         "Income_Z": -0.029491931766639005,
         "_deepnote_index_column": 127
        },
        {
         "Age": 54,
         "Income": 59235,
         "Age_Z": 0.8780422216092792,
         "Income_Z": 0.33390627870017514,
         "_deepnote_index_column": 131
        },
        {
         "Age": 49,
         "Income": 69209,
         "Age_Z": 0.26799356390040413,
         "Income_Z": 0.7064174555959618,
         "_deepnote_index_column": 135
        },
        {
         "Age": 32,
         "Income": 31928,
         "Age_Z": -1.806171872309771,
         "Income_Z": -0.6859616486602866,
         "_deepnote_index_column": 136
        },
        {
         "Age": 34,
         "Income": 74004,
         "Age_Z": -1.5621524092262211,
         "Income_Z": 0.8855021852144996,
         "_deepnote_index_column": 137
        },
        {
         "Age": 34,
         "Income": 30390,
         "Age_Z": -1.5621524092262211,
         "Income_Z": -0.7434032157412692,
         "_deepnote_index_column": 138
        },
        {
         "Age": 36,
         "Income": 21355,
         "Age_Z": -1.318132946142671,
         "Income_Z": -1.0808444111747395,
         "_deepnote_index_column": 139
        },
        {
         "Age": 52,
         "Income": 26304,
         "Age_Z": 0.6340227585257292,
         "Income_Z": -0.8960080552034894,
         "_deepnote_index_column": 140
        },
        {
         "Age": 32,
         "Income": 85710,
         "Age_Z": -1.806171872309771,
         "Income_Z": 1.3227004844667634,
         "_deepnote_index_column": 141
        },
        {
         "Age": 47,
         "Income": 102692,
         "Age_Z": 0.023974100816854103,
         "Income_Z": 1.9569480086340232,
         "_deepnote_index_column": 142
        },
        {
         "Age": 50,
         "Income": 58350,
         "Age_Z": 0.39000329544217915,
         "Income_Z": 0.3008531012836149,
         "_deepnote_index_column": 143
        },
        {
         "Age": 43,
         "Income": 7500,
         "Age_Z": -0.46406482535024596,
         "Income_Z": -1.5983040418034866,
         "_deepnote_index_column": 144
        },
        {
         "Age": 37,
         "Income": 18890,
         "Age_Z": -1.196123214600896,
         "Income_Z": -1.1729077810412036,
         "_deepnote_index_column": 145
        },
        {
         "Age": 35,
         "Income": 20425,
         "Age_Z": -1.4401426776844461,
         "Income_Z": -1.1155782586294298,
         "_deepnote_index_column": 146
        },
        {
         "Age": 35,
         "Income": 20425,
         "Age_Z": -1.4401426776844461,
         "Income_Z": -1.1155782586294298,
         "_deepnote_index_column": 147
        },
        {
         "Age": 56,
         "Income": 47025,
         "Age_Z": 1.1220616846928293,
         "Income_Z": -0.12211552497914661,
         "_deepnote_index_column": 153
        },
        {
         "Age": 45,
         "Income": 68397,
         "Age_Z": -0.22004536226669594,
         "Income_Z": 0.6760906984634795,
         "_deepnote_index_column": 154
        },
        {
         "Age": 37,
         "Income": 38175,
         "Age_Z": -1.196123214600896,
         "Income_Z": -0.4526472991447484,
         "_deepnote_index_column": 155
        },
        {
         "Age": 49,
         "Income": 46423,
         "Age_Z": 0.26799356390040413,
         "Income_Z": -0.14459915526702144,
         "_deepnote_index_column": 156
        },
        {
         "Age": 49,
         "Income": 46423,
         "Age_Z": 0.26799356390040413,
         "Income_Z": -0.14459915526702144,
         "_deepnote_index_column": 157
        },
        {
         "Age": 45,
         "Income": 30560,
         "Age_Z": -0.22004536226669594,
         "Income_Z": -0.7370540178194441,
         "_deepnote_index_column": 158
        },
        {
         "Age": 45,
         "Income": 30560,
         "Age_Z": -0.22004536226669594,
         "Income_Z": -0.7370540178194441,
         "_deepnote_index_column": 159
        },
        {
         "Age": 42,
         "Income": 60152,
         "Age_Z": -0.5860745568920209,
         "Income_Z": 0.3681545992549612,
         "_deepnote_index_column": 160
        },
        {
         "Age": 56,
         "Income": 29672,
         "Age_Z": 1.1220616846928293,
         "Income_Z": -0.7702192399052129,
         "_deepnote_index_column": 161
        },
        {
         "Age": 56,
         "Income": 29672,
         "Age_Z": 1.1220616846928293,
         "Income_Z": -0.7702192399052129,
         "_deepnote_index_column": 162
        },
        {
         "Age": 59,
         "Income": 56181,
         "Age_Z": 1.4880908793181542,
         "Income_Z": 0.21984480544574034,
         "_deepnote_index_column": 164
        },
        {
         "Age": 31,
         "Income": 24279,
         "Age_Z": -1.928181603851546,
         "Income_Z": -0.9716382069193474,
         "_deepnote_index_column": 165
        },
        {
         "Age": 52,
         "Income": 68462,
         "Age_Z": 0.6340227585257292,
         "Income_Z": 0.6785183329630008,
         "_deepnote_index_column": 166
        },
        {
         "Age": 45,
         "Income": 55424,
         "Age_Z": -0.22004536226669594,
         "Income_Z": 0.1915722005820838,
         "_deepnote_index_column": 167
        },
        {
         "Age": 48,
         "Income": 49094,
         "Age_Z": 0.1459838323586291,
         "Income_Z": -0.04484205144822797,
         "_deepnote_index_column": 168
        },
        {
         "Age": 60,
         "Income": 59184,
         "Age_Z": 1.6101006108599292,
         "Income_Z": 0.3320015193236276,
         "_deepnote_index_column": 169
        }
       ],
       "rows_bottom": [
        {
         "Age": 43,
         "Income": 77583,
         "Age_Z": -0.46406482535024596,
         "Income_Z": 1.019171475580453,
         "_deepnote_index_column": 2092
        },
        {
         "Age": 38,
         "Income": 76630,
         "Age_Z": -1.074113483059121,
         "Income_Z": 0.983578618995163,
         "_deepnote_index_column": 2093
        },
        {
         "Age": 61,
         "Income": 47353,
         "Age_Z": 1.7321103424017044,
         "Income_Z": -0.10986530781233109,
         "_deepnote_index_column": 2094
        },
        {
         "Age": 57,
         "Income": 48920,
         "Age_Z": 1.2440714162346043,
         "Income_Z": -0.05134064226233132,
         "_deepnote_index_column": 2095
        },
        {
         "Age": 57,
         "Income": 64100,
         "Age_Z": 1.2440714162346043,
         "Income_Z": 0.5156053839335821,
         "_deepnote_index_column": 2097
        },
        {
         "Age": 33,
         "Income": 38872,
         "Age_Z": -1.684162140767996,
         "Income_Z": -0.42661558766526536,
         "_deepnote_index_column": 2098
        },
        {
         "Age": 59,
         "Income": 72217,
         "Age_Z": 1.4880908793181542,
         "Income_Z": 0.8187609105891968,
         "_deepnote_index_column": 2099
        },
        {
         "Age": 34,
         "Income": 15038,
         "Age_Z": -1.5621524092262211,
         "Income_Z": -1.316773136305147,
         "_deepnote_index_column": 2100
        },
        {
         "Age": 45,
         "Income": 13624,
         "Age_Z": -0.22004536226669594,
         "Income_Z": -1.369583523725504,
         "_deepnote_index_column": 2101
        },
        {
         "Age": 43,
         "Income": 42554,
         "Age_Z": -0.46406482535024596,
         "Income_Z": -0.2890994303231472,
         "_deepnote_index_column": 2102
        },
        {
         "Age": 35,
         "Income": 71952,
         "Age_Z": -1.4401426776844461,
         "Income_Z": 0.8088636314757636,
         "_deepnote_index_column": 2103
        },
        {
         "Age": 35,
         "Income": 71952,
         "Age_Z": -1.4401426776844461,
         "Income_Z": 0.8088636314757636,
         "_deepnote_index_column": 2104
        },
        {
         "Age": 50,
         "Income": 78041,
         "Age_Z": 0.39000329544217915,
         "Income_Z": 1.0362769617463115,
         "_deepnote_index_column": 2105
        },
        {
         "Age": 57,
         "Income": 63972,
         "Age_Z": 1.2440714162346043,
         "Income_Z": 0.5108248113806786,
         "_deepnote_index_column": 2106
        },
        {
         "Age": 49,
         "Income": 62010,
         "Age_Z": 0.26799356390040413,
         "Income_Z": 0.4375475977182028,
         "_deepnote_index_column": 2108
        },
        {
         "Age": 61,
         "Income": 83151,
         "Age_Z": 1.7321103424017044,
         "Income_Z": 1.2271263816317606,
         "_deepnote_index_column": 2109
        },
        {
         "Age": 54,
         "Income": 77870,
         "Age_Z": 0.8780422216092792,
         "Income_Z": 1.0298904156014168,
         "_deepnote_index_column": 2110
        },
        {
         "Age": 44,
         "Income": 46931,
         "Age_Z": -0.34205509380847093,
         "Income_Z": -0.1256262579476852,
         "_deepnote_index_column": 2111
        },
        {
         "Age": 44,
         "Income": 85072,
         "Age_Z": -0.34205509380847093,
         "Income_Z": 1.2988723181483843,
         "_deepnote_index_column": 2112
        },
        {
         "Age": 34,
         "Income": 73395,
         "Age_Z": -1.5621524092262211,
         "Income_Z": 0.8627571173651379,
         "_deepnote_index_column": 2113
        },
        {
         "Age": 40,
         "Income": 58293,
         "Age_Z": -0.830094019975571,
         "Income_Z": 0.29872425256865004,
         "_deepnote_index_column": 2115
        },
        {
         "Age": 47,
         "Income": 47889,
         "Age_Z": 0.023974100816854103,
         "Income_Z": -0.08984666024704718,
         "_deepnote_index_column": 2116
        },
        {
         "Age": 42,
         "Income": 24594,
         "Age_Z": -0.5860745568920209,
         "Income_Z": -0.9598735166524361,
         "_deepnote_index_column": 2117
        },
        {
         "Age": 42,
         "Income": 24594,
         "Age_Z": -0.5860745568920209,
         "Income_Z": -0.9598735166524361,
         "_deepnote_index_column": 2118
        },
        {
         "Age": 56,
         "Income": 69882,
         "Age_Z": 1.1220616846928293,
         "Income_Z": 0.7315528097217753,
         "_deepnote_index_column": 2119
        },
        {
         "Age": 36,
         "Income": 22327,
         "Age_Z": -1.318132946142671,
         "Income_Z": -1.0445419383511276,
         "_deepnote_index_column": 2121
        },
        {
         "Age": 60,
         "Income": 61923,
         "Age_Z": 1.6101006108599292,
         "Income_Z": 0.43429830231115113,
         "_deepnote_index_column": 2122
        },
        {
         "Age": 56,
         "Income": 35791,
         "Age_Z": 1.1220616846928293,
         "Income_Z": -0.5416854629425782,
         "_deepnote_index_column": 2123
        },
        {
         "Age": 56,
         "Income": 35791,
         "Age_Z": 1.1220616846928293,
         "Income_Z": -0.5416854629425782,
         "_deepnote_index_column": 2124
        },
        {
         "Age": 31,
         "Income": 91172,
         "Age_Z": -1.928181603851546,
         "Income_Z": 1.5266964788726975,
         "_deepnote_index_column": 2125
        },
        {
         "Age": 54,
         "Income": 35441,
         "Age_Z": 0.8780422216092792,
         "Income_Z": -0.5547573410169241,
         "_deepnote_index_column": 2126
        },
        {
         "Age": 51,
         "Income": 19656,
         "Age_Z": 0.5120130269839541,
         "Income_Z": -1.144299042169921,
         "_deepnote_index_column": 2127
        },
        {
         "Age": 34,
         "Income": 7500,
         "Age_Z": -1.5621524092262211,
         "Income_Z": -1.5983040418034866,
         "_deepnote_index_column": 2128
        },
        {
         "Age": 42,
         "Income": 71626,
         "Age_Z": -0.5860745568920209,
         "Income_Z": 0.7966881107550872,
         "_deepnote_index_column": 2129
        },
        {
         "Age": 44,
         "Income": 75330,
         "Age_Z": -0.34205509380847093,
         "Income_Z": 0.9350259290047356,
         "_deepnote_index_column": 2130
        },
        {
         "Age": 45,
         "Income": 34529,
         "Age_Z": -0.22004536226669594,
         "Income_Z": -0.5888189204563624,
         "_deepnote_index_column": 2131
        },
        {
         "Age": 29,
         "Income": 48789,
         "Age_Z": -2.172201066935096,
         "Income_Z": -0.056233259484443625,
         "_deepnote_index_column": 2132
        },
        {
         "Age": 44,
         "Income": 34487,
         "Age_Z": -0.34205509380847093,
         "Income_Z": -0.5903875458252839,
         "_deepnote_index_column": 2133
        },
        {
         "Age": 48,
         "Income": 35688,
         "Age_Z": 0.1459838323586291,
         "Income_Z": -0.5455323299187429,
         "_deepnote_index_column": 2134
        },
        {
         "Age": 48,
         "Income": 35688,
         "Age_Z": 0.1459838323586291,
         "Income_Z": -0.5455323299187429,
         "_deepnote_index_column": 2135
        },
        {
         "Age": 34,
         "Income": 73454,
         "Age_Z": -1.5621524092262211,
         "Income_Z": 0.8649606625262419,
         "_deepnote_index_column": 2137
        },
        {
         "Age": 41,
         "Income": 31535,
         "Age_Z": -0.708084288433796,
         "Income_Z": -0.7006395003266236,
         "_deepnote_index_column": 2140
        },
        {
         "Age": 39,
         "Income": 40479,
         "Age_Z": -0.952103751517346,
         "Income_Z": -0.36659699319248323,
         "_deepnote_index_column": 2142
        },
        {
         "Age": 61,
         "Income": 29440,
         "Age_Z": 1.7321103424017044,
         "Income_Z": -0.7788840276573508,
         "_deepnote_index_column": 2143
        },
        {
         "Age": 35,
         "Income": 38508,
         "Age_Z": -1.4401426776844461,
         "Income_Z": -0.44021034086258504,
         "_deepnote_index_column": 2144
        },
        {
         "Age": 38,
         "Income": 69520,
         "Age_Z": -1.074113483059121,
         "Income_Z": 0.7180327529705948,
         "_deepnote_index_column": 2145
        },
        {
         "Age": 57,
         "Income": 18701,
         "Age_Z": 1.2440714162346043,
         "Income_Z": -1.1799665952013505,
         "_deepnote_index_column": 2146
        },
        {
         "Age": 57,
         "Income": 18701,
         "Age_Z": 1.2440714162346043,
         "Income_Z": -1.1799665952013505,
         "_deepnote_index_column": 2147
        },
        {
         "Age": 52,
         "Income": 69901,
         "Age_Z": 0.6340227585257292,
         "Income_Z": 0.7322624259600969,
         "_deepnote_index_column": 2148
        },
        {
         "Age": 30,
         "Income": 86037,
         "Age_Z": -2.050191335393321,
         "Income_Z": 1.3349133534105093,
         "_deepnote_index_column": 2150
        },
        {
         "Age": 43,
         "Income": 71847,
         "Age_Z": -0.46406482535024596,
         "Income_Z": 0.8049420680534598,
         "_deepnote_index_column": 2151
        },
        {
         "Age": 50,
         "Income": 42033,
         "Age_Z": 0.39000329544217915,
         "Income_Z": -0.3085578545423877,
         "_deepnote_index_column": 2152
        },
        {
         "Age": 57,
         "Income": 51983,
         "Age_Z": 1.2440714162346043,
         "Income_Z": 0.06305696499972949,
         "_deepnote_index_column": 2153
        },
        {
         "Age": 33,
         "Income": 68655,
         "Age_Z": -1.684162140767996,
         "Income_Z": 0.6857265400154258,
         "_deepnote_index_column": 2154
        },
        {
         "Age": 33,
         "Income": 68655,
         "Age_Z": -1.684162140767996,
         "Income_Z": 0.6857265400154258,
         "_deepnote_index_column": 2155
        },
        {
         "Age": 51,
         "Income": 79419,
         "Age_Z": 0.5120130269839541,
         "Income_Z": 1.0877428131361644,
         "_deepnote_index_column": 2157
        },
        {
         "Age": 46,
         "Income": 57338,
         "Age_Z": -0.09803563072492091,
         "Income_Z": 0.2630566995372207,
         "_deepnote_index_column": 2158
        },
        {
         "Age": 57,
         "Income": 42523,
         "Age_Z": 1.2440714162346043,
         "Income_Z": -0.29025722523830355,
         "_deepnote_index_column": 2159
        },
        {
         "Age": 57,
         "Income": 42523,
         "Age_Z": 1.2440714162346043,
         "Income_Z": -0.29025722523830355,
         "_deepnote_index_column": 2160
        },
        {
         "Age": 37,
         "Income": 31761,
         "Age_Z": -1.196123214600896,
         "Income_Z": -0.6921988019129032,
         "_deepnote_index_column": 2161
        },
        {
         "Age": 52,
         "Income": 65747,
         "Age_Z": 0.6340227585257292,
         "Income_Z": 0.5771179073291467,
         "_deepnote_index_column": 2162
        },
        {
         "Age": 61,
         "Income": 17144,
         "Age_Z": 1.7321103424017044,
         "Income_Z": -1.2381177785206545,
         "_deepnote_index_column": 2163
        },
        {
         "Age": 61,
         "Income": 17144,
         "Age_Z": 1.7321103424017044,
         "Income_Z": -1.2381177785206545,
         "_deepnote_index_column": 2164
        },
        {
         "Age": 56,
         "Income": 84618,
         "Age_Z": 1.1220616846928293,
         "Income_Z": 1.2819162248748044,
         "_deepnote_index_column": 2166
        },
        {
         "Age": 56,
         "Income": 84618,
         "Age_Z": 1.1220616846928293,
         "Income_Z": 1.2819162248748044,
         "_deepnote_index_column": 2167
        },
        {
         "Age": 41,
         "Income": 15072,
         "Age_Z": -0.708084288433796,
         "Income_Z": -1.315503296720782,
         "_deepnote_index_column": 2172
        },
        {
         "Age": 35,
         "Income": 7500,
         "Age_Z": -1.4401426776844461,
         "Income_Z": -1.5983040418034866,
         "_deepnote_index_column": 2173
        },
        {
         "Age": 43,
         "Income": 17117,
         "Age_Z": -0.46406482535024596,
         "Income_Z": -1.2391261805435327,
         "_deepnote_index_column": 2174
        },
        {
         "Age": 56,
         "Income": 59754,
         "Age_Z": 1.1220616846928293,
         "Income_Z": 0.3532900064732765,
         "_deepnote_index_column": 2175
        },
        {
         "Age": 49,
         "Income": 86857,
         "Age_Z": 0.26799356390040413,
         "Income_Z": 1.365538896327548,
         "_deepnote_index_column": 2178
        },
        {
         "Age": 49,
         "Income": 86857,
         "Age_Z": 0.26799356390040413,
         "Income_Z": 1.365538896327548,
         "_deepnote_index_column": 2179
        },
        {
         "Age": 57,
         "Income": 68142,
         "Age_Z": 1.2440714162346043,
         "Income_Z": 0.6665669015807417,
         "_deepnote_index_column": 2180
        },
        {
         "Age": 57,
         "Income": 63404,
         "Age_Z": 1.2440714162346043,
         "Income_Z": 0.4896110206771688,
         "_deepnote_index_column": 2182
        },
        {
         "Age": 47,
         "Income": 49669,
         "Age_Z": 0.023974100816854103,
         "Income_Z": -0.023366823183231245,
         "_deepnote_index_column": 2183
        },
        {
         "Age": 57,
         "Income": 55761,
         "Age_Z": 1.2440714162346043,
         "Income_Z": 0.20415855175652534,
         "_deepnote_index_column": 2184
        },
        {
         "Age": 48,
         "Income": 37971,
         "Age_Z": 0.1459838323586291,
         "Income_Z": -0.4602663366509385,
         "_deepnote_index_column": 2186
        },
        {
         "Age": 44,
         "Income": 30368,
         "Age_Z": -0.34205509380847093,
         "Income_Z": -0.7442248766487995,
         "_deepnote_index_column": 2187
        },
        {
         "Age": 43,
         "Income": 34043,
         "Age_Z": -0.46406482535024596,
         "Income_Z": -0.6069701568681682,
         "_deepnote_index_column": 2188
        },
        {
         "Age": 56,
         "Income": 54111,
         "Age_Z": 1.1220616846928293,
         "Income_Z": 0.14253398369175213,
         "_deepnote_index_column": 2189
        },
        {
         "Age": 57,
         "Income": 69932,
         "Age_Z": 1.2440714162346043,
         "Income_Z": 0.7334202208752533,
         "_deepnote_index_column": 2190
        },
        {
         "Age": 40,
         "Income": 39665,
         "Age_Z": -0.830094019975571,
         "Income_Z": -0.3969984467711047,
         "_deepnote_index_column": 2191
        },
        {
         "Age": 37,
         "Income": 38680,
         "Age_Z": -1.196123214600896,
         "Income_Z": -0.4337864464946208,
         "_deepnote_index_column": 2193
        },
        {
         "Age": 37,
         "Income": 24570,
         "Age_Z": -1.196123214600896,
         "Income_Z": -0.9607698740061056,
         "_deepnote_index_column": 2194
        },
        {
         "Age": 54,
         "Income": 77766,
         "Age_Z": 0.8780422216092792,
         "Income_Z": 1.0260062004021826,
         "_deepnote_index_column": 2195
        },
        {
         "Age": 54,
         "Income": 77766,
         "Age_Z": 0.8780422216092792,
         "Income_Z": 1.0260062004021826,
         "_deepnote_index_column": 2196
        },
        {
         "Age": 53,
         "Income": 23748,
         "Age_Z": 0.7560324900675042,
         "Income_Z": -0.9914701133692836,
         "_deepnote_index_column": 2198
        },
        {
         "Age": 57,
         "Income": 45989,
         "Age_Z": 1.2440714162346043,
         "Income_Z": -0.16080828407921027,
         "_deepnote_index_column": 2199
        },
        {
         "Age": 33,
         "Income": 23331,
         "Age_Z": -1.684162140767996,
         "Income_Z": -1.0070443223892898,
         "_deepnote_index_column": 2200
        },
        {
         "Age": 58,
         "Income": 23091,
         "Age_Z": 1.3660811477763792,
         "Income_Z": -1.0160078959259842,
         "_deepnote_index_column": 2202
        },
        {
         "Age": 31,
         "Income": 24683,
         "Age_Z": -1.928181603851546,
         "Income_Z": -0.9565495247992454,
         "_deepnote_index_column": 2203
        },
        {
         "Age": 48,
         "Income": 157243,
         "Age_Z": 0.1459838323586291,
         "Income_Z": 3.9943309253015644,
         "_deepnote_index_column": 2204
        },
        {
         "Age": 48,
         "Income": 54222,
         "Age_Z": 0.1459838323586291,
         "Income_Z": 0.14667963645247326,
         "_deepnote_index_column": 2205
        },
        {
         "Age": 53,
         "Income": 73455,
         "Age_Z": 0.7560324900675042,
         "Income_Z": 0.8649980107493115,
         "_deepnote_index_column": 2206
        },
        {
         "Age": 49,
         "Income": 84906,
         "Age_Z": 0.26799356390040413,
         "Income_Z": 1.2926725131188375,
         "_deepnote_index_column": 2207
        },
        {
         "Age": 49,
         "Income": 84906,
         "Age_Z": 0.26799356390040413,
         "Income_Z": 1.2926725131188375,
         "_deepnote_index_column": 2208
        },
        {
         "Age": 43,
         "Income": 47025,
         "Age_Z": -0.46406482535024596,
         "Income_Z": -0.12211552497914661,
         "_deepnote_index_column": 2209
        },
        {
         "Age": 55,
         "Income": 44529,
         "Age_Z": 1.000051953151054,
         "Income_Z": -0.21533668976076717,
         "_deepnote_index_column": 2210
        },
        {
         "Age": 47,
         "Income": 31560,
         "Age_Z": 0.023974100816854103,
         "Income_Z": -0.6997057947498846,
         "_deepnote_index_column": 2211
        },
        {
         "Age": 38,
         "Income": 90687,
         "Age_Z": -1.074113483059121,
         "Income_Z": 1.5085825906839612,
         "_deepnote_index_column": 2212
        },
        {
         "Age": 32,
         "Income": 66973,
         "Age_Z": -1.806171872309771,
         "Income_Z": 0.6229068288124266,
         "_deepnote_index_column": 2213
        },
        {
         "Age": 43,
         "Income": 41154,
         "Age_Z": -0.46406482535024596,
         "Income_Z": -0.34138694262053054,
         "_deepnote_index_column": 2214
        },
        {
         "Age": 53,
         "Income": 64590,
         "Age_Z": 0.7560324900675042,
         "Income_Z": 0.5339060132376663,
         "_deepnote_index_column": 2215
        },
        {
         "Age": 61,
         "Income": 50611,
         "Age_Z": 1.7321103424017044,
         "Income_Z": 0.011815202948293822,
         "_deepnote_index_column": 2216
        },
        {
         "Age": 61,
         "Income": 50611,
         "Age_Z": 1.7321103424017044,
         "Income_Z": 0.011815202948293822,
         "_deepnote_index_column": 2217
        },
        {
         "Age": 51,
         "Income": 83273,
         "Age_Z": 0.5120130269839541,
         "Income_Z": 1.2316828648462468,
         "_deepnote_index_column": 2218
        },
        {
         "Age": 41,
         "Income": 81702,
         "Age_Z": -0.708084288433796,
         "Income_Z": 1.1730088064039688,
         "_deepnote_index_column": 2219
        },
        {
         "Age": 42,
         "Income": 24401,
         "Age_Z": -0.5860745568920209,
         "Income_Z": -0.9670817237048612,
         "_deepnote_index_column": 2220
        },
        {
         "Age": 47,
         "Income": 42557,
         "Age_Z": 0.023974100816854103,
         "Income_Z": -0.28898738565393856,
         "_deepnote_index_column": 2221
        },
        {
         "Age": 36,
         "Income": 7500,
         "Age_Z": -1.318132946142671,
         "Income_Z": -1.5983040418034866,
         "_deepnote_index_column": 2222
        },
        {
         "Age": 45,
         "Income": 78416,
         "Age_Z": -0.22004536226669594,
         "Income_Z": 1.0502825453973963,
         "_deepnote_index_column": 2223
        },
        {
         "Age": 55,
         "Income": 44794,
         "Age_Z": 1.000051953151054,
         "Income_Z": -0.2054394106473339,
         "_deepnote_index_column": 2224
        },
        {
         "Age": 55,
         "Income": 44794,
         "Age_Z": 1.000051953151054,
         "Income_Z": -0.2054394106473339,
         "_deepnote_index_column": 2225
        },
        {
         "Age": 47,
         "Income": 69719,
         "Age_Z": 0.023974100816854103,
         "Income_Z": 0.7254650493614371,
         "_deepnote_index_column": 2226
        },
        {
         "Age": 59,
         "Income": 62568,
         "Age_Z": 1.4880908793181542,
         "Income_Z": 0.458387906191017,
         "_deepnote_index_column": 2227
        },
        {
         "Age": 52,
         "Income": 42231,
         "Age_Z": 0.6340227585257292,
         "Income_Z": -0.30116290637461496,
         "_deepnote_index_column": 2228
        },
        {
         "Age": 47,
         "Income": 20130,
         "Age_Z": 0.023974100816854103,
         "Income_Z": -1.1265959844349498,
         "_deepnote_index_column": 2229
        },
        {
         "Age": 47,
         "Income": 20130,
         "Age_Z": 0.023974100816854103,
         "Income_Z": -1.1265959844349498,
         "_deepnote_index_column": 2230
        },
        {
         "Age": 48,
         "Income": 42429,
         "Age_Z": 0.1459838323586291,
         "Income_Z": -0.29376795820684215,
         "_deepnote_index_column": 2231
        },
        {
         "Age": 48,
         "Income": 42429,
         "Age_Z": 0.1459838323586291,
         "Income_Z": -0.29376795820684215,
         "_deepnote_index_column": 2232
        },
        {
         "Age": 48,
         "Income": 78901,
         "Age_Z": 0.1459838323586291,
         "Income_Z": 1.0683964335861327,
         "_deepnote_index_column": 2234
        },
        {
         "Age": 45,
         "Income": 66476,
         "Age_Z": -0.22004536226669594,
         "Income_Z": 0.6043447619468556,
         "_deepnote_index_column": 2235
        },
        {
         "Age": 44,
         "Income": 31056,
         "Age_Z": -0.34205509380847093,
         "Income_Z": -0.7185292991769425,
         "_deepnote_index_column": 2236
        },
        {
         "Age": 45,
         "Income": 46310,
         "Age_Z": -0.22004536226669594,
         "Income_Z": -0.14881950447388168,
         "_deepnote_index_column": 2237
        },
        {
         "Age": 43,
         "Income": 65819,
         "Age_Z": -0.46406482535024596,
         "Income_Z": 0.579806979390155,
         "_deepnote_index_column": 2238
        },
        {
         "Age": 52,
         "Income": 94871,
         "Age_Z": 0.6340227585257292,
         "Income_Z": 1.6648475560069982,
         "_deepnote_index_column": 2239
        }
       ]
      },
      "text/plain": "      Age   Income     Age_Z  Income_Z\n0      51  84835.0  0.512013  1.290021\n1      60  57091.0  1.610101  0.253832\n3      54  32474.0  0.878042 -0.665570\n4      32  21474.0 -1.806172 -1.076400\n7      54  44931.0  0.878042 -0.200323\n...   ...      ...       ...       ...\n2235   45  66476.0 -0.220045  0.604345\n2236   44  31056.0 -0.342055 -0.718529\n2237   45  46310.0 -0.220045 -0.148820\n2238   43  65819.0 -0.464065  0.579807\n2239   52  94871.0  0.634023  1.664848\n\n[1654 rows x 4 columns]",
      "text/html": "<div>\n<style scoped>\n    .dataframe tbody tr th:only-of-type {\n        vertical-align: middle;\n    }\n\n    .dataframe tbody tr th {\n        vertical-align: top;\n    }\n\n    .dataframe thead th {\n        text-align: right;\n    }\n</style>\n<table border=\"1\" class=\"dataframe\">\n  <thead>\n    <tr style=\"text-align: right;\">\n      <th></th>\n      <th>Age</th>\n      <th>Income</th>\n      <th>Age_Z</th>\n      <th>Income_Z</th>\n    </tr>\n  </thead>\n  <tbody>\n    <tr>\n      <th>0</th>\n      <td>51</td>\n      <td>84835.0</td>\n      <td>0.512013</td>\n      <td>1.290021</td>\n    </tr>\n    <tr>\n      <th>1</th>\n      <td>60</td>\n      <td>57091.0</td>\n      <td>1.610101</td>\n      <td>0.253832</td>\n    </tr>\n    <tr>\n      <th>3</th>\n      <td>54</td>\n      <td>32474.0</td>\n      <td>0.878042</td>\n      <td>-0.665570</td>\n    </tr>\n    <tr>\n      <th>4</th>\n      <td>32</td>\n      <td>21474.0</td>\n      <td>-1.806172</td>\n      <td>-1.076400</td>\n    </tr>\n    <tr>\n      <th>7</th>\n      <td>54</td>\n      <td>44931.0</td>\n      <td>0.878042</td>\n      <td>-0.200323</td>\n    </tr>\n    <tr>\n      <th>...</th>\n      <td>...</td>\n      <td>...</td>\n      <td>...</td>\n      <td>...</td>\n    </tr>\n    <tr>\n      <th>2235</th>\n      <td>45</td>\n      <td>66476.0</td>\n      <td>-0.220045</td>\n      <td>0.604345</td>\n    </tr>\n    <tr>\n      <th>2236</th>\n      <td>44</td>\n      <td>31056.0</td>\n      <td>-0.342055</td>\n      <td>-0.718529</td>\n    </tr>\n    <tr>\n      <th>2237</th>\n      <td>45</td>\n      <td>46310.0</td>\n      <td>-0.220045</td>\n      <td>-0.148820</td>\n    </tr>\n    <tr>\n      <th>2238</th>\n      <td>43</td>\n      <td>65819.0</td>\n      <td>-0.464065</td>\n      <td>0.579807</td>\n    </tr>\n    <tr>\n      <th>2239</th>\n      <td>52</td>\n      <td>94871.0</td>\n      <td>0.634023</td>\n      <td>1.664848</td>\n    </tr>\n  </tbody>\n</table>\n<p>1654 rows × 4 columns</p>\n</div>"
     },
     "metadata": {}
    }
   ]
  },
  {
   "cell_type": "code",
   "metadata": {
    "tags": [],
    "cell_id": "00007-54aea880-175e-4f34-888a-9c941c1c3f17",
    "deepnote_to_be_reexecuted": false,
    "source_hash": "537dd39d",
    "execution_start": 1628047382805,
    "execution_millis": 45,
    "deepnote_cell_type": "code"
   },
   "source": "df_marketing_Age_Income.std()",
   "execution_count": null,
   "outputs": [
    {
     "output_type": "execute_result",
     "execution_count": 8,
     "data": {
      "text/plain": "Age             8.196068\nIncome      26775.035539\nAge_Z           1.000000\nIncome_Z        1.000000\ndtype: float64"
     },
     "metadata": {}
    }
   ]
  },
  {
   "cell_type": "code",
   "metadata": {
    "tags": [],
    "cell_id": "00009-62793a52-4c3f-4298-936c-0129b4726cb6",
    "deepnote_to_be_reexecuted": false,
    "source_hash": "ea86ac66",
    "execution_start": 1628047382911,
    "execution_millis": 4,
    "deepnote_cell_type": "code"
   },
   "source": "df_marketing_Age_Income.mean()",
   "execution_count": null,
   "outputs": [
    {
     "output_type": "execute_result",
     "execution_count": 9,
     "data": {
      "text/plain": "Age         4.680351e+01\nIncome      5.029465e+04\nAge_Z      -1.181374e-16\nIncome_Z    1.084716e-16\ndtype: float64"
     },
     "metadata": {}
    }
   ]
  },
  {
   "cell_type": "markdown",
   "source": "## Distancia euclidiana entre 2 puntos",
   "metadata": {
    "tags": [],
    "is_collapsed": false,
    "cell_id": "00010-8feefb8c-e047-44cb-a46a-315aed4f99e9",
    "deepnote_cell_type": "text-cell-h2"
   }
  },
  {
   "cell_type": "markdown",
   "source": "## $ d (p,q) = \\sqrt{\\sum (p_{i} -q_{i})^{2}} $",
   "metadata": {
    "tags": [],
    "cell_id": "00011-b700b657-4302-4dcb-9cb8-237ae135a926",
    "deepnote_cell_type": "markdown"
   }
  },
  {
   "cell_type": "code",
   "metadata": {
    "tags": [],
    "cell_id": "00010-5ee3c799-5e3e-4a58-93e2-d5ea21dbc828",
    "deepnote_to_be_reexecuted": false,
    "source_hash": "4e441121",
    "execution_start": 1628047382912,
    "execution_millis": 104,
    "deepnote_cell_type": "code"
   },
   "source": "df_dis_euc = df_marketing_Age_Income.tail(3).reset_index()\ndf_dis_euc",
   "execution_count": null,
   "outputs": [
    {
     "output_type": "execute_result",
     "execution_count": 10,
     "data": {
      "application/vnd.deepnote.dataframe.v2+json": {
       "row_count": 3,
       "column_count": 5,
       "columns": [
        {
         "name": "index",
         "dtype": "int64",
         "stats": {
          "unique_count": 3,
          "nan_count": 0,
          "min": "2237",
          "max": "2239",
          "histogram": [
           {
            "bin_start": 2237,
            "bin_end": 2237.2,
            "count": 1
           },
           {
            "bin_start": 2237.2,
            "bin_end": 2237.4,
            "count": 0
           },
           {
            "bin_start": 2237.4,
            "bin_end": 2237.6,
            "count": 0
           },
           {
            "bin_start": 2237.6,
            "bin_end": 2237.8,
            "count": 0
           },
           {
            "bin_start": 2237.8,
            "bin_end": 2238,
            "count": 0
           },
           {
            "bin_start": 2238,
            "bin_end": 2238.2,
            "count": 1
           },
           {
            "bin_start": 2238.2,
            "bin_end": 2238.4,
            "count": 0
           },
           {
            "bin_start": 2238.4,
            "bin_end": 2238.6,
            "count": 0
           },
           {
            "bin_start": 2238.6,
            "bin_end": 2238.8,
            "count": 0
           },
           {
            "bin_start": 2238.8,
            "bin_end": 2239,
            "count": 1
           }
          ]
         }
        },
        {
         "name": "Age",
         "dtype": "int64",
         "stats": {
          "unique_count": 3,
          "nan_count": 0,
          "min": "43",
          "max": "52",
          "histogram": [
           {
            "bin_start": 43,
            "bin_end": 43.9,
            "count": 1
           },
           {
            "bin_start": 43.9,
            "bin_end": 44.8,
            "count": 0
           },
           {
            "bin_start": 44.8,
            "bin_end": 45.7,
            "count": 1
           },
           {
            "bin_start": 45.7,
            "bin_end": 46.6,
            "count": 0
           },
           {
            "bin_start": 46.6,
            "bin_end": 47.5,
            "count": 0
           },
           {
            "bin_start": 47.5,
            "bin_end": 48.4,
            "count": 0
           },
           {
            "bin_start": 48.4,
            "bin_end": 49.3,
            "count": 0
           },
           {
            "bin_start": 49.3,
            "bin_end": 50.2,
            "count": 0
           },
           {
            "bin_start": 50.2,
            "bin_end": 51.1,
            "count": 0
           },
           {
            "bin_start": 51.1,
            "bin_end": 52,
            "count": 1
           }
          ]
         }
        },
        {
         "name": "Income",
         "dtype": "float64",
         "stats": {
          "unique_count": 3,
          "nan_count": 0,
          "min": "46310.0",
          "max": "94871.0",
          "histogram": [
           {
            "bin_start": 46310,
            "bin_end": 51166.1,
            "count": 1
           },
           {
            "bin_start": 51166.1,
            "bin_end": 56022.2,
            "count": 0
           },
           {
            "bin_start": 56022.2,
            "bin_end": 60878.3,
            "count": 0
           },
           {
            "bin_start": 60878.3,
            "bin_end": 65734.4,
            "count": 0
           },
           {
            "bin_start": 65734.4,
            "bin_end": 70590.5,
            "count": 1
           },
           {
            "bin_start": 70590.5,
            "bin_end": 75446.6,
            "count": 0
           },
           {
            "bin_start": 75446.6,
            "bin_end": 80302.70000000001,
            "count": 0
           },
           {
            "bin_start": 80302.70000000001,
            "bin_end": 85158.8,
            "count": 0
           },
           {
            "bin_start": 85158.8,
            "bin_end": 90014.9,
            "count": 0
           },
           {
            "bin_start": 90014.9,
            "bin_end": 94871,
            "count": 1
           }
          ]
         }
        },
        {
         "name": "Age_Z",
         "dtype": "float64",
         "stats": {
          "unique_count": 3,
          "nan_count": 0,
          "min": "-0.46406482535024596",
          "max": "0.6340227585257292",
          "histogram": [
           {
            "bin_start": -0.46406482535024596,
            "bin_end": -0.35425606696264844,
            "count": 1
           },
           {
            "bin_start": -0.35425606696264844,
            "bin_end": -0.24444730857505093,
            "count": 0
           },
           {
            "bin_start": -0.24444730857505093,
            "bin_end": -0.1346385501874534,
            "count": 1
           },
           {
            "bin_start": -0.1346385501874534,
            "bin_end": -0.024829791799855894,
            "count": 0
           },
           {
            "bin_start": -0.024829791799855894,
            "bin_end": 0.08497896658774162,
            "count": 0
           },
           {
            "bin_start": 0.08497896658774162,
            "bin_end": 0.19478772497533914,
            "count": 0
           },
           {
            "bin_start": 0.19478772497533914,
            "bin_end": 0.30459648336293665,
            "count": 0
           },
           {
            "bin_start": 0.30459648336293665,
            "bin_end": 0.41440524175053417,
            "count": 0
           },
           {
            "bin_start": 0.41440524175053417,
            "bin_end": 0.5242140001381317,
            "count": 0
           },
           {
            "bin_start": 0.5242140001381317,
            "bin_end": 0.6340227585257292,
            "count": 1
           }
          ]
         }
        },
        {
         "name": "Income_Z",
         "dtype": "float64",
         "stats": {
          "unique_count": 3,
          "nan_count": 0,
          "min": "-0.14881950447388168",
          "max": "1.6648475560069982",
          "histogram": [
           {
            "bin_start": -0.14881950447388168,
            "bin_end": 0.03254720157420629,
            "count": 1
           },
           {
            "bin_start": 0.03254720157420629,
            "bin_end": 0.21391390762229426,
            "count": 0
           },
           {
            "bin_start": 0.21391390762229426,
            "bin_end": 0.39528061367038225,
            "count": 0
           },
           {
            "bin_start": 0.39528061367038225,
            "bin_end": 0.5766473197184702,
            "count": 0
           },
           {
            "bin_start": 0.5766473197184702,
            "bin_end": 0.7580140257665581,
            "count": 1
           },
           {
            "bin_start": 0.7580140257665581,
            "bin_end": 0.9393807318146462,
            "count": 0
           },
           {
            "bin_start": 0.9393807318146462,
            "bin_end": 1.1207474378627342,
            "count": 0
           },
           {
            "bin_start": 1.1207474378627342,
            "bin_end": 1.3021141439108221,
            "count": 0
           },
           {
            "bin_start": 1.3021141439108221,
            "bin_end": 1.48348084995891,
            "count": 0
           },
           {
            "bin_start": 1.48348084995891,
            "bin_end": 1.6648475560069982,
            "count": 1
           }
          ]
         }
        },
        {
         "name": "_deepnote_index_column",
         "dtype": "int64"
        }
       ],
       "rows_top": [
        {
         "index": 2237,
         "Age": 45,
         "Income": 46310,
         "Age_Z": -0.22004536226669594,
         "Income_Z": -0.14881950447388168,
         "_deepnote_index_column": 0
        },
        {
         "index": 2238,
         "Age": 43,
         "Income": 65819,
         "Age_Z": -0.46406482535024596,
         "Income_Z": 0.579806979390155,
         "_deepnote_index_column": 1
        },
        {
         "index": 2239,
         "Age": 52,
         "Income": 94871,
         "Age_Z": 0.6340227585257292,
         "Income_Z": 1.6648475560069982,
         "_deepnote_index_column": 2
        }
       ],
       "rows_bottom": null
      },
      "text/plain": "   index  Age   Income     Age_Z  Income_Z\n0   2237   45  46310.0 -0.220045 -0.148820\n1   2238   43  65819.0 -0.464065  0.579807\n2   2239   52  94871.0  0.634023  1.664848",
      "text/html": "<div>\n<style scoped>\n    .dataframe tbody tr th:only-of-type {\n        vertical-align: middle;\n    }\n\n    .dataframe tbody tr th {\n        vertical-align: top;\n    }\n\n    .dataframe thead th {\n        text-align: right;\n    }\n</style>\n<table border=\"1\" class=\"dataframe\">\n  <thead>\n    <tr style=\"text-align: right;\">\n      <th></th>\n      <th>index</th>\n      <th>Age</th>\n      <th>Income</th>\n      <th>Age_Z</th>\n      <th>Income_Z</th>\n    </tr>\n  </thead>\n  <tbody>\n    <tr>\n      <th>0</th>\n      <td>2237</td>\n      <td>45</td>\n      <td>46310.0</td>\n      <td>-0.220045</td>\n      <td>-0.148820</td>\n    </tr>\n    <tr>\n      <th>1</th>\n      <td>2238</td>\n      <td>43</td>\n      <td>65819.0</td>\n      <td>-0.464065</td>\n      <td>0.579807</td>\n    </tr>\n    <tr>\n      <th>2</th>\n      <td>2239</td>\n      <td>52</td>\n      <td>94871.0</td>\n      <td>0.634023</td>\n      <td>1.664848</td>\n    </tr>\n  </tbody>\n</table>\n</div>"
     },
     "metadata": {}
    }
   ]
  },
  {
   "cell_type": "markdown",
   "source": "La distancia entre los clientes con las variables **sin estandarizar** ",
   "metadata": {
    "tags": [],
    "cell_id": "00014-b4a683b2-e46b-4f02-adc9-b86da7b78dd9",
    "deepnote_cell_type": "markdown"
   }
  },
  {
   "cell_type": "code",
   "metadata": {
    "tags": [],
    "cell_id": "00011-3571497b-c622-4468-82c9-716da8c60e39",
    "deepnote_to_be_reexecuted": false,
    "source_hash": "2abf0e2",
    "execution_start": 1628047383016,
    "execution_millis": 4,
    "deepnote_cell_type": "code"
   },
   "source": "print('Distancia entre cliente 0 y 1')\nprint(((df_dis_euc.iloc[0,1] - df_dis_euc.iloc[1,1])**2 + (df_dis_euc.iloc[0,2] - df_dis_euc.iloc[1,2])**2)**0.5)\nprint('Distancia entre cliente 0 y 2')\nprint(((df_dis_euc.iloc[0,1] - df_dis_euc.iloc[2,1])**2 + (df_dis_euc.iloc[0,2] - df_dis_euc.iloc[2,2])**2)**0.5)",
   "execution_count": null,
   "outputs": [
    {
     "name": "stdout",
     "text": "Distancia entre cliente 0 y 1\n19509.000102516788\nDistancia entre cliente 0 y 2\n48561.00050452009\n",
     "output_type": "stream"
    }
   ]
  },
  {
   "cell_type": "markdown",
   "source": "La distancia entre los clientes con las variables **estandarizadas**",
   "metadata": {
    "tags": [],
    "cell_id": "00016-f918074a-bb6c-49af-9d71-3d9d2ec95da9",
    "deepnote_cell_type": "markdown"
   }
  },
  {
   "cell_type": "code",
   "metadata": {
    "tags": [],
    "cell_id": "00011-b88bf6f6-e39d-485e-84d2-6016f5c2c1ff",
    "deepnote_to_be_reexecuted": false,
    "source_hash": "f71fc265",
    "execution_start": 1628047383017,
    "execution_millis": 46,
    "deepnote_cell_type": "code"
   },
   "source": "print('Distancia entre cliente 0 y 1')\nprint(((df_dis_euc.iloc[0,3] - df_dis_euc.iloc[1,3])**2 + (df_dis_euc.iloc[0,4] - df_dis_euc.iloc[1,4])**2)**0.5)\nprint('Distancia entre cliente 0 y 2')\nprint(((df_dis_euc.iloc[0,3] - df_dis_euc.iloc[2,3])**2 + (df_dis_euc.iloc[0,4] - df_dis_euc.iloc[2,4])**2)**0.5)",
   "execution_count": null,
   "outputs": [
    {
     "name": "stdout",
     "text": "Distancia entre cliente 0 y 1\n0.7684022718287951\nDistancia entre cliente 0 y 2\n2.0046996187028268\n",
     "output_type": "stream"
    }
   ]
  },
  {
   "cell_type": "markdown",
   "source": "## Clustering de K-means",
   "metadata": {
    "tags": [],
    "is_collapsed": false,
    "cell_id": "00018-1afab6f8-bc2b-4ce7-ae1b-d15a51daeab3",
    "deepnote_cell_type": "text-cell-h2"
   }
  },
  {
   "cell_type": "code",
   "metadata": {
    "tags": [],
    "cell_id": "00013-44f70074-2611-4304-a29d-6ad69732fba9",
    "deepnote_to_be_reexecuted": false,
    "source_hash": "f49233b0",
    "execution_start": 1628047383060,
    "execution_millis": 4193,
    "deepnote_cell_type": "code"
   },
   "source": "import matplotlib.pyplot as plt\nimport seaborn as sns",
   "execution_count": null,
   "outputs": []
  },
  {
   "cell_type": "code",
   "metadata": {
    "tags": [],
    "cell_id": "00020-076e8c88-448c-4dee-8dfe-cb257f56e949",
    "deepnote_to_be_reexecuted": false,
    "source_hash": "e7f2966b",
    "execution_start": 1628047387257,
    "execution_millis": 188,
    "deepnote_cell_type": "code"
   },
   "source": "Age_Inc = pd.read_csv('ageinc.csv', names = ['Income', 'Age'],skiprows=1)\nAge_Inc['Income_Z'] = (Age_Inc.Income - Age_Inc.Income.mean()) / Age_Inc.Income.std()\nAge_Inc['Age_Z'] = (Age_Inc.Age - Age_Inc.Age.mean()) / Age_Inc.Age.std()\nAge_Inc",
   "execution_count": null,
   "outputs": [
    {
     "output_type": "execute_result",
     "execution_count": 14,
     "data": {
      "application/vnd.deepnote.dataframe.v2+json": {
       "row_count": 1000,
       "column_count": 4,
       "columns": [
        {
         "name": "Income",
         "dtype": "int64",
         "stats": {
          "unique_count": 984,
          "nan_count": 0,
          "min": "0",
          "max": "179294",
          "histogram": [
           {
            "bin_start": 0,
            "bin_end": 17929.4,
            "count": 35
           },
           {
            "bin_start": 17929.4,
            "bin_end": 35858.8,
            "count": 104
           },
           {
            "bin_start": 35858.8,
            "bin_end": 53788.200000000004,
            "count": 205
           },
           {
            "bin_start": 53788.200000000004,
            "bin_end": 71717.6,
            "count": 130
           },
           {
            "bin_start": 71717.6,
            "bin_end": 89647,
            "count": 63
           },
           {
            "bin_start": 89647,
            "bin_end": 107576.40000000001,
            "count": 128
           },
           {
            "bin_start": 107576.40000000001,
            "bin_end": 125505.80000000002,
            "count": 189
           },
           {
            "bin_start": 125505.80000000002,
            "bin_end": 143435.2,
            "count": 112
           },
           {
            "bin_start": 143435.2,
            "bin_end": 161364.6,
            "count": 31
           },
           {
            "bin_start": 161364.6,
            "bin_end": 179294,
            "count": 3
           }
          ]
         }
        },
        {
         "name": "Age",
         "dtype": "int64",
         "stats": {
          "unique_count": 46,
          "nan_count": 0,
          "min": "18",
          "max": "63",
          "histogram": [
           {
            "bin_start": 18,
            "bin_end": 22.5,
            "count": 35
           },
           {
            "bin_start": 22.5,
            "bin_end": 27,
            "count": 97
           },
           {
            "bin_start": 27,
            "bin_end": 31.5,
            "count": 190
           },
           {
            "bin_start": 31.5,
            "bin_end": 36,
            "count": 122
           },
           {
            "bin_start": 36,
            "bin_end": 40.5,
            "count": 75
           },
           {
            "bin_start": 40.5,
            "bin_end": 45,
            "count": 67
           },
           {
            "bin_start": 45,
            "bin_end": 49.5,
            "count": 186
           },
           {
            "bin_start": 49.5,
            "bin_end": 54,
            "count": 119
           },
           {
            "bin_start": 54,
            "bin_end": 58.5,
            "count": 86
           },
           {
            "bin_start": 58.5,
            "bin_end": 63,
            "count": 23
           }
          ]
         }
        },
        {
         "name": "Income_Z",
         "dtype": "float64",
         "stats": {
          "unique_count": 984,
          "nan_count": 0,
          "min": "-2.040551501391302",
          "max": "2.526013297655661",
          "histogram": [
           {
            "bin_start": -2.040551501391302,
            "bin_end": -1.5838950214866057,
            "count": 35
           },
           {
            "bin_start": -1.5838950214866057,
            "bin_end": -1.1272385415819093,
            "count": 104
           },
           {
            "bin_start": -1.1272385415819093,
            "bin_end": -0.6705820616772131,
            "count": 205
           },
           {
            "bin_start": -0.6705820616772131,
            "bin_end": -0.21392558177251675,
            "count": 130
           },
           {
            "bin_start": -0.21392558177251675,
            "bin_end": 0.24273089813217963,
            "count": 63
           },
           {
            "bin_start": 0.24273089813217963,
            "bin_end": 0.6993873780368758,
            "count": 128
           },
           {
            "bin_start": 0.6993873780368758,
            "bin_end": 1.1560438579415724,
            "count": 189
           },
           {
            "bin_start": 1.1560438579415724,
            "bin_end": 1.6127003378462685,
            "count": 112
           },
           {
            "bin_start": 1.6127003378462685,
            "bin_end": 2.069356817750965,
            "count": 31
           },
           {
            "bin_start": 2.069356817750965,
            "bin_end": 2.526013297655661,
            "count": 3
           }
          ]
         }
        },
        {
         "name": "Age_Z",
         "dtype": "float64",
         "stats": {
          "unique_count": 46,
          "nan_count": 0,
          "min": "-1.9504753295697665",
          "max": "2.14907580684497",
          "histogram": [
           {
            "bin_start": -1.9504753295697665,
            "bin_end": -1.540520215928293,
            "count": 35
           },
           {
            "bin_start": -1.540520215928293,
            "bin_end": -1.1305651022868193,
            "count": 97
           },
           {
            "bin_start": -1.1305651022868193,
            "bin_end": -0.7206099886453456,
            "count": 190
           },
           {
            "bin_start": -0.7206099886453456,
            "bin_end": -0.310654875003872,
            "count": 122
           },
           {
            "bin_start": -0.310654875003872,
            "bin_end": 0.09930023863760162,
            "count": 75
           },
           {
            "bin_start": 0.09930023863760162,
            "bin_end": 0.5092553522790753,
            "count": 67
           },
           {
            "bin_start": 0.5092553522790753,
            "bin_end": 0.9192104659205489,
            "count": 186
           },
           {
            "bin_start": 0.9192104659205489,
            "bin_end": 1.3291655795620225,
            "count": 119
           },
           {
            "bin_start": 1.3291655795620225,
            "bin_end": 1.7391206932034962,
            "count": 86
           },
           {
            "bin_start": 1.7391206932034962,
            "bin_end": 2.14907580684497,
            "count": 23
           }
          ]
         }
        },
        {
         "name": "_deepnote_index_column",
         "dtype": "int64"
        }
       ],
       "rows_top": [
        {
         "Income": 101743,
         "Age": 58,
         "Income_Z": 0.5508124168069375,
         "Age_Z": 1.6935701250211104,
         "_deepnote_index_column": 0
        },
        {
         "Income": 49597,
         "Age": 27,
         "Income_Z": -0.7773306778370714,
         "Age_Z": -1.1305651022868193,
         "_deepnote_index_column": 1
        },
        {
         "Income": 36517,
         "Age": 52,
         "Income_Z": -1.1104743835468793,
         "Age_Z": 1.1469633068324787,
         "_deepnote_index_column": 2
        },
        {
         "Income": 33223,
         "Age": 49,
         "Income_Z": -1.1943715828288446,
         "Age_Z": 0.873659897738163,
         "_deepnote_index_column": 3
        },
        {
         "Income": 72994,
         "Age": 53,
         "Income_Z": -0.18141605379331205,
         "Age_Z": 1.2380644431972507,
         "_deepnote_index_column": 4
        },
        {
         "Income": 38361,
         "Age": 26,
         "Income_Z": -1.0635082525584323,
         "Age_Z": -1.221666238651591,
         "_deepnote_index_column": 5
        },
        {
         "Income": 48579,
         "Age": 29,
         "Income_Z": -0.8032588347493486,
         "Age_Z": -0.9483628295572754,
         "_deepnote_index_column": 6
        },
        {
         "Income": 115248,
         "Age": 24,
         "Income_Z": 0.8947807459820869,
         "Age_Z": -1.4038685113811349,
         "_deepnote_index_column": 7
        },
        {
         "Income": 11527,
         "Age": 31,
         "Income_Z": -1.7469622433089662,
         "Age_Z": -0.7661605568277315,
         "_deepnote_index_column": 8
        },
        {
         "Income": 54096,
         "Age": 51,
         "Income_Z": -0.6627424873180787,
         "Age_Z": 1.055862170467707,
         "_deepnote_index_column": 9
        },
        {
         "Income": 11783,
         "Age": 29,
         "Income_Z": -1.7404419995274898,
         "Age_Z": -0.9483628295572754,
         "_deepnote_index_column": 10
        },
        {
         "Income": 66578,
         "Age": 28,
         "Income_Z": -0.3448296635665633,
         "Age_Z": -1.0394639659220473,
         "_deepnote_index_column": 11
        },
        {
         "Income": 49199,
         "Age": 27,
         "Income_Z": -0.7874676193410854,
         "Age_Z": -1.1305651022868193,
         "_deepnote_index_column": 12
        },
        {
         "Income": 117177,
         "Age": 55,
         "Income_Z": 0.9439118016636021,
         "Age_Z": 1.4202667159267945,
         "_deepnote_index_column": 13
        },
        {
         "Income": 134379,
         "Age": 48,
         "Income_Z": 1.382041620136088,
         "Age_Z": 0.7825587613733911,
         "_deepnote_index_column": 14
        },
        {
         "Income": 59501,
         "Age": 50,
         "Income_Z": -0.5250787465412048,
         "Age_Z": 0.9647610341029349,
         "_deepnote_index_column": 15
        },
        {
         "Income": 117846,
         "Age": 27,
         "Income_Z": 0.9609510324831634,
         "Age_Z": -1.1305651022868193,
         "_deepnote_index_column": 16
        },
        {
         "Income": 93487,
         "Age": 38,
         "Income_Z": 0.3405345548543249,
         "Age_Z": -0.1284526022743281,
         "_deepnote_index_column": 17
        },
        {
         "Income": 41563,
         "Age": 31,
         "Income_Z": -0.981954265885435,
         "Age_Z": -0.7661605568277315,
         "_deepnote_index_column": 18
        },
        {
         "Income": 78534,
         "Age": 51,
         "Income_Z": -0.040313903209800175,
         "Age_Z": 1.055862170467707,
         "_deepnote_index_column": 19
        },
        {
         "Income": 20851,
         "Age": 26,
         "Income_Z": -1.5094827393305068,
         "Age_Z": -1.221666238651591,
         "_deepnote_index_column": 20
        },
        {
         "Income": 114628,
         "Age": 31,
         "Income_Z": 0.8789895305738239,
         "Age_Z": -0.7661605568277315,
         "_deepnote_index_column": 21
        },
        {
         "Income": 89332,
         "Age": 50,
         "Income_Z": 0.234707941916691,
         "Age_Z": 0.9647610341029349,
         "_deepnote_index_column": 22
        },
        {
         "Income": 111413,
         "Age": 60,
         "Income_Z": 0.7971044377712985,
         "Age_Z": 1.8757723977506542,
         "_deepnote_index_column": 23
        },
        {
         "Income": 79333,
         "Age": 24,
         "Income_Z": -0.019963611094957943,
         "Age_Z": -1.4038685113811349,
         "_deepnote_index_column": 24
        },
        {
         "Income": 112400,
         "Age": 30,
         "Income_Z": 0.8222430339131624,
         "Age_Z": -0.8572616931925034,
         "_deepnote_index_column": 25
        },
        {
         "Income": 108937,
         "Age": 61,
         "Income_Z": 0.7340414549473318,
         "Age_Z": 1.966873534115426,
         "_deepnote_index_column": 26
        },
        {
         "Income": 0,
         "Age": 23,
         "Income_Z": -2.040551501391302,
         "Age_Z": -1.494969647745907,
         "_deepnote_index_column": 27
        },
        {
         "Income": 118081,
         "Age": 40,
         "Income_Z": 0.9669364125169405,
         "Age_Z": 0.05374967045521574,
         "_deepnote_index_column": 28
        },
        {
         "Income": 130623,
         "Age": 33,
         "Income_Z": 1.2863774184047394,
         "Age_Z": -0.5839582840981877,
         "_deepnote_index_column": 29
        },
        {
         "Income": 54556,
         "Age": 21,
         "Income_Z": -0.6510264242732383,
         "Age_Z": -1.6771719204754507,
         "_deepnote_index_column": 30
        },
        {
         "Income": 71035,
         "Age": 30,
         "Income_Z": -0.23131120054296903,
         "Age_Z": -0.8572616931925034,
         "_deepnote_index_column": 31
        },
        {
         "Income": 36426,
         "Age": 28,
         "Income_Z": -1.1127921264535758,
         "Age_Z": -1.0394639659220473,
         "_deepnote_index_column": 32
        },
        {
         "Income": 103218,
         "Age": 31,
         "Income_Z": 0.5883802276572407,
         "Age_Z": -0.7661605568277315,
         "_deepnote_index_column": 33
        },
        {
         "Income": 108768,
         "Age": 31,
         "Income_Z": 0.7297370752634665,
         "Age_Z": -0.7661605568277315,
         "_deepnote_index_column": 34
        },
        {
         "Income": 104961,
         "Age": 19,
         "Income_Z": 0.6327739187162771,
         "Age_Z": -1.8593741932049945,
         "_deepnote_index_column": 35
        },
        {
         "Income": 49310,
         "Age": 35,
         "Income_Z": -0.784640482388961,
         "Age_Z": -0.40175601136864386,
         "_deepnote_index_column": 36
        },
        {
         "Income": 54225,
         "Age": 28,
         "Income_Z": -0.6594568957250692,
         "Age_Z": -1.0394639659220473,
         "_deepnote_index_column": 37
        },
        {
         "Income": 43132,
         "Age": 54,
         "Income_Z": -0.941992303021621,
         "Age_Z": 1.3291655795620225,
         "_deepnote_index_column": 38
        },
        {
         "Income": 116101,
         "Age": 53,
         "Income_Z": 0.9165064020195843,
         "Age_Z": 1.2380644431972507,
         "_deepnote_index_column": 39
        },
        {
         "Income": 48609,
         "Age": 54,
         "Income_Z": -0.8024947436812068,
         "Age_Z": 1.3291655795620225,
         "_deepnote_index_column": 40
        },
        {
         "Income": 43710,
         "Age": 53,
         "Income_Z": -0.9272708151087563,
         "Age_Z": 1.2380644431972507,
         "_deepnote_index_column": 41
        },
        {
         "Income": 131209,
         "Age": 55,
         "Income_Z": 1.3013026639357752,
         "Age_Z": 1.4202667159267945,
         "_deepnote_index_column": 42
        },
        {
         "Income": 113962,
         "Age": 23,
         "Income_Z": 0.8620267088610768,
         "Age_Z": -1.494969647745907,
         "_deepnote_index_column": 43
        },
        {
         "Income": 112905,
         "Age": 26,
         "Income_Z": 0.8351052335602154,
         "Age_Z": -1.221666238651591,
         "_deepnote_index_column": 44
        },
        {
         "Income": 145888,
         "Age": 31,
         "Income_Z": 1.6751724235775387,
         "Age_Z": -0.7661605568277315,
         "_deepnote_index_column": 45
        },
        {
         "Income": 150204,
         "Age": 45,
         "Income_Z": 1.7850996585808667,
         "Age_Z": 0.5092553522790754,
         "_deepnote_index_column": 46
        },
        {
         "Income": 126063,
         "Age": 51,
         "Income_Z": 1.1702355760471919,
         "Age_Z": 1.055862170467707,
         "_deepnote_index_column": 47
        },
        {
         "Income": 136403,
         "Age": 25,
         "Income_Z": 1.4335922975333855,
         "Age_Z": -1.312767375016363,
         "_deepnote_index_column": 48
        },
        {
         "Income": 59296,
         "Age": 28,
         "Income_Z": -0.5303000355068401,
         "Age_Z": -1.0394639659220473,
         "_deepnote_index_column": 49
        },
        {
         "Income": 111145,
         "Age": 29,
         "Income_Z": 0.7902785575625654,
         "Age_Z": -0.9483628295572754,
         "_deepnote_index_column": 50
        },
        {
         "Income": 48960,
         "Age": 49,
         "Income_Z": -0.7935548781839482,
         "Age_Z": 0.873659897738163,
         "_deepnote_index_column": 51
        },
        {
         "Income": 96112,
         "Age": 47,
         "Income_Z": 0.407392523316729,
         "Age_Z": 0.6914576250086192,
         "_deepnote_index_column": 52
        },
        {
         "Income": 21198,
         "Age": 32,
         "Income_Z": -1.5006447526423339,
         "Age_Z": -0.6750594204629596,
         "_deepnote_index_column": 53
        },
        {
         "Income": 35596,
         "Age": 52,
         "Income_Z": -1.1339319793388314,
         "Age_Z": 1.1469633068324787,
         "_deepnote_index_column": 54
        },
        {
         "Income": 24298,
         "Age": 32,
         "Income_Z": -1.4216886756010185,
         "Age_Z": -0.6750594204629596,
         "_deepnote_index_column": 55
        },
        {
         "Income": 28203,
         "Age": 31,
         "Income_Z": -1.3222294882312327,
         "Age_Z": -0.7661605568277315,
         "_deepnote_index_column": 56
        },
        {
         "Income": 54609,
         "Age": 24,
         "Income_Z": -0.6496765300528545,
         "Age_Z": -1.4038685113811349,
         "_deepnote_index_column": 57
        },
        {
         "Income": 125078,
         "Age": 35,
         "Income_Z": 1.1451479193098706,
         "Age_Z": -0.40175601136864386,
         "_deepnote_index_column": 58
        },
        {
         "Income": 51431,
         "Age": 33,
         "Income_Z": -0.7306192438713385,
         "Age_Z": -0.5839582840981877,
         "_deepnote_index_column": 59
        },
        {
         "Income": 124457,
         "Age": 51,
         "Income_Z": 1.1293312341993362,
         "Age_Z": 1.055862170467707,
         "_deepnote_index_column": 60
        },
        {
         "Income": 36468,
         "Age": 45,
         "Income_Z": -1.1117223989581775,
         "Age_Z": 0.5092553522790754,
         "_deepnote_index_column": 61
        },
        {
         "Income": 115503,
         "Age": 26,
         "Income_Z": 0.9012755200612919,
         "Age_Z": -1.221666238651591,
         "_deepnote_index_column": 62
        },
        {
         "Income": 124380,
         "Age": 30,
         "Income_Z": 1.1273700671244389,
         "Age_Z": -0.8572616931925034,
         "_deepnote_index_column": 63
        },
        {
         "Income": 50508,
         "Age": 31,
         "Income_Z": -0.7541277790678332,
         "Age_Z": -0.7661605568277315,
         "_deepnote_index_column": 64
        },
        {
         "Income": 136175,
         "Age": 34,
         "Income_Z": 1.427785205415508,
         "Age_Z": -0.49285714773341577,
         "_deepnote_index_column": 65
        },
        {
         "Income": 47523,
         "Age": 55,
         "Income_Z": -0.8301548403479385,
         "Age_Z": 1.4202667159267945,
         "_deepnote_index_column": 66
        },
        {
         "Income": 132422,
         "Age": 34,
         "Income_Z": 1.3321974127909737,
         "Age_Z": -0.49285714773341577,
         "_deepnote_index_column": 67
        },
        {
         "Income": 138422,
         "Age": 47,
         "Income_Z": 1.485015626419326,
         "Age_Z": 0.6914576250086192,
         "_deepnote_index_column": 68
        },
        {
         "Income": 131567,
         "Age": 39,
         "Income_Z": 1.3104208173489336,
         "Age_Z": -0.037351465909556174,
         "_deepnote_index_column": 69
        },
        {
         "Income": 52303,
         "Age": 53,
         "Income_Z": -0.7084096634906846,
         "Age_Z": 1.2380644431972507,
         "_deepnote_index_column": 70
        },
        {
         "Income": 86327,
         "Age": 21,
         "Income_Z": 0.15817148659115793,
         "Age_Z": -1.6771719204754507,
         "_deepnote_index_column": 71
        },
        {
         "Income": 104053,
         "Age": 21,
         "Income_Z": 0.6096474290538532,
         "Age_Z": -1.6771719204754507,
         "_deepnote_index_column": 72
        },
        {
         "Income": 117156,
         "Age": 55,
         "Income_Z": 0.9433769379159029,
         "Age_Z": 1.4202667159267945,
         "_deepnote_index_column": 73
        },
        {
         "Income": 56926,
         "Age": 57,
         "Income_Z": -0.5906632298900393,
         "Age_Z": 1.6024689886563384,
         "_deepnote_index_column": 74
        },
        {
         "Income": 60241,
         "Age": 50,
         "Income_Z": -0.5062311668603746,
         "Age_Z": 0.9647610341029349,
         "_deepnote_index_column": 75
        },
        {
         "Income": 26963,
         "Age": 32,
         "Income_Z": -1.3538119190477587,
         "Age_Z": -0.6750594204629596,
         "_deepnote_index_column": 76
        },
        {
         "Income": 114569,
         "Age": 30,
         "Income_Z": 0.8774868181398118,
         "Age_Z": -0.8572616931925034,
         "_deepnote_index_column": 77
        },
        {
         "Income": 126278,
         "Age": 21,
         "Income_Z": 1.175711562035541,
         "Age_Z": -1.6771719204754507,
         "_deepnote_index_column": 78
        },
        {
         "Income": 110378,
         "Age": 53,
         "Income_Z": 0.7707432959204077,
         "Age_Z": 1.2380644431972507,
         "_deepnote_index_column": 79
        },
        {
         "Income": 139300,
         "Age": 56,
         "Income_Z": 1.5073780250136082,
         "Age_Z": 1.5113678522915663,
         "_deepnote_index_column": 80
        },
        {
         "Income": 53811,
         "Age": 37,
         "Income_Z": -0.6700013524654254,
         "Age_Z": -0.21955373863910002,
         "_deepnote_index_column": 81
        },
        {
         "Income": 90113,
         "Age": 25,
         "Income_Z": 0.25459977939064815,
         "Age_Z": -1.312767375016363,
         "_deepnote_index_column": 82
        },
        {
         "Income": 39116,
         "Age": 43,
         "Income_Z": -1.0442786273435314,
         "Age_Z": 0.3270530795495315,
         "_deepnote_index_column": 83
        },
        {
         "Income": 112443,
         "Age": 29,
         "Income_Z": 0.8233382311108323,
         "Age_Z": -0.9483628295572754,
         "_deepnote_index_column": 84
        },
        {
         "Income": 27603,
         "Age": 54,
         "Income_Z": -1.3375113095940678,
         "Age_Z": 1.3291655795620225,
         "_deepnote_index_column": 85
        },
        {
         "Income": 71181,
         "Age": 45,
         "Income_Z": -0.2275926240113458,
         "Age_Z": 0.5092553522790754,
         "_deepnote_index_column": 86
        },
        {
         "Income": 20751,
         "Age": 49,
         "Income_Z": -1.512029709557646,
         "Age_Z": 0.873659897738163,
         "_deepnote_index_column": 87
        },
        {
         "Income": 47846,
         "Age": 52,
         "Income_Z": -0.8219281265142789,
         "Age_Z": 1.1469633068324787,
         "_deepnote_index_column": 88
        },
        {
         "Income": 106959,
         "Age": 27,
         "Income_Z": 0.6836623838545184,
         "Age_Z": -1.1305651022868193,
         "_deepnote_index_column": 89
        },
        {
         "Income": 32505,
         "Age": 59,
         "Income_Z": -1.212658829059704,
         "Age_Z": 1.7846712613858822,
         "_deepnote_index_column": 90
        },
        {
         "Income": 33476,
         "Age": 37,
         "Income_Z": -1.1879277481541823,
         "Age_Z": -0.21955373863910002,
         "_deepnote_index_column": 91
        },
        {
         "Income": 60676,
         "Age": 53,
         "Income_Z": -0.4951518463723191,
         "Age_Z": 1.2380644431972507,
         "_deepnote_index_column": 92
        },
        {
         "Income": 116432,
         "Age": 35,
         "Income_Z": 0.9249368734714151,
         "Age_Z": -0.40175601136864386,
         "_deepnote_index_column": 93
        },
        {
         "Income": 43237,
         "Age": 26,
         "Income_Z": -0.9393179842831247,
         "Age_Z": -1.221666238651591,
         "_deepnote_index_column": 94
        },
        {
         "Income": 57028,
         "Age": 28,
         "Income_Z": -0.5880653202583572,
         "Age_Z": -1.0394639659220473,
         "_deepnote_index_column": 95
        },
        {
         "Income": 115825,
         "Age": 33,
         "Income_Z": 0.9094767641926801,
         "Age_Z": -0.5839582840981877,
         "_deepnote_index_column": 96
        },
        {
         "Income": 49185,
         "Age": 47,
         "Income_Z": -0.7878241951728849,
         "Age_Z": 0.6914576250086192,
         "_deepnote_index_column": 97
        },
        {
         "Income": 15664,
         "Age": 47,
         "Income_Z": -1.6415940850122173,
         "Age_Z": 0.6914576250086192,
         "_deepnote_index_column": 98
        },
        {
         "Income": 46417,
         "Age": 50,
         "Income_Z": -0.8583243310600981,
         "Age_Z": 0.9647610341029349,
         "_deepnote_index_column": 99
        },
        {
         "Income": 15434,
         "Age": 29,
         "Income_Z": -1.6474521165346374,
         "Age_Z": -0.9483628295572754,
         "_deepnote_index_column": 100
        },
        {
         "Income": 113249,
         "Age": 32,
         "Income_Z": 0.8438668111415742,
         "Age_Z": -0.6750594204629596,
         "_deepnote_index_column": 101
        },
        {
         "Income": 71978,
         "Age": 50,
         "Income_Z": -0.20729327130104636,
         "Age_Z": 0.9647610341029349,
         "_deepnote_index_column": 102
        },
        {
         "Income": 132934,
         "Age": 51,
         "Income_Z": 1.3452379003539263,
         "Age_Z": 1.055862170467707,
         "_deepnote_index_column": 103
        },
        {
         "Income": 70430,
         "Age": 49,
         "Income_Z": -0.24672037041716122,
         "Age_Z": 0.873659897738163,
         "_deepnote_index_column": 104
        },
        {
         "Income": 71862,
         "Age": 20,
         "Income_Z": -0.2102477567645278,
         "Age_Z": -1.7682730568402227,
         "_deepnote_index_column": 105
        },
        {
         "Income": 110505,
         "Age": 38,
         "Income_Z": 0.7739779481088745,
         "Age_Z": -0.1284526022743281,
         "_deepnote_index_column": 106
        },
        {
         "Income": 31321,
         "Age": 45,
         "Income_Z": -1.2428149565490323,
         "Age_Z": 0.5092553522790754,
         "_deepnote_index_column": 107
        },
        {
         "Income": 32997,
         "Age": 41,
         "Income_Z": -1.200127735542179,
         "Age_Z": 0.14485080681998766,
         "_deepnote_index_column": 108
        },
        {
         "Income": 53066,
         "Age": 53,
         "Income_Z": -0.6889762806576125,
         "Age_Z": 1.2380644431972507,
         "_deepnote_index_column": 109
        },
        {
         "Income": 42935,
         "Age": 27,
         "Income_Z": -0.9470098343690851,
         "Age_Z": -1.1305651022868193,
         "_deepnote_index_column": 110
        },
        {
         "Income": 98690,
         "Age": 49,
         "Income_Z": 0.47305341577237764,
         "Age_Z": 0.873659897738163,
         "_deepnote_index_column": 111
        },
        {
         "Income": 91509,
         "Age": 50,
         "Income_Z": 0.29015548376151146,
         "Age_Z": 0.9647610341029349,
         "_deepnote_index_column": 112
        },
        {
         "Income": 0,
         "Age": 25,
         "Income_Z": -2.040551501391302,
         "Age_Z": -1.312767375016363,
         "_deepnote_index_column": 113
        },
        {
         "Income": 147193,
         "Age": 32,
         "Income_Z": 1.7084103850417054,
         "Age_Z": -0.6750594204629596,
         "_deepnote_index_column": 114
        },
        {
         "Income": 50403,
         "Age": 44,
         "Income_Z": -0.7568020978063295,
         "Age_Z": 0.4181542159143034,
         "_deepnote_index_column": 115
        },
        {
         "Income": 96110,
         "Age": 46,
         "Income_Z": 0.40734158391218617,
         "Age_Z": 0.6003564886438473,
         "_deepnote_index_column": 116
        },
        {
         "Income": 130613,
         "Age": 30,
         "Income_Z": 1.2861227213820254,
         "Age_Z": -0.8572616931925034,
         "_deepnote_index_column": 117
        },
        {
         "Income": 57273,
         "Age": 32,
         "Income_Z": -0.5818252432018662,
         "Age_Z": -0.6750594204629596,
         "_deepnote_index_column": 118
        },
        {
         "Income": 10416,
         "Age": 48,
         "Income_Z": -1.7752590825324828,
         "Age_Z": 0.7825587613733911,
         "_deepnote_index_column": 119
        },
        {
         "Income": 141352,
         "Age": 45,
         "Income_Z": 1.5596418540745045,
         "Age_Z": 0.5092553522790754,
         "_deepnote_index_column": 120
        },
        {
         "Income": 61184,
         "Age": 23,
         "Income_Z": -0.482213237618452,
         "Age_Z": -1.494969647745907,
         "_deepnote_index_column": 121
        },
        {
         "Income": 111150,
         "Age": 24,
         "Income_Z": 0.7904059060739224,
         "Age_Z": -1.4038685113811349,
         "_deepnote_index_column": 122
        },
        {
         "Income": 62284,
         "Age": 28,
         "Income_Z": -0.45419656511992074,
         "Age_Z": -1.0394639659220473,
         "_deepnote_index_column": 123
        },
        {
         "Income": 37066,
         "Age": 55,
         "Income_Z": -1.096491516999885,
         "Age_Z": 1.4202667159267945,
         "_deepnote_index_column": 124
        }
       ],
       "rows_bottom": [
        {
         "Income": 47653,
         "Age": 53,
         "Income_Z": -0.8268437790526576,
         "Age_Z": 1.2380644431972507,
         "_deepnote_index_column": 875
        },
        {
         "Income": 115535,
         "Age": 39,
         "Income_Z": 0.9020905505339765,
         "Age_Z": -0.037351465909556174,
         "_deepnote_index_column": 876
        },
        {
         "Income": 126115,
         "Age": 26,
         "Income_Z": 1.1715600005653042,
         "Age_Z": -1.221666238651591,
         "_deepnote_index_column": 877
        },
        {
         "Income": 149644,
         "Age": 53,
         "Income_Z": 1.7708366253088872,
         "Age_Z": 1.2380644431972507,
         "_deepnote_index_column": 878
        },
        {
         "Income": 41469,
         "Age": 28,
         "Income_Z": -0.9843484178989459,
         "Age_Z": -1.0394639659220473,
         "_deepnote_index_column": 879
        },
        {
         "Income": 54461,
         "Age": 51,
         "Income_Z": -0.6534460459890206,
         "Age_Z": 1.055862170467707,
         "_deepnote_index_column": 880
        },
        {
         "Income": 45792,
         "Age": 25,
         "Income_Z": -0.8742428949797181,
         "Age_Z": -1.312767375016363,
         "_deepnote_index_column": 881
        },
        {
         "Income": 135542,
         "Age": 48,
         "Income_Z": 1.4116628838777168,
         "Age_Z": 0.7825587613733911,
         "_deepnote_index_column": 882
        },
        {
         "Income": 133411,
         "Age": 35,
         "Income_Z": 1.3573869483373804,
         "Age_Z": -0.40175601136864386,
         "_deepnote_index_column": 883
        },
        {
         "Income": 62843,
         "Age": 46,
         "Income_Z": -0.43995900155021256,
         "Age_Z": 0.6003564886438473,
         "_deepnote_index_column": 884
        },
        {
         "Income": 27972,
         "Age": 49,
         "Income_Z": -1.328112989455924,
         "Age_Z": 0.873659897738163,
         "_deepnote_index_column": 885
        },
        {
         "Income": 115621,
         "Age": 32,
         "Income_Z": 0.9042809449293161,
         "Age_Z": -0.6750594204629596,
         "_deepnote_index_column": 886
        },
        {
         "Income": 54263,
         "Age": 34,
         "Income_Z": -0.6584890470387562,
         "Age_Z": -0.49285714773341577,
         "_deepnote_index_column": 887
        },
        {
         "Income": 59625,
         "Age": 32,
         "Income_Z": -0.5219205034595521,
         "Age_Z": -0.6750594204629596,
         "_deepnote_index_column": 888
        },
        {
         "Income": 29788,
         "Age": 40,
         "Income_Z": -1.2818600101310762,
         "Age_Z": 0.05374967045521574,
         "_deepnote_index_column": 889
        },
        {
         "Income": 44365,
         "Age": 41,
         "Income_Z": -0.9105881601209945,
         "Age_Z": 0.14485080681998766,
         "_deepnote_index_column": 890
        },
        {
         "Income": 112292,
         "Age": 53,
         "Income_Z": 0.8194923060678521,
         "Age_Z": 1.2380644431972507,
         "_deepnote_index_column": 891
        },
        {
         "Income": 129342,
         "Age": 26,
         "Income_Z": 1.2537507297950863,
         "Age_Z": -1.221666238651591,
         "_deepnote_index_column": 892
        },
        {
         "Income": 106273,
         "Age": 31,
         "Income_Z": 0.6661901680963435,
         "Age_Z": -0.7661605568277315,
         "_deepnote_index_column": 893
        },
        {
         "Income": 52798,
         "Age": 25,
         "Income_Z": -0.6958021608663455,
         "Age_Z": -1.312767375016363,
         "_deepnote_index_column": 894
        },
        {
         "Income": 35886,
         "Age": 38,
         "Income_Z": -1.1265457656801277,
         "Age_Z": -0.1284526022743281,
         "_deepnote_index_column": 895
        },
        {
         "Income": 48203,
         "Age": 31,
         "Income_Z": -0.8128354428033919,
         "Age_Z": -0.7661605568277315,
         "_deepnote_index_column": 896
        },
        {
         "Income": 30124,
         "Age": 41,
         "Income_Z": -1.2733021901678885,
         "Age_Z": 0.14485080681998766,
         "_deepnote_index_column": 897
        },
        {
         "Income": 126910,
         "Age": 47,
         "Income_Z": 1.1918084138710607,
         "Age_Z": 0.6914576250086192,
         "_deepnote_index_column": 898
        },
        {
         "Income": 81503,
         "Age": 24,
         "Income_Z": 0.03530564283396277,
         "Age_Z": -1.4038685113811349,
         "_deepnote_index_column": 899
        },
        {
         "Income": 28346,
         "Age": 59,
         "Income_Z": -1.3185873208064236,
         "Age_Z": 1.7846712613858822,
         "_deepnote_index_column": 900
        },
        {
         "Income": 57453,
         "Age": 50,
         "Income_Z": -0.5772406967930156,
         "Age_Z": 0.9647610341029349,
         "_deepnote_index_column": 901
        },
        {
         "Income": 114789,
         "Age": 30,
         "Income_Z": 0.883090152639518,
         "Age_Z": -0.8572616931925034,
         "_deepnote_index_column": 902
        },
        {
         "Income": 113258,
         "Age": 42,
         "Income_Z": 0.8440960384620168,
         "Age_Z": 0.23595194318475957,
         "_deepnote_index_column": 903
        },
        {
         "Income": 34828,
         "Age": 35,
         "Income_Z": -1.1534927106832604,
         "Age_Z": -0.40175601136864386,
         "_deepnote_index_column": 904
        },
        {
         "Income": 20623,
         "Age": 44,
         "Income_Z": -1.5152898314483843,
         "Age_Z": 0.4181542159143034,
         "_deepnote_index_column": 905
        },
        {
         "Income": 34701,
         "Age": 49,
         "Income_Z": -1.1567273628717272,
         "Age_Z": 0.873659897738163,
         "_deepnote_index_column": 906
        },
        {
         "Income": 65512,
         "Age": 33,
         "Income_Z": -0.37198036618786723,
         "Age_Z": -0.5839582840981877,
         "_deepnote_index_column": 907
        },
        {
         "Income": 123079,
         "Age": 30,
         "Income_Z": 1.0942339844693578,
         "Age_Z": -0.8572616931925034,
         "_deepnote_index_column": 908
        },
        {
         "Income": 129248,
         "Age": 61,
         "Income_Z": 1.2513565777815754,
         "Age_Z": 1.966873534115426,
         "_deepnote_index_column": 909
        },
        {
         "Income": 31154,
         "Age": 50,
         "Income_Z": -1.2470683968283547,
         "Age_Z": 0.9647610341029349,
         "_deepnote_index_column": 910
        },
        {
         "Income": 29159,
         "Age": 24,
         "Income_Z": -1.2978804528597818,
         "Age_Z": -1.4038685113811349,
         "_deepnote_index_column": 911
        },
        {
         "Income": 69608,
         "Age": 51,
         "Income_Z": -0.26765646568424545,
         "Age_Z": 1.055862170467707,
         "_deepnote_index_column": 912
        },
        {
         "Income": 65853,
         "Age": 50,
         "Income_Z": -0.3632951977133225,
         "Age_Z": 0.9647610341029349,
         "_deepnote_index_column": 913
        },
        {
         "Income": 96689,
         "Age": 40,
         "Income_Z": 0.42208854152732217,
         "Age_Z": 0.05374967045521574,
         "_deepnote_index_column": 914
        },
        {
         "Income": 111257,
         "Age": 18,
         "Income_Z": 0.7931311642169613,
         "Age_Z": -1.9504753295697665,
         "_deepnote_index_column": 915
        },
        {
         "Income": 103654,
         "Age": 51,
         "Income_Z": 0.5994850178475677,
         "Age_Z": 1.055862170467707,
         "_deepnote_index_column": 916
        },
        {
         "Income": 110122,
         "Age": 36,
         "Income_Z": 0.7642230521389314,
         "Age_Z": -0.31065487500387196,
         "_deepnote_index_column": 917
        },
        {
         "Income": 19793,
         "Age": 28,
         "Income_Z": -1.5364296843336396,
         "Age_Z": -1.0394639659220473,
         "_deepnote_index_column": 918
        },
        {
         "Income": 28247,
         "Age": 50,
         "Income_Z": -1.3211088213312914,
         "Age_Z": 0.9647610341029349,
         "_deepnote_index_column": 919
        },
        {
         "Income": 132370,
         "Age": 43,
         "Income_Z": 1.3308729882728614,
         "Age_Z": 0.3270530795495315,
         "_deepnote_index_column": 920
        },
        {
         "Income": 97748,
         "Age": 31,
         "Income_Z": 0.44906095623272635,
         "Age_Z": -0.7661605568277315,
         "_deepnote_index_column": 921
        },
        {
         "Income": 6871,
         "Age": 37,
         "Income_Z": -1.8655491770845674,
         "Age_Z": -0.21955373863910002,
         "_deepnote_index_column": 922
        },
        {
         "Income": 135162,
         "Age": 23,
         "Income_Z": 1.4019843970145878,
         "Age_Z": -1.494969647745907,
         "_deepnote_index_column": 923
        },
        {
         "Income": 101342,
         "Age": 30,
         "Income_Z": 0.5405990661961093,
         "Age_Z": -0.8572616931925034,
         "_deepnote_index_column": 924
        },
        {
         "Income": 127669,
         "Age": 51,
         "Income_Z": 1.2111399178950473,
         "Age_Z": 1.055862170467707,
         "_deepnote_index_column": 925
        },
        {
         "Income": 123456,
         "Age": 29,
         "Income_Z": 1.1038360622256727,
         "Age_Z": -0.9483628295572754,
         "_deepnote_index_column": 926
        },
        {
         "Income": 44790,
         "Age": 36,
         "Income_Z": -0.8997635366556529,
         "Age_Z": -0.31065487500387196,
         "_deepnote_index_column": 927
        },
        {
         "Income": 128800,
         "Age": 33,
         "Income_Z": 1.2399461511639918,
         "Age_Z": -0.5839582840981877,
         "_deepnote_index_column": 928
        },
        {
         "Income": 99813,
         "Age": 34,
         "Income_Z": 0.5016558914231509,
         "Age_Z": -0.49285714773341577,
         "_deepnote_index_column": 929
        },
        {
         "Income": 58501,
         "Age": 34,
         "Income_Z": -0.5505484488125968,
         "Age_Z": -0.49285714773341577,
         "_deepnote_index_column": 930
        },
        {
         "Income": 24876,
         "Age": 23,
         "Income_Z": -1.406967187688154,
         "Age_Z": -1.494969647745907,
         "_deepnote_index_column": 931
        },
        {
         "Income": 87004,
         "Age": 54,
         "Income_Z": 0.17541447502889035,
         "Age_Z": 1.3291655795620225,
         "_deepnote_index_column": 932
        },
        {
         "Income": 112459,
         "Age": 35,
         "Income_Z": 0.8237457463471746,
         "Age_Z": -0.40175601136864386,
         "_deepnote_index_column": 933
        },
        {
         "Income": 115769,
         "Age": 30,
         "Income_Z": 0.9080504608654821,
         "Age_Z": -0.8572616931925034,
         "_deepnote_index_column": 934
        },
        {
         "Income": 49448,
         "Age": 45,
         "Income_Z": -0.7811256634755088,
         "Age_Z": 0.5092553522790754,
         "_deepnote_index_column": 935
        },
        {
         "Income": 57248,
         "Age": 45,
         "Income_Z": -0.5824619857586509,
         "Age_Z": 0.5092553522790754,
         "_deepnote_index_column": 936
        },
        {
         "Income": 92121,
         "Age": 32,
         "Income_Z": 0.30574294155160336,
         "Age_Z": -0.6750594204629596,
         "_deepnote_index_column": 937
        },
        {
         "Income": 123368,
         "Age": 51,
         "Income_Z": 1.1015947284257903,
         "Age_Z": 1.055862170467707,
         "_deepnote_index_column": 938
        },
        {
         "Income": 83543,
         "Age": 25,
         "Income_Z": 0.08726383546760251,
         "Age_Z": -1.312767375016363,
         "_deepnote_index_column": 939
        },
        {
         "Income": 128899,
         "Age": 26,
         "Income_Z": 1.2424676516888595,
         "Age_Z": -1.221666238651591,
         "_deepnote_index_column": 940
        },
        {
         "Income": 84628,
         "Age": 36,
         "Income_Z": 0.11489846243206288,
         "Age_Z": -0.31065487500387196,
         "_deepnote_index_column": 941
        },
        {
         "Income": 102913,
         "Age": 45,
         "Income_Z": 0.5806119684644662,
         "Age_Z": 0.5092553522790754,
         "_deepnote_index_column": 942
        },
        {
         "Income": 68256,
         "Age": 25,
         "Income_Z": -0.3020915031551675,
         "Age_Z": -1.312767375016363,
         "_deepnote_index_column": 943
        },
        {
         "Income": 133538,
         "Age": 51,
         "Income_Z": 1.3606216005258471,
         "Age_Z": 1.055862170467707,
         "_deepnote_index_column": 944
        },
        {
         "Income": 105018,
         "Age": 30,
         "Income_Z": 0.6342256917457464,
         "Age_Z": -0.8572616931925034,
         "_deepnote_index_column": 945
        },
        {
         "Income": 124157,
         "Age": 53,
         "Income_Z": 1.1216903235179185,
         "Age_Z": 1.2380644431972507,
         "_deepnote_index_column": 946
        },
        {
         "Income": 98230,
         "Age": 58,
         "Income_Z": 0.4613373527275373,
         "Age_Z": 1.6935701250211104,
         "_deepnote_index_column": 947
        },
        {
         "Income": 41779,
         "Age": 44,
         "Income_Z": -0.9764528101948143,
         "Age_Z": 0.4181542159143034,
         "_deepnote_index_column": 948
        },
        {
         "Income": 36377,
         "Age": 44,
         "Income_Z": -1.1140401418648742,
         "Age_Z": 0.4181542159143034,
         "_deepnote_index_column": 949
        },
        {
         "Income": 143370,
         "Age": 30,
         "Income_Z": 1.6110397132581737,
         "Age_Z": -0.8572616931925034,
         "_deepnote_index_column": 950
        },
        {
         "Income": 29982,
         "Age": 47,
         "Income_Z": -1.276918887890426,
         "Age_Z": 0.6914576250086192,
         "_deepnote_index_column": 951
        },
        {
         "Income": 61890,
         "Age": 34,
         "Income_Z": -0.46423162781484917,
         "Age_Z": -0.49285714773341577,
         "_deepnote_index_column": 952
        },
        {
         "Income": 104571,
         "Age": 53,
         "Income_Z": 0.6228407348304342,
         "Age_Z": 1.2380644431972507,
         "_deepnote_index_column": 953
        },
        {
         "Income": 100355,
         "Age": 56,
         "Income_Z": 0.5154604700542453,
         "Age_Z": 1.5113678522915663,
         "_deepnote_index_column": 954
        },
        {
         "Income": 150464,
         "Age": 26,
         "Income_Z": 1.7917217811714288,
         "Age_Z": -1.221666238651591,
         "_deepnote_index_column": 955
        },
        {
         "Income": 98610,
         "Age": 42,
         "Income_Z": 0.4710158395906663,
         "Age_Z": 0.23595194318475957,
         "_deepnote_index_column": 956
        },
        {
         "Income": 50189,
         "Age": 27,
         "Income_Z": -0.7622526140924073,
         "Age_Z": -1.1305651022868193,
         "_deepnote_index_column": 957
        },
        {
         "Income": 123625,
         "Age": 58,
         "Income_Z": 1.108140441909538,
         "Age_Z": 1.6935701250211104,
         "_deepnote_index_column": 958
        },
        {
         "Income": 61479,
         "Age": 52,
         "Income_Z": -0.4746996754483913,
         "Age_Z": 1.1469633068324787,
         "_deepnote_index_column": 959
        },
        {
         "Income": 42073,
         "Age": 49,
         "Income_Z": -0.9689647177270251,
         "Age_Z": 0.873659897738163,
         "_deepnote_index_column": 960
        },
        {
         "Income": 96497,
         "Age": 51,
         "Income_Z": 0.4171983586912149,
         "Age_Z": 1.055862170467707,
         "_deepnote_index_column": 961
        },
        {
         "Income": 49014,
         "Age": 36,
         "Income_Z": -0.792179514261293,
         "Age_Z": -0.31065487500387196,
         "_deepnote_index_column": 962
        },
        {
         "Income": 137076,
         "Age": 33,
         "Income_Z": 1.4507334071620321,
         "Age_Z": -0.5839582840981877,
         "_deepnote_index_column": 963
        },
        {
         "Income": 131272,
         "Age": 26,
         "Income_Z": 1.302907255178873,
         "Age_Z": -1.221666238651591,
         "_deepnote_index_column": 964
        },
        {
         "Income": 110771,
         "Age": 31,
         "Income_Z": 0.7807528889130648,
         "Age_Z": -0.7661605568277315,
         "_deepnote_index_column": 965
        },
        {
         "Income": 52062,
         "Age": 40,
         "Income_Z": -0.71454786173809,
         "Age_Z": 0.05374967045521574,
         "_deepnote_index_column": 966
        },
        {
         "Income": 77794,
         "Age": 49,
         "Income_Z": -0.05916148289063028,
         "Age_Z": 0.873659897738163,
         "_deepnote_index_column": 967
        },
        {
         "Income": 125883,
         "Age": 45,
         "Income_Z": 1.165651029638341,
         "Age_Z": 0.5092553522790754,
         "_deepnote_index_column": 968
        },
        {
         "Income": 79721,
         "Age": 58,
         "Income_Z": -0.010081366613657834,
         "Age_Z": 1.6935701250211104,
         "_deepnote_index_column": 969
        },
        {
         "Income": 31411,
         "Age": 38,
         "Income_Z": -1.240522683344607,
         "Age_Z": -0.1284526022743281,
         "_deepnote_index_column": 970
        },
        {
         "Income": 117502,
         "Age": 49,
         "Income_Z": 0.9521894549018045,
         "Age_Z": 0.873659897738163,
         "_deepnote_index_column": 971
        },
        {
         "Income": 29282,
         "Age": 55,
         "Income_Z": -1.2947476794804005,
         "Age_Z": 1.4202667159267945,
         "_deepnote_index_column": 972
        },
        {
         "Income": 21025,
         "Age": 29,
         "Income_Z": -1.5050510111352846,
         "Age_Z": -0.9483628295572754,
         "_deepnote_index_column": 973
        },
        {
         "Income": 35506,
         "Age": 54,
         "Income_Z": -1.1362242525432567,
         "Age_Z": 1.3291655795620225,
         "_deepnote_index_column": 974
        },
        {
         "Income": 36985,
         "Age": 41,
         "Income_Z": -1.0985545628838678,
         "Age_Z": 0.14485080681998766,
         "_deepnote_index_column": 975
        },
        {
         "Income": 124976,
         "Age": 30,
         "Income_Z": 1.1425500096781886,
         "Age_Z": -0.8572616931925034,
         "_deepnote_index_column": 976
        },
        {
         "Income": 117584,
         "Age": 23,
         "Income_Z": 0.9542779704880587,
         "Age_Z": -1.494969647745907,
         "_deepnote_index_column": 977
        },
        {
         "Income": 135507,
         "Age": 57,
         "Income_Z": 1.4107714442982182,
         "Age_Z": 1.6024689886563384,
         "_deepnote_index_column": 978
        },
        {
         "Income": 15933,
         "Age": 56,
         "Income_Z": -1.634742735101213,
         "Age_Z": 1.5113678522915663,
         "_deepnote_index_column": 979
        },
        {
         "Income": 108025,
         "Age": 55,
         "Income_Z": 0.7108130864758223,
         "Age_Z": 1.4202667159267945,
         "_deepnote_index_column": 980
        },
        {
         "Income": 34512,
         "Age": 54,
         "Income_Z": -1.1615411366010202,
         "Age_Z": 1.3291655795620225,
         "_deepnote_index_column": 981
        },
        {
         "Income": 42597,
         "Age": 49,
         "Income_Z": -0.9556185937368157,
         "Age_Z": 0.873659897738163,
         "_deepnote_index_column": 982
        },
        {
         "Income": 74576,
         "Age": 53,
         "Income_Z": -0.14112298479996985,
         "Age_Z": 1.2380644431972507,
         "_deepnote_index_column": 983
        },
        {
         "Income": 73044,
         "Age": 51,
         "Income_Z": -0.18014256867974243,
         "Age_Z": 1.055862170467707,
         "_deepnote_index_column": 984
        },
        {
         "Income": 55886,
         "Age": 42,
         "Income_Z": -0.6171517202522869,
         "Age_Z": 0.23595194318475957,
         "_deepnote_index_column": 985
        },
        {
         "Income": 37519,
         "Age": 54,
         "Income_Z": -1.0849537418709445,
         "Age_Z": 1.3291655795620225,
         "_deepnote_index_column": 986
        },
        {
         "Income": 27683,
         "Age": 39,
         "Income_Z": -1.3354737334123565,
         "Age_Z": -0.037351465909556174,
         "_deepnote_index_column": 987
        },
        {
         "Income": 91446,
         "Age": 27,
         "Income_Z": 0.28855089251841376,
         "Age_Z": -1.1305651022868193,
         "_deepnote_index_column": 988
        },
        {
         "Income": 51601,
         "Age": 19,
         "Income_Z": -0.7262893944852018,
         "Age_Z": -1.8593741932049945,
         "_deepnote_index_column": 989
        },
        {
         "Income": 127550,
         "Age": 52,
         "Income_Z": 1.2081090233247518,
         "Age_Z": 1.1469633068324787,
         "_deepnote_index_column": 990
        },
        {
         "Income": 95327,
         "Age": 46,
         "Income_Z": 0.38739880703368623,
         "Age_Z": 0.6003564886438473,
         "_deepnote_index_column": 991
        },
        {
         "Income": 92675,
         "Age": 55,
         "Income_Z": 0.31985315660995456,
         "Age_Z": 1.4202667159267945,
         "_deepnote_index_column": 992
        },
        {
         "Income": 112466,
         "Age": 39,
         "Income_Z": 0.8239240342630743,
         "Age_Z": -0.037351465909556174,
         "_deepnote_index_column": 993
        },
        {
         "Income": 44937,
         "Age": 54,
         "Income_Z": -0.8960194904217583,
         "Age_Z": 1.3291655795620225,
         "_deepnote_index_column": 994
        },
        {
         "Income": 70615,
         "Age": 29,
         "Income_Z": -0.24200847549695367,
         "Age_Z": -0.9483628295572754,
         "_deepnote_index_column": 995
        },
        {
         "Income": 95102,
         "Age": 41,
         "Income_Z": 0.381668124022623,
         "Age_Z": 0.14485080681998766,
         "_deepnote_index_column": 996
        },
        {
         "Income": 42203,
         "Age": 35,
         "Income_Z": -0.9656536564317442,
         "Age_Z": -0.40175601136864386,
         "_deepnote_index_column": 997
        },
        {
         "Income": 16975,
         "Age": 31,
         "Income_Z": -1.6082033053344222,
         "Age_Z": -0.7661605568277315,
         "_deepnote_index_column": 998
        },
        {
         "Income": 123857,
         "Age": 44,
         "Income_Z": 1.1140494128365008,
         "Age_Z": 0.4181542159143034,
         "_deepnote_index_column": 999
        }
       ]
      },
      "text/plain": "     Income  Age  Income_Z     Age_Z\n0    101743   58  0.550812  1.693570\n1     49597   27 -0.777331 -1.130565\n2     36517   52 -1.110474  1.146963\n3     33223   49 -1.194372  0.873660\n4     72994   53 -0.181416  1.238064\n..      ...  ...       ...       ...\n995   70615   29 -0.242008 -0.948363\n996   95102   41  0.381668  0.144851\n997   42203   35 -0.965654 -0.401756\n998   16975   31 -1.608203 -0.766161\n999  123857   44  1.114049  0.418154\n\n[1000 rows x 4 columns]",
      "text/html": "<div>\n<style scoped>\n    .dataframe tbody tr th:only-of-type {\n        vertical-align: middle;\n    }\n\n    .dataframe tbody tr th {\n        vertical-align: top;\n    }\n\n    .dataframe thead th {\n        text-align: right;\n    }\n</style>\n<table border=\"1\" class=\"dataframe\">\n  <thead>\n    <tr style=\"text-align: right;\">\n      <th></th>\n      <th>Income</th>\n      <th>Age</th>\n      <th>Income_Z</th>\n      <th>Age_Z</th>\n    </tr>\n  </thead>\n  <tbody>\n    <tr>\n      <th>0</th>\n      <td>101743</td>\n      <td>58</td>\n      <td>0.550812</td>\n      <td>1.693570</td>\n    </tr>\n    <tr>\n      <th>1</th>\n      <td>49597</td>\n      <td>27</td>\n      <td>-0.777331</td>\n      <td>-1.130565</td>\n    </tr>\n    <tr>\n      <th>2</th>\n      <td>36517</td>\n      <td>52</td>\n      <td>-1.110474</td>\n      <td>1.146963</td>\n    </tr>\n    <tr>\n      <th>3</th>\n      <td>33223</td>\n      <td>49</td>\n      <td>-1.194372</td>\n      <td>0.873660</td>\n    </tr>\n    <tr>\n      <th>4</th>\n      <td>72994</td>\n      <td>53</td>\n      <td>-0.181416</td>\n      <td>1.238064</td>\n    </tr>\n    <tr>\n      <th>...</th>\n      <td>...</td>\n      <td>...</td>\n      <td>...</td>\n      <td>...</td>\n    </tr>\n    <tr>\n      <th>995</th>\n      <td>70615</td>\n      <td>29</td>\n      <td>-0.242008</td>\n      <td>-0.948363</td>\n    </tr>\n    <tr>\n      <th>996</th>\n      <td>95102</td>\n      <td>41</td>\n      <td>0.381668</td>\n      <td>0.144851</td>\n    </tr>\n    <tr>\n      <th>997</th>\n      <td>42203</td>\n      <td>35</td>\n      <td>-0.965654</td>\n      <td>-0.401756</td>\n    </tr>\n    <tr>\n      <th>998</th>\n      <td>16975</td>\n      <td>31</td>\n      <td>-1.608203</td>\n      <td>-0.766161</td>\n    </tr>\n    <tr>\n      <th>999</th>\n      <td>123857</td>\n      <td>44</td>\n      <td>1.114049</td>\n      <td>0.418154</td>\n    </tr>\n  </tbody>\n</table>\n<p>1000 rows × 4 columns</p>\n</div>"
     },
     "metadata": {}
    }
   ]
  },
  {
   "cell_type": "code",
   "metadata": {
    "tags": [],
    "cell_id": "00013-ee21f6df-48c9-4b41-97ba-c7d60c6488d0",
    "deepnote_to_be_reexecuted": false,
    "source_hash": "144048d5",
    "execution_start": 1628047387443,
    "execution_millis": 625,
    "deepnote_cell_type": "code"
   },
   "source": "plt.figure(figsize = (10,10))\nplt.scatter(x = Age_Inc.Income,\n            y = Age_Inc.Age,)\nplt.xlabel('Income')\nplt.ylabel('Age')",
   "execution_count": null,
   "outputs": [
    {
     "output_type": "execute_result",
     "execution_count": 15,
     "data": {
      "text/plain": "Text(0, 0.5, 'Age')"
     },
     "metadata": {}
    },
    {
     "data": {
      "text/plain": "<Figure size 720x720 with 1 Axes>",
      "image/png": "[encoded data removed]"
     },
     "metadata": {
      "needs_background": "light",
      "image/png": {
       "width": 606,
       "height": 589
      }
     },
     "output_type": "display_data"
    }
   ]
  },
  {
   "cell_type": "code",
   "metadata": {
    "tags": [],
    "cell_id": "00013-24b0bdb2-ec1a-49e5-bad2-f32a77aceaae",
    "deepnote_to_be_reexecuted": false,
    "source_hash": "5c75adad",
    "execution_start": 1628047388071,
    "execution_millis": 1593,
    "deepnote_cell_type": "code"
   },
   "source": "from sklearn.cluster import KMeans",
   "execution_count": null,
   "outputs": []
  },
  {
   "cell_type": "code",
   "metadata": {
    "tags": [],
    "cell_id": "00023-059c7f27-44c5-431f-93db-287f84fa565a",
    "deepnote_to_be_reexecuted": false,
    "source_hash": "12f32ca5",
    "execution_start": 1628047389675,
    "execution_millis": 280,
    "deepnote_cell_type": "code"
   },
   "source": "model = KMeans( n_clusters = 4,\n                random_state = 10)\nmodel.fit(Age_Inc[['Income_Z', 'Age_Z']])",
   "execution_count": null,
   "outputs": [
    {
     "output_type": "execute_result",
     "execution_count": 17,
     "data": {
      "text/plain": "KMeans(n_clusters=4, random_state=10)"
     },
     "metadata": {}
    }
   ]
  },
  {
   "cell_type": "code",
   "metadata": {
    "tags": [],
    "cell_id": "00024-608f019d-95f6-40a1-ae47-d5d571f9c7af",
    "deepnote_to_be_reexecuted": false,
    "source_hash": "18054645",
    "execution_start": 1628047389958,
    "execution_millis": 86,
    "deepnote_cell_type": "code"
   },
   "source": "Age_Inc['Cluster'] = model.labels_\nAge_Inc.head(3)",
   "execution_count": null,
   "outputs": [
    {
     "output_type": "execute_result",
     "execution_count": 18,
     "data": {
      "application/vnd.deepnote.dataframe.v2+json": {
       "row_count": 3,
       "column_count": 5,
       "columns": [
        {
         "name": "Income",
         "dtype": "int64",
         "stats": {
          "unique_count": 3,
          "nan_count": 0,
          "min": "36517",
          "max": "101743",
          "histogram": [
           {
            "bin_start": 36517,
            "bin_end": 43039.6,
            "count": 1
           },
           {
            "bin_start": 43039.6,
            "bin_end": 49562.2,
            "count": 0
           },
           {
            "bin_start": 49562.2,
            "bin_end": 56084.8,
            "count": 1
           },
           {
            "bin_start": 56084.8,
            "bin_end": 62607.4,
            "count": 0
           },
           {
            "bin_start": 62607.4,
            "bin_end": 69130,
            "count": 0
           },
           {
            "bin_start": 69130,
            "bin_end": 75652.6,
            "count": 0
           },
           {
            "bin_start": 75652.6,
            "bin_end": 82175.20000000001,
            "count": 0
           },
           {
            "bin_start": 82175.20000000001,
            "bin_end": 88697.8,
            "count": 0
           },
           {
            "bin_start": 88697.8,
            "bin_end": 95220.4,
            "count": 0
           },
           {
            "bin_start": 95220.4,
            "bin_end": 101743,
            "count": 1
           }
          ]
         }
        },
        {
         "name": "Age",
         "dtype": "int64",
         "stats": {
          "unique_count": 3,
          "nan_count": 0,
          "min": "27",
          "max": "58",
          "histogram": [
           {
            "bin_start": 27,
            "bin_end": 30.1,
            "count": 1
           },
           {
            "bin_start": 30.1,
            "bin_end": 33.2,
            "count": 0
           },
           {
            "bin_start": 33.2,
            "bin_end": 36.3,
            "count": 0
           },
           {
            "bin_start": 36.3,
            "bin_end": 39.4,
            "count": 0
           },
           {
            "bin_start": 39.4,
            "bin_end": 42.5,
            "count": 0
           },
           {
            "bin_start": 42.5,
            "bin_end": 45.6,
            "count": 0
           },
           {
            "bin_start": 45.6,
            "bin_end": 48.7,
            "count": 0
           },
           {
            "bin_start": 48.7,
            "bin_end": 51.8,
            "count": 0
           },
           {
            "bin_start": 51.8,
            "bin_end": 54.900000000000006,
            "count": 1
           },
           {
            "bin_start": 54.900000000000006,
            "bin_end": 58,
            "count": 1
           }
          ]
         }
        },
        {
         "name": "Income_Z",
         "dtype": "float64",
         "stats": {
          "unique_count": 3,
          "nan_count": 0,
          "min": "-1.1104743835468793",
          "max": "0.5508124168069375",
          "histogram": [
           {
            "bin_start": -1.1104743835468793,
            "bin_end": -0.9443457035114977,
            "count": 1
           },
           {
            "bin_start": -0.9443457035114977,
            "bin_end": -0.778217023476116,
            "count": 0
           },
           {
            "bin_start": -0.778217023476116,
            "bin_end": -0.6120883434407343,
            "count": 1
           },
           {
            "bin_start": -0.6120883434407343,
            "bin_end": -0.44595966340535265,
            "count": 0
           },
           {
            "bin_start": -0.44595966340535265,
            "bin_end": -0.27983098336997103,
            "count": 0
           },
           {
            "bin_start": -0.27983098336997103,
            "bin_end": -0.1137023033345893,
            "count": 0
           },
           {
            "bin_start": -0.1137023033345893,
            "bin_end": 0.05242637670079242,
            "count": 0
           },
           {
            "bin_start": 0.05242637670079242,
            "bin_end": 0.21855505673617404,
            "count": 0
           },
           {
            "bin_start": 0.21855505673617404,
            "bin_end": 0.38468373677155565,
            "count": 0
           },
           {
            "bin_start": 0.38468373677155565,
            "bin_end": 0.5508124168069375,
            "count": 1
           }
          ]
         }
        },
        {
         "name": "Age_Z",
         "dtype": "float64",
         "stats": {
          "unique_count": 3,
          "nan_count": 0,
          "min": "-1.1305651022868193",
          "max": "1.6935701250211104",
          "histogram": [
           {
            "bin_start": -1.1305651022868193,
            "bin_end": -0.8481515795560263,
            "count": 1
           },
           {
            "bin_start": -0.8481515795560263,
            "bin_end": -0.5657380568252333,
            "count": 0
           },
           {
            "bin_start": -0.5657380568252333,
            "bin_end": -0.28332453409444025,
            "count": 0
           },
           {
            "bin_start": -0.28332453409444025,
            "bin_end": -0.0009110113636472406,
            "count": 0
           },
           {
            "bin_start": -0.0009110113636472406,
            "bin_end": 0.28150251136714566,
            "count": 0
           },
           {
            "bin_start": 0.28150251136714566,
            "bin_end": 0.5639160340979388,
            "count": 0
           },
           {
            "bin_start": 0.5639160340979388,
            "bin_end": 0.8463295568287319,
            "count": 0
           },
           {
            "bin_start": 0.8463295568287319,
            "bin_end": 1.1287430795595248,
            "count": 0
           },
           {
            "bin_start": 1.1287430795595248,
            "bin_end": 1.4111566022903177,
            "count": 1
           },
           {
            "bin_start": 1.4111566022903177,
            "bin_end": 1.6935701250211104,
            "count": 1
           }
          ]
         }
        },
        {
         "name": "Cluster",
         "dtype": "int32",
         "stats": {
          "unique_count": 3,
          "nan_count": 0,
          "min": "1",
          "max": "3",
          "histogram": [
           {
            "bin_start": 1,
            "bin_end": 1.2,
            "count": 1
           },
           {
            "bin_start": 1.2,
            "bin_end": 1.4,
            "count": 0
           },
           {
            "bin_start": 1.4,
            "bin_end": 1.6,
            "count": 0
           },
           {
            "bin_start": 1.6,
            "bin_end": 1.8,
            "count": 0
           },
           {
            "bin_start": 1.8,
            "bin_end": 2,
            "count": 0
           },
           {
            "bin_start": 2,
            "bin_end": 2.2,
            "count": 1
           },
           {
            "bin_start": 2.2,
            "bin_end": 2.4000000000000004,
            "count": 0
           },
           {
            "bin_start": 2.4000000000000004,
            "bin_end": 2.6,
            "count": 0
           },
           {
            "bin_start": 2.6,
            "bin_end": 2.8,
            "count": 0
           },
           {
            "bin_start": 2.8,
            "bin_end": 3,
            "count": 1
           }
          ]
         }
        },
        {
         "name": "_deepnote_index_column",
         "dtype": "int64"
        }
       ],
       "rows_top": [
        {
         "Income": 101743,
         "Age": 58,
         "Income_Z": 0.5508124168069375,
         "Age_Z": 1.6935701250211104,
         "Cluster": 2,
         "_deepnote_index_column": 0
        },
        {
         "Income": 49597,
         "Age": 27,
         "Income_Z": -0.7773306778370714,
         "Age_Z": -1.1305651022868193,
         "Cluster": 3,
         "_deepnote_index_column": 1
        },
        {
         "Income": 36517,
         "Age": 52,
         "Income_Z": -1.1104743835468793,
         "Age_Z": 1.1469633068324787,
         "Cluster": 1,
         "_deepnote_index_column": 2
        }
       ],
       "rows_bottom": null
      },
      "text/plain": "   Income  Age  Income_Z     Age_Z  Cluster\n0  101743   58  0.550812  1.693570        2\n1   49597   27 -0.777331 -1.130565        3\n2   36517   52 -1.110474  1.146963        1",
      "text/html": "<div>\n<style scoped>\n    .dataframe tbody tr th:only-of-type {\n        vertical-align: middle;\n    }\n\n    .dataframe tbody tr th {\n        vertical-align: top;\n    }\n\n    .dataframe thead th {\n        text-align: right;\n    }\n</style>\n<table border=\"1\" class=\"dataframe\">\n  <thead>\n    <tr style=\"text-align: right;\">\n      <th></th>\n      <th>Income</th>\n      <th>Age</th>\n      <th>Income_Z</th>\n      <th>Age_Z</th>\n      <th>Cluster</th>\n    </tr>\n  </thead>\n  <tbody>\n    <tr>\n      <th>0</th>\n      <td>101743</td>\n      <td>58</td>\n      <td>0.550812</td>\n      <td>1.693570</td>\n      <td>2</td>\n    </tr>\n    <tr>\n      <th>1</th>\n      <td>49597</td>\n      <td>27</td>\n      <td>-0.777331</td>\n      <td>-1.130565</td>\n      <td>3</td>\n    </tr>\n    <tr>\n      <th>2</th>\n      <td>36517</td>\n      <td>52</td>\n      <td>-1.110474</td>\n      <td>1.146963</td>\n      <td>1</td>\n    </tr>\n  </tbody>\n</table>\n</div>"
     },
     "metadata": {}
    }
   ]
  },
  {
   "cell_type": "code",
   "metadata": {
    "tags": [],
    "cell_id": "00024-a47e84f2-56b3-4aed-9e4a-e3517423cea6",
    "deepnote_to_be_reexecuted": false,
    "source_hash": "42f97773",
    "execution_start": 1628047390042,
    "execution_millis": 1549,
    "deepnote_cell_type": "code"
   },
   "source": "plt.figure(figsize = (20,20))\nsns.lmplot( x = 'Income',\n            y = 'Age',\n            data = Age_Inc,\n            hue = 'Cluster',\n            markers = ['x','o','d','s'],\n            fit_reg = False,\n             palette=\"Set2\")",
   "execution_count": null,
   "outputs": [
    {
     "output_type": "execute_result",
     "execution_count": 19,
     "data": {
      "text/plain": "<seaborn.axisgrid.FacetGrid at 0x7f2325898590>"
     },
     "metadata": {}
    },
    {
     "data": {
      "text/plain": "<Figure size 1440x1440 with 0 Axes>"
     },
     "metadata": {},
     "output_type": "display_data"
    },
    {
     "data": {
      "text/plain": "<Figure size 403.5x360 with 1 Axes>",
      "image/png": "[encoded data removed]"
     },
     "metadata": {
      "needs_background": "light",
      "image/png": {
       "width": 412,
       "height": 366
      }
     },
     "output_type": "display_data"
    }
   ]
  },
  {
   "cell_type": "markdown",
   "source": "## PCA Analisis de Componentes Principales",
   "metadata": {
    "tags": [],
    "is_collapsed": false,
    "cell_id": "00026-d3389020-3eae-4d24-bd88-2376a767ce46",
    "deepnote_cell_type": "text-cell-h2"
   }
  },
  {
   "cell_type": "code",
   "metadata": {
    "tags": [],
    "cell_id": "00024-fed40fe4-ac55-4bee-8405-820aa84c1338",
    "deepnote_to_be_reexecuted": false,
    "source_hash": "69bf6b87",
    "execution_start": 1628047391609,
    "execution_millis": 69,
    "deepnote_cell_type": "code"
   },
   "source": "df = pd.read_csv('three_col.csv')\ndf.head()",
   "execution_count": null,
   "outputs": [
    {
     "output_type": "execute_result",
     "execution_count": 20,
     "data": {
      "application/vnd.deepnote.dataframe.v2+json": {
       "row_count": 5,
       "column_count": 3,
       "columns": [
        {
         "name": "income",
         "dtype": "int64",
         "stats": {
          "unique_count": 5,
          "nan_count": 0,
          "min": "56432",
          "max": "137580",
          "histogram": [
           {
            "bin_start": 56432,
            "bin_end": 64546.8,
            "count": 1
           },
           {
            "bin_start": 64546.8,
            "bin_end": 72661.6,
            "count": 1
           },
           {
            "bin_start": 72661.6,
            "bin_end": 80776.4,
            "count": 0
           },
           {
            "bin_start": 80776.4,
            "bin_end": 88891.2,
            "count": 0
           },
           {
            "bin_start": 88891.2,
            "bin_end": 97006,
            "count": 1
           },
           {
            "bin_start": 97006,
            "bin_end": 105120.8,
            "count": 0
           },
           {
            "bin_start": 105120.8,
            "bin_end": 113235.6,
            "count": 0
           },
           {
            "bin_start": 113235.6,
            "bin_end": 121350.4,
            "count": 1
           },
           {
            "bin_start": 121350.4,
            "bin_end": 129465.2,
            "count": 0
           },
           {
            "bin_start": 129465.2,
            "bin_end": 137580,
            "count": 1
           }
          ]
         }
        },
        {
         "name": "age",
         "dtype": "int64",
         "stats": {
          "unique_count": 5,
          "nan_count": 0,
          "min": "31",
          "max": "59",
          "histogram": [
           {
            "bin_start": 31,
            "bin_end": 33.8,
            "count": 1
           },
           {
            "bin_start": 33.8,
            "bin_end": 36.6,
            "count": 0
           },
           {
            "bin_start": 36.6,
            "bin_end": 39.4,
            "count": 1
           },
           {
            "bin_start": 39.4,
            "bin_end": 42.2,
            "count": 0
           },
           {
            "bin_start": 42.2,
            "bin_end": 45,
            "count": 0
           },
           {
            "bin_start": 45,
            "bin_end": 47.8,
            "count": 0
           },
           {
            "bin_start": 47.8,
            "bin_end": 50.599999999999994,
            "count": 0
           },
           {
            "bin_start": 50.599999999999994,
            "bin_end": 53.4,
            "count": 1
           },
           {
            "bin_start": 53.4,
            "bin_end": 56.2,
            "count": 1
           },
           {
            "bin_start": 56.2,
            "bin_end": 59,
            "count": 1
           }
          ]
         }
        },
        {
         "name": "days_since_purchase",
         "dtype": "int64",
         "stats": {
          "unique_count": 5,
          "nan_count": 0,
          "min": "304",
          "max": "551",
          "histogram": [
           {
            "bin_start": 304,
            "bin_end": 328.7,
            "count": 1
           },
           {
            "bin_start": 328.7,
            "bin_end": 353.4,
            "count": 0
           },
           {
            "bin_start": 353.4,
            "bin_end": 378.1,
            "count": 0
           },
           {
            "bin_start": 378.1,
            "bin_end": 402.8,
            "count": 0
           },
           {
            "bin_start": 402.8,
            "bin_end": 427.5,
            "count": 0
           },
           {
            "bin_start": 427.5,
            "bin_end": 452.2,
            "count": 0
           },
           {
            "bin_start": 452.2,
            "bin_end": 476.9,
            "count": 0
           },
           {
            "bin_start": 476.9,
            "bin_end": 501.6,
            "count": 1
           },
           {
            "bin_start": 501.6,
            "bin_end": 526.3,
            "count": 2
           },
           {
            "bin_start": 526.3,
            "bin_end": 551,
            "count": 1
           }
          ]
         }
        },
        {
         "name": "_deepnote_index_column",
         "dtype": "int64"
        }
       ],
       "rows_top": [
        {
         "income": 56432,
         "age": 31,
         "days_since_purchase": 492,
         "_deepnote_index_column": 0
        },
        {
         "income": 137580,
         "age": 38,
         "days_since_purchase": 551,
         "_deepnote_index_column": 1
        },
        {
         "income": 68285,
         "age": 59,
         "days_since_purchase": 304,
         "_deepnote_index_column": 2
        },
        {
         "income": 93617,
         "age": 51,
         "days_since_purchase": 507,
         "_deepnote_index_column": 3
        },
        {
         "income": 113441,
         "age": 54,
         "days_since_purchase": 509,
         "_deepnote_index_column": 4
        }
       ],
       "rows_bottom": null
      },
      "text/plain": "   income  age  days_since_purchase\n0   56432   31                  492\n1  137580   38                  551\n2   68285   59                  304\n3   93617   51                  507\n4  113441   54                  509",
      "text/html": "<div>\n<style scoped>\n    .dataframe tbody tr th:only-of-type {\n        vertical-align: middle;\n    }\n\n    .dataframe tbody tr th {\n        vertical-align: top;\n    }\n\n    .dataframe thead th {\n        text-align: right;\n    }\n</style>\n<table border=\"1\" class=\"dataframe\">\n  <thead>\n    <tr style=\"text-align: right;\">\n      <th></th>\n      <th>income</th>\n      <th>age</th>\n      <th>days_since_purchase</th>\n    </tr>\n  </thead>\n  <tbody>\n    <tr>\n      <th>0</th>\n      <td>56432</td>\n      <td>31</td>\n      <td>492</td>\n    </tr>\n    <tr>\n      <th>1</th>\n      <td>137580</td>\n      <td>38</td>\n      <td>551</td>\n    </tr>\n    <tr>\n      <th>2</th>\n      <td>68285</td>\n      <td>59</td>\n      <td>304</td>\n    </tr>\n    <tr>\n      <th>3</th>\n      <td>93617</td>\n      <td>51</td>\n      <td>507</td>\n    </tr>\n    <tr>\n      <th>4</th>\n      <td>113441</td>\n      <td>54</td>\n      <td>509</td>\n    </tr>\n  </tbody>\n</table>\n</div>"
     },
     "metadata": {}
    }
   ]
  },
  {
   "cell_type": "code",
   "metadata": {
    "tags": [],
    "cell_id": "00025-f1e8d0d0-8ccc-4801-9ee4-92766a463cfb",
    "deepnote_to_be_reexecuted": false,
    "source_hash": "dbb431d8",
    "execution_start": 1628047391719,
    "execution_millis": 16,
    "deepnote_cell_type": "code"
   },
   "source": "columns = df.columns\ncolumns_z = []\n\nfor col in columns:\n    df[col + '_Z'] = (df[col] - df[col].mean()) /df[col].std()\n    columns_z.append(col + '_Z')\n\ndf.head()",
   "execution_count": null,
   "outputs": [
    {
     "output_type": "execute_result",
     "execution_count": 21,
     "data": {
      "application/vnd.deepnote.dataframe.v2+json": {
       "row_count": 5,
       "column_count": 6,
       "columns": [
        {
         "name": "income",
         "dtype": "int64",
         "stats": {
          "unique_count": 5,
          "nan_count": 0,
          "min": "56432",
          "max": "137580",
          "histogram": [
           {
            "bin_start": 56432,
            "bin_end": 64546.8,
            "count": 1
           },
           {
            "bin_start": 64546.8,
            "bin_end": 72661.6,
            "count": 1
           },
           {
            "bin_start": 72661.6,
            "bin_end": 80776.4,
            "count": 0
           },
           {
            "bin_start": 80776.4,
            "bin_end": 88891.2,
            "count": 0
           },
           {
            "bin_start": 88891.2,
            "bin_end": 97006,
            "count": 1
           },
           {
            "bin_start": 97006,
            "bin_end": 105120.8,
            "count": 0
           },
           {
            "bin_start": 105120.8,
            "bin_end": 113235.6,
            "count": 0
           },
           {
            "bin_start": 113235.6,
            "bin_end": 121350.4,
            "count": 1
           },
           {
            "bin_start": 121350.4,
            "bin_end": 129465.2,
            "count": 0
           },
           {
            "bin_start": 129465.2,
            "bin_end": 137580,
            "count": 1
           }
          ]
         }
        },
        {
         "name": "age",
         "dtype": "int64",
         "stats": {
          "unique_count": 5,
          "nan_count": 0,
          "min": "31",
          "max": "59",
          "histogram": [
           {
            "bin_start": 31,
            "bin_end": 33.8,
            "count": 1
           },
           {
            "bin_start": 33.8,
            "bin_end": 36.6,
            "count": 0
           },
           {
            "bin_start": 36.6,
            "bin_end": 39.4,
            "count": 1
           },
           {
            "bin_start": 39.4,
            "bin_end": 42.2,
            "count": 0
           },
           {
            "bin_start": 42.2,
            "bin_end": 45,
            "count": 0
           },
           {
            "bin_start": 45,
            "bin_end": 47.8,
            "count": 0
           },
           {
            "bin_start": 47.8,
            "bin_end": 50.599999999999994,
            "count": 0
           },
           {
            "bin_start": 50.599999999999994,
            "bin_end": 53.4,
            "count": 1
           },
           {
            "bin_start": 53.4,
            "bin_end": 56.2,
            "count": 1
           },
           {
            "bin_start": 56.2,
            "bin_end": 59,
            "count": 1
           }
          ]
         }
        },
        {
         "name": "days_since_purchase",
         "dtype": "int64",
         "stats": {
          "unique_count": 5,
          "nan_count": 0,
          "min": "304",
          "max": "551",
          "histogram": [
           {
            "bin_start": 304,
            "bin_end": 328.7,
            "count": 1
           },
           {
            "bin_start": 328.7,
            "bin_end": 353.4,
            "count": 0
           },
           {
            "bin_start": 353.4,
            "bin_end": 378.1,
            "count": 0
           },
           {
            "bin_start": 378.1,
            "bin_end": 402.8,
            "count": 0
           },
           {
            "bin_start": 402.8,
            "bin_end": 427.5,
            "count": 0
           },
           {
            "bin_start": 427.5,
            "bin_end": 452.2,
            "count": 0
           },
           {
            "bin_start": 452.2,
            "bin_end": 476.9,
            "count": 0
           },
           {
            "bin_start": 476.9,
            "bin_end": 501.6,
            "count": 1
           },
           {
            "bin_start": 501.6,
            "bin_end": 526.3,
            "count": 2
           },
           {
            "bin_start": 526.3,
            "bin_end": 551,
            "count": 1
           }
          ]
         }
        },
        {
         "name": "income_Z",
         "dtype": "float64",
         "stats": {
          "unique_count": 5,
          "nan_count": 0,
          "min": "-0.6068328800279992",
          "max": "1.505879096227799",
          "histogram": [
           {
            "bin_start": -0.6068328800279992,
            "bin_end": -0.3955616824024194,
            "count": 1
           },
           {
            "bin_start": -0.3955616824024194,
            "bin_end": -0.18429048477683957,
            "count": 1
           },
           {
            "bin_start": -0.18429048477683957,
            "bin_end": 0.026980712848740263,
            "count": 0
           },
           {
            "bin_start": 0.026980712848740263,
            "bin_end": 0.23825191047432004,
            "count": 0
           },
           {
            "bin_start": 0.23825191047432004,
            "bin_end": 0.4495231080998998,
            "count": 1
           },
           {
            "bin_start": 0.4495231080998998,
            "bin_end": 0.6607943057254797,
            "count": 0
           },
           {
            "bin_start": 0.6607943057254797,
            "bin_end": 0.8720655033510594,
            "count": 0
           },
           {
            "bin_start": 0.8720655033510594,
            "bin_end": 1.0833367009766393,
            "count": 1
           },
           {
            "bin_start": 1.0833367009766393,
            "bin_end": 1.2946078986022191,
            "count": 0
           },
           {
            "bin_start": 1.2946078986022191,
            "bin_end": 1.505879096227799,
            "count": 1
           }
          ]
         }
        },
        {
         "name": "age_Z",
         "dtype": "float64",
         "stats": {
          "unique_count": 5,
          "nan_count": 0,
          "min": "-0.7488482611634635",
          "max": "1.7046681573454272",
          "histogram": [
           {
            "bin_start": -0.7488482611634635,
            "bin_end": -0.5034966193125744,
            "count": 1
           },
           {
            "bin_start": -0.5034966193125744,
            "bin_end": -0.25814497746168535,
            "count": 0
           },
           {
            "bin_start": -0.25814497746168535,
            "bin_end": -0.01279333561079632,
            "count": 1
           },
           {
            "bin_start": -0.01279333561079632,
            "bin_end": 0.23255830624009277,
            "count": 0
           },
           {
            "bin_start": 0.23255830624009277,
            "bin_end": 0.47790994809098186,
            "count": 0
           },
           {
            "bin_start": 0.47790994809098186,
            "bin_end": 0.7232615899418708,
            "count": 0
           },
           {
            "bin_start": 0.7232615899418708,
            "bin_end": 0.96861323179276,
            "count": 0
           },
           {
            "bin_start": 0.96861323179276,
            "bin_end": 1.213964873643649,
            "count": 1
           },
           {
            "bin_start": 1.213964873643649,
            "bin_end": 1.459316515494538,
            "count": 1
           },
           {
            "bin_start": 1.459316515494538,
            "bin_end": 1.7046681573454272,
            "count": 1
           }
          ]
         }
        },
        {
         "name": "days_since_purchase_Z",
         "dtype": "float64",
         "stats": {
          "unique_count": 5,
          "nan_count": 0,
          "min": "-0.8730012509435525",
          "max": "1.3491085088752575",
          "histogram": [
           {
            "bin_start": -0.8730012509435525,
            "bin_end": -0.6507902749616715,
            "count": 1
           },
           {
            "bin_start": -0.6507902749616715,
            "bin_end": -0.42857929897979047,
            "count": 0
           },
           {
            "bin_start": -0.42857929897979047,
            "bin_end": -0.20636832299790941,
            "count": 0
           },
           {
            "bin_start": -0.20636832299790941,
            "bin_end": 0.015842652983971584,
            "count": 0
           },
           {
            "bin_start": 0.015842652983971584,
            "bin_end": 0.23805362896585258,
            "count": 0
           },
           {
            "bin_start": 0.23805362896585258,
            "bin_end": 0.4602646049477337,
            "count": 0
           },
           {
            "bin_start": 0.4602646049477337,
            "bin_end": 0.6824755809296146,
            "count": 0
           },
           {
            "bin_start": 0.6824755809296146,
            "bin_end": 0.9046865569114957,
            "count": 1
           },
           {
            "bin_start": 0.9046865569114957,
            "bin_end": 1.1268975328933768,
            "count": 2
           },
           {
            "bin_start": 1.1268975328933768,
            "bin_end": 1.3491085088752575,
            "count": 1
           }
          ]
         }
        },
        {
         "name": "_deepnote_index_column",
         "dtype": "int64"
        }
       ],
       "rows_top": [
        {
         "income": 56432,
         "age": 31,
         "days_since_purchase": 492,
         "income_Z": -0.6068328800279992,
         "age_Z": -0.7488482611634635,
         "days_since_purchase_Z": 0.8183211573395903,
         "_deepnote_index_column": 0
        },
        {
         "income": 137580,
         "age": 38,
         "days_since_purchase": 551,
         "income_Z": 1.505879096227799,
         "age_Z": -0.13546915653624084,
         "days_since_purchase_Z": 1.3491085088752575,
         "_deepnote_index_column": 1
        },
        {
         "income": 68285,
         "age": 59,
         "days_since_purchase": 304,
         "income_Z": -0.2982365491934749,
         "age_Z": 1.7046681573454272,
         "days_since_purchase_Z": -0.8730012509435525,
         "_deepnote_index_column": 2
        },
        {
         "income": 93617,
         "age": 51,
         "days_since_purchase": 507,
         "income_Z": 0.3612894992921548,
         "age_Z": 1.003663466342887,
         "days_since_purchase_Z": 0.9532670941706921,
         "_deepnote_index_column": 3
        },
        {
         "income": 113441,
         "age": 54,
         "days_since_purchase": 509,
         "income_Z": 0.8774131525836093,
         "age_Z": 1.2665402254688396,
         "days_since_purchase_Z": 0.9712598857481723,
         "_deepnote_index_column": 4
        }
       ],
       "rows_bottom": null
      },
      "text/plain": "   income  age  days_since_purchase  income_Z     age_Z  days_since_purchase_Z\n0   56432   31                  492 -0.606833 -0.748848               0.818321\n1  137580   38                  551  1.505879 -0.135469               1.349109\n2   68285   59                  304 -0.298237  1.704668              -0.873001\n3   93617   51                  507  0.361289  1.003663               0.953267\n4  113441   54                  509  0.877413  1.266540               0.971260",
      "text/html": "<div>\n<style scoped>\n    .dataframe tbody tr th:only-of-type {\n        vertical-align: middle;\n    }\n\n    .dataframe tbody tr th {\n        vertical-align: top;\n    }\n\n    .dataframe thead th {\n        text-align: right;\n    }\n</style>\n<table border=\"1\" class=\"dataframe\">\n  <thead>\n    <tr style=\"text-align: right;\">\n      <th></th>\n      <th>income</th>\n      <th>age</th>\n      <th>days_since_purchase</th>\n      <th>income_Z</th>\n      <th>age_Z</th>\n      <th>days_since_purchase_Z</th>\n    </tr>\n  </thead>\n  <tbody>\n    <tr>\n      <th>0</th>\n      <td>56432</td>\n      <td>31</td>\n      <td>492</td>\n      <td>-0.606833</td>\n      <td>-0.748848</td>\n      <td>0.818321</td>\n    </tr>\n    <tr>\n      <th>1</th>\n      <td>137580</td>\n      <td>38</td>\n      <td>551</td>\n      <td>1.505879</td>\n      <td>-0.135469</td>\n      <td>1.349109</td>\n    </tr>\n    <tr>\n      <th>2</th>\n      <td>68285</td>\n      <td>59</td>\n      <td>304</td>\n      <td>-0.298237</td>\n      <td>1.704668</td>\n      <td>-0.873001</td>\n    </tr>\n    <tr>\n      <th>3</th>\n      <td>93617</td>\n      <td>51</td>\n      <td>507</td>\n      <td>0.361289</td>\n      <td>1.003663</td>\n      <td>0.953267</td>\n    </tr>\n    <tr>\n      <th>4</th>\n      <td>113441</td>\n      <td>54</td>\n      <td>509</td>\n      <td>0.877413</td>\n      <td>1.266540</td>\n      <td>0.971260</td>\n    </tr>\n  </tbody>\n</table>\n</div>"
     },
     "metadata": {}
    }
   ]
  },
  {
   "cell_type": "code",
   "metadata": {
    "tags": [],
    "cell_id": "00029-7b80a524-00ea-4069-9067-7ce6c8f0d989",
    "deepnote_to_be_reexecuted": false,
    "source_hash": "e03ebc26",
    "execution_start": 1628047562711,
    "execution_millis": 227,
    "deepnote_cell_type": "code"
   },
   "source": "model = KMeans( n_clusters = 4,\n                random_state = 10)\n\ndf['Cluster'] = model.fit_predict(df[columns_z])",
   "execution_count": null,
   "outputs": []
  },
  {
   "cell_type": "code",
   "metadata": {
    "tags": [],
    "cell_id": "00030-1a0d938b-aa12-424e-9eb9-5e4cbffab43f",
    "deepnote_to_be_reexecuted": false,
    "source_hash": "7daf4fa3",
    "execution_start": 1628047920521,
    "execution_millis": 1,
    "deepnote_cell_type": "code"
   },
   "source": "from sklearn.decomposition import PCA",
   "execution_count": null,
   "outputs": []
  },
  {
   "cell_type": "code",
   "metadata": {
    "tags": [],
    "cell_id": "00031-ed7ee08a-9bfc-4186-93f1-d4a373038212",
    "deepnote_to_be_reexecuted": false,
    "source_hash": "40bd6440",
    "execution_start": 1628048057260,
    "execution_millis": 132,
    "deepnote_cell_type": "code"
   },
   "source": "pca = PCA(n_components = 2)\ndf['PC1'], df['PC2'] = zip(* pca.fit_transform(df[columns_z]))\ndf.head()",
   "execution_count": null,
   "outputs": [
    {
     "output_type": "execute_result",
     "execution_count": 26,
     "data": {
      "application/vnd.deepnote.dataframe.v2+json": {
       "row_count": 5,
       "column_count": 9,
       "columns": [
        {
         "name": "income",
         "dtype": "int64",
         "stats": {
          "unique_count": 5,
          "nan_count": 0,
          "min": "56432",
          "max": "137580",
          "histogram": [
           {
            "bin_start": 56432,
            "bin_end": 64546.8,
            "count": 1
           },
           {
            "bin_start": 64546.8,
            "bin_end": 72661.6,
            "count": 1
           },
           {
            "bin_start": 72661.6,
            "bin_end": 80776.4,
            "count": 0
           },
           {
            "bin_start": 80776.4,
            "bin_end": 88891.2,
            "count": 0
           },
           {
            "bin_start": 88891.2,
            "bin_end": 97006,
            "count": 1
           },
           {
            "bin_start": 97006,
            "bin_end": 105120.8,
            "count": 0
           },
           {
            "bin_start": 105120.8,
            "bin_end": 113235.6,
            "count": 0
           },
           {
            "bin_start": 113235.6,
            "bin_end": 121350.4,
            "count": 1
           },
           {
            "bin_start": 121350.4,
            "bin_end": 129465.2,
            "count": 0
           },
           {
            "bin_start": 129465.2,
            "bin_end": 137580,
            "count": 1
           }
          ]
         }
        },
        {
         "name": "age",
         "dtype": "int64",
         "stats": {
          "unique_count": 5,
          "nan_count": 0,
          "min": "31",
          "max": "59",
          "histogram": [
           {
            "bin_start": 31,
            "bin_end": 33.8,
            "count": 1
           },
           {
            "bin_start": 33.8,
            "bin_end": 36.6,
            "count": 0
           },
           {
            "bin_start": 36.6,
            "bin_end": 39.4,
            "count": 1
           },
           {
            "bin_start": 39.4,
            "bin_end": 42.2,
            "count": 0
           },
           {
            "bin_start": 42.2,
            "bin_end": 45,
            "count": 0
           },
           {
            "bin_start": 45,
            "bin_end": 47.8,
            "count": 0
           },
           {
            "bin_start": 47.8,
            "bin_end": 50.599999999999994,
            "count": 0
           },
           {
            "bin_start": 50.599999999999994,
            "bin_end": 53.4,
            "count": 1
           },
           {
            "bin_start": 53.4,
            "bin_end": 56.2,
            "count": 1
           },
           {
            "bin_start": 56.2,
            "bin_end": 59,
            "count": 1
           }
          ]
         }
        },
        {
         "name": "days_since_purchase",
         "dtype": "int64",
         "stats": {
          "unique_count": 5,
          "nan_count": 0,
          "min": "304",
          "max": "551",
          "histogram": [
           {
            "bin_start": 304,
            "bin_end": 328.7,
            "count": 1
           },
           {
            "bin_start": 328.7,
            "bin_end": 353.4,
            "count": 0
           },
           {
            "bin_start": 353.4,
            "bin_end": 378.1,
            "count": 0
           },
           {
            "bin_start": 378.1,
            "bin_end": 402.8,
            "count": 0
           },
           {
            "bin_start": 402.8,
            "bin_end": 427.5,
            "count": 0
           },
           {
            "bin_start": 427.5,
            "bin_end": 452.2,
            "count": 0
           },
           {
            "bin_start": 452.2,
            "bin_end": 476.9,
            "count": 0
           },
           {
            "bin_start": 476.9,
            "bin_end": 501.6,
            "count": 1
           },
           {
            "bin_start": 501.6,
            "bin_end": 526.3,
            "count": 2
           },
           {
            "bin_start": 526.3,
            "bin_end": 551,
            "count": 1
           }
          ]
         }
        },
        {
         "name": "income_Z",
         "dtype": "float64",
         "stats": {
          "unique_count": 5,
          "nan_count": 0,
          "min": "-0.6068328800279992",
          "max": "1.505879096227799",
          "histogram": [
           {
            "bin_start": -0.6068328800279992,
            "bin_end": -0.3955616824024194,
            "count": 1
           },
           {
            "bin_start": -0.3955616824024194,
            "bin_end": -0.18429048477683957,
            "count": 1
           },
           {
            "bin_start": -0.18429048477683957,
            "bin_end": 0.026980712848740263,
            "count": 0
           },
           {
            "bin_start": 0.026980712848740263,
            "bin_end": 0.23825191047432004,
            "count": 0
           },
           {
            "bin_start": 0.23825191047432004,
            "bin_end": 0.4495231080998998,
            "count": 1
           },
           {
            "bin_start": 0.4495231080998998,
            "bin_end": 0.6607943057254797,
            "count": 0
           },
           {
            "bin_start": 0.6607943057254797,
            "bin_end": 0.8720655033510594,
            "count": 0
           },
           {
            "bin_start": 0.8720655033510594,
            "bin_end": 1.0833367009766393,
            "count": 1
           },
           {
            "bin_start": 1.0833367009766393,
            "bin_end": 1.2946078986022191,
            "count": 0
           },
           {
            "bin_start": 1.2946078986022191,
            "bin_end": 1.505879096227799,
            "count": 1
           }
          ]
         }
        },
        {
         "name": "age_Z",
         "dtype": "float64",
         "stats": {
          "unique_count": 5,
          "nan_count": 0,
          "min": "-0.7488482611634635",
          "max": "1.7046681573454272",
          "histogram": [
           {
            "bin_start": -0.7488482611634635,
            "bin_end": -0.5034966193125744,
            "count": 1
           },
           {
            "bin_start": -0.5034966193125744,
            "bin_end": -0.25814497746168535,
            "count": 0
           },
           {
            "bin_start": -0.25814497746168535,
            "bin_end": -0.01279333561079632,
            "count": 1
           },
           {
            "bin_start": -0.01279333561079632,
            "bin_end": 0.23255830624009277,
            "count": 0
           },
           {
            "bin_start": 0.23255830624009277,
            "bin_end": 0.47790994809098186,
            "count": 0
           },
           {
            "bin_start": 0.47790994809098186,
            "bin_end": 0.7232615899418708,
            "count": 0
           },
           {
            "bin_start": 0.7232615899418708,
            "bin_end": 0.96861323179276,
            "count": 0
           },
           {
            "bin_start": 0.96861323179276,
            "bin_end": 1.213964873643649,
            "count": 1
           },
           {
            "bin_start": 1.213964873643649,
            "bin_end": 1.459316515494538,
            "count": 1
           },
           {
            "bin_start": 1.459316515494538,
            "bin_end": 1.7046681573454272,
            "count": 1
           }
          ]
         }
        },
        {
         "name": "days_since_purchase_Z",
         "dtype": "float64",
         "stats": {
          "unique_count": 5,
          "nan_count": 0,
          "min": "-0.8730012509435525",
          "max": "1.3491085088752575",
          "histogram": [
           {
            "bin_start": -0.8730012509435525,
            "bin_end": -0.6507902749616715,
            "count": 1
           },
           {
            "bin_start": -0.6507902749616715,
            "bin_end": -0.42857929897979047,
            "count": 0
           },
           {
            "bin_start": -0.42857929897979047,
            "bin_end": -0.20636832299790941,
            "count": 0
           },
           {
            "bin_start": -0.20636832299790941,
            "bin_end": 0.015842652983971584,
            "count": 0
           },
           {
            "bin_start": 0.015842652983971584,
            "bin_end": 0.23805362896585258,
            "count": 0
           },
           {
            "bin_start": 0.23805362896585258,
            "bin_end": 0.4602646049477337,
            "count": 0
           },
           {
            "bin_start": 0.4602646049477337,
            "bin_end": 0.6824755809296146,
            "count": 0
           },
           {
            "bin_start": 0.6824755809296146,
            "bin_end": 0.9046865569114957,
            "count": 1
           },
           {
            "bin_start": 0.9046865569114957,
            "bin_end": 1.1268975328933768,
            "count": 2
           },
           {
            "bin_start": 1.1268975328933768,
            "bin_end": 1.3491085088752575,
            "count": 1
           }
          ]
         }
        },
        {
         "name": "Cluster",
         "dtype": "int32",
         "stats": {
          "unique_count": 3,
          "nan_count": 0,
          "min": "1",
          "max": "3",
          "histogram": [
           {
            "bin_start": 1,
            "bin_end": 1.2,
            "count": 1
           },
           {
            "bin_start": 1.2,
            "bin_end": 1.4,
            "count": 0
           },
           {
            "bin_start": 1.4,
            "bin_end": 1.6,
            "count": 0
           },
           {
            "bin_start": 1.6,
            "bin_end": 1.8,
            "count": 0
           },
           {
            "bin_start": 1.8,
            "bin_end": 2,
            "count": 0
           },
           {
            "bin_start": 2,
            "bin_end": 2.2,
            "count": 1
           },
           {
            "bin_start": 2.2,
            "bin_end": 2.4000000000000004,
            "count": 0
           },
           {
            "bin_start": 2.4000000000000004,
            "bin_end": 2.6,
            "count": 0
           },
           {
            "bin_start": 2.6,
            "bin_end": 2.8,
            "count": 0
           },
           {
            "bin_start": 2.8,
            "bin_end": 3,
            "count": 3
           }
          ]
         }
        },
        {
         "name": "PC1",
         "dtype": "float64",
         "stats": {
          "unique_count": 5,
          "nan_count": 0,
          "min": "-2.017272436231384",
          "max": "0.8152834581556336",
          "histogram": [
           {
            "bin_start": -2.017272436231384,
            "bin_end": -1.7340168467926822,
            "count": 1
           },
           {
            "bin_start": -1.7340168467926822,
            "bin_end": -1.4507612573539805,
            "count": 0
           },
           {
            "bin_start": -1.4507612573539805,
            "bin_end": -1.1675056679152789,
            "count": 1
           },
           {
            "bin_start": -1.1675056679152789,
            "bin_end": -0.884250078476577,
            "count": 1
           },
           {
            "bin_start": -0.884250078476577,
            "bin_end": -0.6009944890378751,
            "count": 0
           },
           {
            "bin_start": -0.6009944890378751,
            "bin_end": -0.31773889959917345,
            "count": 0
           },
           {
            "bin_start": -0.31773889959917345,
            "bin_end": -0.03448331016047179,
            "count": 1
           },
           {
            "bin_start": -0.03448331016047179,
            "bin_end": 0.2487722792782301,
            "count": 0
           },
           {
            "bin_start": 0.2487722792782301,
            "bin_end": 0.532027868716932,
            "count": 0
           },
           {
            "bin_start": 0.532027868716932,
            "bin_end": 0.8152834581556336,
            "count": 1
           }
          ]
         }
        },
        {
         "name": "PC2",
         "dtype": "float64",
         "stats": {
          "unique_count": 5,
          "nan_count": 0,
          "min": "-1.3392970184505217",
          "max": "0.20865680777275478",
          "histogram": [
           {
            "bin_start": -1.3392970184505217,
            "bin_end": -1.1845016358281941,
            "count": 1
           },
           {
            "bin_start": -1.1845016358281941,
            "bin_end": -1.0297062532058665,
            "count": 2
           },
           {
            "bin_start": -1.0297062532058665,
            "bin_end": -0.8749108705835387,
            "count": 0
           },
           {
            "bin_start": -0.8749108705835387,
            "bin_end": -0.720115487961211,
            "count": 0
           },
           {
            "bin_start": -0.720115487961211,
            "bin_end": -0.5653201053388834,
            "count": 0
           },
           {
            "bin_start": -0.5653201053388834,
            "bin_end": -0.4105247227165557,
            "count": 0
           },
           {
            "bin_start": -0.4105247227165557,
            "bin_end": -0.255729340094228,
            "count": 0
           },
           {
            "bin_start": -0.255729340094228,
            "bin_end": -0.10093395747190037,
            "count": 0
           },
           {
            "bin_start": -0.10093395747190037,
            "bin_end": 0.053861425150427245,
            "count": 0
           },
           {
            "bin_start": 0.053861425150427245,
            "bin_end": 0.20865680777275478,
            "count": 2
           }
          ]
         }
        },
        {
         "name": "_deepnote_index_column",
         "dtype": "int64"
        }
       ],
       "rows_top": [
        {
         "income": 56432,
         "age": 31,
         "days_since_purchase": 492,
         "income_Z": -0.6068328800279992,
         "age_Z": -0.7488482611634635,
         "days_since_purchase_Z": 0.8183211573395903,
         "Cluster": 1,
         "PC1": -0.14625106418332065,
         "PC2": 0.20865680777275478,
         "_deepnote_index_column": 0
        },
        {
         "income": 137580,
         "age": 38,
         "days_since_purchase": 551,
         "income_Z": 1.505879096227799,
         "age_Z": -0.13546915653624084,
         "days_since_purchase_Z": 1.3491085088752575,
         "Cluster": 3,
         "PC1": -2.017272436231384,
         "PC2": 0.18851771804009754,
         "_deepnote_index_column": 1
        },
        {
         "income": 68285,
         "age": 59,
         "days_since_purchase": 304,
         "income_Z": -0.2982365491934749,
         "age_Z": 1.7046681573454272,
         "days_since_purchase_Z": -0.8730012509435525,
         "Cluster": 2,
         "PC1": 0.8152834581556336,
         "PC2": -1.3392970184505217,
         "_deepnote_index_column": 2
        },
        {
         "income": 93617,
         "age": 51,
         "days_since_purchase": 507,
         "income_Z": 0.3612894992921548,
         "age_Z": 1.003663466342887,
         "days_since_purchase_Z": 0.9532670941706921,
         "Cluster": 3,
         "PC1": -0.9389559338753362,
         "PC2": -1.0760853823137593,
         "_deepnote_index_column": 3
        },
        {
         "income": 113441,
         "age": 54,
         "days_since_purchase": 509,
         "income_Z": 0.8774131525836093,
         "age_Z": 1.2665402254688396,
         "days_since_purchase_Z": 0.9712598857481723,
         "Cluster": 3,
         "PC1": -1.317777549753846,
         "PC2": -1.146314991546196,
         "_deepnote_index_column": 4
        }
       ],
       "rows_bottom": null
      },
      "text/plain": "   income  age  days_since_purchase  income_Z     age_Z  \\\n0   56432   31                  492 -0.606833 -0.748848   \n1  137580   38                  551  1.505879 -0.135469   \n2   68285   59                  304 -0.298237  1.704668   \n3   93617   51                  507  0.361289  1.003663   \n4  113441   54                  509  0.877413  1.266540   \n\n   days_since_purchase_Z  Cluster       PC1       PC2  \n0               0.818321        1 -0.146251  0.208657  \n1               1.349109        3 -2.017272  0.188518  \n2              -0.873001        2  0.815283 -1.339297  \n3               0.953267        3 -0.938956 -1.076085  \n4               0.971260        3 -1.317778 -1.146315  ",
      "text/html": "<div>\n<style scoped>\n    .dataframe tbody tr th:only-of-type {\n        vertical-align: middle;\n    }\n\n    .dataframe tbody tr th {\n        vertical-align: top;\n    }\n\n    .dataframe thead th {\n        text-align: right;\n    }\n</style>\n<table border=\"1\" class=\"dataframe\">\n  <thead>\n    <tr style=\"text-align: right;\">\n      <th></th>\n      <th>income</th>\n      <th>age</th>\n      <th>days_since_purchase</th>\n      <th>income_Z</th>\n      <th>age_Z</th>\n      <th>days_since_purchase_Z</th>\n      <th>Cluster</th>\n      <th>PC1</th>\n      <th>PC2</th>\n    </tr>\n  </thead>\n  <tbody>\n    <tr>\n      <th>0</th>\n      <td>56432</td>\n      <td>31</td>\n      <td>492</td>\n      <td>-0.606833</td>\n      <td>-0.748848</td>\n      <td>0.818321</td>\n      <td>1</td>\n      <td>-0.146251</td>\n      <td>0.208657</td>\n    </tr>\n    <tr>\n      <th>1</th>\n      <td>137580</td>\n      <td>38</td>\n      <td>551</td>\n      <td>1.505879</td>\n      <td>-0.135469</td>\n      <td>1.349109</td>\n      <td>3</td>\n      <td>-2.017272</td>\n      <td>0.188518</td>\n    </tr>\n    <tr>\n      <th>2</th>\n      <td>68285</td>\n      <td>59</td>\n      <td>304</td>\n      <td>-0.298237</td>\n      <td>1.704668</td>\n      <td>-0.873001</td>\n      <td>2</td>\n      <td>0.815283</td>\n      <td>-1.339297</td>\n    </tr>\n    <tr>\n      <th>3</th>\n      <td>93617</td>\n      <td>51</td>\n      <td>507</td>\n      <td>0.361289</td>\n      <td>1.003663</td>\n      <td>0.953267</td>\n      <td>3</td>\n      <td>-0.938956</td>\n      <td>-1.076085</td>\n    </tr>\n    <tr>\n      <th>4</th>\n      <td>113441</td>\n      <td>54</td>\n      <td>509</td>\n      <td>0.877413</td>\n      <td>1.266540</td>\n      <td>0.971260</td>\n      <td>3</td>\n      <td>-1.317778</td>\n      <td>-1.146315</td>\n    </tr>\n  </tbody>\n</table>\n</div>"
     },
     "metadata": {}
    }
   ]
  },
  {
   "cell_type": "code",
   "metadata": {
    "tags": [],
    "cell_id": "00032-16ad39de-f381-47ea-aa69-f06feabc984f",
    "deepnote_to_be_reexecuted": false,
    "source_hash": "3693d2fe",
    "execution_start": 1628048189280,
    "execution_millis": 816,
    "deepnote_cell_type": "code"
   },
   "source": "plt.figure(figsize = (20,20))\nsns.lmplot( x = 'PC1',\n            y = 'PC2',\n            data = df,\n            hue = 'Cluster',\n            markers = ['x','o','d','s'],\n            fit_reg = False,\n             palette=\"Set2\")",
   "execution_count": null,
   "outputs": [
    {
     "output_type": "execute_result",
     "execution_count": 27,
     "data": {
      "text/plain": "<seaborn.axisgrid.FacetGrid at 0x7f2319177910>"
     },
     "metadata": {}
    },
    {
     "data": {
      "text/plain": "<Figure size 1440x1440 with 0 Axes>"
     },
     "metadata": {},
     "output_type": "display_data"
    },
    {
     "data": {
      "text/plain": "<Figure size 403.5x360 with 1 Axes>",
      "image/png": "[encoded data removed]"
     },
     "metadata": {
      "needs_background": "light",
      "image/png": {
       "width": 412,
       "height": 366
      }
     },
     "output_type": "display_data"
    }
   ]
  },
  {
   "cell_type": "code",
   "metadata": {
    "tags": [],
    "cell_id": "00033-4fb78c4f-1d05-4adc-8d54-9392ceb69f12",
    "deepnote_to_be_reexecuted": false,
    "source_hash": "99549b13",
    "execution_start": 1628048625322,
    "execution_millis": 39,
    "deepnote_cell_type": "code"
   },
   "source": "df.groupby(['Cluster'])[['income', 'age', 'days_since_purchase']].mean().reset_index()",
   "execution_count": null,
   "outputs": [
    {
     "output_type": "execute_result",
     "execution_count": 31,
     "data": {
      "application/vnd.deepnote.dataframe.v2+json": {
       "row_count": 4,
       "column_count": 4,
       "columns": [
        {
         "name": "Cluster",
         "dtype": "int64",
         "stats": {
          "unique_count": 4,
          "nan_count": 0,
          "min": "0",
          "max": "3",
          "histogram": [
           {
            "bin_start": 0,
            "bin_end": 0.3,
            "count": 1
           },
           {
            "bin_start": 0.3,
            "bin_end": 0.6,
            "count": 0
           },
           {
            "bin_start": 0.6,
            "bin_end": 0.8999999999999999,
            "count": 0
           },
           {
            "bin_start": 0.8999999999999999,
            "bin_end": 1.2,
            "count": 1
           },
           {
            "bin_start": 1.2,
            "bin_end": 1.5,
            "count": 0
           },
           {
            "bin_start": 1.5,
            "bin_end": 1.7999999999999998,
            "count": 0
           },
           {
            "bin_start": 1.7999999999999998,
            "bin_end": 2.1,
            "count": 1
           },
           {
            "bin_start": 2.1,
            "bin_end": 2.4,
            "count": 0
           },
           {
            "bin_start": 2.4,
            "bin_end": 2.6999999999999997,
            "count": 0
           },
           {
            "bin_start": 2.6999999999999997,
            "bin_end": 3,
            "count": 1
           }
          ]
         }
        },
        {
         "name": "income",
         "dtype": "float64",
         "stats": {
          "unique_count": 4,
          "nan_count": 0,
          "min": "45002.099601593625",
          "max": "114704.12096774194",
          "histogram": [
           {
            "bin_start": 45002.099601593625,
            "bin_end": 51972.30173820846,
            "count": 2
           },
           {
            "bin_start": 51972.30173820846,
            "bin_end": 58942.50387482329,
            "count": 0
           },
           {
            "bin_start": 58942.50387482329,
            "bin_end": 65912.70601143812,
            "count": 0
           },
           {
            "bin_start": 65912.70601143812,
            "bin_end": 72882.90814805296,
            "count": 0
           },
           {
            "bin_start": 72882.90814805296,
            "bin_end": 79853.11028466778,
            "count": 0
           },
           {
            "bin_start": 79853.11028466778,
            "bin_end": 86823.31242128261,
            "count": 0
           },
           {
            "bin_start": 86823.31242128261,
            "bin_end": 93793.51455789743,
            "count": 0
           },
           {
            "bin_start": 93793.51455789743,
            "bin_end": 100763.71669451227,
            "count": 0
           },
           {
            "bin_start": 100763.71669451227,
            "bin_end": 107733.91883112711,
            "count": 0
           },
           {
            "bin_start": 107733.91883112711,
            "bin_end": 114704.12096774194,
            "count": 2
           }
          ]
         }
        },
        {
         "name": "age",
         "dtype": "float64",
         "stats": {
          "unique_count": 4,
          "nan_count": 0,
          "min": "29.338709677419356",
          "max": "49.76984126984127",
          "histogram": [
           {
            "bin_start": 29.338709677419356,
            "bin_end": 31.38182283666155,
            "count": 2
           },
           {
            "bin_start": 31.38182283666155,
            "bin_end": 33.42493599590374,
            "count": 0
           },
           {
            "bin_start": 33.42493599590374,
            "bin_end": 35.468049155145934,
            "count": 0
           },
           {
            "bin_start": 35.468049155145934,
            "bin_end": 37.51116231438812,
            "count": 0
           },
           {
            "bin_start": 37.51116231438812,
            "bin_end": 39.55427547363031,
            "count": 0
           },
           {
            "bin_start": 39.55427547363031,
            "bin_end": 41.59738863287251,
            "count": 0
           },
           {
            "bin_start": 41.59738863287251,
            "bin_end": 43.6405017921147,
            "count": 0
           },
           {
            "bin_start": 43.6405017921147,
            "bin_end": 45.68361495135689,
            "count": 0
           },
           {
            "bin_start": 45.68361495135689,
            "bin_end": 47.72672811059908,
            "count": 0
           },
           {
            "bin_start": 47.72672811059908,
            "bin_end": 49.76984126984127,
            "count": 2
           }
          ]
         }
        },
        {
         "name": "days_since_purchase",
         "dtype": "float64",
         "stats": {
          "unique_count": 4,
          "nan_count": 0,
          "min": "299.6613545816733",
          "max": "502.5833333333333",
          "histogram": [
           {
            "bin_start": 299.6613545816733,
            "bin_end": 319.9535524568393,
            "count": 2
           },
           {
            "bin_start": 319.9535524568393,
            "bin_end": 340.24575033200534,
            "count": 0
           },
           {
            "bin_start": 340.24575033200534,
            "bin_end": 360.5379482071713,
            "count": 0
           },
           {
            "bin_start": 360.5379482071713,
            "bin_end": 380.8301460823373,
            "count": 0
           },
           {
            "bin_start": 380.8301460823373,
            "bin_end": 401.1223439575033,
            "count": 0
           },
           {
            "bin_start": 401.1223439575033,
            "bin_end": 421.41454183266933,
            "count": 0
           },
           {
            "bin_start": 421.41454183266933,
            "bin_end": 441.7067397078353,
            "count": 0
           },
           {
            "bin_start": 441.7067397078353,
            "bin_end": 461.9989375830013,
            "count": 0
           },
           {
            "bin_start": 461.9989375830013,
            "bin_end": 482.29113545816733,
            "count": 0
           },
           {
            "bin_start": 482.29113545816733,
            "bin_end": 502.5833333333333,
            "count": 2
           }
          ]
         }
        },
        {
         "name": "_deepnote_index_column",
         "dtype": "int64"
        }
       ],
       "rows_top": [
        {
         "Cluster": 0,
         "income": 114704.12096774194,
         "age": 29.338709677419356,
         "days_since_purchase": 302.9193548387097,
         "_deepnote_index_column": 0
        },
        {
         "Cluster": 1,
         "income": 46153.1967871486,
         "age": 29.34136546184739,
         "days_since_purchase": 498.1887550200803,
         "_deepnote_index_column": 1
        },
        {
         "Cluster": 2,
         "income": 45002.099601593625,
         "age": 49.49003984063745,
         "days_since_purchase": 299.6613545816733,
         "_deepnote_index_column": 2
        },
        {
         "Cluster": 3,
         "income": 113118.22222222222,
         "age": 49.76984126984127,
         "days_since_purchase": 502.5833333333333,
         "_deepnote_index_column": 3
        }
       ],
       "rows_bottom": null
      },
      "text/plain": "   Cluster         income        age  days_since_purchase\n0        0  114704.120968  29.338710           302.919355\n1        1   46153.196787  29.341365           498.188755\n2        2   45002.099602  49.490040           299.661355\n3        3  113118.222222  49.769841           502.583333",
      "text/html": "<div>\n<style scoped>\n    .dataframe tbody tr th:only-of-type {\n        vertical-align: middle;\n    }\n\n    .dataframe tbody tr th {\n        vertical-align: top;\n    }\n\n    .dataframe thead th {\n        text-align: right;\n    }\n</style>\n<table border=\"1\" class=\"dataframe\">\n  <thead>\n    <tr style=\"text-align: right;\">\n      <th></th>\n      <th>Cluster</th>\n      <th>income</th>\n      <th>age</th>\n      <th>days_since_purchase</th>\n    </tr>\n  </thead>\n  <tbody>\n    <tr>\n      <th>0</th>\n      <td>0</td>\n      <td>114704.120968</td>\n      <td>29.338710</td>\n      <td>302.919355</td>\n    </tr>\n    <tr>\n      <th>1</th>\n      <td>1</td>\n      <td>46153.196787</td>\n      <td>29.341365</td>\n      <td>498.188755</td>\n    </tr>\n    <tr>\n      <th>2</th>\n      <td>2</td>\n      <td>45002.099602</td>\n      <td>49.490040</td>\n      <td>299.661355</td>\n    </tr>\n    <tr>\n      <th>3</th>\n      <td>3</td>\n      <td>113118.222222</td>\n      <td>49.769841</td>\n      <td>502.583333</td>\n    </tr>\n  </tbody>\n</table>\n</div>"
     },
     "metadata": {}
    }
   ]
  },
  {
   "cell_type": "markdown",
   "source": "<a style='text-decoration:none;line-height:16px;display:flex;color:#5B5B62;padding:10px;justify-content:end;' href='https://deepnote.com?utm_source=created-in-deepnote-cell&projectId=11bf7be5-3b62-4605-8e79-42e562c1fd79' target=\"_blank\">\n<img alt='Created in deepnote.com' style='display:inline;max-height:16px;margin:0px;margin-right:7.5px;' src='data:image/svg+xml;base64,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' > </img>\nCreated in <span style='font-weight:600;margin-left:4px;'>Deepnote</span></a>",
   "metadata": {
    "tags": [],
    "created_in_deepnote_cell": true,
    "deepnote_cell_type": "markdown"
   }
  }
 ],
 "nbformat": 4,
 "nbformat_minor": 2,
 "metadata": {
  "orig_nbformat": 2,
  "deepnote": {
   "is_reactive": false
  },
  "deepnote_notebook_id": "7f82c4ec-5125-48bb-a203-25ac708e9856",
  "deepnote_execution_queue": []
 }
}