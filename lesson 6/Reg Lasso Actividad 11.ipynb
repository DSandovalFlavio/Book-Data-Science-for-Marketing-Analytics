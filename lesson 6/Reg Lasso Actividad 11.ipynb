{
 "cells": [
  {
   "cell_type": "code",
   "execution_count": 2,
   "source": [
    "import pandas as pd\n",
    "\n",
    "customer_df = pd.read_csv('customer_spend.csv')\n",
    "customer_df.head()"
   ],
   "outputs": [
    {
     "output_type": "execute_result",
     "data": {
      "text/html": [
       "<div>\n",
       "<style scoped>\n",
       "    .dataframe tbody tr th:only-of-type {\n",
       "        vertical-align: middle;\n",
       "    }\n",
       "\n",
       "    .dataframe tbody tr th {\n",
       "        vertical-align: top;\n",
       "    }\n",
       "\n",
       "    .dataframe thead th {\n",
       "        text-align: right;\n",
       "    }\n",
       "</style>\n",
       "<table border=\"1\" class=\"dataframe\">\n",
       "  <thead>\n",
       "    <tr style=\"text-align: right;\">\n",
       "      <th></th>\n",
       "      <th>cur_year_spend</th>\n",
       "      <th>prev_year_spend</th>\n",
       "      <th>days_since_last_purchase</th>\n",
       "      <th>days_since_first_purchase</th>\n",
       "      <th>total_transactions</th>\n",
       "      <th>age</th>\n",
       "      <th>income</th>\n",
       "      <th>engagement_score</th>\n",
       "    </tr>\n",
       "  </thead>\n",
       "  <tbody>\n",
       "    <tr>\n",
       "      <th>0</th>\n",
       "      <td>5536.46</td>\n",
       "      <td>1681.26</td>\n",
       "      <td>7</td>\n",
       "      <td>61</td>\n",
       "      <td>34</td>\n",
       "      <td>61</td>\n",
       "      <td>97914.93</td>\n",
       "      <td>-0.652392</td>\n",
       "    </tr>\n",
       "    <tr>\n",
       "      <th>1</th>\n",
       "      <td>871.41</td>\n",
       "      <td>1366.74</td>\n",
       "      <td>12</td>\n",
       "      <td>34</td>\n",
       "      <td>33</td>\n",
       "      <td>68</td>\n",
       "      <td>30904.69</td>\n",
       "      <td>0.007327</td>\n",
       "    </tr>\n",
       "    <tr>\n",
       "      <th>2</th>\n",
       "      <td>2046.74</td>\n",
       "      <td>1419.38</td>\n",
       "      <td>10</td>\n",
       "      <td>81</td>\n",
       "      <td>22</td>\n",
       "      <td>54</td>\n",
       "      <td>48194.59</td>\n",
       "      <td>0.221666</td>\n",
       "    </tr>\n",
       "    <tr>\n",
       "      <th>3</th>\n",
       "      <td>4662.70</td>\n",
       "      <td>1561.21</td>\n",
       "      <td>12</td>\n",
       "      <td>32</td>\n",
       "      <td>34</td>\n",
       "      <td>49</td>\n",
       "      <td>93551.98</td>\n",
       "      <td>1.149641</td>\n",
       "    </tr>\n",
       "    <tr>\n",
       "      <th>4</th>\n",
       "      <td>3539.46</td>\n",
       "      <td>1397.60</td>\n",
       "      <td>17</td>\n",
       "      <td>72</td>\n",
       "      <td>34</td>\n",
       "      <td>66</td>\n",
       "      <td>66267.57</td>\n",
       "      <td>0.835834</td>\n",
       "    </tr>\n",
       "  </tbody>\n",
       "</table>\n",
       "</div>"
      ],
      "text/plain": [
       "   cur_year_spend  prev_year_spend  days_since_last_purchase  \\\n",
       "0         5536.46          1681.26                         7   \n",
       "1          871.41          1366.74                        12   \n",
       "2         2046.74          1419.38                        10   \n",
       "3         4662.70          1561.21                        12   \n",
       "4         3539.46          1397.60                        17   \n",
       "\n",
       "   days_since_first_purchase  total_transactions  age    income  \\\n",
       "0                         61                  34   61  97914.93   \n",
       "1                         34                  33   68  30904.69   \n",
       "2                         81                  22   54  48194.59   \n",
       "3                         32                  34   49  93551.98   \n",
       "4                         72                  34   66  66267.57   \n",
       "\n",
       "   engagement_score  \n",
       "0         -0.652392  \n",
       "1          0.007327  \n",
       "2          0.221666  \n",
       "3          1.149641  \n",
       "4          0.835834  "
      ]
     },
     "metadata": {},
     "execution_count": 2
    }
   ],
   "metadata": {}
  },
  {
   "cell_type": "code",
   "execution_count": 3,
   "source": [
    "# dividir en train y test utilizando la columna cur_year_spend como y\n",
    "from sklearn.model_selection import train_test_split\n",
    "\n",
    "y = customer_df['cur_year_spend']\n",
    "X = customer_df.drop(['cur_year_spend'], axis=1)\n",
    "\n",
    "X_train, X_test, y_train, y_test = train_test_split(X, y, random_state=100)"
   ],
   "outputs": [],
   "metadata": {}
  },
  {
   "cell_type": "code",
   "execution_count": 4,
   "source": [
    "# aplicar regresión lasso\n",
    "from sklearn.linear_model import Lasso\n",
    "\n",
    "lasso_model = Lasso(normalize=True, random_state=10)\n",
    "lasso_model.fit(X_train, y_train)\n",
    "\n",
    "lasso_model.coef_\n",
    " "
   ],
   "outputs": [
    {
     "output_type": "execute_result",
     "data": {
      "text/plain": [
       "array([ 0.79861231, -0.        , 14.24449821, 46.31232727, -0.        ,\n",
       "        0.05781234,  0.        ])"
      ]
     },
     "metadata": {},
     "execution_count": 4
    }
   ],
   "metadata": {}
  },
  {
   "cell_type": "code",
   "execution_count": 8,
   "source": [
    "val_coef = pd.DataFrame(lasso_model.coef_, X_train.columns, columns=['coef'])\n",
    "val_coef"
   ],
   "outputs": [
    {
     "output_type": "execute_result",
     "data": {
      "text/html": [
       "<div>\n",
       "<style scoped>\n",
       "    .dataframe tbody tr th:only-of-type {\n",
       "        vertical-align: middle;\n",
       "    }\n",
       "\n",
       "    .dataframe tbody tr th {\n",
       "        vertical-align: top;\n",
       "    }\n",
       "\n",
       "    .dataframe thead th {\n",
       "        text-align: right;\n",
       "    }\n",
       "</style>\n",
       "<table border=\"1\" class=\"dataframe\">\n",
       "  <thead>\n",
       "    <tr style=\"text-align: right;\">\n",
       "      <th></th>\n",
       "      <th>coef</th>\n",
       "    </tr>\n",
       "  </thead>\n",
       "  <tbody>\n",
       "    <tr>\n",
       "      <th>prev_year_spend</th>\n",
       "      <td>0.798612</td>\n",
       "    </tr>\n",
       "    <tr>\n",
       "      <th>days_since_last_purchase</th>\n",
       "      <td>-0.000000</td>\n",
       "    </tr>\n",
       "    <tr>\n",
       "      <th>days_since_first_purchase</th>\n",
       "      <td>14.244498</td>\n",
       "    </tr>\n",
       "    <tr>\n",
       "      <th>total_transactions</th>\n",
       "      <td>46.312327</td>\n",
       "    </tr>\n",
       "    <tr>\n",
       "      <th>age</th>\n",
       "      <td>-0.000000</td>\n",
       "    </tr>\n",
       "    <tr>\n",
       "      <th>income</th>\n",
       "      <td>0.057812</td>\n",
       "    </tr>\n",
       "    <tr>\n",
       "      <th>engagement_score</th>\n",
       "      <td>0.000000</td>\n",
       "    </tr>\n",
       "  </tbody>\n",
       "</table>\n",
       "</div>"
      ],
      "text/plain": [
       "                                coef\n",
       "prev_year_spend             0.798612\n",
       "days_since_last_purchase   -0.000000\n",
       "days_since_first_purchase  14.244498\n",
       "total_transactions         46.312327\n",
       "age                        -0.000000\n",
       "income                      0.057812\n",
       "engagement_score            0.000000"
      ]
     },
     "metadata": {},
     "execution_count": 8
    }
   ],
   "metadata": {}
  },
  {
   "cell_type": "code",
   "execution_count": null,
   "source": [],
   "outputs": [],
   "metadata": {}
  },
  {
   "cell_type": "code",
   "execution_count": null,
   "source": [],
   "outputs": [],
   "metadata": {}
  },
  {
   "cell_type": "code",
   "execution_count": null,
   "source": [],
   "outputs": [],
   "metadata": {}
  },
  {
   "cell_type": "code",
   "execution_count": null,
   "source": [],
   "outputs": [],
   "metadata": {}
  },
  {
   "cell_type": "code",
   "execution_count": null,
   "source": [],
   "outputs": [],
   "metadata": {}
  },
  {
   "cell_type": "code",
   "execution_count": null,
   "source": [],
   "outputs": [],
   "metadata": {}
  },
  {
   "cell_type": "code",
   "execution_count": null,
   "source": [],
   "outputs": [],
   "metadata": {}
  },
  {
   "cell_type": "code",
   "execution_count": null,
   "source": [],
   "outputs": [],
   "metadata": {}
  },
  {
   "cell_type": "code",
   "execution_count": null,
   "source": [],
   "outputs": [],
   "metadata": {}
  },
  {
   "cell_type": "code",
   "execution_count": null,
   "source": [],
   "outputs": [],
   "metadata": {}
  },
  {
   "cell_type": "code",
   "execution_count": null,
   "source": [],
   "outputs": [],
   "metadata": {}
  },
  {
   "cell_type": "code",
   "execution_count": null,
   "source": [],
   "outputs": [],
   "metadata": {}
  }
 ],
 "metadata": {
  "orig_nbformat": 4,
  "language_info": {
   "name": "python",
   "version": "3.8.8",
   "mimetype": "text/x-python",
   "codemirror_mode": {
    "name": "ipython",
    "version": 3
   },
   "pygments_lexer": "ipython3",
   "nbconvert_exporter": "python",
   "file_extension": ".py"
  },
  "kernelspec": {
   "name": "python3",
   "display_name": "Python 3.8.8 64-bit ('base': conda)"
  },
  "interpreter": {
   "hash": "e7bfada53997a9ea1814fd576a06b59b9845a4bb8eb0fcdb26347b953cd19ac0"
  }
 },
 "nbformat": 4,
 "nbformat_minor": 2
}