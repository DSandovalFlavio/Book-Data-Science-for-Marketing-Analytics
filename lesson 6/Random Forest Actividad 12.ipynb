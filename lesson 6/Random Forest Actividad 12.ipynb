{
 "cells": [
  {
   "cell_type": "code",
   "execution_count": 3,
   "source": [
    "# funcion que recibe X, y para realizar predicciones con los modelos de Regresion Lineal Arboles de Decision y Random Forest\n",
    "# y devuelve los resultados de las predicciones y el error de cada modelo utilizado RMSE\n",
    "# los Arboles de Decision y Random Forest utilizan una profundidad de 2 y 5 cada uno\n",
    "# utilizando la libreria sklearn de python\n",
    "\n",
    "def reglineal_arbdecision_randFores(X, y):\n",
    "    import pandas as pd\n",
    "    from sklearn.tree import DecisionTreeRegressor\n",
    "    from sklearn.ensemble import RandomForestRegressor\n",
    "    from sklearn.metrics import mean_squared_error\n",
    "    from sklearn.model_selection import train_test_split\n",
    "    from sklearn.linear_model import LinearRegression\n",
    "    from math import sqrt\n",
    "    \n",
    "    # Separar los datos en conjunto de entrenamiento y conjunto de testing\n",
    "    X_train, X_test, y_train, y_test = train_test_split(X, y, random_state=10)\n",
    "    # creacion de modelos\n",
    "    modelo_decision2 = DecisionTreeRegressor(max_depth=2)\n",
    "    modelo_decision5 = DecisionTreeRegressor(max_depth=5)\n",
    "    modelo_random2 = RandomForestRegressor(max_depth=2, random_state=10)\n",
    "    modelo_random5 = RandomForestRegressor(max_depth=5, random_state=10)\n",
    "    modelo_lineal = LinearRegression()\n",
    "    # entrenamiento de modelos\n",
    "    modelo_decision2.fit(X_train, y_train)\n",
    "    modelo_decision5.fit(X_train, y_train)\n",
    "    modelo_random2.fit(X_train, y_train)\n",
    "    modelo_random5.fit(X_train, y_train)\n",
    "    modelo_lineal.fit(X_train, y_train)\n",
    "    # predicciones\n",
    "    y_pred_decision2 = modelo_decision2.predict(X_test)\n",
    "    y_pred_decision5 = modelo_decision5.predict(X_test)\n",
    "    y_pred_random2 = modelo_random2.predict(X_test)\n",
    "    y_pred_random5 = modelo_random5.predict(X_test)\n",
    "    y_pred_lineal = modelo_lineal.predict(X_test)\n",
    "    # calculo de error\n",
    "    error_decision2 = sqrt(mean_squared_error(y_test, y_pred_decision2))\n",
    "    error_decision5 = sqrt(mean_squared_error(y_test, y_pred_decision5))\n",
    "    error_random2 = sqrt(mean_squared_error(y_test, y_pred_random2))\n",
    "    error_random5 = sqrt(mean_squared_error(y_test, y_pred_random5))\n",
    "    error_lineal = sqrt(mean_squared_error(y_test, y_pred_lineal))\n",
    "    # crear DataFrame con los resultados\n",
    "    errores_df = pd.DataFrame({'Modelo': ['Decision Tree 2', 'Decision Tree 5', 'Random Forest 2', 'Random Forest 5', 'Lineal Regression'],\n",
    "                               'Resultados' : [error_decision2, error_decision5, error_random2, error_random5, error_lineal]})\n",
    "    return errores_df"
   ],
   "outputs": [],
   "metadata": {}
  },
  {
   "cell_type": "code",
   "execution_count": 4,
   "source": [
    "import pandas as pd\n",
    "\n",
    "spend_age_income_ed = pd.read_csv('spend_age_income_ed.csv')\n",
    "\n",
    "X = spend_age_income_ed.drop('spend', axis=1)\n",
    "y = spend_age_income_ed[['spend']]\n",
    "\n",
    "resultados = reglineal_arbdecision_randFores(X, y)\n",
    "resultados"
   ],
   "outputs": [
    {
     "output_type": "stream",
     "name": "stderr",
     "text": [
      "<ipython-input-3-83cf51242167>:26: DataConversionWarning: A column-vector y was passed when a 1d array was expected. Please change the shape of y to (n_samples,), for example using ravel().\n",
      "  modelo_random2.fit(X_train, y_train)\n",
      "<ipython-input-3-83cf51242167>:27: DataConversionWarning: A column-vector y was passed when a 1d array was expected. Please change the shape of y to (n_samples,), for example using ravel().\n",
      "  modelo_random5.fit(X_train, y_train)\n"
     ]
    },
    {
     "output_type": "execute_result",
     "data": {
      "text/html": [
       "<div>\n",
       "<style scoped>\n",
       "    .dataframe tbody tr th:only-of-type {\n",
       "        vertical-align: middle;\n",
       "    }\n",
       "\n",
       "    .dataframe tbody tr th {\n",
       "        vertical-align: top;\n",
       "    }\n",
       "\n",
       "    .dataframe thead th {\n",
       "        text-align: right;\n",
       "    }\n",
       "</style>\n",
       "<table border=\"1\" class=\"dataframe\">\n",
       "  <thead>\n",
       "    <tr style=\"text-align: right;\">\n",
       "      <th></th>\n",
       "      <th>Modelo</th>\n",
       "      <th>Resultados</th>\n",
       "    </tr>\n",
       "  </thead>\n",
       "  <tbody>\n",
       "    <tr>\n",
       "      <th>0</th>\n",
       "      <td>Decision Tree 2</td>\n",
       "      <td>268.510693</td>\n",
       "    </tr>\n",
       "    <tr>\n",
       "      <th>1</th>\n",
       "      <td>Decision Tree 5</td>\n",
       "      <td>125.532571</td>\n",
       "    </tr>\n",
       "    <tr>\n",
       "      <th>2</th>\n",
       "      <td>Random Forest 2</td>\n",
       "      <td>266.458450</td>\n",
       "    </tr>\n",
       "    <tr>\n",
       "      <th>3</th>\n",
       "      <td>Random Forest 5</td>\n",
       "      <td>115.201406</td>\n",
       "    </tr>\n",
       "    <tr>\n",
       "      <th>4</th>\n",
       "      <td>Lineal Regression</td>\n",
       "      <td>348.197715</td>\n",
       "    </tr>\n",
       "  </tbody>\n",
       "</table>\n",
       "</div>"
      ],
      "text/plain": [
       "              Modelo  Resultados\n",
       "0    Decision Tree 2  268.510693\n",
       "1    Decision Tree 5  125.532571\n",
       "2    Random Forest 2  266.458450\n",
       "3    Random Forest 5  115.201406\n",
       "4  Lineal Regression  348.197715"
      ]
     },
     "metadata": {},
     "execution_count": 4
    }
   ],
   "metadata": {}
  }
 ],
 "metadata": {
  "orig_nbformat": 4,
  "language_info": {
   "name": "python",
   "version": "3.8.8",
   "mimetype": "text/x-python",
   "codemirror_mode": {
    "name": "ipython",
    "version": 3
   },
   "pygments_lexer": "ipython3",
   "nbconvert_exporter": "python",
   "file_extension": ".py"
  },
  "kernelspec": {
   "name": "python3",
   "display_name": "Python 3.8.8 64-bit ('base': conda)"
  },
  "interpreter": {
   "hash": "e7bfada53997a9ea1814fd576a06b59b9845a4bb8eb0fcdb26347b953cd19ac0"
  }
 },
 "nbformat": 4,
 "nbformat_minor": 2
}